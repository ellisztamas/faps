{
 "cells": [
  {
   "cell_type": "markdown",
   "metadata": {},
   "source": [
    "# FAPS and Colony2"
   ]
  },
  {
   "cell_type": "markdown",
   "metadata": {},
   "source": [
    "Tom Ellis, May 2017"
   ]
  },
  {
   "cell_type": "code",
   "execution_count": 1,
   "metadata": {},
   "outputs": [
    {
     "name": "stdout",
     "output_type": "stream",
     "text": [
      "Populating the interactive namespace from numpy and matplotlib\n"
     ]
    }
   ],
   "source": [
    "import numpy as np\n",
    "import pandas as pd\n",
    "from faps import *\n",
    "from time import time\n",
    "from ipywidgets import FloatProgress\n",
    "from IPython.display import display\n",
    "import matplotlib.pyplot as plt\n",
    "%pylab inline"
   ]
  },
  {
   "cell_type": "markdown",
   "metadata": {},
   "source": [
    "The most sophisticated software for sibship reconstruction at present is Colony 2. To allow direct comparison between FAPS and Colony2, this code generates half-sib arrays of four families each of five offspring, using adult populations between 100 and 2000. I used 50 SNP loci, with a haploid error rate of 0.0015. For each family generated it performs sibship reconstruction using FAPS, and also saves the data to be exported to Colony2. Generating the data is quick."
   ]
  },
  {
   "cell_type": "code",
   "execution_count": 2,
   "metadata": {},
   "outputs": [
    {
     "data": {
      "application/vnd.jupyter.widget-view+json": {
       "model_id": "c555c9cc0cec4e829e6c38f71a22aef9"
      }
     },
     "metadata": {},
     "output_type": "display_data"
    },
    {
     "name": "stdout",
     "output_type": "stream",
     "text": [
      "All simulations completed after 14.13 minutes.\n"
     ]
    }
   ],
   "source": [
    "# directory to save output to.\n",
    "fpath = \"/home/thoel507/Documents/Antirrhinum/colonysims_longruns//\"\n",
    "\n",
    "#=======================#\n",
    "# Simulation parameters #\n",
    "#=======================#\n",
    "nloci    = [50]       # number of SNP loci to simulate.\n",
    "ndads    = [100, 250, 500, 1000, 2000] # list of numbers of dads to subset\n",
    "fsg_size = 5                           # number of full-siblings per family\n",
    "nreps    = 300                         # number of half sibships to create for each replicate.\n",
    "mu       = [0.0015] # real haploid genotyping error rate.\n",
    "\n",
    "np.random.seed(1308)\n",
    "nsims = nreps * len(nloci) * len(mu) * len(ndads) # total number of simulations\n",
    "data_table      = np.zeros([nsims, 14])           # empty table for summary statistics.\n",
    "\n",
    "t0 = time()\n",
    "counter = 0\n",
    "#progsteps = np.arange(0, nreps, float(nreps)/10)[1:]\n",
    "fp = FloatProgress(min=0, max=nreps) # instantiate the bar\n",
    "display(fp) # display the bar\n",
    "\n",
    "for r in range(nreps):\n",
    "    for n in range(len(ndads)):\n",
    "        for e in range(len(mu)):\n",
    "            for l in range(len(nloci)):\n",
    "                #==============================#\n",
    "                # generate parents and progeny #\n",
    "                #==============================#\n",
    "                # individuals to mate\n",
    "                dam      = 0\n",
    "                sires    = range(1,5)\n",
    "                # generate a base population, and simulate a sibship array.\n",
    "                allele_freqs = np.random.uniform(0.25,0.5, nloci[l])\n",
    "                adults = make_parents(ndads[n], allele_freqs) # plus one accounts for the mother\n",
    "                progeny = make_sibships(adults, dam, sires, fsg_size)\n",
    "\n",
    "                # Add genotyping errors and dropouts to the genotype data.\n",
    "                adults = adults.mutations(mu[e])\n",
    "                progeny = progeny.mutations(mu[e])\n",
    "                # subset geneotype data for the mothers.\n",
    "                mothers = adults.subset([0])\n",
    "                # save the true partition for later.\n",
    "                true_part = progeny.true_partition()\n",
    "\n",
    "                #===============#\n",
    "                # FAPS analysis #\n",
    "                #===============#\n",
    "                t1 = time()\n",
    "                patlik  = paternity_array(progeny, mothers, adults, adults.allele_freqs(), mu[e], selfing_rate=0)\n",
    "                sc = sibship_clustering(patlik)\n",
    "                t2 = time()\n",
    "                # Export to data table\n",
    "                these_data = np.array([int(counter), int(r), int(nloci[l]), int(ndads[n]), mu[e], # simulation parameters\n",
    "                                       t1-t2 # time for analysis\n",
    "                                       ])\n",
    "                these_data = np.append(these_data, sc.accuracy(progeny, adults))\n",
    "                data_table[counter] = these_data\n",
    "                counter += 1\n",
    "                #====================#\n",
    "                # Colony2 parameters #\n",
    "                #====================#\n",
    "                project_name    = 'input_n'+str(ndads[n]) + '_r'+str(r) + '_i'+str(counter) #Dataset name\n",
    "                file_path       = fpath\n",
    "                output_name     = 'output_n'+str(ndads[n]) + '_r'+str(r) + '_i'+str(counter)  #Output file name\n",
    "                seed            = int(np.random.choice(np.arange(1000), 1))  # Seed for Colony\n",
    "                update_af       = 0           # 0/1=Not updating/updating allele frequency\n",
    "                two_sexes       = 2           # 2/1=Dioecious/Monoecious species\n",
    "                inbreeding      = 0           # 0/1=No inbreeding/inbreeding\n",
    "                haplodiploid    = 0           # 0/1=Diploid species/HaploDiploid species\n",
    "                polygamy        = [1,1]       # 0/1=Polygamy/Monogamy for males and females\n",
    "                infer_clones    = 0           # 0/1=Clone inference =No/Yes\n",
    "                size_scaling    = 1           # 0/1=Full sibship size scaling =No/Yes\n",
    "                sibship_prior   = [0,1.0,1.0] # 0,1,2,3=No,weak,medium,strong sibship size prior; mean paternal & maternal sibship size\n",
    "                known_allele_fr = 1           # 0/1=Unknown/Known population allele frequency\n",
    "                nruns           = 1           # Number of runs\n",
    "                run_length      = 2           # Length of run\n",
    "                monitor_method  = 0           # 0/1=Monitor method by Iterate#/Time in second\n",
    "                monitor_interval= 100000      # Monitor interval in Iterate# / in seconds\n",
    "                windows_gui     = 0           # 0/1 running in Windows GUI version?\n",
    "                analysis_method = 0           # 0/1/2 pairwise-likelihood score (PLS), full likelihood (FL), or the FL and PLS combined (FPLS) method.\n",
    "                precision       = 3           # 1/2/3=low/medium/high Precision for Fulllikelihood\n",
    "                # dropout and error rates for each locus\n",
    "                dropout_rates   = sum((adults.geno == -9)[:,0]).astype('float') / adults.size\n",
    "                error_rates     = np.repeat(mu[e], progeny.nloci)\n",
    "                parents_present = [1,1]       # prob. of dad/mum included in the candidates\n",
    "                # Lists of the names of known fathers\n",
    "                known_dads      = np.repeat('NA', progeny.size)           \n",
    "                known_mums      = progeny.mothers\n",
    "                # Export data to Colony2 format\n",
    "                export_to_colony(progeny, mothers, adults, allele_freqs,\n",
    "                                 file_path, project_name, output_name, seed, dropout_rates, error_rates,\n",
    "                                 known_dads, known_mums, update_af = 0, two_sexes = 1, inbreeding = 0,\n",
    "                                 haplodiploid= 0, polygamy = [0,0], infer_clones = 0, size_scaling = 1,\n",
    "                                 sibship_prior   = [0,1.0,1.0], known_allele_fr = 1, nruns = 1,\n",
    "                                 run_length, monitor_method  = 0, monitor_interval= 100000,\n",
    "                                 windows_gui = 0, analysis_method = 0,precision = 3, parents_present = [1,1], \n",
    "                                 n_incompatibilies=3)\n",
    "    fp.value += 1 # signal to increment the progress bar\n",
    "\n",
    "print \"All simulations completed after {} minutes.\".format(round((time() - t0) / 60, 2))        "
   ]
  },
  {
   "cell_type": "code",
   "execution_count": 12,
   "metadata": {
    "collapsed": true
   },
   "outputs": [],
   "source": [
    "# save to disk.         \n",
    "header=['counter','rep','nloci','ndads','mu','time', 'partition_found','delta_loglik','nfamilies',\n",
    "         'acc_fs','acc_hs','acc_all','prob_sires','prob_absent']\n",
    "data_table = pd.DataFrame(data_table, columns=header, )\n",
    "data_table.to_csv('./simulations/colony_comparison.csv', index=False)"
   ]
  },
  {
   "cell_type": "markdown",
   "metadata": {},
   "source": [
    "Colony can be called for each file using the following command from a UNIX terminal. This took 4h 10min on my Linux machine.\n",
    "\n",
    "* **Linux:** `for file in *.dat; do ./colony2s.ifort.out IFN:$file; done`\n",
    "\n",
    "* **Mac:** `for file in *.dat; do ./colony2s.out IFN:$file; done`"
   ]
  },
  {
   "cell_type": "markdown",
   "metadata": {},
   "source": [
    "Using longer runs and fewer reps this took 14.75 hours (885m16.065s)."
   ]
  },
  {
   "cell_type": "markdown",
   "metadata": {},
   "source": [
    "For each replicate this code locates the relevant Colony2 output file, determines the maximum-likelihood partition structure, and pulls out information about accuracy of sibship reconstruction."
   ]
  },
  {
   "cell_type": "code",
   "execution_count": 3,
   "metadata": {
    "collapsed": true
   },
   "outputs": [],
   "source": [
    "import glob\n",
    "# filenames containing ML partitions\n",
    "filenames = glob.glob('/home/thoel507/Documents/Antirrhinum/colony_sims/*.BestFSFamily')\n",
    "\n",
    "# dataframe to store information about the Colony analyses.\n",
    "colony_acc = np.zeros([len(filenames), 6])\n",
    "# Number of dads and replicate number for each dataset.\n",
    "colony_acc[:,0] = [filenames[f].split('_n')[1].split('_r')[0] for f in range(len(filenames))] \n",
    "colony_acc[:,1] = [filenames[f].split('_r')[1].split('_i')[0] for f in range(len(filenames))] \n",
    "\n",
    "partitions = [] # empty list to store ML partitions.\n",
    "# loop across each file and extract partition structure.\n",
    "for filename in filenames:\n",
    "    with open(filename) as f:\n",
    "        data = f.readlines() # open file\n",
    "        # extract families\n",
    "        l = []\n",
    "        for line in data[1:]:\n",
    "            words = line.split()          # split each line into columns.\n",
    "            l = l + [words[3].split(',')] # split the list of offspring names.\n",
    "        # Label family groups\n",
    "        y = []\n",
    "        for i in range(len(l)):\n",
    "            y = y + [i for x in range(len(l[i]))] # label individuals in each sibship by a common label.\n",
    "        partitions = partitions + [y] # append to partitions\n",
    "\n",
    "# Assess accuracy of sibship partitioning.\n",
    "from relation_matrix import relation_matrix\n",
    "from partition_accuracy import partition_accuracy\n",
    "\n",
    "true_part = np.array([0,0,0,0,0,1,1,1,1,1,2,2,2,2,2,3,3,3,3,3]) # the true partition structure for each family\n",
    "# Accuracies of relationship reconstructions\n",
    "for p in range(len(partitions)):\n",
    "    colony_acc[p,2] = partition_accuracy(true_part, partitions[p], 'all')\n",
    "    colony_acc[p,3] = partition_accuracy(true_part, partitions[p], 'fs')\n",
    "    colony_acc[p,4] = partition_accuracy(true_part, partitions[p], 'hs')\n",
    "    colony_acc[p,5] = len(np.unique(partitions[p]))\n",
    "\n",
    "header='ndads,rep,acc_all,acc_fs,acc_hs,nfamilies'\n",
    "#np.savetxt('./simulations/colony_accuracy.csv', colony_acc, delimiter=',', fmt=\"%5.4f\", comments='', header=header)\n"
   ]
  },
  {
   "cell_type": "markdown",
   "metadata": {},
   "source": [
    "Reimport the data tables if you are returning to this data set, and get the means for simulations for each level of the number of candidate fathers."
   ]
  },
  {
   "cell_type": "code",
   "execution_count": 17,
   "metadata": {
    "collapsed": true
   },
   "outputs": [],
   "source": [
    "import pandas as pd\n",
    "# import tables on accuracies\n",
    "colony_acc  = pd.read_csv('./simulations/colony_accuracy.csv')\n",
    "faps_acc = pd.read_csv('./simulations/colony_comparison.csv')\n",
    "# get means for each number of fathers. \n",
    "cv = colony_acc.groupby('ndads').mean()\n",
    "fv = faps_acc.groupby('ndads').mean()"
   ]
  },
  {
   "cell_type": "code",
   "execution_count": 18,
   "metadata": {},
   "outputs": [
    {
     "data": {
      "text/plain": [
       "100.67474961280439"
      ]
     },
     "execution_count": 18,
     "metadata": {},
     "output_type": "execute_result"
    }
   ],
   "source": [
    "abs(faps_acc.time).sum()"
   ]
  },
  {
   "cell_type": "markdown",
   "metadata": {},
   "source": [
    "To compare the two approaches we can plot the how well they reconstruct relationships between true full- and half- sibs. For FAPS (solid lines) this is averaged over possible partition structures. For Colony2 (dashed lines), this is based on the maximum likelihood estimate. The first plot shows that both methods reconstruct full-sib relationships with near 100% accuracy for the parameters considered. However, Colony2 has low accuracy for half-sib relationships (i.e. true half-sibs tend to be grouped together into full sibships).\n",
    "\n",
    "Plotting the distribution of family sizes shows the same thing. FAPS (solid lines) returns ML partitions with four families with high probability. In contrast,  Colony2 (dashed lines)is most likely to return a single family with all individuals assigned to the same family."
   ]
  },
  {
   "cell_type": "code",
   "execution_count": 21,
   "metadata": {},
   "outputs": [
    {
     "data": {
      "image/png": "[encoded data removed]",
      "text/plain": [
       "<matplotlib.figure.Figure at 0x7f86ac54d090>"
      ]
     },
     "metadata": {},
     "output_type": "display_data"
    }
   ],
   "source": [
    "ndads = [100, 250, 500, 1000, 2000] # list of numbers of dads to subset\n",
    "plotcodes1 = [':ok',':*k',':^k',':Dk',':sk']\n",
    "plotcodes2 = ['-ok','-*k','-^k','-Dk','-sk']\n",
    "\n",
    "fig = plt.figure(figsize=(16.9/2.54,5/2.54))\n",
    "fig.subplots_adjust(wspace=0.3, hspace=0.1)\n",
    "\n",
    "ax = fig.add_subplot(1,2,1)\n",
    "ax.set_xlim(0, 2100)\n",
    "ax.set_ylim(0, 1.03)\n",
    "ax.set_xlabel('Number of candidates')\n",
    "ax.set_ylabel('Sibship reconstruction')\n",
    "ax.plot(ndads, fv.acc_fs, '-ok', label='Full-sib relationships')\n",
    "ax.plot(ndads, fv.acc_hs, '-sk', label='Half-sib relationships')\n",
    "#ax.plot(ndads, fv.acc_all_faps, '-^k', label=' siblings')\n",
    "#ax.legend(loc='best')\n",
    "ax.plot(ndads, cv.acc_fs, ':ok')\n",
    "ax.plot(ndads, cv.acc_hs, ':sk')\n",
    "#ax.plot(ndads, cv.acc_all_col, ':^k')\n",
    "#ax.grid(axis='y')\n",
    "\n",
    "#vp = fig.add_subplot(1,3,2)\n",
    "#ax.set_xlim(0, 2100)\n",
    "#vp.set_ylim(-0.03, 1.03)\n",
    "#vp.set_xlim(0.5, 4.5)\n",
    "#vp.set_ylabel('Accuracy of reconstruction')\n",
    "#vp.set_xticks([1.5,3.5])\n",
    "#vp.set_xticklabels(['FAPS','Colony2'])\n",
    "#refn = 250\n",
    "#acc250 = [faps_acc.acc_fs[  faps_acc.ndads   == refn],\n",
    " #         faps_acc.acc_hs[  faps_acc.ndads   == refn],\n",
    "  #        colony_acc.acc_fs[colony_acc.ndads == refn],\n",
    "   #       colony_acc.acc_hs[colony_acc.ndads == refn]]\n",
    "#bp = vp.violinplot(acc250, showextrema=False)\n",
    "#bp['bodies'][0].set_facecolor('white')\n",
    "#bp['bodies'][1].set_facecolor('k')\n",
    "#bp['bodies'][2].set_facecolor('white')\n",
    "#bp['bodies'][3].set_facecolor('k')\n",
    "#for pc in bp['bodies']:\n",
    "#    pc.set_edgecolor('k')\n",
    "#    pc.set_alpha(0.5)\n",
    "#vp.grid(axis='y')\n",
    "\n",
    "hst = fig.add_subplot(1,2,2)\n",
    "#hst.hist(nfamilies, np.arange(0.5, 6.5, 1), normed=True, color='gray')\n",
    "hst.set_xlabel('Number of families')\n",
    "hst.set_ylabel('Probability density')\n",
    "hst.set_xlim(0.5, 8.5)\n",
    "hst.set_ylim(-0.05, 1.05)\n",
    "for i in [0,4]:\n",
    "    hst.plot(range(1,9), np.histogram(faps_acc.nfamilies[ faps_acc.ndads ==  ndads[i]], bins=range(1,10), normed=True)[0], plotcodes2[i], label=ndads[i])\n",
    "#hst.legend(loc='best')\n",
    "for i in [0,4]:\n",
    "    hst.plot(range(1,9), np.histogram(colony_acc.nfamilies[colony_acc.ndads==ndads[i]], bins=range(1,10), normed=True)[0], plotcodes1[i])\n",
    "#hst.grid(axis='y')\n",
    "\n",
    "plt.savefig('./figures/colony2.eps', bbox_inches='tight', pad_inches=0.1)"
   ]
  },
  {
   "cell_type": "code",
   "execution_count": null,
   "metadata": {
    "collapsed": true
   },
   "outputs": [],
   "source": []
  }
 ],
 "metadata": {
  "kernelspec": {
   "display_name": "Python 2",
   "language": "python",
   "name": "python2"
  },
  "language_info": {
   "codemirror_mode": {
    "name": "ipython",
    "version": 2
   },
   "file_extension": ".py",
   "mimetype": "text/x-python",
   "name": "python",
   "nbconvert_exporter": "python",
   "pygments_lexer": "ipython2",
   "version": "2.7.12"
  }
 },
 "nbformat": 4,
 "nbformat_minor": 1
}
