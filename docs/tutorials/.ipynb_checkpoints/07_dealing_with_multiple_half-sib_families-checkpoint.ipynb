{
 "cells": [
  {
   "cell_type": "markdown",
   "metadata": {},
   "source": [
    "# Dealing with multiple half-sib families"
   ]
  },
  {
   "cell_type": "markdown",
   "metadata": {},
   "source": [
    "Tom Ellis, March 2018"
   ]
  },
  {
   "cell_type": "markdown",
   "metadata": {},
   "source": [
    "In the previous sections on [genotype arrays](https://fractional-analysis-of-paternity-and-sibships.readthedocs.io/en/latest/tutorials/02_genotype_data.html), [paternity arrays](https://fractional-analysis-of-paternity-and-sibships.readthedocs.io/en/latest/tutorials/03_paternity_arrays.html) and [sibship clustering](https://fractional-analysis-of-paternity-and-sibships.readthedocs.io/en/latest/tutorials/04_sibship_clustering.html) we considered only a single half-sibling array. In most real-world situations, you would probably have multiple half-sibling arrays from multiple mothers.\n",
    "\n",
    "FAPS assumes that these families are independent, which seems a reasonable assumption for most application, so dealing with multiple families boils down to performing the same operation on these families through a loop. This guide outlines some tricks to automate this.\n",
    "\n",
    "This notebook will examine how to:\n",
    "\n",
    "1. Divide a dataset into multiple families\n",
    "2. Perform sibship clustering on those families\n",
    "3. Extract information from objects for multiple families\n",
    "\n",
    "To illustrate this we will use data from wild-pollinated seed capsules of the snapdragon *Antirrhinum majus*. Each capsule represents a single maternal family, which may contain mixtures of full- and half-siblings. Each maternal family can be treated as independent.\n",
    "\n",
    "These are the raw data described in Ellis *et al.* (2018), and are available from the [IST Austria data repository](https://datarep.app.ist.ac.at/id/eprint/95) (DOI:10.15479/AT:ISTA:95). For the analysis presented in that paper we did extensive data cleaning and checking, which is given as a [case study](https://fractional-analysis-of-paternity-and-sibships.readthedocs.io/en/latest/tutorials/08_data_cleaning_in_Amajus.html) later in this guide. Here, we will skip this process, since it primarily concerns accuracy of results."
   ]
  },
  {
   "cell_type": "markdown",
   "metadata": {},
   "source": [
    "##  Divide genotype data into families"
   ]
  },
  {
   "cell_type": "markdown",
   "metadata": {},
   "source": [
    "There are two ways to divide data into families: by splitting up a `genotypeArray` into families, and making a `paternityArray` for each, or create a single `paternityArray` and split up that."
   ]
  },
  {
   "cell_type": "markdown",
   "metadata": {},
   "source": [
    "### Import the data"
   ]
  },
  {
   "cell_type": "markdown",
   "metadata": {},
   "source": [
    "Frequently offspring have been genotyped from multiple half-sibling arrays, and it is convenient to store these data together in a single file on disk. However, it (usually) only makes sense to look for sibling relationships *within* known half-sib families, so we need to split those data up into half-sibling famililes.\n",
    "\n",
    "First, import the required packages and data for the sample of candidate fathers and the progeny."
   ]
  },
  {
   "cell_type": "code",
   "execution_count": 1,
   "metadata": {},
   "outputs": [
    {
     "name": "stdout",
     "output_type": "stream",
     "text": [
      "Populating the interactive namespace from numpy and matplotlib\n"
     ]
    }
   ],
   "source": [
    "import numpy as np\n",
    "from faps import *\n",
    "import matplotlib.pyplot as plt\n",
    "%pylab inline\n",
    "\n",
    "adults  = read_genotypes('../../data/parents_2012_genotypes.csv', genotype_col=1)\n",
    "progeny = read_genotypes('../../data/offspring_2012_genotypes.csv', genotype_col=2, mothers_col=1)"
   ]
  },
  {
   "cell_type": "markdown",
   "metadata": {},
   "source": [
    "For simplicity, let's restrict the progeny to those offspring belonging to three maternal families."
   ]
  },
  {
   "cell_type": "code",
   "execution_count": 2,
   "metadata": {},
   "outputs": [],
   "source": [
    "ix = np.isin(progeny.mothers, ['J1246', 'K1809', 'L1872'])\n",
    "progeny = progeny.subset(individuals=ix)"
   ]
  },
  {
   "cell_type": "markdown",
   "metadata": {},
   "source": [
    "We also need to define an array of genotypes for the mothers, and a genotyping error rate."
   ]
  },
  {
   "cell_type": "code",
   "execution_count": 3,
   "metadata": {},
   "outputs": [],
   "source": [
    "mothers = adults.subset(individuals=np.unique(progeny.mothers))\n",
    "mu= 0.0015"
   ]
  },
  {
   "cell_type": "markdown",
   "metadata": {},
   "source": [
    "Pull out the numbers of adults and progeny in the dataset, as well as the number of maternal families."
   ]
  },
  {
   "cell_type": "code",
   "execution_count": 4,
   "metadata": {},
   "outputs": [
    {
     "name": "stdout",
     "output_type": "stream",
     "text": [
      "2124\n",
      "76\n",
      "3\n"
     ]
    }
   ],
   "source": [
    "print(adults.size)\n",
    "print(progeny.size)\n",
    "print(len(np.unique(progeny.mothers)))"
   ]
  },
  {
   "cell_type": "markdown",
   "metadata": {},
   "source": [
    "Most maternal families are between 20 and 30, with some either side."
   ]
  },
  {
   "cell_type": "markdown",
   "metadata": {},
   "source": [
    "### Split up the `genotypeArray`"
   ]
  },
  {
   "cell_type": "markdown",
   "metadata": {
    "collapsed": true
   },
   "source": [
    "In the data import we specified that the ID of the mother of each offspring individual was given in column 2 of the data file (i.e. column 1 for Python, which starts counting from zero). Currently this information is contained in `progeny.mothers`.\n",
    "\n",
    "To separate a `genotypeArray` into separate families you can use `split`, and the vector of maternal names. This returns a **dictionary** of `genotypeArray` objects for each maternal family."
   ]
  },
  {
   "cell_type": "code",
   "execution_count": 5,
   "metadata": {},
   "outputs": [],
   "source": [
    "progeny2 = progeny.split(progeny.mothers)\n",
    "mothers2 = mothers.split(mothers.names)"
   ]
  },
  {
   "cell_type": "markdown",
   "metadata": {},
   "source": [
    "If we inspect `progeny2` we can see the structure of the dictionary. Python dictionaries are indexed by a **key**, which in this case is the maternal family name. Each key refers to some **values**, which in this case is a `genotypeArray` object for each maternal family."
   ]
  },
  {
   "cell_type": "code",
   "execution_count": 6,
   "metadata": {},
   "outputs": [
    {
     "data": {
      "text/plain": [
       "{'J1246': <faps.genotypeArray.genotypeArray at 0x7fe0e58052d0>,\n",
       " 'K1809': <faps.genotypeArray.genotypeArray at 0x7fe0e5805950>,\n",
       " 'L1872': <faps.genotypeArray.genotypeArray at 0x7fe0e5805050>}"
      ]
     },
     "execution_count": 6,
     "metadata": {},
     "output_type": "execute_result"
    }
   ],
   "source": [
    "progeny2"
   ]
  },
  {
   "cell_type": "markdown",
   "metadata": {},
   "source": [
    "You can pull attributes about an individual family by indexing the key like you would for any other python dictionary."
   ]
  },
  {
   "cell_type": "code",
   "execution_count": 7,
   "metadata": {},
   "outputs": [
    {
     "data": {
      "text/plain": [
       "25"
      ]
     },
     "execution_count": 7,
     "metadata": {},
     "output_type": "execute_result"
    }
   ],
   "source": [
    "progeny2[\"J1246\"].size"
   ]
  },
  {
   "cell_type": "markdown",
   "metadata": {},
   "source": [
    "To do this for all families you can iterate with a **dictionary comprehension**, or loop over the dictionary. Here are three ways to get the number of offspring in each maternal family:"
   ]
  },
  {
   "cell_type": "code",
   "execution_count": 8,
   "metadata": {},
   "outputs": [
    {
     "data": {
      "text/plain": [
       "{'J1246': 25, 'K1809': 25, 'L1872': 26}"
      ]
     },
     "execution_count": 8,
     "metadata": {},
     "output_type": "execute_result"
    }
   ],
   "source": [
    "{k: v.size for k,v in progeny2.items()} # the .items() suffix needed to separate keys and values"
   ]
  },
  {
   "cell_type": "code",
   "execution_count": 9,
   "metadata": {},
   "outputs": [
    {
     "data": {
      "text/plain": [
       "{'J1246': 25, 'K1809': 25, 'L1872': 26}"
      ]
     },
     "execution_count": 9,
     "metadata": {},
     "output_type": "execute_result"
    }
   ],
   "source": [
    "{k : progeny2[k].size for k in progeny2.keys()} # using only the keys."
   ]
  },
  {
   "cell_type": "code",
   "execution_count": 10,
   "metadata": {},
   "outputs": [
    {
     "name": "stdout",
     "output_type": "stream",
     "text": [
      "J1246 25\n",
      "K1809 25\n",
      "L1872 26\n"
     ]
    }
   ],
   "source": [
    "# Using a for loop.\n",
    "for k,v in progeny2.items():\n",
    "    print(k, v.size)"
   ]
  },
  {
   "cell_type": "markdown",
   "metadata": {},
   "source": [
    "## `paternityArray` objects with multiple families"
   ]
  },
  {
   "cell_type": "markdown",
   "metadata": {},
   "source": [
    "### Paternity from a dictionary of `genotypeArray` objects"
   ]
  },
  {
   "cell_type": "markdown",
   "metadata": {},
   "source": [
    "The previous section divided up a `genotypeArray` containing data for offspring from multiple mothers and split that up into maternal families. You can then pass this dictionary of `genotypeArray` objects to `paternity_array` directly, just as if they were single objects. `paternity_array` detects that these are dictionaries, and returns a dictionary of `paternityArray` objects."
   ]
  },
  {
   "cell_type": "code",
   "execution_count": 21,
   "metadata": {},
   "outputs": [
    {
     "name": "stdout",
     "output_type": "stream",
     "text": [
      "CPU times: user 893 ms, sys: 7.99 ms, total: 901 ms\n",
      "Wall time: 899 ms\n"
     ]
    }
   ],
   "source": [
    "%time patlik1 = paternity_array(progeny2, mothers2, adults, mu, missing_parents=0.01)"
   ]
  },
  {
   "cell_type": "markdown",
   "metadata": {},
   "source": [
    "### Split up an existing paternity array"
   ]
  },
  {
   "cell_type": "markdown",
   "metadata": {},
   "source": [
    "The alternative way to do this is to pass the entire arrays for progeny and mothers to \n",
    "`paternity_array`. A word of caution is needed here, because `paternity_array` is quite memory hungry, and for large datasets there is a very real chance you could exhaust the RAM on your computer and the machine will grind to a halt. By splitting up the genotype data first you can deal with small chunks at a time."
   ]
  },
  {
   "cell_type": "code",
   "execution_count": 22,
   "metadata": {},
   "outputs": [
    {
     "name": "stdout",
     "output_type": "stream",
     "text": [
      "CPU times: user 863 ms, sys: 84 ms, total: 947 ms\n",
      "Wall time: 947 ms\n"
     ]
    },
    {
     "data": {
      "text/plain": [
       "<faps.paternityArray.paternityArray at 0x7fe0e58bbb90>"
      ]
     },
     "execution_count": 22,
     "metadata": {},
     "output_type": "execute_result"
    }
   ],
   "source": [
    "mothers_full = adults.subset(progeny.mothers)\n",
    "\n",
    "%time patlik2 = paternity_array(progeny, mothers_full, adults, mu)\n",
    "patlik2"
   ]
  },
  {
   "cell_type": "markdown",
   "metadata": {},
   "source": [
    "There doesn't seem to be any difference in speed the two methods, although in other cases I have found that creating a single `paternityArray` is slower. Your mileage may vary.\n",
    "\n",
    "We split up the `paternity_array` in the same way as a `genotype_array`. It returns a list of `paternityArray` objects."
   ]
  },
  {
   "cell_type": "code",
   "execution_count": 23,
   "metadata": {},
   "outputs": [
    {
     "data": {
      "text/plain": [
       "{'J1246': <faps.paternityArray.paternityArray at 0x7fe0dd4b4e10>,\n",
       " 'K1809': <faps.paternityArray.paternityArray at 0x7fe0dd4b4890>,\n",
       " 'L1872': <faps.paternityArray.paternityArray at 0x7fe0dc8c03d0>}"
      ]
     },
     "execution_count": 23,
     "metadata": {},
     "output_type": "execute_result"
    }
   ],
   "source": [
    "patlik3 = patlik2.split(progeny.mothers)\n",
    "patlik3"
   ]
  },
  {
   "cell_type": "markdown",
   "metadata": {},
   "source": [
    "We would hope that `patlik` and `patlik3` are identical lists of `paternityArray` objects. We can inspect family J1246 to check:"
   ]
  },
  {
   "cell_type": "code",
   "execution_count": 24,
   "metadata": {},
   "outputs": [
    {
     "data": {
      "text/plain": [
       "array(['J1246_221', 'J1246_222', 'J1246_223', 'J1246_224', 'J1246_225',\n",
       "       'J1246_226', 'J1246_227', 'J1246_228', 'J1246_229', 'J1246_230',\n",
       "       'J1246_231', 'J1246_232', 'J1246_233', 'J1246_241', 'J1246_615',\n",
       "       'J1246_616', 'J1246_617', 'J1246_618', 'J1246_619', 'J1246_620',\n",
       "       'J1246_621', 'J1246_622', 'J1246_623', 'J1246_624', 'J1246_625'],\n",
       "      dtype='<U10')"
      ]
     },
     "execution_count": 24,
     "metadata": {},
     "output_type": "execute_result"
    }
   ],
   "source": [
    "patlik1['J1246'].offspring"
   ]
  },
  {
   "cell_type": "code",
   "execution_count": 25,
   "metadata": {},
   "outputs": [
    {
     "data": {
      "text/plain": [
       "array(['J1246_221', 'J1246_222', 'J1246_223', 'J1246_224', 'J1246_225',\n",
       "       'J1246_226', 'J1246_227', 'J1246_228', 'J1246_229', 'J1246_230',\n",
       "       'J1246_231', 'J1246_232', 'J1246_233', 'J1246_241', 'J1246_615',\n",
       "       'J1246_616', 'J1246_617', 'J1246_618', 'J1246_619', 'J1246_620',\n",
       "       'J1246_621', 'J1246_622', 'J1246_623', 'J1246_624', 'J1246_625'],\n",
       "      dtype='<U10')"
      ]
     },
     "execution_count": 25,
     "metadata": {},
     "output_type": "execute_result"
    }
   ],
   "source": [
    "patlik3['J1246'].offspring"
   ]
  },
  {
   "cell_type": "markdown",
   "metadata": {
    "collapsed": true
   },
   "source": [
    "## Clustering multiple families"
   ]
  },
  {
   "cell_type": "markdown",
   "metadata": {},
   "source": [
    "`sibship_clustering` is also able to detect when a list of `paternityArray` objects is being passed, and treat each independently. It returns a dictionary of `sibshipCluster` objects."
   ]
  },
  {
   "cell_type": "code",
   "execution_count": 26,
   "metadata": {},
   "outputs": [
    {
     "name": "stdout",
     "output_type": "stream",
     "text": [
      "CPU times: user 499 ms, sys: 0 ns, total: 499 ms\n",
      "Wall time: 497 ms\n"
     ]
    },
    {
     "data": {
      "text/plain": [
       "{'J1246': <faps.sibshipCluster.sibshipCluster at 0x7fe0de42bf90>,\n",
       " 'K1809': <faps.sibshipCluster.sibshipCluster at 0x7fe0e3917790>,\n",
       " 'L1872': <faps.sibshipCluster.sibshipCluster at 0x7fe0e57a8550>}"
      ]
     },
     "execution_count": 26,
     "metadata": {},
     "output_type": "execute_result"
    }
   ],
   "source": [
    "%%time\n",
    "sc = sibship_clustering(patlik1)\n",
    "sc"
   ]
  },
  {
   "cell_type": "markdown",
   "metadata": {},
   "source": [
    "This time there is quite a substantial speed advantage to performing sibship clustering on each maternal family separately rather than on all individuals together. This advanatge is modest here, but gets substantial quickly as you add more families and offspring, because the number of *pairs* of relationships to consider scales quadratically. "
   ]
  },
  {
   "cell_type": "code",
   "execution_count": 17,
   "metadata": {},
   "outputs": [
    {
     "name": "stdout",
     "output_type": "stream",
     "text": [
      "CPU times: user 1.48 s, sys: 2.64 ms, total: 1.49 s\n",
      "Wall time: 1.48 s\n"
     ]
    },
    {
     "data": {
      "text/plain": [
       "<faps.sibshipCluster.sibshipCluster at 0x7fe0e6a5cc10>"
      ]
     },
     "execution_count": 17,
     "metadata": {},
     "output_type": "execute_result"
    }
   ],
   "source": [
    "%time sibship_clustering(patlik2)"
   ]
  },
  {
   "cell_type": "markdown",
   "metadata": {},
   "source": [
    "You can index any single family to extract information about it in the same way as was explained in the section on [sibship clustering](https://fractional-analysis-of-paternity-and-sibships.readthedocs.io/en/latest/tutorials/04_sibship_clustering.html). For example, the posterior distribution of full-sibship sizes for the first maternal family."
   ]
  },
  {
   "cell_type": "code",
   "execution_count": 18,
   "metadata": {},
   "outputs": [
    {
     "data": {
      "text/plain": [
       "array([4.57906541e-001, 0.00000000e+000, 1.80697820e-001, 0.00000000e+000,\n",
       "       0.00000000e+000, 0.00000000e+000, 0.00000000e+000, 2.81585310e-004,\n",
       "       1.92238646e-001, 7.46085991e-002, 9.22427026e-002, 2.02410615e-003,\n",
       "       2.11864904e-020, 0.00000000e+000, 0.00000000e+000, 0.00000000e+000,\n",
       "       0.00000000e+000, 0.00000000e+000, 0.00000000e+000, 0.00000000e+000,\n",
       "       0.00000000e+000, 1.42303289e-213, 0.00000000e+000, 0.00000000e+000,\n",
       "       1.00383692e-265])"
      ]
     },
     "execution_count": 18,
     "metadata": {},
     "output_type": "execute_result"
    }
   ],
   "source": [
    "sc['J1246'].family_size()"
   ]
  },
  {
   "cell_type": "markdown",
   "metadata": {},
   "source": [
    "As with `genotypeArray` objects, to extract information about each `sibshipCluster` object it is straightforward to set up a list comprehension. For example, this cell pulls out the number of partition structures for each maternal family."
   ]
  },
  {
   "cell_type": "code",
   "execution_count": 19,
   "metadata": {},
   "outputs": [
    {
     "data": {
      "text/plain": [
       "{'J1246': 25, 'K1809': 25, 'L1872': 26}"
      ]
     },
     "execution_count": 19,
     "metadata": {},
     "output_type": "execute_result"
    }
   ],
   "source": [
    "{k : v.npartitions for k,v in sc.items()}"
   ]
  },
  {
   "cell_type": "markdown",
   "metadata": {},
   "source": [
    "## Paternity for many arrays"
   ]
  },
  {
   "cell_type": "markdown",
   "metadata": {},
   "source": [
    "Since paternity is likely to be a common aim, there is a handy function for calling the `sires` method on a list of `sibshipCluster` objects."
   ]
  },
  {
   "cell_type": "code",
   "execution_count": 20,
   "metadata": {},
   "outputs": [
    {
     "data": {
      "text/html": [
       "<div>\n",
       "<style scoped>\n",
       "    .dataframe tbody tr th:only-of-type {\n",
       "        vertical-align: middle;\n",
       "    }\n",
       "\n",
       "    .dataframe tbody tr th {\n",
       "        vertical-align: top;\n",
       "    }\n",
       "\n",
       "    .dataframe thead th {\n",
       "        text-align: right;\n",
       "    }\n",
       "</style>\n",
       "<table border=\"1\" class=\"dataframe\">\n",
       "  <thead>\n",
       "    <tr style=\"text-align: right;\">\n",
       "      <th></th>\n",
       "      <th>mother</th>\n",
       "      <th>father</th>\n",
       "      <th>log_prob</th>\n",
       "      <th>prob</th>\n",
       "      <th>offspring</th>\n",
       "    </tr>\n",
       "  </thead>\n",
       "  <tbody>\n",
       "    <tr>\n",
       "      <td>0</td>\n",
       "      <td>J1246</td>\n",
       "      <td>M0551</td>\n",
       "      <td>-489.404687</td>\n",
       "      <td>2.846066e-213</td>\n",
       "      <td>9.925957e-05</td>\n",
       "    </tr>\n",
       "    <tr>\n",
       "      <td>1</td>\n",
       "      <td>J1246</td>\n",
       "      <td>M0554</td>\n",
       "      <td>-4.833608</td>\n",
       "      <td>7.957758e-03</td>\n",
       "      <td>9.030774e-04</td>\n",
       "    </tr>\n",
       "    <tr>\n",
       "      <td>2</td>\n",
       "      <td>J1246</td>\n",
       "      <td>M0570</td>\n",
       "      <td>-0.387012</td>\n",
       "      <td>6.790830e-01</td>\n",
       "      <td>6.410034e-01</td>\n",
       "    </tr>\n",
       "    <tr>\n",
       "      <td>3</td>\n",
       "      <td>J1246</td>\n",
       "      <td>M1077</td>\n",
       "      <td>-6.021227</td>\n",
       "      <td>2.426690e-03</td>\n",
       "      <td>2.602961e-03</td>\n",
       "    </tr>\n",
       "    <tr>\n",
       "      <td>4</td>\n",
       "      <td>J1246</td>\n",
       "      <td>M1103</td>\n",
       "      <td>-6.063947</td>\n",
       "      <td>2.325205e-03</td>\n",
       "      <td>2.494105e-03</td>\n",
       "    </tr>\n",
       "    <tr>\n",
       "      <td>...</td>\n",
       "      <td>...</td>\n",
       "      <td>...</td>\n",
       "      <td>...</td>\n",
       "      <td>...</td>\n",
       "      <td>...</td>\n",
       "    </tr>\n",
       "    <tr>\n",
       "      <td>62</td>\n",
       "      <td>L1872</td>\n",
       "      <td>M0878</td>\n",
       "      <td>-3.022599</td>\n",
       "      <td>4.867454e-02</td>\n",
       "      <td>2.358130e-03</td>\n",
       "    </tr>\n",
       "    <tr>\n",
       "      <td>63</td>\n",
       "      <td>L1872</td>\n",
       "      <td>M0880</td>\n",
       "      <td>0.000000</td>\n",
       "      <td>1.000000e+00</td>\n",
       "      <td>2.000000e+00</td>\n",
       "    </tr>\n",
       "    <tr>\n",
       "      <td>64</td>\n",
       "      <td>L1872</td>\n",
       "      <td>M0819</td>\n",
       "      <td>0.000000</td>\n",
       "      <td>1.000000e+00</td>\n",
       "      <td>9.000000e+00</td>\n",
       "    </tr>\n",
       "    <tr>\n",
       "      <td>65</td>\n",
       "      <td>L1872</td>\n",
       "      <td>M0204</td>\n",
       "      <td>-929.421064</td>\n",
       "      <td>0.000000e+00</td>\n",
       "      <td>7.428108e-09</td>\n",
       "    </tr>\n",
       "    <tr>\n",
       "      <td>66</td>\n",
       "      <td>L1872</td>\n",
       "      <td>M0124</td>\n",
       "      <td>-176.623401</td>\n",
       "      <td>1.965312e-77</td>\n",
       "      <td>8.497702e-08</td>\n",
       "    </tr>\n",
       "  </tbody>\n",
       "</table>\n",
       "<p>67 rows × 5 columns</p>\n",
       "</div>"
      ],
      "text/plain": [
       "   mother father    log_prob           prob     offspring\n",
       "0   J1246  M0551 -489.404687  2.846066e-213  9.925957e-05\n",
       "1   J1246  M0554   -4.833608   7.957758e-03  9.030774e-04\n",
       "2   J1246  M0570   -0.387012   6.790830e-01  6.410034e-01\n",
       "3   J1246  M1077   -6.021227   2.426690e-03  2.602961e-03\n",
       "4   J1246  M1103   -6.063947   2.325205e-03  2.494105e-03\n",
       "..    ...    ...         ...            ...           ...\n",
       "62  L1872  M0878   -3.022599   4.867454e-02  2.358130e-03\n",
       "63  L1872  M0880    0.000000   1.000000e+00  2.000000e+00\n",
       "64  L1872  M0819    0.000000   1.000000e+00  9.000000e+00\n",
       "65  L1872  M0204 -929.421064   0.000000e+00  7.428108e-09\n",
       "66  L1872  M0124 -176.623401   1.965312e-77  8.497702e-08\n",
       "\n",
       "[67 rows x 5 columns]"
      ]
     },
     "execution_count": 20,
     "metadata": {},
     "output_type": "execute_result"
    }
   ],
   "source": [
    "summarise_sires(sc)"
   ]
  },
  {
   "cell_type": "markdown",
   "metadata": {},
   "source": [
    "The output is similar to that of `sires()` except that it gives labels for mother and father separately, replacing the `label` column. The `prob` and `offspring` columns have the same interpretation as for single `sibshipCluster` objects."
   ]
  }
 ],
 "metadata": {
  "kernelspec": {
   "display_name": "Python 2",
   "language": "python",
   "name": "python2"
  },
  "language_info": {
   "codemirror_mode": {
    "name": "ipython",
    "version": 3
   },
   "file_extension": ".py",
   "mimetype": "text/x-python",
   "name": "python",
   "nbconvert_exporter": "python",
   "pygments_lexer": "ipython3",
   "version": "3.7.4"
  }
 },
 "nbformat": 4,
 "nbformat_minor": 2
}
