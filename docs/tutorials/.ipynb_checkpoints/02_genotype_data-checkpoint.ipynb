{
 "cells": [
  {
   "cell_type": "markdown",
   "metadata": {},
   "source": [
    "# Genotype data in FAPS"
   ]
  },
  {
   "cell_type": "markdown",
   "metadata": {},
   "source": [
    "Tom Ellis, March 2017"
   ]
  },
  {
   "cell_type": "markdown",
   "metadata": {},
   "source": [
    "In most cases, researchers will have a sample of offspring, maternal and candidate paternal individuals typed at a set of markers. In this section we'll look in more detail at how FAPS deals with genotype data to build a matrix we can use for sibship inference.\n",
    "\n",
    "This notebook will examine how to:\n",
    "\n",
    "1. Generate simple `genotypeArray` objects and explore what information is contained in them.\n",
    "2. Import external genotype data.\n",
    "3. Work with genotype data from multiple half sib families.\n",
    "\n",
    "Checking genotype data is an important step before committing to a full analysis. A case study of data checking and cleaning using an empirical dataset is given in [here](https://fractional-analysis-of-paternity-and-sibships.readthedocs.io/en/latest/tutorials/08_data_cleaning_in_Amajus.html).\n",
    "In the [next section](https://fractional-analysis-of-paternity-and-sibships.readthedocs.io/en/latest/tutorials/03_paternity_arrays.html) we'll see how to combine genotype information on offspring and a set of candidate parents to create an array of likelihoods of paternity for dyads of offspring and candidate fathers.\n",
    "\n",
    "Note that the first half of this tutorial only deals with the case where you have a `genotypeArray` object for a single maternal family. If you have multiple families, you can apply what is here to each one, but at some point you'll have to iterate over those families. See [below](https://fractional-analysis-of-paternity-and-sibships.readthedocs.io/en/latest/tutorials/02_genotype_data.html#multiple-families) and the specific [tutorial](https://fractional-analysis-of-paternity-and-sibships.readthedocs.io/en/latest/tutorials/07_dealing_with_multiple_half-sib_families.html) on that.\n",
    "\n",
    "Currently, FAPS `genotypeArray` objects assume you are using biallelic, unlinked SNPs for a diploid. If your system deviates from these criteria in some way you can also skip this stage by creating your own array of paternity likelihoods using an appropriate likelihood function, and importing this directly as a `paternityArrays`. See the next section for more on [`paternityArray` objects](https://fractional-analysis-of-paternity-and-sibships.readthedocs.io/en/latest/tutorials/03_paternity_arrays.html) and how they should look."
   ]
  },
  {
   "cell_type": "markdown",
   "metadata": {},
   "source": [
    "## `genotypeArray` objects"
   ]
  },
  {
   "cell_type": "markdown",
   "metadata": {},
   "source": [
    "### Basic genotype information"
   ]
  },
  {
   "cell_type": "markdown",
   "metadata": {},
   "source": [
    "Genotype data are stored in a class of objects called a `genotypeArray`. We'll illustrate how these work with simulated data, since not all information is available for real-world data sets. We first generate a vector of population allele frequencies for 10 unlinked SNP markers, and use these to create a population of five adult individuals. This is obviously an unrealisticaly small dataset, but serves for illustration. The optional argument `family_names` allows you to name this generation."
   ]
  },
  {
   "cell_type": "code",
   "execution_count": 1,
   "metadata": {},
   "outputs": [],
   "source": [
    "import faps as fp\n",
    "import numpy as np\n",
    "\n",
    "allele_freqs = np.random.uniform(0.3,0.5,10)\n",
    "mypop = fp.make_parents(5, allele_freqs, family_name='my_population')"
   ]
  },
  {
   "cell_type": "markdown",
   "metadata": {},
   "source": [
    "The object we just created contains information about the genotypes of each of the ten parent individuals. Genotypes are stored as *N*x*L*x2-dimensional arrays, where *N* is the number of individuals and *L* is the number of loci. We can view the genotype for the first parent like so (recall that Python starts counting from zero, not one):"
   ]
  },
  {
   "cell_type": "code",
   "execution_count": 2,
   "metadata": {},
   "outputs": [
    {
     "data": {
      "text/plain": [
       "array([[1, 1],\n",
       "       [1, 0],\n",
       "       [0, 0],\n",
       "       [0, 0],\n",
       "       [0, 1],\n",
       "       [1, 0],\n",
       "       [0, 1],\n",
       "       [0, 0],\n",
       "       [0, 0],\n",
       "       [0, 0]])"
      ]
     },
     "execution_count": 2,
     "metadata": {},
     "output_type": "execute_result"
    }
   ],
   "source": [
    "mypop.geno[0]"
   ]
  },
  {
   "cell_type": "markdown",
   "metadata": {},
   "source": [
    "You could subset the array by indexes the genotypes, for example by taking only the first two individuals and the first five loci:"
   ]
  },
  {
   "cell_type": "code",
   "execution_count": 3,
   "metadata": {},
   "outputs": [
    {
     "data": {
      "text/plain": [
       "array([[[1, 1],\n",
       "        [1, 0],\n",
       "        [0, 0],\n",
       "        [0, 0],\n",
       "        [0, 1]],\n",
       "\n",
       "       [[0, 1],\n",
       "        [1, 1],\n",
       "        [0, 1],\n",
       "        [0, 1],\n",
       "        [0, 1]]])"
      ]
     },
     "execution_count": 3,
     "metadata": {},
     "output_type": "execute_result"
    }
   ],
   "source": [
    "mypop.geno[:2, :5]"
   ]
  },
  {
   "cell_type": "markdown",
   "metadata": {},
   "source": [
    "For realistic examples with many more loci, this obviously gets unwieldy pretty soon. It's cleaner to supply a list of individuals to keep or remove to the `subset` and `drop` functions. These return return a new `genotypeArray` for the individuals of interest."
   ]
  },
  {
   "cell_type": "code",
   "execution_count": 4,
   "metadata": {},
   "outputs": [
    {
     "name": "stdout",
     "output_type": "stream",
     "text": [
      "['my_population_0' 'my_population_2']\n",
      "['my_population_1' 'my_population_3' 'my_population_4']\n"
     ]
    }
   ],
   "source": [
    "print(mypop.subset([0,2]).names)\n",
    "print(mypop.drop([0,2]).names)"
   ]
  },
  {
   "cell_type": "markdown",
   "metadata": {},
   "source": [
    "### Information on individuals"
   ]
  },
  {
   "cell_type": "markdown",
   "metadata": {},
   "source": [
    "A `genotypeArray` contains other useful information about the individuals:"
   ]
  },
  {
   "cell_type": "code",
   "execution_count": 5,
   "metadata": {},
   "outputs": [
    {
     "name": "stdout",
     "output_type": "stream",
     "text": [
      "['my_population_0' 'my_population_1' 'my_population_2' 'my_population_3'\n",
      " 'my_population_4']\n",
      "5\n",
      "10\n"
     ]
    }
   ],
   "source": [
    "print(mypop.names) # individual names\n",
    "print(mypop.size)  # number of individuals\n",
    "print(mypop.nloci) # numbe of loci typed."
   ]
  },
  {
   "cell_type": "markdown",
   "metadata": {},
   "source": [
    "`make_sibships` is a convenient way to generate a single half-sibling array from individuals in `mypop`. This code mates makes a half-sib array with individual 0 as the mothers, with individuals 1, 2 and 3 contributing male gametes. Each father has four offspring each."
   ]
  },
  {
   "cell_type": "code",
   "execution_count": 6,
   "metadata": {},
   "outputs": [],
   "source": [
    "progeny = fp.make_sibships(mypop, 0, [1,2,3], 4, 'myprogeny')"
   ]
  },
  {
   "cell_type": "markdown",
   "metadata": {},
   "source": [
    "With this generation we can extract a little extra information from the `genotypeArray` than we could from the parents about their parents and family structure."
   ]
  },
  {
   "cell_type": "code",
   "execution_count": 7,
   "metadata": {},
   "outputs": [
    {
     "name": "stdout",
     "output_type": "stream",
     "text": [
      "['my_population_1' 'my_population_1' 'my_population_1' 'my_population_1'\n",
      " 'my_population_2' 'my_population_2' 'my_population_2' 'my_population_2'\n",
      " 'my_population_3' 'my_population_3' 'my_population_3' 'my_population_3']\n",
      "['my_population_0' 'my_population_0' 'my_population_0' 'my_population_0'\n",
      " 'my_population_0' 'my_population_0' 'my_population_0' 'my_population_0'\n",
      " 'my_population_0' 'my_population_0' 'my_population_0' 'my_population_0']\n",
      "['my_population_0/my_population_1' 'my_population_0/my_population_2'\n",
      " 'my_population_0/my_population_3']\n",
      "3\n"
     ]
    }
   ],
   "source": [
    "print(progeny.fathers)\n",
    "print(progeny.mothers)\n",
    "print(progeny.families)\n",
    "print(progeny.nfamilies)"
   ]
  },
  {
   "cell_type": "markdown",
   "metadata": {},
   "source": [
    "Of course with real data we would not normally know the identity of the father or the number of families, but this is useful for checking accuracy in simulations. It can also be useful to look up the positions of the parents in another list of names. This code finds the indices of the mothers and fathers of the offspring in the names listed in `mypop`."
   ]
  },
  {
   "cell_type": "code",
   "execution_count": 8,
   "metadata": {},
   "outputs": [
    {
     "name": "stdout",
     "output_type": "stream",
     "text": [
      "[0, 0, 0, 0, 0, 0, 0, 0, 0, 0, 0, 0]\n",
      "[1, 1, 1, 1, 2, 2, 2, 2, 3, 3, 3, 3]\n"
     ]
    }
   ],
   "source": [
    "print(progeny.parent_index('mother', mypop.names))\n",
    "print(progeny.parent_index('father', mypop.names))"
   ]
  },
  {
   "cell_type": "markdown",
   "metadata": {},
   "source": [
    "### Information on markers"
   ]
  },
  {
   "cell_type": "markdown",
   "metadata": {},
   "source": [
    "Pull out marker names with `marker`. The names here are boring because they are simulated, but your data can have as exciting names as you'd like."
   ]
  },
  {
   "cell_type": "code",
   "execution_count": 9,
   "metadata": {},
   "outputs": [
    {
     "data": {
      "text/plain": [
       "array([0, 1, 2, 3, 4, 5, 6, 7, 8, 9])"
      ]
     },
     "execution_count": 9,
     "metadata": {},
     "output_type": "execute_result"
    }
   ],
   "source": [
    "mypop.markers"
   ]
  },
  {
   "cell_type": "markdown",
   "metadata": {},
   "source": [
    "Check whether the locus names for parents and offspring match. This is obvious vital for determining who shares alleles with whom, but easy to overlook! If they don't match, the most likely explanation is that you have imported genotype data and misspecified where the genotype data start (the `genotype_col` argument)."
   ]
  },
  {
   "cell_type": "code",
   "execution_count": 10,
   "metadata": {},
   "outputs": [
    {
     "data": {
      "text/plain": [
       "array([ True,  True,  True,  True,  True,  True,  True,  True,  True,\n",
       "        True])"
      ]
     },
     "execution_count": 10,
     "metadata": {},
     "output_type": "execute_result"
    }
   ],
   "source": [
    "mypop.markers == progeny.markers"
   ]
  },
  {
   "cell_type": "markdown",
   "metadata": {},
   "source": [
    "FAPS uses population allele frequencies to calculate the likelihood that paternal alleles are drawn at random.\n",
    "They are are useful to check the markers are doing what you think they are.\n",
    "Pull out the population allele frequencies for each locus:"
   ]
  },
  {
   "cell_type": "code",
   "execution_count": 11,
   "metadata": {},
   "outputs": [
    {
     "data": {
      "text/plain": [
       "array([0.6, 0.4, 0.4, 0.4, 0.5, 0.2, 0.7, 0.2, 0.4, 0.2])"
      ]
     },
     "execution_count": 11,
     "metadata": {},
     "output_type": "execute_result"
    }
   ],
   "source": [
    "mypop.allele_freqs()"
   ]
  },
  {
   "cell_type": "markdown",
   "metadata": {},
   "source": [
    "We can also check for missing data and heterozygosity for each marker and individual. By default, data for each marker are returned:"
   ]
  },
  {
   "cell_type": "code",
   "execution_count": 12,
   "metadata": {},
   "outputs": [
    {
     "name": "stdout",
     "output_type": "stream",
     "text": [
      "[0. 0. 0. 0. 0. 0. 0. 0. 0. 0.]\n",
      "[0.8 0.4 0.8 0.4 1.  0.4 0.6 0.4 0.4 0.4]\n"
     ]
    }
   ],
   "source": [
    "print(mypop.missing_data())\n",
    "print(mypop.heterozygosity())"
   ]
  },
  {
   "cell_type": "markdown",
   "metadata": {},
   "source": [
    "To get summaries for each individual:"
   ]
  },
  {
   "cell_type": "code",
   "execution_count": 13,
   "metadata": {},
   "outputs": [
    {
     "name": "stdout",
     "output_type": "stream",
     "text": [
      "[0. 0. 0. 0. 0.]\n",
      "[0.4 0.6 0.6 0.7 0.5]\n"
     ]
    }
   ],
   "source": [
    "print(mypop.missing_data(by='individual'))\n",
    "print(mypop.heterozygosity(by='individual'))"
   ]
  },
  {
   "cell_type": "markdown",
   "metadata": {},
   "source": [
    "In this instance there is no missing data, because data are simulated to be error-free. See the next section on an empircal example where this is not true."
   ]
  },
  {
   "cell_type": "markdown",
   "metadata": {},
   "source": [
    "## Importing genotype data"
   ]
  },
  {
   "cell_type": "markdown",
   "metadata": {},
   "source": [
    "You can import genotype data from a text or CSV (comma-separated text) file. Both can be easily exported from a spreadsheet program. Rows index individuals, and columns index each typed locus. More specifically:\n",
    "\n",
    "1. Offspring names should be given in the first column\n",
    "2. If the data are offspring, names of the mothers are given in the second column.\n",
    "3. If known for some reason, names of fathers can be given as well.\n",
    "4. Genotype information should be given *to the right* of columns indicating individual or parental names, with locus names in the column headers.\n",
    "\n",
    "SNP genotype data must be biallelic, that is they can only be homozygous for the first allele, heterozygous, or homozygous for the second allele. These should be given as 0, 1 and 2 respectively. If genotype data is missing this should be entered as NA.\n",
    "\n",
    "The following code imports genotype information on real samples of offspring from half-sibling array of wild-pollinated snpadragon seedlings collected in the Spanish Pyrenees. The candidate parents are as many of the wild adult plants as we could find. You will find the data files on the [IST Austria data repository](https://datarep.app.ist.ac.at/id/eprint/95) (DOI:10.15479/AT:ISTA:95). Aside from the path to where the data file is stored, the two other arguments specify the column containing names of the mothers, and the first column containing genotype data of the offspring."
   ]
  },
  {
   "cell_type": "code",
   "execution_count": 15,
   "metadata": {},
   "outputs": [],
   "source": [
    "offspring = fp.read_genotypes(\n",
    "    path = '../../data/offspring_2012_genotypes.csv',\n",
    "    mothers_col=1,\n",
    "    genotype_col=2)"
   ]
  },
  {
   "cell_type": "markdown",
   "metadata": {},
   "source": [
    "Again, Python starts counting from zero rather than one, so the first column is really column zero, and so on. Because these are CSV, there was no need to specify that data are delimited by commas, but this is included for illustration."
   ]
  },
  {
   "cell_type": "markdown",
   "metadata": {},
   "source": [
    "Offspring are divided into 60 maternal families of different sizes. You can call the name of the mother of each offspring. You can also call the names of the fathers, with `offspring.fathers`, but since these are unknown this is not informative."
   ]
  },
  {
   "cell_type": "code",
   "execution_count": 16,
   "metadata": {},
   "outputs": [
    {
     "data": {
      "text/plain": [
       "array(['J1246', 'K0451', 'K0632', 'K0635', 'K1768', 'K1809', 'K2036',\n",
       "       'L0057', 'L0221', 'L0911', 'L0935', 'L1264', 'L1847', 'L1872',\n",
       "       'L1882', 'L1892', 'M0002', 'M0009', 'M0018', 'M0022', 'M0025',\n",
       "       'M0028', 'M0034', 'M0042', 'M0043', 'M0045', 'M0047', 'M0054',\n",
       "       'M0069', 'M0078', 'M0130', 'M0137', 'M0202', 'M0209', 'M0210',\n",
       "       'M0225', 'M0238', 'M0251', 'M0254', 'M0258', 'M0259', 'M0267',\n",
       "       'M0283', 'M0310', 'M0323', 'M0329', 'M0333', 'M0344', 'M0345',\n",
       "       'M0484', 'M0494', 'M0773', 'M0884', 'M1000', 'M1335', 'M1454',\n",
       "       'M1460', 'M1463', 'M1466', 'M1846'], dtype='<U5')"
      ]
     },
     "execution_count": 16,
     "metadata": {},
     "output_type": "execute_result"
    }
   ],
   "source": [
    "np.unique(offspring.mothers)"
   ]
  },
  {
   "cell_type": "markdown",
   "metadata": {},
   "source": [
    "Offspring names are a combination of maternal family and a unique ID for ecah offspring."
   ]
  },
  {
   "cell_type": "code",
   "execution_count": 17,
   "metadata": {},
   "outputs": [
    {
     "data": {
      "text/plain": [
       "array(['J1246_221', 'J1246_222', 'J1246_223', ..., 'M1846_435',\n",
       "       'M1846_436', 'M1846_437'], dtype='<U10')"
      ]
     },
     "execution_count": 17,
     "metadata": {},
     "output_type": "execute_result"
    }
   ],
   "source": [
    "offspring.names"
   ]
  },
  {
   "cell_type": "markdown",
   "metadata": {},
   "source": [
    "You can call summaries of genotype data to help in data cleaning. For example, this code shows the proportion of loci with missing genotype data for the first ten offspring individuals."
   ]
  },
  {
   "cell_type": "code",
   "execution_count": 18,
   "metadata": {},
   "outputs": [
    {
     "name": "stdout",
     "output_type": "stream",
     "text": [
      "[0.01408451 0.12676056 0.09859155 0.07042254 0.01408451 0.08450704\n",
      " 0.11267606 0.07042254 0.22535211 0.08450704]\n"
     ]
    }
   ],
   "source": [
    "print(offspring.missing_data('individual')[:10])"
   ]
  },
  {
   "cell_type": "markdown",
   "metadata": {},
   "source": [
    "This snippet shows the proportion of missing data points and heterozygosity for the first ten loci. These can be helpful in identifying dubious loci."
   ]
  },
  {
   "cell_type": "code",
   "execution_count": 19,
   "metadata": {},
   "outputs": [
    {
     "name": "stdout",
     "output_type": "stream",
     "text": [
      "[0.07616361 0.07616361 0.0606488  0.16643159 0.05500705 0.0909732\n",
      " 0.09449929 0.05994358 0.05923836 0.07757405]\n",
      "[0.36812412 0.39985896 0.45627645 0.33497884 0.42665726 0.4696756\n",
      " 0.36318759 0.35543018 0.4506347  0.3751763 ]\n"
     ]
    }
   ],
   "source": [
    "print(offspring.missing_data('marker')[:10])\n",
    "print(offspring.heterozygosity()[:10])"
   ]
  },
  {
   "cell_type": "markdown",
   "metadata": {},
   "source": [
    "## Multiple families"
   ]
  },
  {
   "cell_type": "markdown",
   "metadata": {},
   "source": [
    "In real data set we generally work with multplie half-sibling arrays at once. For downstream analyses we need to split up the genotype data into families to reflect this. This is easy to do with `split` and a vector of labels to group offspring by. This returns a dictionary of `genotypeArray` objects labelled by maternal family. These snippet splits up the data and prints the maternal family names."
   ]
  },
  {
   "cell_type": "code",
   "execution_count": 21,
   "metadata": {},
   "outputs": [
    {
     "data": {
      "text/plain": [
       "dict_keys(['J1246', 'K0451', 'K0632', 'K0635', 'K1768', 'K1809', 'K2036', 'L0057', 'L0221', 'L0911', 'L0935', 'L1264', 'L1847', 'L1872', 'L1882', 'L1892', 'M0002', 'M0009', 'M0018', 'M0022', 'M0025', 'M0028', 'M0034', 'M0042', 'M0043', 'M0045', 'M0047', 'M0054', 'M0069', 'M0078', 'M0130', 'M0137', 'M0202', 'M0209', 'M0210', 'M0225', 'M0238', 'M0251', 'M0254', 'M0258', 'M0259', 'M0267', 'M0283', 'M0310', 'M0323', 'M0329', 'M0333', 'M0344', 'M0345', 'M0484', 'M0494', 'M0773', 'M0884', 'M1000', 'M1335', 'M1454', 'M1460', 'M1463', 'M1466', 'M1846'])"
      ]
     },
     "execution_count": 21,
     "metadata": {},
     "output_type": "execute_result"
    }
   ],
   "source": [
    "offs_split = offspring.split(by = offspring.mothers)\n",
    "offs_split.keys()"
   ]
  },
  {
   "cell_type": "markdown",
   "metadata": {},
   "source": [
    "Each entry is an individual `genotypeArray`. You can pull out individual families by indexing the dictionary by name. For example, here are the names of the offspring in family J1246:"
   ]
  },
  {
   "cell_type": "code",
   "execution_count": 22,
   "metadata": {},
   "outputs": [
    {
     "data": {
      "text/plain": [
       "array(['J1246_221', 'J1246_222', 'J1246_223', 'J1246_224', 'J1246_225',\n",
       "       'J1246_226', 'J1246_227', 'J1246_228', 'J1246_229', 'J1246_230',\n",
       "       'J1246_231', 'J1246_232', 'J1246_233', 'J1246_241', 'J1246_615',\n",
       "       'J1246_616', 'J1246_617', 'J1246_618', 'J1246_619', 'J1246_620',\n",
       "       'J1246_621', 'J1246_622', 'J1246_623', 'J1246_624', 'J1246_625'],\n",
       "      dtype='<U10')"
      ]
     },
     "execution_count": 22,
     "metadata": {},
     "output_type": "execute_result"
    }
   ],
   "source": [
    "offs_split[\"J1246\"].names"
   ]
  },
  {
   "cell_type": "markdown",
   "metadata": {},
   "source": [
    "To perform operations on each `genotypeArray` we now have to iterate over each element. A convenient way to do this is with dictionary comprehensions by separating out the labels from the `genotypeArray` objects using `items`.\n",
    "\n",
    "As an example, here's how you call the number of offspring in each family. It splits up the dictionary into keys for each family, and calls `size` on each `genotypeArray` (labelled genArray in the comprehension)."
   ]
  },
  {
   "cell_type": "code",
   "execution_count": 23,
   "metadata": {},
   "outputs": [
    {
     "data": {
      "text/plain": [
       "{'J1246': 25,\n",
       " 'K0451': 27,\n",
       " 'K0632': 6,\n",
       " 'K0635': 25,\n",
       " 'K1768': 25,\n",
       " 'K1809': 25,\n",
       " 'K2036': 19,\n",
       " 'L0057': 24,\n",
       " 'L0221': 22,\n",
       " 'L0911': 24,\n",
       " 'L0935': 26,\n",
       " 'L1264': 23,\n",
       " 'L1847': 33,\n",
       " 'L1872': 26,\n",
       " 'L1882': 27,\n",
       " 'L1892': 9,\n",
       " 'M0002': 3,\n",
       " 'M0009': 41,\n",
       " 'M0018': 10,\n",
       " 'M0022': 22,\n",
       " 'M0025': 26,\n",
       " 'M0028': 33,\n",
       " 'M0034': 37,\n",
       " 'M0042': 25,\n",
       " 'M0043': 11,\n",
       " 'M0045': 21,\n",
       " 'M0047': 25,\n",
       " 'M0054': 27,\n",
       " 'M0069': 31,\n",
       " 'M0078': 33,\n",
       " 'M0130': 20,\n",
       " 'M0137': 20,\n",
       " 'M0202': 25,\n",
       " 'M0209': 33,\n",
       " 'M0210': 26,\n",
       " 'M0225': 23,\n",
       " 'M0238': 24,\n",
       " 'M0251': 24,\n",
       " 'M0254': 26,\n",
       " 'M0258': 23,\n",
       " 'M0259': 16,\n",
       " 'M0267': 23,\n",
       " 'M0283': 25,\n",
       " 'M0310': 10,\n",
       " 'M0323': 25,\n",
       " 'M0329': 26,\n",
       " 'M0333': 26,\n",
       " 'M0344': 16,\n",
       " 'M0345': 24,\n",
       " 'M0484': 24,\n",
       " 'M0494': 22,\n",
       " 'M0773': 25,\n",
       " 'M0884': 36,\n",
       " 'M1000': 24,\n",
       " 'M1335': 28,\n",
       " 'M1454': 18,\n",
       " 'M1460': 22,\n",
       " 'M1463': 26,\n",
       " 'M1466': 24,\n",
       " 'M1846': 23}"
      ]
     },
     "execution_count": 23,
     "metadata": {},
     "output_type": "execute_result"
    }
   ],
   "source": [
    "{family : genArray.size for family,genArray in offs_split.items()}"
   ]
  },
  {
   "cell_type": "markdown",
   "metadata": {},
   "source": [
    "You can achieve the same thing with a list comprehension, but you lose information about family ID. It is also more difficult to pass a list on to downstream functions. This snippet shows the first ten items."
   ]
  },
  {
   "cell_type": "code",
   "execution_count": 24,
   "metadata": {},
   "outputs": [
    {
     "data": {
      "text/plain": [
       "[25, 27, 6, 25, 25, 25, 19, 24, 22, 24]"
      ]
     },
     "execution_count": 24,
     "metadata": {},
     "output_type": "execute_result"
    }
   ],
   "source": [
    "[genArray.size for genArray in offs_split.values()][:10]"
   ]
  }
 ],
 "metadata": {
  "anaconda-cloud": {},
  "kernelspec": {
   "display_name": "Python 3",
   "language": "python",
   "name": "python3"
  },
  "language_info": {
   "codemirror_mode": {
    "name": "ipython",
    "version": 3
   },
   "file_extension": ".py",
   "mimetype": "text/x-python",
   "name": "python",
   "nbconvert_exporter": "python",
   "pygments_lexer": "ipython3",
   "version": "3.7.4"
  }
 },
 "nbformat": 4,
 "nbformat_minor": 1
}
