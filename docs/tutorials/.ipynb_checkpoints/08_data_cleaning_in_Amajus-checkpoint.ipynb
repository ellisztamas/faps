{
 "cells": [
  {
   "cell_type": "markdown",
   "metadata": {},
   "source": [
    "# Data cleaning for *Antirrhinum majus* data set from 2012"
   ]
  },
  {
   "cell_type": "code",
   "execution_count": 324,
   "metadata": {},
   "outputs": [
    {
     "name": "stdout",
     "output_type": "stream",
     "text": [
      "Populating the interactive namespace from numpy and matplotlib\n",
      "Created using FAPS version 2.6.4.\n"
     ]
    }
   ],
   "source": [
    "import numpy as np\n",
    "from pandas import DataFrame as df\n",
    "import faps as fp\n",
    "import matplotlib.pyplot as plt\n",
    "%pylab inline\n",
    "\n",
    "print(\"Created using FAPS version {}.\".format(fp.__version__))"
   ]
  },
  {
   "cell_type": "markdown",
   "metadata": {},
   "source": [
    "Tom Ellis, June 2017\n",
    "\n",
    "In this notebook we will examine an empirical dataset using the snapdragon *Antirrhinum majus*.\n",
    "\n",
    "In 2012 we collected open-pollinated seed capsules from wild mothers and genotypes samples of the offsping. A single seed capsule contains up to several hundred seeds from between 1 and lots of pollen donors. We also collected tissue and GPS positions for as many of the adults reproductive plants as we could find.\n",
    "\n",
    "These data are those desribed and analysed by Ellis *et al.* (2018), and are available from the [IST Austria data repository](https://datarep.app.ist.ac.at/id/eprint/95) (DOI:10.15479/AT:ISTA:95). \n",
    "\n",
    "Below, we will do an initial data inspection to weed out dubious loci and individuals. It can be argued that this process was overly conservative, and we threw out a lot of useful data, so you need not necessarily be so critical of your own data."
   ]
  },
  {
   "cell_type": "markdown",
   "metadata": {},
   "source": [
    "## Data inspection"
   ]
  },
  {
   "cell_type": "markdown",
   "metadata": {},
   "source": [
    "Import genotype data for the reproductive adults and offspring. The latter includes information on the ID of the maternal mother."
   ]
  },
  {
   "cell_type": "code",
   "execution_count": 294,
   "metadata": {},
   "outputs": [],
   "source": [
    "progeny = fp.read_genotypes('../../data/offspring_SNPs_2012.csv', mothers_col=1, genotype_col=2)\n",
    "adults  = fp.read_genotypes('../../data/parents_SNPs_2012.csv')\n",
    "\n",
    "iix = [i in adults.names for i in progeny.mothers.tolist()]\n",
    "progeny = progeny.subset(iix)"
   ]
  },
  {
   "cell_type": "markdown",
   "metadata": {},
   "source": [
    "### Genotype information"
   ]
  },
  {
   "cell_type": "markdown",
   "metadata": {},
   "source": [
    "As a sanity check, confirm that the marker names really do match."
   ]
  },
  {
   "cell_type": "code",
   "execution_count": 295,
   "metadata": {},
   "outputs": [
    {
     "data": {
      "text/plain": [
       "True"
      ]
     },
     "execution_count": 295,
     "metadata": {},
     "output_type": "execute_result"
    }
   ],
   "source": [
    "all([progeny.markers[i] == adults.markers[i] for i in range(progeny.nloci)])"
   ]
  },
  {
   "cell_type": "markdown",
   "metadata": {},
   "source": [
    "Tissue from the adults and progeny was dried in different ways. For the progeny, I didnt use enough silica gel to dry the tissue rapidly, and the DNA became degraded. Reflecting this, although genotype dropouts (the rate at which genotype information at a single locus fails to amplify) is respectable for the adults, but dire for the offspring."
   ]
  },
  {
   "cell_type": "code",
   "execution_count": 296,
   "metadata": {},
   "outputs": [
    {
     "name": "stdout",
     "output_type": "stream",
     "text": [
      "Adults: 0.027972027972027972 \n",
      "Progeny: 0.7916666666666666\n"
     ]
    }
   ],
   "source": [
    "print(\n",
    "    \"Adults:\",    adults.missing_data().max(),\n",
    "    \"\\nProgeny:\", progeny.missing_data().max()\n",
    ")\n"
   ]
  },
  {
   "cell_type": "markdown",
   "metadata": {},
   "source": [
    "Luckily a lot of this is driven by a small number of loci/individuals with very high dropout rates."
   ]
  },
  {
   "cell_type": "code",
   "execution_count": 297,
   "metadata": {},
   "outputs": [
    {
     "data": {
      "text/plain": [
       "Text(0.5, 1.0, 'Per indiviudual: adults')"
      ]
     },
     "execution_count": 297,
     "metadata": {},
     "output_type": "execute_result"
    },
    {
     "data": {
      "image/png": "[encoded data removed]",
      "text/plain": [
       "<Figure size 720x720 with 4 Axes>"
      ]
     },
     "metadata": {
      "needs_background": "light"
     },
     "output_type": "display_data"
    }
   ],
   "source": [
    "fig = plt.figure(figsize=(10,10))\n",
    "fig.subplots_adjust(wspace=0.2, hspace=0.2)\n",
    "\n",
    "mdo = fig.add_subplot(2,2,1)\n",
    "mdo.hist(progeny.missing_data('marker'), bins=np.arange(0, 1, 0.05))\n",
    "mdo.set_xlabel(\"Missing data\")\n",
    "mdo.set_ylabel(\"Number of loci\")\n",
    "mdo.set_title('Per locus: offspring')\n",
    "\n",
    "indo = fig.add_subplot(2,2,2)\n",
    "indo.hist(progeny.missing_data(by='individual'), bins=np.arange(0, 1, 0.05))\n",
    "indo.set_xlabel(\"Missing data\")\n",
    "indo.set_ylabel(\"Number of loci\")\n",
    "indo.set_title('Per indiviudual: offspring')\n",
    "\n",
    "mda = fig.add_subplot(2,2,3)\n",
    "mda.hist(adults.missing_data('marker'), bins=np.arange(0, 1, 0.05))\n",
    "mda.set_xlabel(\"Missing data\")\n",
    "mda.set_ylabel(\"Number of loci\")\n",
    "mda.set_title('Per locus: adults')\n",
    "\n",
    "inda = fig.add_subplot(2,2,4)\n",
    "inda.hist(adults.missing_data(by='individual'), bins=np.arange(0, 1, 0.05))\n",
    "inda.set_xlabel(\"Missing data\")\n",
    "inda.set_ylabel(\"Number of loci\")\n",
    "inda.set_title('Per indiviudual: adults')"
   ]
  },
  {
   "cell_type": "markdown",
   "metadata": {},
   "source": [
    "Although overall per locus drop-out rates are low for the adults, there are some individuals with alarmingly high amounts of missing data. Candidates with very few loci typed can come out as being highly compatible with many offspring, just because there is insufficient information to exclude them."
   ]
  },
  {
   "cell_type": "code",
   "execution_count": 298,
   "metadata": {},
   "outputs": [
    {
     "name": "stdout",
     "output_type": "stream",
     "text": [
      "Adults: 0.8985507246376812 \n",
      "Progeny: 0.9710144927536232\n"
     ]
    }
   ],
   "source": [
    "print(\n",
    "    \"Adults:\",   adults.missing_data(by='individual').max(),\n",
    "    \"\\nProgeny:\", progeny.missing_data('individual').max()\n",
    ")"
   ]
  },
  {
   "cell_type": "markdown",
   "metadata": {},
   "source": [
    "Count, then remove individuals with >5% missing data."
   ]
  },
  {
   "cell_type": "code",
   "execution_count": 299,
   "metadata": {},
   "outputs": [
    {
     "name": "stdout",
     "output_type": "stream",
     "text": [
      "Adults: 66 \n",
      "Progeny: 688\n"
     ]
    }
   ],
   "source": [
    "print(\n",
    "    \"Adults:\", len(np.array(adults.names)[adults.missing_data(1) > 0.05]),\n",
    "    \"\\nProgeny:\", len(np.array(progeny.names)[progeny.missing_data(1) > 0.05])\n",
    ")\n",
    "    \n",
    "adults  = adults.subset(individuals= adults.missing_data(1) < 0.05)\n",
    "progeny = progeny.subset(    individuals= progeny.missing_data(1) < 0.05)"
   ]
  },
  {
   "cell_type": "markdown",
   "metadata": {},
   "source": [
    "Histograms look much better. It would still worth removing some of the dubious loci with high drop-out rates though."
   ]
  },
  {
   "cell_type": "code",
   "execution_count": 300,
   "metadata": {},
   "outputs": [
    {
     "data": {
      "text/plain": [
       "Text(0.5, 1.0, 'Per indiviudual: adults')"
      ]
     },
     "execution_count": 300,
     "metadata": {},
     "output_type": "execute_result"
    },
    {
     "data": {
      "image/png": "[encoded data removed]",
      "text/plain": [
       "<Figure size 720x720 with 4 Axes>"
      ]
     },
     "metadata": {
      "needs_background": "light"
     },
     "output_type": "display_data"
    }
   ],
   "source": [
    "fig = plt.figure(figsize=(10,10))\n",
    "fig.subplots_adjust(wspace=0.2, hspace=0.2)\n",
    "\n",
    "mdo = fig.add_subplot(2,2,1)\n",
    "mdo.hist(progeny.missing_data('marker'), bins=np.arange(0, 0.7, 0.05))\n",
    "mdo.set_xlabel(\"Missing data\")\n",
    "mdo.set_ylabel(\"Number of loci\")\n",
    "mdo.set_title('Per locus: offspring')\n",
    "\n",
    "indo = fig.add_subplot(2,2,2)\n",
    "indo.hist(progeny.missing_data(by='individual'), bins=np.arange(0, 0.7, 0.05))\n",
    "indo.set_xlabel(\"Missing data\")\n",
    "indo.set_ylabel(\"Number of loci\")\n",
    "indo.set_title('Per indiviudual: offspring')\n",
    "\n",
    "mda = fig.add_subplot(2,2,3)\n",
    "mda.hist(adults.missing_data('marker'), bins=np.arange(0, 0.7, 0.05))\n",
    "mda.set_xlabel(\"Missing data\")\n",
    "mda.set_ylabel(\"Number of loci\")\n",
    "mda.set_title('Per locus: adults')\n",
    "\n",
    "inda = fig.add_subplot(2,2,4)\n",
    "inda.hist(adults.missing_data(by='individual'), bins=np.arange(0, 0.7, 0.05))\n",
    "inda.set_xlabel(\"Missing data\")\n",
    "inda.set_ylabel(\"Number of loci\")\n",
    "inda.set_title('Per indiviudual: adults')"
   ]
  },
  {
   "cell_type": "markdown",
   "metadata": {},
   "source": [
    "Remove the loci with dropouts >10% from both the offspring and adult datasets."
   ]
  },
  {
   "cell_type": "code",
   "execution_count": 301,
   "metadata": {},
   "outputs": [
    {
     "name": "stdout",
     "output_type": "stream",
     "text": [
      "['s217_2722063']\n"
     ]
    }
   ],
   "source": [
    "print(np.array(progeny.markers)[progeny.missing_data(0) >= 0.1])\n",
    "\n",
    "progeny= progeny.subset(loci= progeny.missing_data(0) < 0.1)\n",
    "adults = adults.subset(loci = progeny.missing_data(0) < 0.1)"
   ]
  },
  {
   "cell_type": "markdown",
   "metadata": {},
   "source": [
    "Allele frequency and heterozygosity generally show the convex pattern one would expect. An exception is the locus with allele frequency at around 0.4, but heterozygosity >0.7, which is suspect, and indicative of a possible outlier."
   ]
  },
  {
   "cell_type": "code",
   "execution_count": 302,
   "metadata": {},
   "outputs": [
    {
     "data": {
      "image/png": "[encoded data removed]",
      "text/plain": [
       "<Figure size 432x288 with 1 Axes>"
      ]
     },
     "metadata": {
      "needs_background": "light"
     },
     "output_type": "display_data"
    }
   ],
   "source": [
    "plt.scatter(adults.allele_freqs(), adults.heterozygosity(0))\n",
    "plt.xlabel('Allele frequency')\n",
    "plt.ylabel('Heterozygosity')\n",
    "plt.show()"
   ]
  },
  {
   "cell_type": "markdown",
   "metadata": {},
   "source": [
    "Loci with low heterozygosity are not dangerous in themselves; they might contribute some information, albeit little. To be on the safe side, let's remove loci with less than 0.2 heterozygosity, and the errant locus with high heterozygosity."
   ]
  },
  {
   "cell_type": "code",
   "execution_count": 303,
   "metadata": {},
   "outputs": [
    {
     "name": "stdout",
     "output_type": "stream",
     "text": [
      "Heterozygosity > 0.7: ['s217_2722063'] \n",
      "Heterozygosity < 0.2: ['s154_504353' 's320_60828' 's316_93292']\n"
     ]
    }
   ],
   "source": [
    "print(\n",
    "    \"Heterozygosity > 0.7:\", adults.markers[adults.heterozygosity(0) >0.7],\n",
    "    \"\\nHeterozygosity < 0.2:\", progeny.markers[adults.heterozygosity(0) < 0.2]\n",
    ")\n",
    "\n",
    "progeny = progeny.subset(loci= (adults.heterozygosity(0) > 0.2) * (adults.heterozygosity(0) < 0.7))\n",
    "adults  = adults.subset( loci= (adults.heterozygosity(0) > 0.2) * (adults.heterozygosity(0) < 0.7))"
   ]
  },
  {
   "cell_type": "markdown",
   "metadata": {},
   "source": [
    "### Summary of genotype data"
   ]
  },
  {
   "cell_type": "markdown",
   "metadata": {},
   "source": [
    "This leaves us with a dataset of 61 loci for which allele frequency and heterozygosity are highest around 0.5, which is what we would like. In particular, heterozygosity (and hence homozygosity) among the adults is humped around 0.5, which is a good sign that parents should be readily distinguishable. There is nevertheless substantial spread towards zero and one for the progeny data however, which is less than ideal."
   ]
  },
  {
   "cell_type": "code",
   "execution_count": 304,
   "metadata": {},
   "outputs": [
    {
     "data": {
      "text/plain": [
       "Text(0.5, 0, 'Heterozygosity')"
      ]
     },
     "execution_count": 304,
     "metadata": {},
     "output_type": "execute_result"
    },
    {
     "data": {
      "image/png": "[encoded data removed]",
      "text/plain": [
       "<Figure size 720x720 with 4 Axes>"
      ]
     },
     "metadata": {
      "needs_background": "light"
     },
     "output_type": "display_data"
    }
   ],
   "source": [
    "fig = plt.figure(figsize=(10,10))\n",
    "fig.subplots_adjust(wspace=0.1, hspace=0.2)\n",
    "\n",
    "afp = fig.add_subplot(2,2,1)\n",
    "afp.hist(adults.allele_freqs())\n",
    "afp.set_title('Adults')\n",
    "afp.set_xlabel(\"Allele frequency\")\n",
    "\n",
    "afo = fig.add_subplot(2,2,2)\n",
    "afo.hist(progeny.allele_freqs())\n",
    "afo.set_title('Offspring')\n",
    "afo.set_xlabel(\"Allele frequency\")\n",
    "\n",
    "hetp = fig.add_subplot(2,2,3)\n",
    "hetp.hist(adults.heterozygosity(0))\n",
    "hetp.set_xlabel(\"Heterozygosity\")\n",
    "\n",
    "heto = fig.add_subplot(2,2,4)\n",
    "heto.hist(progeny.heterozygosity(0))\n",
    "heto.set_xlabel(\"Heterozygosity\")"
   ]
  },
  {
   "cell_type": "markdown",
   "metadata": {},
   "source": [
    "The effective number of loci can be seen as the number of loci at which one can make compare the offspring, maternal and candidate paternal genotype (i.e. those loci with no missing data). Given how high dropouts are in the offspring, it is worthwhile to check the effective number of loci for this dataset.\n",
    "\n",
    "To calculate the effective number of loci, we need genotype data for the mothers."
   ]
  },
  {
   "cell_type": "code",
   "execution_count": 305,
   "metadata": {},
   "outputs": [],
   "source": [
    "# Check that the mother of each offspring is found in the array of adults,\n",
    "# and select only those offspring.\n",
    "ix = [i for i in range(progeny.size) if progeny.mothers[i] in adults.names]\n",
    "progeny = progeny.subset(ix)\n",
    "# Genotype data on those adults that are also mothers.\n",
    "mothers = adults.subset(progeny.parent_index('m', adults.names))"
   ]
  },
  {
   "cell_type": "markdown",
   "metadata": {},
   "source": [
    "In fact, effective number of loci is good. The minimum number of valid loci to compare is 46, and in 99% of cases there are 57 or more loci."
   ]
  },
  {
   "cell_type": "code",
   "execution_count": 306,
   "metadata": {},
   "outputs": [
    {
     "data": {
      "image/png": "[encoded data removed]",
      "text/plain": [
       "<Figure size 432x288 with 1 Axes>"
      ]
     },
     "metadata": {
      "needs_background": "light"
     },
     "output_type": "display_data"
    }
   ],
   "source": [
    "neloci  = fp.effective_nloci(progeny, mothers, adults)\n",
    "\n",
    "plt.hist(neloci.flatten(), bins=np.arange(45.5,63.5,1))\n",
    "plt.show()"
   ]
  },
  {
   "cell_type": "markdown",
   "metadata": {},
   "source": [
    "Finally, print some summary statistics about the quality of the genotype information in the data set."
   ]
  },
  {
   "cell_type": "code",
   "execution_count": 307,
   "metadata": {},
   "outputs": [
    {
     "name": "stdout",
     "output_type": "stream",
     "text": [
      "Total n. loci: 64 \n",
      "Mean per-locus missing data in the adults: 0.007726070226070227 \n",
      "Mean per-locus missing data in the progeny: 0.01730390401146132 \n",
      "Minimum heterozygosity at any locus: 0.2000962000962001 \n",
      "Maximum heterozygosity at any locus: 0.5483405483405484 \n",
      "Lowest minor-allele frequency: 0.2308624031007752 \n",
      "Highest minor-allele frequency: 0.8760975609756098\n"
     ]
    }
   ],
   "source": [
    "print(\n",
    "    \"Total n. loci:\", adults.nloci,\n",
    "    \"\\nMean per-locus missing data in the adults:\",  adults.missing_data(by = 'marker').mean(),\n",
    "    \"\\nMean per-locus missing data in the progeny:\", progeny.missing_data(by = 'marker').mean(),\n",
    "    \"\\nMinimum heterozygosity at any locus:\", adults.heterozygosity(by = 'marker').min(),\n",
    "    \"\\nMaximum heterozygosity at any locus:\", adults.heterozygosity(by = 'marker').max(),\n",
    "    \"\\nLowest minor-allele frequency:\",  adults.allele_freqs().min(),\n",
    "    \"\\nHighest minor-allele frequency:\", adults.allele_freqs().max()\n",
    ")"
   ]
  },
  {
   "cell_type": "markdown",
   "metadata": {
    "collapsed": true
   },
   "source": [
    "## Example family: L1872"
   ]
  },
  {
   "cell_type": "markdown",
   "metadata": {},
   "source": [
    "*Note from August 2021: this section includes some old and fairly ugly list comprehensions that aren't the clearest way to do things, which I hope to update at some point. If you want to apply what follows to your own work, perhaps don't worry too much about what they are doing, and just try to see which names you would need to substitute to apply it to your own data.*\n",
    "\n",
    "The `progeny` dataset consists of offspring from multiple families that were genotyped at the same time. It was convenient to consider them as one so far to tidy up the genotype data, but for subsequent analysis we need to split them up into their constituent full sib families. This is easy to do with `split`, which returns a list of `genotypeArray` objects."
   ]
  },
  {
   "cell_type": "code",
   "execution_count": 308,
   "metadata": {},
   "outputs": [
    {
     "data": {
      "text/plain": [
       "57"
      ]
     },
     "execution_count": 308,
     "metadata": {},
     "output_type": "execute_result"
    }
   ],
   "source": [
    "prlist = progeny.split(progeny.mothers)\n",
    "len(prlist)"
   ]
  },
  {
   "cell_type": "markdown",
   "metadata": {},
   "source": [
    "By way of a sanity check we will examine one of the largest families in detail. After the data filtering above, there are 20 offspring from mother L1872. Distributions of missing data, heterozygosity and allele frequency at each locus suggest no reason for alarm."
   ]
  },
  {
   "cell_type": "code",
   "execution_count": 309,
   "metadata": {},
   "outputs": [
    {
     "data": {
      "text/plain": [
       "20"
      ]
     },
     "execution_count": 309,
     "metadata": {},
     "output_type": "execute_result"
    }
   ],
   "source": [
    "ex_progeny = prlist[\"L1872\"]\n",
    "ex_mother  = adults.subset(ex_progeny.parent_index('m', adults.names))\n",
    "\n",
    "ex_progeny.size"
   ]
  },
  {
   "cell_type": "markdown",
   "metadata": {},
   "source": [
    "### Family structure"
   ]
  },
  {
   "cell_type": "markdown",
   "metadata": {},
   "source": [
    "Cluster the family into sibships. I have set the proportion of missing parents to 0.1; we have removed 140 of the 2219 (6%) candidates logged as alive in 2012, and I allow for 10% of candidates having been missed. In fact the results do not depend on the parameter unless it is unrealistically high."
   ]
  },
  {
   "cell_type": "code",
   "execution_count": 310,
   "metadata": {},
   "outputs": [],
   "source": [
    "allele_freqs = adults.allele_freqs() # population allele frequencies\n",
    "ex_patlik    = fp.paternity_array(\n",
    "    ex_progeny,\n",
    "    ex_mother,\n",
    "    adults,\n",
    "    mu = 0.0015,\n",
    "    missing_parents=0.1\n",
    ")\n",
    "ex_sc        = fp.sibship_clustering(ex_patlik, 1000)"
   ]
  },
  {
   "cell_type": "markdown",
   "metadata": {},
   "source": [
    "We can first look at the dendrogram of relatedness between individuals derived from the array of paternity likleihoods. "
   ]
  },
  {
   "cell_type": "code",
   "execution_count": 311,
   "metadata": {},
   "outputs": [
    {
     "data": {
      "image/png": "[encoded data removed]",
      "text/plain": [
       "<Figure size 432x288 with 1 Axes>"
      ]
     },
     "metadata": {
      "needs_background": "light"
     },
     "output_type": "display_data"
    }
   ],
   "source": [
    "from scipy.cluster.hierarchy import dendrogram\n",
    "dendrogram(ex_sc.linkage_matrix, orientation='left', color_threshold=0,\n",
    "           above_threshold_color='black')\n",
    "plt.show()"
   ]
  },
  {
   "cell_type": "markdown",
   "metadata": {},
   "source": [
    "We can compare this to the most-probable partition structure to get a rough idea of what as going on. This partition groups offspring into 6 full sibships and has a posterior probability of 0.74. The partition structure simply labels individuals 0 to 20 with a unique, arbitrary identifier. For example, individuals 2 and 3 are grouped into an especially large family labelled '1'."
   ]
  },
  {
   "cell_type": "code",
   "execution_count": 312,
   "metadata": {},
   "outputs": [
    {
     "name": "stdout",
     "output_type": "stream",
     "text": [
      "Most-probable partition: [3 1 1 5 2 2 1 2 2 1 1 2 2 2 2 1 2 1 6 4] \n",
      "Unique families: [1 2 3 4 5 6] \n",
      "Posterior probability of most-probable partition: 0.7412552176970592\n"
     ]
    }
   ],
   "source": [
    "print(\n",
    "    \"Most-probable partition:\", ex_sc.mlpartition,\n",
    "    \"\\nUnique families:\", np.unique(ex_sc.mlpartition),\n",
    "    \"\\nPosterior probability of most-probable partition:\", np.exp(ex_sc.prob_partitions.max())\n",
    ")"
   ]
  },
  {
   "cell_type": "markdown",
   "metadata": {},
   "source": [
    "We can recover posterior probabilties of paternity for each candidate on each offspring using `posterior_paternity_matrix`. For most offspring, there is a single candidate with a probability of paternity close to one."
   ]
  },
  {
   "cell_type": "code",
   "execution_count": 313,
   "metadata": {},
   "outputs": [
    {
     "data": {
      "text/html": [
       "<div>\n",
       "<style scoped>\n",
       "    .dataframe tbody tr th:only-of-type {\n",
       "        vertical-align: middle;\n",
       "    }\n",
       "\n",
       "    .dataframe tbody tr th {\n",
       "        vertical-align: top;\n",
       "    }\n",
       "\n",
       "    .dataframe thead th {\n",
       "        text-align: right;\n",
       "    }\n",
       "</style>\n",
       "<table border=\"1\" class=\"dataframe\">\n",
       "  <thead>\n",
       "    <tr style=\"text-align: right;\">\n",
       "      <th></th>\n",
       "      <th>0</th>\n",
       "      <th>1</th>\n",
       "    </tr>\n",
       "  </thead>\n",
       "  <tbody>\n",
       "    <tr>\n",
       "      <th>0</th>\n",
       "      <td>M0880</td>\n",
       "      <td>0.79962</td>\n",
       "    </tr>\n",
       "    <tr>\n",
       "      <th>1</th>\n",
       "      <td>M0819</td>\n",
       "      <td>1.0</td>\n",
       "    </tr>\n",
       "    <tr>\n",
       "      <th>2</th>\n",
       "      <td>M0819</td>\n",
       "      <td>1.0</td>\n",
       "    </tr>\n",
       "    <tr>\n",
       "      <th>3</th>\n",
       "      <td>M0698</td>\n",
       "      <td>1.0</td>\n",
       "    </tr>\n",
       "    <tr>\n",
       "      <th>4</th>\n",
       "      <td>missing</td>\n",
       "      <td>1.0</td>\n",
       "    </tr>\n",
       "    <tr>\n",
       "      <th>5</th>\n",
       "      <td>missing</td>\n",
       "      <td>1.0</td>\n",
       "    </tr>\n",
       "    <tr>\n",
       "      <th>6</th>\n",
       "      <td>M0819</td>\n",
       "      <td>1.0</td>\n",
       "    </tr>\n",
       "    <tr>\n",
       "      <th>7</th>\n",
       "      <td>missing</td>\n",
       "      <td>1.0</td>\n",
       "    </tr>\n",
       "    <tr>\n",
       "      <th>8</th>\n",
       "      <td>missing</td>\n",
       "      <td>1.0</td>\n",
       "    </tr>\n",
       "    <tr>\n",
       "      <th>9</th>\n",
       "      <td>M0819</td>\n",
       "      <td>1.0</td>\n",
       "    </tr>\n",
       "    <tr>\n",
       "      <th>10</th>\n",
       "      <td>M0819</td>\n",
       "      <td>1.0</td>\n",
       "    </tr>\n",
       "    <tr>\n",
       "      <th>11</th>\n",
       "      <td>missing</td>\n",
       "      <td>1.0</td>\n",
       "    </tr>\n",
       "    <tr>\n",
       "      <th>12</th>\n",
       "      <td>missing</td>\n",
       "      <td>0.972253</td>\n",
       "    </tr>\n",
       "    <tr>\n",
       "      <th>13</th>\n",
       "      <td>missing</td>\n",
       "      <td>1.0</td>\n",
       "    </tr>\n",
       "    <tr>\n",
       "      <th>14</th>\n",
       "      <td>missing</td>\n",
       "      <td>1.0</td>\n",
       "    </tr>\n",
       "    <tr>\n",
       "      <th>15</th>\n",
       "      <td>M0819</td>\n",
       "      <td>1.0</td>\n",
       "    </tr>\n",
       "    <tr>\n",
       "      <th>16</th>\n",
       "      <td>missing</td>\n",
       "      <td>1.0</td>\n",
       "    </tr>\n",
       "    <tr>\n",
       "      <th>17</th>\n",
       "      <td>M0819</td>\n",
       "      <td>0.999438</td>\n",
       "    </tr>\n",
       "    <tr>\n",
       "      <th>18</th>\n",
       "      <td>M0107</td>\n",
       "      <td>1.0</td>\n",
       "    </tr>\n",
       "    <tr>\n",
       "      <th>19</th>\n",
       "      <td>M0854</td>\n",
       "      <td>0.999994</td>\n",
       "    </tr>\n",
       "  </tbody>\n",
       "</table>\n",
       "</div>"
      ],
      "text/plain": [
       "          0         1\n",
       "0     M0880   0.79962\n",
       "1     M0819       1.0\n",
       "2     M0819       1.0\n",
       "3     M0698       1.0\n",
       "4   missing       1.0\n",
       "5   missing       1.0\n",
       "6     M0819       1.0\n",
       "7   missing       1.0\n",
       "8   missing       1.0\n",
       "9     M0819       1.0\n",
       "10    M0819       1.0\n",
       "11  missing       1.0\n",
       "12  missing  0.972253\n",
       "13  missing       1.0\n",
       "14  missing       1.0\n",
       "15    M0819       1.0\n",
       "16  missing       1.0\n",
       "17    M0819  0.999438\n",
       "18    M0107       1.0\n",
       "19    M0854  0.999994"
      ]
     },
     "execution_count": 313,
     "metadata": {},
     "output_type": "execute_result"
    }
   ],
   "source": [
    "postpat = ex_sc.posterior_paternity_matrix()\n",
    "\n",
    "# Add a label for missing fathers to the end of \n",
    "adults.names = np.append(adults.names, \"missing\")\n",
    "# names of most probable candidates\n",
    "mx = np.array([np.where(postpat[i].max() == postpat[i])[0][0] for i in range(ex_progeny.size)])\n",
    "\n",
    "# Print a dataframe summarising this\n",
    "df([adults.names[mx], np.exp(postpat.max(1))]).T"
   ]
  },
  {
   "cell_type": "markdown",
   "metadata": {},
   "source": [
    "### Family sizes"
   ]
  },
  {
   "cell_type": "markdown",
   "metadata": {},
   "source": [
    "Consistent with the results for many families (shown below), the posterior distributions for family size suggest many small families and a smaller number of larger families."
   ]
  },
  {
   "cell_type": "code",
   "execution_count": 314,
   "metadata": {},
   "outputs": [
    {
     "data": {
      "image/png": "[encoded data removed]",
      "text/plain": [
       "<Figure size 1080x432 with 2 Axes>"
      ]
     },
     "metadata": {
      "needs_background": "light"
     },
     "output_type": "display_data"
    }
   ],
   "source": [
    "fig = plt.figure(figsize=(15,6))\n",
    "\n",
    "nf = fig.add_subplot(1,2,1)\n",
    "nf.plot(range(1,ex_progeny.size+1), ex_sc.nfamilies())\n",
    "nf.set_xlabel('Number of families')\n",
    "nf.set_ylabel('Probability')\n",
    "\n",
    "fs = fig.add_subplot(1,2,2)\n",
    "fs.plot(range(1,ex_progeny.size+1), ex_sc.family_size())\n",
    "fs.set_xlabel('Family size')\n",
    "plt.show()"
   ]
  },
  {
   "cell_type": "markdown",
   "metadata": {},
   "source": [
    "### Geographic positions"
   ]
  },
  {
   "cell_type": "markdown",
   "metadata": {},
   "source": [
    "Intuitively, one would expect most pollen donors to be fairly close to the mother. Since the most probable partition had fairly strong support and identified a set of candidates with posterior probabilities close to one, it is reasonable to use these individuals to get an idea of where the pollen donors are to be found.\n",
    "\n",
    "First, import GPS data and make sure sample IDs match genotype data."
   ]
  },
  {
   "cell_type": "code",
   "execution_count": 315,
   "metadata": {},
   "outputs": [],
   "source": [
    "gps_pos = np.genfromtxt('../../data/amajus_GPS_2012.csv', delimiter=',', skip_header=1, usecols=[3,4]) # import CSV file\n",
    "gps_lab = np.genfromtxt('../../data/amajus_GPS_2012.csv', delimiter=',', skip_header=1, usecols=0, dtype='str') # import CSV file\n",
    "# subset GPS data to match the genotype data.\n",
    "ix = [i for i in range(len(gps_lab)) if gps_lab[i] in adults.names]\n",
    "gps_pos, gps_lab = gps_pos[ix], gps_lab[ix]"
   ]
  },
  {
   "cell_type": "code",
   "execution_count": 316,
   "metadata": {},
   "outputs": [],
   "source": [
    "ix =[i for i in range(len(gps_lab)) if gps_lab[i] in adults.names[mx]]\n",
    "gps_cands = gps_pos[ix]\n",
    "gps_ex =  gps_pos[gps_lab == \"L1872\"].squeeze()"
   ]
  },
  {
   "cell_type": "markdown",
   "metadata": {},
   "source": [
    "The map below shows the spatial positions of all individuals in the sample in green. Overlaid are the mother in red, and top candidates in blue. The likley candidates are indeed found close to the mother along the lower (southern-most) road, with two individuals on the upper (northern) road. This gives us no cause to doubt the validity of the paternity results."
   ]
  },
  {
   "cell_type": "code",
   "execution_count": 317,
   "metadata": {},
   "outputs": [],
   "source": [
    "second = np.sort(postpat, 1)[:, 1]\n",
    "sx = np.array([np.where(second[i] == postpat[i])[0][0] for i in range(ex_progeny.size)])\n",
    "gps_sec = gps_pos[np.unique(sx)]"
   ]
  },
  {
   "cell_type": "code",
   "execution_count": 318,
   "metadata": {},
   "outputs": [
    {
     "data": {
      "image/png": "[encoded data removed]",
      "text/plain": [
       "<Figure size 479.055x191.339 with 1 Axes>"
      ]
     },
     "metadata": {
      "needs_background": "light"
     },
     "output_type": "display_data"
    }
   ],
   "source": [
    "fig = plt.figure(figsize=(16.9/2.54,6.75/2.54))\n",
    "#plt.figure(figsize=(12.5,5)\n",
    "\n",
    "plt.xlabel('East-West positition (m)')\n",
    "plt.ylabel('North-South positition (m)')\n",
    "plt.xlim(-2500,2000)\n",
    "plt.ylim(-500,1500)\n",
    "plt.scatter(gps_pos[:,0],  gps_pos[:,1], s=5, color='green', alpha=0.5)\n",
    "plt.scatter(gps_sec[:,0],  gps_sec[:,1], color='gold')\n",
    "plt.scatter(gps_cands[:,0],gps_cands[:,1], color='blue')\n",
    "plt.scatter(gps_ex[0], gps_ex[1], color='red', s=40, edgecolors='black')\n",
    "plt.show()"
   ]
  },
  {
   "cell_type": "markdown",
   "metadata": {},
   "source": [
    "We can use these data to get a very rough dispersal kernal. Most pollen comes from within 50m of the maternal plant."
   ]
  },
  {
   "cell_type": "code",
   "execution_count": 319,
   "metadata": {},
   "outputs": [
    {
     "name": "stdout",
     "output_type": "stream",
     "text": [
      "Mean dispersal of top candidates = 47.73636198050704 metres\n"
     ]
    },
    {
     "data": {
      "image/png": "[encoded data removed]",
      "text/plain": [
       "<Figure size 432x288 with 1 Axes>"
      ]
     },
     "metadata": {
      "needs_background": "light"
     },
     "output_type": "display_data"
    }
   ],
   "source": [
    "dists = np.sqrt((gps_ex[0] - gps_cands[:,0])**2 + (gps_ex[1] - gps_cands[:,1])**2)\n",
    "print(\"Mean dispersal of top candidates =\",mean(dists), \"metres\")\n",
    "\n",
    "plt.hist(dists, bins=np.arange(0,650,50))\n",
    "plt.show()"
   ]
  },
  {
   "cell_type": "markdown",
   "metadata": {},
   "source": [
    "In contrast, the second-most-likely candidates are on average more than 800m from the maternal plant."
   ]
  },
  {
   "cell_type": "code",
   "execution_count": 320,
   "metadata": {},
   "outputs": [
    {
     "name": "stdout",
     "output_type": "stream",
     "text": [
      "Mean dispersal of second candidates = 887.9552522780782 metres\n"
     ]
    }
   ],
   "source": [
    "dists2 = np.sqrt((gps_ex[0] - gps_sec[:,0])**2 + (gps_ex[1] - gps_sec[:,1])**2)\n",
    "print(\"Mean dispersal of second candidates =\",mean(dists2), \"metres\")\n"
   ]
  },
  {
   "cell_type": "markdown",
   "metadata": {},
   "source": [
    "## Multiple families"
   ]
  },
  {
   "cell_type": "markdown",
   "metadata": {},
   "source": [
    "The code becomes more challenging because we will need to perform operations on every element in this list. Luckily this is straightforward in Python if we use list comprehensions. For example, we can pull out and plot the number of offspring in each half-sibling array:"
   ]
  },
  {
   "cell_type": "code",
   "execution_count": null,
   "metadata": {},
   "outputs": [],
   "source": [
    "plt.hist([prlist[k].size for k in prlist.keys()], bins=np.arange(0,25))\n",
    "plt.show()"
   ]
  },
  {
   "cell_type": "markdown",
   "metadata": {},
   "source": [
    "All of these families are samples from much larger half sib arrays, so comparing full-sibship sizes and number is even more difficult if there are different numbers of offspring. For this reason we can pick out only those families with 17 or more offspring.\n",
    "\n",
    "This cell splits genotype data into maternal families of 17 or more offspring,  then pick 17 offspring at random (there is no meaning in the order of individuals in the `genotypeArray` object, so taking the first 17 is tantamount to choosing at random). This leaves us with 18 familes of 17 offspring."
   ]
  },
  {
   "cell_type": "code",
   "execution_count": null,
   "metadata": {},
   "outputs": [],
   "source": [
    "# split into maternal families\n",
    "mlist  = mothers.split(progeny.mothers)\n",
    "prlist = progeny.split(progeny.mothers)\n",
    "# families with 20 or more offspring\n",
    "prog17 = {k : prlist[k] for k in prlist.keys() if prlist[k].size >=17} \n",
    "mlist  = {k : mlist[k]  for k in prlist.keys() if prlist[k].size >=17}\n",
    "# take the first 17 offspring\n",
    "prog17 = {k : v.subset(range(17)) for k,v in prog17.items()}\n",
    "mlist  = {k : v.subset(range(17)) for k,v in mlist.items()}"
   ]
  },
  {
   "cell_type": "markdown",
   "metadata": {},
   "source": [
    "Calculate likelihoods of paternity for each family. This took 3 seconds on a 2010 Macbook Pro; your mileage may vary. In order to do so we also need population allele frequencies, and to remove the entry for missing fathers from the vector of candidate names that we added previously."
   ]
  },
  {
   "cell_type": "code",
   "execution_count": null,
   "metadata": {},
   "outputs": [],
   "source": [
    "allele_freqs = adults.allele_freqs() # population allele frequencies\n",
    "adults.names = adults.names[:-1] # Remove 'missing' from candidate names\n",
    "\n",
    "from time import time\n",
    "t0=time()\n",
    "patlik = fp.paternity_array(prog17, mlist, adults, mu=0.0013, missing_parents=0.1)\n",
    "print(\"Completed in {} seconds.\".format(time() - t0))"
   ]
  },
  {
   "cell_type": "markdown",
   "metadata": {},
   "source": [
    "The next step is clustering each family into full sibships."
   ]
  },
  {
   "cell_type": "code",
   "execution_count": null,
   "metadata": {},
   "outputs": [],
   "source": [
    "t1 = time()\n",
    "sc = fp.sibship_clustering(patlik)\n",
    "print(\"Completed in {} seconds.\".format(time() - t1))"
   ]
  },
  {
   "cell_type": "markdown",
   "metadata": {},
   "source": [
    "Calculate probability distributions for family size and number of families for each array."
   ]
  },
  {
   "cell_type": "code",
   "execution_count": null,
   "metadata": {},
   "outputs": [],
   "source": [
    "nfamilies = [x.nfamilies() for x in sc.values()]\n",
    "nfamilies = np.array(nfamilies)\n",
    "\n",
    "famsize = [x.family_size() for x in sc.values()]\n",
    "famsize = np.array(famsize)"
   ]
  },
  {
   "cell_type": "markdown",
   "metadata": {},
   "source": [
    "Plots below show the probability distributions for the number and sizes of families. Grey bars show 95% credible intervals (see CDF plots below). Samples of 17 offspring are divided into between four and 16 full-sibling families consisting of between one and eight individuals. Most families seem to be small, with a smaller number of large families."
   ]
  },
  {
   "cell_type": "code",
   "execution_count": null,
   "metadata": {
    "scrolled": true
   },
   "outputs": [],
   "source": [
    "fig = plt.figure(figsize=(16.9/2.54, 6/2.54))\n",
    "fig.subplots_adjust(wspace=0.3, hspace=0.1)\n",
    "\n",
    "nf = fig.add_subplot(1,2,1)\n",
    "nf.set_ylabel('Probability density')\n",
    "nf.set_xlabel('Number of families')\n",
    "nf.set_ylim(-0.005,0.2)\n",
    "nf.set_xlim(0,18)\n",
    "nf.bar(np.arange(0.5,17.5), nfamilies.sum(0)/nfamilies.sum(), color='1', width=1)\n",
    "nf.bar(np.arange(3.5,16.5), (nfamilies.sum(0)/nfamilies.sum())[3:16], color='0.75', width=1)\n",
    "\n",
    "fs = fig.add_subplot(1,2,2)\n",
    "fs.set_xlabel('Family size')\n",
    "#fs.set_ylabel('Probability density')\n",
    "fs.set_ylim(-0.05,0.8)\n",
    "fs.set_xlim(0,17)\n",
    "fs.bar(np.arange(0.5,17.5), famsize.sum(0)/famsize.sum(), color='1', width=1)\n",
    "fs.bar(np.arange(0.5,6.5), (famsize.sum(0)/famsize.sum())[:6], color='0.75', width=1)\n",
    "\n",
    "plt.show()"
   ]
  },
  {
   "cell_type": "markdown",
   "metadata": {},
   "source": [
    "Cumulative probability density plots demonstrate the credible intervals for family size and number."
   ]
  },
  {
   "cell_type": "code",
   "execution_count": null,
   "metadata": {},
   "outputs": [],
   "source": [
    "fig = plt.figure(figsize=(15, 6))\n",
    "fig.subplots_adjust(wspace=0.3, hspace=0.1)\n",
    "\n",
    "nf = fig.add_subplot(1,2,1)\n",
    "nf.set_ylabel('Cumulative density')\n",
    "nf.set_xlabel('Number of families')\n",
    "nf.set_xlim(0,20)\n",
    "nf.set_ylim(0,1.05)\n",
    "nf.plot(np.arange(1,18), np.cumsum(nfamilies.sum(0)/nfamilies.sum()))\n",
    "nf.axhline(0.975, 0.05, 0.95, linestyle='dashed')\n",
    "nf.axhline(0.025, 0.05, 0.95, linestyle='dashed')\n",
    "nf.grid()\n",
    "\n",
    "fs = fig.add_subplot(1,2,2)\n",
    "fs.set_ylabel('Cumulative density')\n",
    "fs.set_xlabel('Family size')\n",
    "fs.set_xlim(0,21)\n",
    "fs.set_ylim(0,1.05)\n",
    "fs.plot(np.arange(1,18), np.cumsum(famsize.sum(0)/famsize.sum()))\n",
    "fs.axhline(0.975, 0.05, 0.95, linestyle='dashed')\n",
    "fs.axhline(0.025, 0.05, 0.95, linestyle='dashed')\n",
    "fs.grid()"
   ]
  }
 ],
 "metadata": {
  "kernelspec": {
   "display_name": "Python 3",
   "language": "python",
   "name": "python3"
  },
  "language_info": {
   "codemirror_mode": {
    "name": "ipython",
    "version": 3
   },
   "file_extension": ".py",
   "mimetype": "text/x-python",
   "name": "python",
   "nbconvert_exporter": "python",
   "pygments_lexer": "ipython3",
   "version": "3.8.10"
  }
 },
 "nbformat": 4,
 "nbformat_minor": 1
}
