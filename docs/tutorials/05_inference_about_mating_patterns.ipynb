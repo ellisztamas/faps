{
 "cells": [
  {
   "cell_type": "markdown",
   "metadata": {},
   "source": [
    "# Inference about mating patterns"
   ]
  },
  {
   "cell_type": "markdown",
   "metadata": {},
   "source": [
    "Tom Ellis, August 2017"
   ]
  },
  {
   "cell_type": "markdown",
   "metadata": {},
   "source": [
    "This section is under construction!"
   ]
  },
  {
   "cell_type": "code",
   "execution_count": 1,
   "metadata": {
    "collapsed": true
   },
   "outputs": [],
   "source": [
    "import numpy as np\n",
    "from faps import *\n",
    "\n",
    "allele_freqs = np.random.uniform(0.1, 0.5, 50)\n",
    "males = make_parents(100, allele_freqs)\n",
    "phenotypes = np.random.choice()\n",
    "\n"
   ]
  },
  {
   "cell_type": "code",
   "execution_count": null,
   "metadata": {
    "collapsed": true
   },
   "outputs": [],
   "source": [
    "\n",
    "offspring = make_sibships(males, 0, range(1,5), 5)\n",
    "\n",
    "mu = 0.0013\n",
    "males = males.dropouts(0.015).mutations(mu)\n",
    "offspring= offspring.dropouts(0.025).mutations(mu)\n",
    "\n",
    "mothers = males.subset(offspring.parent_index('m', males.names))\n",
    "\n",
    "#mothers = mothers.split(offspring.fathers)\n",
    "#offspring = offspring.split(offspring.fathers)\n",
    "\n",
    "patlik = paternity_array(offspring, mothers, males, allele_freqs, mu)"
   ]
  }
 ],
 "metadata": {
  "kernelspec": {
   "display_name": "Python 2",
   "language": "python",
   "name": "python2"
  },
  "language_info": {
   "codemirror_mode": {
    "name": "ipython",
    "version": 3
   },
   "file_extension": ".py",
   "mimetype": "text/x-python",
   "name": "python",
   "nbconvert_exporter": "python",
   "pygments_lexer": "ipython3",
   "version": "3.7.4"
  }
 },
 "nbformat": 4,
 "nbformat_minor": 1
}
