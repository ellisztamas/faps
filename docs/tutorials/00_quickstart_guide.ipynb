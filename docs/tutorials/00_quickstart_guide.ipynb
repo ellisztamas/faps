{
 "cells": [
  {
   "cell_type": "markdown",
   "metadata": {},
   "source": [
    "# Quickstart guide to FAPS"
   ]
  },
  {
   "cell_type": "markdown",
   "metadata": {},
   "source": [
    "Tom Ellis, May 2020."
   ]
  },
  {
   "cell_type": "markdown",
   "metadata": {},
   "source": [
    "If you are impatient to do an analyses as quickly as possible without reading the rest of the documentation, this page provides a minimal example. The work flow is as follows:\n",
    "\n",
    "1. Import marker data on offspring and parents\n",
    "2. Create a matrix of paternity of each individual offspring\n",
    "3. Cluster offspring into full sibships.\n",
    "4. ????\n",
    "5. Profit.\n",
    "\n",
    "It goes without saying that to understand what the code is doing and get the most out of the data, you should read the [tutorials](https://github.com/ellisztamas/faps#using-faps)."
   ]
  },
  {
   "cell_type": "markdown",
   "metadata": {},
   "source": [
    "Import the package."
   ]
  },
  {
   "cell_type": "code",
   "execution_count": 31,
   "metadata": {},
   "outputs": [],
   "source": [
    "import faps as fp\n",
    "import numpy as np"
   ]
  },
  {
   "cell_type": "markdown",
   "metadata": {},
   "source": [
    "Import genotype data. These are CSV files with:\n",
    "\n",
    "1. A column giving the name of each individual\n",
    "2. For the offspring, the second column gives the name of the known mother.\n",
    "3. Subsequent columns give genotype data for each marker, with column headers giving marker names."
   ]
  },
  {
   "cell_type": "code",
   "execution_count": 32,
   "metadata": {},
   "outputs": [],
   "source": [
    "adults  = fp.read_genotypes('../data/parents_2012_genotypes.csv', genotype_col=1)\n",
    "progeny = fp.read_genotypes('../data/offspring_2012_genotypes.csv', genotype_col=2, mothers_col=1)\n",
    "# Mothers are a subset of the adults.\n",
    "mothers = adults.subset(individuals=np.unique(progeny.mothers))"
   ]
  },
  {
   "cell_type": "markdown",
   "metadata": {},
   "source": [
    "In this example, the data are for multiple maternal families, each containing a mixture of full- and half-siblings. We need to divide the offspring and mothers into maternal families."
   ]
  },
  {
   "cell_type": "code",
   "execution_count": 33,
   "metadata": {},
   "outputs": [],
   "source": [
    "progeny = progeny.split(progeny.mothers)\n",
    "mothers = mothers.split(mothers.names)"
   ]
  },
  {
   "cell_type": "markdown",
   "metadata": {},
   "source": [
    "I expect that multiple maternal families will be the most common scenario, but if you happen to only have a sigle maternal family, you can skip this."
   ]
  },
  {
   "cell_type": "markdown",
   "metadata": {},
   "source": [
    "Calculate paternity of individuals. This is equivalent to the **G** matrix in [Ellis *et al* (2018)](https://doi.org/10.1111/1755-0998.12782)."
   ]
  },
  {
   "cell_type": "code",
   "execution_count": 34,
   "metadata": {},
   "outputs": [],
   "source": [
    "patlik = fp.paternity_array(progeny, mothers, adults, mu = 0.0015)"
   ]
  },
  {
   "cell_type": "markdown",
   "metadata": {},
   "source": [
    "Cluster offspring in each family into full-sibling families."
   ]
  },
  {
   "cell_type": "code",
   "execution_count": 14,
   "metadata": {},
   "outputs": [],
   "source": [
    "sibships = fp.sibship_clustering(patlik)"
   ]
  },
  {
   "cell_type": "markdown",
   "metadata": {},
   "source": [
    "You can pull out [various kinds of information](https://github.com/ellisztamas/faps/blob/master/docs/04%20Sibship%20clustering.ipynb) about the each clustered maternal family. For example, get the most-likely number of full-sib families in maternal family J1246."
   ]
  },
  {
   "cell_type": "code",
   "execution_count": 25,
   "metadata": {},
   "outputs": [
    {
     "data": {
      "text/plain": [
       "5.605375868371062"
      ]
     },
     "execution_count": 25,
     "metadata": {},
     "output_type": "execute_result"
    }
   ],
   "source": [
    "sibships[\"J1246\"].mean_nfamilies()"
   ]
  },
  {
   "cell_type": "markdown",
   "metadata": {},
   "source": [
    "Or do this for all families with a dict comprehension:"
   ]
  },
  {
   "cell_type": "code",
   "execution_count": 36,
   "metadata": {
    "collapsed": true
   },
   "outputs": [
    {
     "data": {
      "text/plain": [
       "{'J1246': 5.605375868371062,\n",
       " 'K0451': 12.679100830502975,\n",
       " 'K0632': 5.098186791267536,\n",
       " 'K0635': 6.222576977121563,\n",
       " 'K1768': 5.95279321064476,\n",
       " 'K1809': 12.317762689872342,\n",
       " 'K2036': 4.518681729473807,\n",
       " 'L0057': 18.53519892725761,\n",
       " 'L0221': 7.523719666781066,\n",
       " 'L0911': 21.579949302519644,\n",
       " 'L0935': 21.584456885870384,\n",
       " 'L1264': 10.973166572630031,\n",
       " 'L1847': 12.064523674941354,\n",
       " 'L1872': 9.048439399512647,\n",
       " 'L1882': 16.113027728381027,\n",
       " 'L1892': 7.147054942431994,\n",
       " 'M0002': 1.047888622290101,\n",
       " 'M0009': 23.11360020574565,\n",
       " 'M0018': 7.051482492713087,\n",
       " 'M0022': 7.450274317790799,\n",
       " 'M0025': 10.454372677003231,\n",
       " 'M0028': 4.239820497584428,\n",
       " 'M0034': 12.435549448178843,\n",
       " 'M0042': 6.088524327650887,\n",
       " 'M0043': 4.87419977417076,\n",
       " 'M0045': 6.000782412960964,\n",
       " 'M0047': 12.719548559166366,\n",
       " 'M0054': 18.984647576874096,\n",
       " 'M0069': 21.02305110499397,\n",
       " 'M0078': 23.42550345266462,\n",
       " 'M0130': 17.069045572015895,\n",
       " 'M0137': 15.029407573170278,\n",
       " 'M0202': 11.48844273728524,\n",
       " 'M0209': 8.819699122141314,\n",
       " 'M0210': 10.999293014192693,\n",
       " 'M0225': 7.045833239484286,\n",
       " 'M0238': 10.247537341131476,\n",
       " 'M0251': 9.39369696108596,\n",
       " 'M0254': 13.997079852966515,\n",
       " 'M0258': 9.828694751876757,\n",
       " 'M0259': 12.199493597014733,\n",
       " 'M0267': 13.999934870300056,\n",
       " 'M0283': 12.76441063459917,\n",
       " 'M0310': 7.9950925640201405,\n",
       " 'M0323': 10.031892269392502,\n",
       " 'M0329': 15.65033087966963,\n",
       " 'M0333': 15.988483638068129,\n",
       " 'M0344': 9.946009544142706,\n",
       " 'M0345': 20.309316369318616,\n",
       " 'M0484': 18.495245747794613,\n",
       " 'M0494': 8.05463069910333,\n",
       " 'M0773': 6.824167457325241,\n",
       " 'M0884': 28.620466685852023,\n",
       " 'M1000': 7.923972617146549,\n",
       " 'M1335': 19.898885496992698,\n",
       " 'M1454': 12.853870585838022,\n",
       " 'M1460': 7.055349431265118,\n",
       " 'M1463': 13.841229954609007,\n",
       " 'M1466': 23.197797611570273,\n",
       " 'M1846': 12.055278800405954}"
      ]
     },
     "execution_count": 36,
     "metadata": {},
     "output_type": "execute_result"
    }
   ],
   "source": [
    "{k: v.mean_nfamilies() for k,v in sibships.items()}"
   ]
  }
 ],
 "metadata": {
  "kernelspec": {
   "display_name": "Python 3",
   "language": "python",
   "name": "python3"
  },
  "language_info": {
   "codemirror_mode": {
    "name": "ipython",
    "version": 3
   },
   "file_extension": ".py",
   "mimetype": "text/x-python",
   "name": "python",
   "nbconvert_exporter": "python",
   "pygments_lexer": "ipython3",
   "version": "3.7.4"
  }
 },
 "nbformat": 4,
 "nbformat_minor": 2
}
