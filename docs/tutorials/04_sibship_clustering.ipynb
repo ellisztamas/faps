{
 "cells": [
  {
   "cell_type": "markdown",
   "metadata": {},
   "source": [
    "# Sibship clustering"
   ]
  },
  {
   "cell_type": "markdown",
   "metadata": {},
   "source": [
    "Tom Ellis, March 2017, updated June 2020"
   ]
  },
  {
   "cell_type": "code",
   "execution_count": 34,
   "metadata": {},
   "outputs": [
    {
     "name": "stdout",
     "output_type": "stream",
     "text": [
      "Created using FAPS version 2.6.6.\n"
     ]
    }
   ],
   "source": [
    "import faps as fp\n",
    "import numpy as np\n",
    "import pandas as pd\n",
    "\n",
    "print(\"Created using FAPS version {}.\".format(fp.__version__))\n"
   ]
  },
  {
   "cell_type": "markdown",
   "metadata": {},
   "source": [
    "FAPS uses information in a `paternityArray` to generate plausible full-sibship configurations. This information is stored as a `sibshipCluster` object, and is the basis for almost all inference about biological processes in FAPS.\n",
    "\n",
    "This notebook will examine how to:\n",
    "\n",
    "1. Use a `paternityArray` to cluster offspring into plausible full-sibships.\n",
    "2. Compare the relative support for different partitions structures\n",
    "3. Make some basic inferences about the size and number of full sibships, and who is related to whom.\n",
    "\n",
    "Note that this tutorial only deals with the case where you have a single maternal family. If you have multiple families, you can apply what is here to each one, but you'll have to iterate over those families. See the specific [tutorial](https://fractional-analysis-of-paternity-and-sibships.readthedocs.io/en/latest/tutorials/07_dealing_with_multiple_half-sib_families.html) on that."
   ]
  },
  {
   "cell_type": "markdown",
   "metadata": {},
   "source": [
    "## Generating a `sibshipCluster` object"
   ]
  },
  {
   "cell_type": "markdown",
   "metadata": {},
   "source": [
    "We will begin by generating a population of 100 adults with 50 loci."
   ]
  },
  {
   "cell_type": "code",
   "execution_count": 3,
   "metadata": {},
   "outputs": [],
   "source": [
    "np.random.seed(867)\n",
    "allele_freqs = np.random.uniform(0.3,0.5,50)\n",
    "adults = fp.make_parents(100, allele_freqs, family_name='a')"
   ]
  },
  {
   "cell_type": "markdown",
   "metadata": {},
   "source": [
    "We take the first individal as the mother and mate her to four males, to create three full sibships of five offspring. We then generate a `paternityArray` based on the genotype data."
   ]
  },
  {
   "cell_type": "code",
   "execution_count": 4,
   "metadata": {},
   "outputs": [],
   "source": [
    "progeny = fp.make_sibships(adults, 0, [1,2,3], 5, 'x')\n",
    "mothers = adults.subset(progeny.mothers)\n",
    "patlik  = fp.paternity_array(progeny, mothers, adults, mu = 0.0015, missing_parents=0.01)"
   ]
  },
  {
   "cell_type": "markdown",
   "metadata": {},
   "source": [
    "It is straightforward to cluster offspring into full sibships. For now we'll stick with the default number of Monte Carlo draws."
   ]
  },
  {
   "cell_type": "code",
   "execution_count": 5,
   "metadata": {},
   "outputs": [],
   "source": [
    "sc = fp.sibship_clustering(patlik)"
   ]
  },
  {
   "cell_type": "markdown",
   "metadata": {},
   "source": [
    "The default number of Monte Carlo draws is 1000, which seems to work in most cases. I have dropped it to 100 in cases where I wanted to call `sibship_clustering` many times, such as in an MCMC loop, when finding every possible candidate wasn't a priority. You could also use more draws if you really wanted to be sure you had completely sampled the space of compatible candidate fathers. Speeds are unlikely to increase linearly with number of draws:"
   ]
  },
  {
   "cell_type": "code",
   "execution_count": 6,
   "metadata": {},
   "outputs": [
    {
     "name": "stdout",
     "output_type": "stream",
     "text": [
      "17.5 ms ± 1.43 ms per loop (mean ± std. dev. of 7 runs, 10 loops each)\n",
      "35.5 ms ± 2.02 ms per loop (mean ± std. dev. of 7 runs, 10 loops each)\n",
      "312 ms ± 2.31 ms per loop (mean ± std. dev. of 7 runs, 1 loop each)\n"
     ]
    }
   ],
   "source": [
    "%timeit fp.sibship_clustering(patlik, ndraws=100)\n",
    "%timeit fp.sibship_clustering(patlik, ndraws=1000)\n",
    "%timeit fp.sibship_clustering(patlik, ndraws=10000)"
   ]
  },
  {
   "cell_type": "markdown",
   "metadata": {},
   "source": [
    "We discussed this in figure 5 of the FAPS paper should you be interested in more on this."
   ]
  },
  {
   "cell_type": "markdown",
   "metadata": {},
   "source": [
    "## Sibling relationships"
   ]
  },
  {
   "cell_type": "markdown",
   "metadata": {},
   "source": [
    "Sibship clustering calculates likelihoods that each pair of offspring are full siblings, then builds a dendrogram from this. We can visualise this dendrogram if we so wish, although the output is not pretty."
   ]
  },
  {
   "cell_type": "code",
   "execution_count": 7,
   "metadata": {},
   "outputs": [
    {
     "data": {
      "image/png": "[encoded data removed]",
      "text/plain": [
       "<Figure size 640x480 with 1 Axes>"
      ]
     },
     "metadata": {},
     "output_type": "display_data"
    }
   ],
   "source": [
    "from scipy.cluster.hierarchy import dendrogram\n",
    "import matplotlib.pyplot as plt\n",
    "\n",
    "dendrogram(sc.linkage_matrix)\n",
    "plt.show()"
   ]
  },
  {
   "cell_type": "markdown",
   "metadata": {},
   "source": [
    "Offspring individuals are labelled by their *index* in the array. Since full sibships are of size five we should expect to see clusters of {0,1,2,3,4}, {5,6,7,8,9} and {10,11,12,13,14}. This is indeed what we do see. What is difficult to see on the dendrogram are the branches connecting full siblings at the very bottom of the plot. If we bisect this dendrogram at different places on the y-axis we can infer different ways to partition the offspring into full siblings."
   ]
  },
  {
   "cell_type": "markdown",
   "metadata": {},
   "source": [
    "`sc` is an object of class `sibshipCluster` that contains various information about the array. Of primary interest are the set of partition structures inferred from the dendrogram. There are sixteen partitions - one for each individual in the array (i.e. one for each bifurcation in the dendrogram)."
   ]
  },
  {
   "cell_type": "code",
   "execution_count": 8,
   "metadata": {},
   "outputs": [
    {
     "data": {
      "text/plain": [
       "array([[ 1,  1,  1,  1,  1,  1,  1,  1,  1,  1,  1,  1,  1,  1,  1],\n",
       "       [ 2,  2,  2,  2,  2,  2,  2,  2,  2,  2,  1,  1,  1,  1,  1],\n",
       "       [ 2,  2,  2,  2,  2,  3,  3,  3,  3,  3,  1,  1,  1,  1,  1],\n",
       "       [ 3,  3,  3,  3,  3,  4,  4,  4,  4,  4,  1,  2,  1,  1,  1],\n",
       "       [ 3,  3,  3,  3,  3,  4,  4,  4,  5,  4,  1,  2,  1,  1,  1],\n",
       "       [ 3,  3,  4,  3,  3,  5,  5,  5,  6,  5,  1,  2,  1,  1,  1],\n",
       "       [ 3,  3,  4,  3,  3,  5,  5,  5,  7,  6,  1,  2,  1,  1,  1],\n",
       "       [ 3,  3,  4,  3,  3,  5,  5,  6,  8,  7,  1,  2,  1,  1,  1],\n",
       "       [ 3,  4,  5,  3,  3,  6,  6,  7,  9,  8,  1,  2,  1,  1,  1],\n",
       "       [ 3,  5,  6,  4,  3,  7,  7,  8, 10,  9,  1,  2,  1,  1,  1],\n",
       "       [ 4,  6,  7,  5,  4,  8,  8,  9, 11, 10,  2,  3,  1,  1,  1],\n",
       "       [ 4,  7,  8,  6,  5,  9, 10, 11, 13, 12,  2,  3,  1,  1,  1],\n",
       "       [ 5,  8,  9,  7,  6, 10, 11, 12, 14, 13,  3,  4,  1,  1,  2],\n",
       "       [ 6,  9, 10,  8,  7, 11, 12, 13, 15, 14,  4,  5,  1,  2,  3]],\n",
       "      dtype=int32)"
      ]
     },
     "execution_count": 8,
     "metadata": {},
     "output_type": "execute_result"
    }
   ],
   "source": [
    "sc.partitions"
   ]
  },
  {
   "cell_type": "markdown",
   "metadata": {},
   "source": [
    "What is key about partition structures is that each symbol represents a *unique but arbitrary* family identifier. For example in the third row we see the true partition structure, with individuals grouped into three groups of five individuals."
   ]
  },
  {
   "cell_type": "code",
   "execution_count": 9,
   "metadata": {},
   "outputs": [
    {
     "data": {
      "text/plain": [
       "array([2, 2, 2, 2, 2, 3, 3, 3, 3, 3, 1, 1, 1, 1, 1], dtype=int32)"
      ]
     },
     "execution_count": 9,
     "metadata": {},
     "output_type": "execute_result"
    }
   ],
   "source": [
    "sc.partitions[2]"
   ]
  },
  {
   "cell_type": "markdown",
   "metadata": {},
   "source": [
    "Beyond denoting who is in a family with whom, the labels are arbitrary, with no meaningful order. This partition would be identical to `[0,0,0,0,0,1,1,1,1,1,2,2,2,2,2]` or `[10,10,10,10,10,7,7,7,7,7,22,22,22,22,22]` for example."
   ]
  },
  {
   "cell_type": "markdown",
   "metadata": {},
   "source": [
    "Each partition is associated with a log likelihood and equivalent log probability. We can see from both scores that the third partition is most consistent with the data. This is of course the true partition."
   ]
  },
  {
   "cell_type": "code",
   "execution_count": 10,
   "metadata": {},
   "outputs": [
    {
     "name": "stdout",
     "output_type": "stream",
     "text": [
      "[-4.71859462e+02 -3.07811673e+02 -1.54187774e-12            -inf\n",
      "            -inf            -inf            -inf            -inf\n",
      "            -inf            -inf            -inf            -inf\n",
      "            -inf            -inf]\n",
      "[1.18587580e-205 2.08491863e-134 1.00000000e+000 0.00000000e+000\n",
      " 0.00000000e+000 0.00000000e+000 0.00000000e+000 0.00000000e+000\n",
      " 0.00000000e+000 0.00000000e+000 0.00000000e+000 0.00000000e+000\n",
      " 0.00000000e+000 0.00000000e+000]\n"
     ]
    }
   ],
   "source": [
    "print(sc.lik_partitions) # log likelihood of each partition\n",
    "print(np.exp(sc.prob_partitions)) # probabilities of each partition"
   ]
  },
  {
   "cell_type": "markdown",
   "metadata": {},
   "source": [
    "We also see that the first and second partitions have non-zero, but small likelihoods. Parititons 5-8 have negative infinity log likelihood - they are incompatible with the data. These partitions split up true full siblings, and there is no way to reconcile this with the data. In real world situations such partitions might have non-zero likelihoods if they were an unrelated candidate male compatible with one or more offspring through chance alone."
   ]
  },
  {
   "cell_type": "markdown",
   "metadata": {},
   "source": [
    "In some cases there can be rounding error when log probabilities are exponentiated and probabilities do not sum to one. This is classic machine error, and the reason it is good to work with log values wherever possible. We can check:"
   ]
  },
  {
   "cell_type": "code",
   "execution_count": 11,
   "metadata": {},
   "outputs": [
    {
     "data": {
      "text/plain": [
       "1.0"
      ]
     },
     "execution_count": 11,
     "metadata": {},
     "output_type": "execute_result"
    }
   ],
   "source": [
    "np.exp(sc.prob_partitions).sum()"
   ]
  },
  {
   "cell_type": "markdown",
   "metadata": {},
   "source": [
    "You can directly call the most likely partition. This is somewhat against the spirit of fractional analyses though..."
   ]
  },
  {
   "cell_type": "code",
   "execution_count": 12,
   "metadata": {},
   "outputs": [
    {
     "data": {
      "text/plain": [
       "array([2, 2, 2, 2, 2, 3, 3, 3, 3, 3, 1, 1, 1, 1, 1], dtype=int32)"
      ]
     },
     "execution_count": 12,
     "metadata": {},
     "output_type": "execute_result"
    }
   ],
   "source": [
    "sc.mlpartition"
   ]
  },
  {
   "cell_type": "markdown",
   "metadata": {},
   "source": [
    "For information about fine scale relationships, `sc.full_sib_matrix()` returns an $n*n$ matrix, where $n$ is the number of offspring. Each element describes the (log) probability that a pair of individuals are full siblings, averaged over partition structures and paternity configurations. If we plot this using a heatmap you can clearly see the five full sibships jump out as blocks of yellow (>90% probability of being full siblings) against a sea of purple (near zero probability of being full siblings)."
   ]
  },
  {
   "cell_type": "code",
   "execution_count": 13,
   "metadata": {},
   "outputs": [
    {
     "data": {
      "image/png": "[encoded data removed]",
      "text/plain": [
       "<Figure size 640x480 with 2 Axes>"
      ]
     },
     "metadata": {},
     "output_type": "display_data"
    }
   ],
   "source": [
    "sibmat = sc.full_sib_matrix()\n",
    "plt.pcolor(np.exp(sibmat))\n",
    "plt.colorbar()\n",
    "plt.show()"
   ]
  },
  {
   "cell_type": "markdown",
   "metadata": {},
   "source": [
    "Note that real datasets seldom look this tidy!"
   ]
  },
  {
   "cell_type": "markdown",
   "metadata": {},
   "source": [
    "## Inferring family structure"
   ]
  },
  {
   "cell_type": "markdown",
   "metadata": {},
   "source": [
    "For this section we will simulate a slightly more interesting family structure. This block of code creates a half-sib array of 15 offspring from five fathers, where each father contributes five, four, three, two and one offspring respectively. It then performs sibship clustering on the array. We use 1000 candidate males and 50 loci."
   ]
  },
  {
   "cell_type": "code",
   "execution_count": 14,
   "metadata": {},
   "outputs": [],
   "source": [
    "# Lists indexing sires and dams\n",
    "sires = [1]*5 + [2]*4 + [3]*3 + [4]*2 +[5]*1\n",
    "dam   = [0] * len(sires)\n",
    "\n",
    "np.random.seed(542)\n",
    "allele_freqs = np.random.uniform(0.3,0.5,30)\n",
    "adults  = fp.make_parents(1000, allele_freqs, family_name='a')\n",
    "progeny = fp.make_offspring(adults, dam_list=dam, sire_list=sires)\n",
    "mothers = adults.subset(progeny.mothers)\n",
    "\n",
    "patlik  = fp.paternity_array(progeny, mothers, adults, mu= 0.0015, missing_parents=0.01)\n",
    "sc = fp.sibship_clustering(patlik)"
   ]
  },
  {
   "cell_type": "markdown",
   "metadata": {},
   "source": [
    "### Number of families"
   ]
  },
  {
   "cell_type": "markdown",
   "metadata": {},
   "source": [
    "We saw before that we could call a list of valid partitions for `sc` using `sc.partitions`. The output is not terribly enlightening on its own, however. We could instead ask how probable it is that there are *x* full sibships in the array, integrating over all partition structures. Here each number is the probability that there are 1, 2, ..., 15 families."
   ]
  },
  {
   "cell_type": "code",
   "execution_count": 15,
   "metadata": {},
   "outputs": [
    {
     "data": {
      "text/plain": [
       "array([9.34086609e-146, 3.27492546e-105, 1.31380725e-086, 3.81521349e-035,\n",
       "       7.66449138e-001, 2.09575936e-001, 2.36188753e-002, 3.35259124e-004,\n",
       "       2.07912635e-005, 0.00000000e+000, 0.00000000e+000, 0.00000000e+000,\n",
       "       0.00000000e+000, 0.00000000e+000, 0.00000000e+000])"
      ]
     },
     "execution_count": 15,
     "metadata": {},
     "output_type": "execute_result"
    }
   ],
   "source": [
    "sc.nfamilies()"
   ]
  },
  {
   "cell_type": "markdown",
   "metadata": {},
   "source": [
    "We could show the same information graphically. Its clear that almost all the probability denisty is around $x=5$ families."
   ]
  },
  {
   "cell_type": "code",
   "execution_count": 16,
   "metadata": {},
   "outputs": [
    {
     "data": {
      "image/png": "[encoded data removed]",
      "text/plain": [
       "<Figure size 432x288 with 1 Axes>"
      ]
     },
     "metadata": {
      "needs_background": "light"
     },
     "output_type": "display_data"
    }
   ],
   "source": [
    "%matplotlib inline\n",
    "import matplotlib.pyplot as plt\n",
    "\n",
    "fig = plt.figure()\n",
    "ax = fig.add_subplot(111)\n",
    "#ax.bar(np.arange(0.5, len(sc.nfamilies())+0.5), sc.nfamilies())\n",
    "ax.bar(np.arange(1,16), sc.nfamilies())\n",
    "ax.set_xlabel('Number of full sibships')\n",
    "ax.set_ylabel('Posterior probability')\n",
    "plt.show()"
   ]
  },
  {
   "cell_type": "markdown",
   "metadata": {},
   "source": [
    "### Family size"
   ]
  },
  {
   "cell_type": "markdown",
   "metadata": {},
   "source": [
    "We can also get the distribution of family sizes within the array, averaged over all partitions. This returns a vector of the same length as the number of offspring in the array. `family_size` returns the posterior probability of observing one or more families of size 1, 2, ... , 15. It will be clear that we are unable to distinguish a single sibship with high probability from multiple families of the same size, each with low probability; this is the price we pay for being able to integrate out uncertainty in partition structure."
   ]
  },
  {
   "cell_type": "code",
   "execution_count": 17,
   "metadata": {},
   "outputs": [
    {
     "data": {
      "text/plain": [
       "array([2.33452339e-001, 1.95053525e-001, 1.88263368e-001, 2.29940941e-001,\n",
       "       1.53289828e-001, 0.00000000e+000, 0.00000000e+000, 0.00000000e+000,\n",
       "       4.37935750e-087, 0.00000000e+000, 1.63746273e-105, 0.00000000e+000,\n",
       "       0.00000000e+000, 0.00000000e+000, 9.34086609e-146])"
      ]
     },
     "execution_count": 17,
     "metadata": {},
     "output_type": "execute_result"
    }
   ],
   "source": [
    "sc.family_size()"
   ]
  },
  {
   "cell_type": "markdown",
   "metadata": {},
   "source": [
    "Plotting this shows that we are roughly equally likely to observe a family of sizes one, two, three, four and five. "
   ]
  },
  {
   "cell_type": "code",
   "execution_count": 18,
   "metadata": {},
   "outputs": [
    {
     "data": {
      "image/png": "[encoded data removed]",
      "text/plain": [
       "<Figure size 432x288 with 1 Axes>"
      ]
     },
     "metadata": {
      "needs_background": "light"
     },
     "output_type": "display_data"
    }
   ],
   "source": [
    "fig = plt.figure()\n",
    "ax = fig.add_subplot(111)\n",
    "ax.bar(np.arange(len(sires))+0.5, sc.family_size())\n",
    "\n",
    "plt.show()"
   ]
  },
  {
   "cell_type": "markdown",
   "metadata": {},
   "source": [
    "## Identifying fathers"
   ]
  },
  {
   "cell_type": "markdown",
   "metadata": {},
   "source": [
    "In the section on [paternityArray objects](https://fractional-analysis-of-paternity-and-sibships.readthedocs.io/en/latest/tutorials/03_paternity_arrays.html#paternityarray-structure) we used the method `prob_array()` to create an matrix of probabilities that each candidate is the father of each offspring, or that the father was missing from a `paternityArray` object. That was based only on comparing alleles shared between the mother, the candidate father and individual offspring.\n",
    "\n",
    "We can get a similar matrix of probabilities of paternity after accounting for information about paternity that is shared between siblings by calling `posterior_paternity_matrix` on the `sibshipCluster` object `sc`. For example, father 'a_1' is the true sire of the furst five individuals in this toy dataset. We can compare his probabilities of paternity for his real offspring to the other unrelated progeny. We see that there is an increase in support for him as the father of the first five individuals after accounting for information shared between siblings, and a decrease for the other progeny."
   ]
  },
  {
   "cell_type": "code",
   "execution_count": 43,
   "metadata": {},
   "outputs": [
    {
     "data": {
      "text/html": [
       "<div>\n",
       "<style scoped>\n",
       "    .dataframe tbody tr th:only-of-type {\n",
       "        vertical-align: middle;\n",
       "    }\n",
       "\n",
       "    .dataframe tbody tr th {\n",
       "        vertical-align: top;\n",
       "    }\n",
       "\n",
       "    .dataframe thead th {\n",
       "        text-align: right;\n",
       "    }\n",
       "</style>\n",
       "<table border=\"1\" class=\"dataframe\">\n",
       "  <thead>\n",
       "    <tr style=\"text-align: right;\">\n",
       "      <th></th>\n",
       "      <th>Before clustering</th>\n",
       "      <th>After clustering</th>\n",
       "    </tr>\n",
       "  </thead>\n",
       "  <tbody>\n",
       "    <tr>\n",
       "      <th>0</th>\n",
       "      <td>8.842832e-01</td>\n",
       "      <td>1.000000e+00</td>\n",
       "    </tr>\n",
       "    <tr>\n",
       "      <th>1</th>\n",
       "      <td>1.000000e+00</td>\n",
       "      <td>1.000000e+00</td>\n",
       "    </tr>\n",
       "    <tr>\n",
       "      <th>2</th>\n",
       "      <td>8.630426e-01</td>\n",
       "      <td>9.999512e-01</td>\n",
       "    </tr>\n",
       "    <tr>\n",
       "      <th>3</th>\n",
       "      <td>9.696970e-01</td>\n",
       "      <td>1.000000e+00</td>\n",
       "    </tr>\n",
       "    <tr>\n",
       "      <th>4</th>\n",
       "      <td>7.852761e-01</td>\n",
       "      <td>9.498510e-01</td>\n",
       "    </tr>\n",
       "    <tr>\n",
       "      <th>5</th>\n",
       "      <td>3.906250e-72</td>\n",
       "      <td>4.088879e-273</td>\n",
       "    </tr>\n",
       "    <tr>\n",
       "      <th>6</th>\n",
       "      <td>1.367187e-83</td>\n",
       "      <td>4.088879e-273</td>\n",
       "    </tr>\n",
       "    <tr>\n",
       "      <th>7</th>\n",
       "      <td>8.750000e-60</td>\n",
       "      <td>4.088879e-273</td>\n",
       "    </tr>\n",
       "    <tr>\n",
       "      <th>8</th>\n",
       "      <td>8.750000e-60</td>\n",
       "      <td>4.088879e-273</td>\n",
       "    </tr>\n",
       "    <tr>\n",
       "      <th>9</th>\n",
       "      <td>1.070804e-83</td>\n",
       "      <td>2.226337e-88</td>\n",
       "    </tr>\n",
       "    <tr>\n",
       "      <th>10</th>\n",
       "      <td>7.567568e-83</td>\n",
       "      <td>1.814319e-84</td>\n",
       "    </tr>\n",
       "    <tr>\n",
       "      <th>11</th>\n",
       "      <td>1.296296e-71</td>\n",
       "      <td>2.695164e-76</td>\n",
       "    </tr>\n",
       "    <tr>\n",
       "      <th>12</th>\n",
       "      <td>1.869202e-72</td>\n",
       "      <td>7.826369e-132</td>\n",
       "    </tr>\n",
       "    <tr>\n",
       "      <th>13</th>\n",
       "      <td>3.926282e-60</td>\n",
       "      <td>7.826369e-132</td>\n",
       "    </tr>\n",
       "    <tr>\n",
       "      <th>14</th>\n",
       "      <td>1.361111e-82</td>\n",
       "      <td>1.361111e-82</td>\n",
       "    </tr>\n",
       "  </tbody>\n",
       "</table>\n",
       "</div>"
      ],
      "text/plain": [
       "    Before clustering  After clustering\n",
       "0        8.842832e-01      1.000000e+00\n",
       "1        1.000000e+00      1.000000e+00\n",
       "2        8.630426e-01      9.999512e-01\n",
       "3        9.696970e-01      1.000000e+00\n",
       "4        7.852761e-01      9.498510e-01\n",
       "5        3.906250e-72     4.088879e-273\n",
       "6        1.367187e-83     4.088879e-273\n",
       "7        8.750000e-60     4.088879e-273\n",
       "8        8.750000e-60     4.088879e-273\n",
       "9        1.070804e-83      2.226337e-88\n",
       "10       7.567568e-83      1.814319e-84\n",
       "11       1.296296e-71      2.695164e-76\n",
       "12       1.869202e-72     7.826369e-132\n",
       "13       3.926282e-60     7.826369e-132\n",
       "14       1.361111e-82      1.361111e-82"
      ]
     },
     "execution_count": 43,
     "metadata": {},
     "output_type": "execute_result"
    }
   ],
   "source": [
    "np.exp(\n",
    "    pd.DataFrame({\n",
    "        \"Before clustering\" : patlik.prob_array()[:, 1],\n",
    "        \"After clustering\"  : sc.posterior_paternity_matrix()[:, 1]\n",
    "    })\n",
    ")"
   ]
  },
  {
   "cell_type": "markdown",
   "metadata": {},
   "source": [
    "Since `posterior_paternity_matrix` returns a matrix, some wrangling is required to get the output into a format that is useful for a human to read. The following sections describe two helper functions that use `posterior_paternity_matrix` to create (1) a summary of probable mating events and (2) a summary of the paternity of each offspring."
   ]
  },
  {
   "cell_type": "markdown",
   "metadata": {},
   "source": [
    "### Mating events"
   ]
  },
  {
   "cell_type": "markdown",
   "metadata": {},
   "source": [
    "We very frequently want to know who the fathers of the offspring were to say something about mating events. There are several levels of complexity. Firstly, you can use the `sires` method to return a list of all the males who could possibly have mated with the mother. This is essentially identifying **mating events**, but doesn't say anything about the paternity of individual offspring. For many applications, that may be all you need because it's the mating events that are the unit of interest, not the number of offspring per se.\n",
    "\n",
    "Once you have a `sibshipCluster` object, doing this is easy:"
   ]
  },
  {
   "cell_type": "code",
   "execution_count": 18,
   "metadata": {},
   "outputs": [
    {
     "data": {
      "text/html": [
       "<div>\n",
       "<style scoped>\n",
       "    .dataframe tbody tr th:only-of-type {\n",
       "        vertical-align: middle;\n",
       "    }\n",
       "\n",
       "    .dataframe tbody tr th {\n",
       "        vertical-align: top;\n",
       "    }\n",
       "\n",
       "    .dataframe thead th {\n",
       "        text-align: right;\n",
       "    }\n",
       "</style>\n",
       "<table border=\"1\" class=\"dataframe\">\n",
       "  <thead>\n",
       "    <tr style=\"text-align: right;\">\n",
       "      <th></th>\n",
       "      <th>position</th>\n",
       "      <th>label</th>\n",
       "      <th>log_prob</th>\n",
       "      <th>prob</th>\n",
       "      <th>offspring</th>\n",
       "    </tr>\n",
       "  </thead>\n",
       "  <tbody>\n",
       "    <tr>\n",
       "      <th>0</th>\n",
       "      <td>1</td>\n",
       "      <td>a_1</td>\n",
       "      <td>0.000000e+00</td>\n",
       "      <td>1.000000e+00</td>\n",
       "      <td>4.949802e+00</td>\n",
       "    </tr>\n",
       "    <tr>\n",
       "      <th>1</th>\n",
       "      <td>2</td>\n",
       "      <td>a_2</td>\n",
       "      <td>0.000000e+00</td>\n",
       "      <td>1.000000e+00</td>\n",
       "      <td>4.000000e+00</td>\n",
       "    </tr>\n",
       "    <tr>\n",
       "      <th>2</th>\n",
       "      <td>3</td>\n",
       "      <td>a_3</td>\n",
       "      <td>0.000000e+00</td>\n",
       "      <td>1.000000e+00</td>\n",
       "      <td>2.996754e+00</td>\n",
       "    </tr>\n",
       "    <tr>\n",
       "      <th>3</th>\n",
       "      <td>4</td>\n",
       "      <td>a_4</td>\n",
       "      <td>-1.110223e-16</td>\n",
       "      <td>1.000000e+00</td>\n",
       "      <td>2.000000e+00</td>\n",
       "    </tr>\n",
       "    <tr>\n",
       "      <th>4</th>\n",
       "      <td>5</td>\n",
       "      <td>a_5</td>\n",
       "      <td>-1.151638e-01</td>\n",
       "      <td>8.912201e-01</td>\n",
       "      <td>8.888889e-01</td>\n",
       "    </tr>\n",
       "    <tr>\n",
       "      <th>5</th>\n",
       "      <td>87</td>\n",
       "      <td>a_87</td>\n",
       "      <td>-2.218429e+00</td>\n",
       "      <td>1.087799e-01</td>\n",
       "      <td>1.111111e-01</td>\n",
       "    </tr>\n",
       "    <tr>\n",
       "      <th>6</th>\n",
       "      <td>152</td>\n",
       "      <td>a_152</td>\n",
       "      <td>-1.078098e+01</td>\n",
       "      <td>2.079126e-05</td>\n",
       "      <td>1.163148e-06</td>\n",
       "    </tr>\n",
       "    <tr>\n",
       "      <th>7</th>\n",
       "      <td>254</td>\n",
       "      <td>a_254</td>\n",
       "      <td>-2.209107e+00</td>\n",
       "      <td>1.097987e-01</td>\n",
       "      <td>2.292585e-02</td>\n",
       "    </tr>\n",
       "    <tr>\n",
       "      <th>8</th>\n",
       "      <td>257</td>\n",
       "      <td>a_257</td>\n",
       "      <td>-3.677553e+00</td>\n",
       "      <td>2.528478e-02</td>\n",
       "      <td>5.731309e-03</td>\n",
       "    </tr>\n",
       "    <tr>\n",
       "      <th>9</th>\n",
       "      <td>376</td>\n",
       "      <td>a_376</td>\n",
       "      <td>-2.908523e+00</td>\n",
       "      <td>5.455628e-02</td>\n",
       "      <td>1.146262e-02</td>\n",
       "    </tr>\n",
       "    <tr>\n",
       "      <th>10</th>\n",
       "      <td>388</td>\n",
       "      <td>a_388</td>\n",
       "      <td>-3.677656e+00</td>\n",
       "      <td>2.528218e-02</td>\n",
       "      <td>5.731309e-03</td>\n",
       "    </tr>\n",
       "    <tr>\n",
       "      <th>11</th>\n",
       "      <td>631</td>\n",
       "      <td>a_631</td>\n",
       "      <td>-5.118017e+00</td>\n",
       "      <td>5.987884e-03</td>\n",
       "      <td>1.432977e-03</td>\n",
       "    </tr>\n",
       "    <tr>\n",
       "      <th>12</th>\n",
       "      <td>639</td>\n",
       "      <td>a_639</td>\n",
       "      <td>-4.750292e+00</td>\n",
       "      <td>8.649166e-03</td>\n",
       "      <td>1.295942e-03</td>\n",
       "    </tr>\n",
       "    <tr>\n",
       "      <th>13</th>\n",
       "      <td>668</td>\n",
       "      <td>a_668</td>\n",
       "      <td>-7.947764e+00</td>\n",
       "      <td>3.534515e-04</td>\n",
       "      <td>3.841083e-05</td>\n",
       "    </tr>\n",
       "    <tr>\n",
       "      <th>14</th>\n",
       "      <td>680</td>\n",
       "      <td>a_680</td>\n",
       "      <td>-4.542409e+00</td>\n",
       "      <td>1.064773e-02</td>\n",
       "      <td>1.295942e-03</td>\n",
       "    </tr>\n",
       "    <tr>\n",
       "      <th>15</th>\n",
       "      <td>693</td>\n",
       "      <td>a_693</td>\n",
       "      <td>-4.370803e+00</td>\n",
       "      <td>1.264109e-02</td>\n",
       "      <td>2.865655e-03</td>\n",
       "    </tr>\n",
       "    <tr>\n",
       "      <th>16</th>\n",
       "      <td>852</td>\n",
       "      <td>a_852</td>\n",
       "      <td>-1.286042e+01</td>\n",
       "      <td>2.598908e-06</td>\n",
       "      <td>6.001692e-07</td>\n",
       "    </tr>\n",
       "    <tr>\n",
       "      <th>17</th>\n",
       "      <td>963</td>\n",
       "      <td>a_963</td>\n",
       "      <td>-5.364877e+00</td>\n",
       "      <td>4.678034e-03</td>\n",
       "      <td>6.479710e-04</td>\n",
       "    </tr>\n",
       "    <tr>\n",
       "      <th>18</th>\n",
       "      <td>1000</td>\n",
       "      <td>nan</td>\n",
       "      <td>-1.977494e+02</td>\n",
       "      <td>1.313807e-86</td>\n",
       "      <td>2.826406e-10</td>\n",
       "    </tr>\n",
       "  </tbody>\n",
       "</table>\n",
       "</div>"
      ],
      "text/plain": [
       "    position  label      log_prob          prob     offspring\n",
       "0          1    a_1  0.000000e+00  1.000000e+00  4.949802e+00\n",
       "1          2    a_2  0.000000e+00  1.000000e+00  4.000000e+00\n",
       "2          3    a_3  0.000000e+00  1.000000e+00  2.996754e+00\n",
       "3          4    a_4 -1.110223e-16  1.000000e+00  2.000000e+00\n",
       "4          5    a_5 -1.151638e-01  8.912201e-01  8.888889e-01\n",
       "5         87   a_87 -2.218429e+00  1.087799e-01  1.111111e-01\n",
       "6        152  a_152 -1.078098e+01  2.079126e-05  1.163148e-06\n",
       "7        254  a_254 -2.209107e+00  1.097987e-01  2.292585e-02\n",
       "8        257  a_257 -3.677553e+00  2.528478e-02  5.731309e-03\n",
       "9        376  a_376 -2.908523e+00  5.455628e-02  1.146262e-02\n",
       "10       388  a_388 -3.677656e+00  2.528218e-02  5.731309e-03\n",
       "11       631  a_631 -5.118017e+00  5.987884e-03  1.432977e-03\n",
       "12       639  a_639 -4.750292e+00  8.649166e-03  1.295942e-03\n",
       "13       668  a_668 -7.947764e+00  3.534515e-04  3.841083e-05\n",
       "14       680  a_680 -4.542409e+00  1.064773e-02  1.295942e-03\n",
       "15       693  a_693 -4.370803e+00  1.264109e-02  2.865655e-03\n",
       "16       852  a_852 -1.286042e+01  2.598908e-06  6.001692e-07\n",
       "17       963  a_963 -5.364877e+00  4.678034e-03  6.479710e-04\n",
       "18      1000    nan -1.977494e+02  1.313807e-86  2.826406e-10"
      ]
     },
     "execution_count": 18,
     "metadata": {},
     "output_type": "execute_result"
    }
   ],
   "source": [
    "sc.sires()"
   ]
  },
  {
   "cell_type": "markdown",
   "metadata": {},
   "source": [
    "The columns in the output tell you several bits of information. The most interesting of these are:\n",
    "\n",
    "1. **label** is the name of the candidate father\n",
    "2. **prob** is the probability that the male sired at least one offspring with the mother, as a weighted average over partition structures. For example, \n",
    "3. **offspring** shows the expected number of offspring sired by the male, as a weighted average over partition structures. Specifically, it's the sum over rows from `posterior_paternity_matrix`; see below.\n",
    "\n",
    "Note that if you have multiple maternal families the output will look a bit different. See the [tutorial on multiple maternal families](https://fractional-analysis-of-paternity-and-sibships.readthedocs.io/en/latest/tutorials/07_dealing_with_multiple_half-sib_families.html#clustering-multiple-families) for more.\n",
    "\n",
    "We can check this table makes sense by reviewing who the real fathers really are. This snippet gives a list of the names of the five true fathers, followed by the number of offspring sired by each."
   ]
  },
  {
   "cell_type": "code",
   "execution_count": 19,
   "metadata": {},
   "outputs": [
    {
     "data": {
      "text/plain": [
       "(array(['a_1', 'a_2', 'a_3', 'a_4', 'a_5'], dtype='<U5'),\n",
       " array([5, 4, 3, 2, 1]))"
      ]
     },
     "execution_count": 19,
     "metadata": {},
     "output_type": "execute_result"
    }
   ],
   "source": [
    "np.unique(patlik.fathers, return_counts=True)"
   ]
  },
  {
   "cell_type": "markdown",
   "metadata": {},
   "source": [
    "The first five rows of the table above show that these fathers have posterior probabilities of paternity of one or close to one, and seem to have sired the correct numbers of offspring each. Of note is that although a_1 to a_4 have posterior probabilities of exactly one, the posterior probability for a_5 is slightly less than one. This is because the first four fathers sired multiple offspring, and there is shared information between siblings about the father, but this is not the case for father a_5.\n",
    "\n",
    "After the true fathers there are a long list of extra candidates with very low posterior probabilities of paternity. In this case we know they are not true fathers, but in real life we would not, and we would like to account for this uncertainty. "
   ]
  },
  {
   "cell_type": "markdown",
   "metadata": {},
   "source": [
    "### Paternity of individuals"
   ]
  },
  {
   "cell_type": "markdown",
   "metadata": {},
   "source": [
    "If you are interested in the paternity of individual offspring we can look at the output of the `paternity` method of `sibshipCluster` objects. This returns a data frame with a row for each offspring, and the name and log posterior probability of paternity for the four most likely candidate fathers. "
   ]
  },
  {
   "cell_type": "code",
   "execution_count": 21,
   "metadata": {},
   "outputs": [
    {
     "data": {
      "text/html": [
       "<div>\n",
       "<style scoped>\n",
       "    .dataframe tbody tr th:only-of-type {\n",
       "        vertical-align: middle;\n",
       "    }\n",
       "\n",
       "    .dataframe tbody tr th {\n",
       "        vertical-align: top;\n",
       "    }\n",
       "\n",
       "    .dataframe thead th {\n",
       "        text-align: right;\n",
       "    }\n",
       "</style>\n",
       "<table border=\"1\" class=\"dataframe\">\n",
       "  <thead>\n",
       "    <tr style=\"text-align: right;\">\n",
       "      <th></th>\n",
       "      <th>progeny</th>\n",
       "      <th>candidate_1</th>\n",
       "      <th>logprob_1</th>\n",
       "      <th>candidate_2</th>\n",
       "      <th>logprob_2</th>\n",
       "      <th>candidate_3</th>\n",
       "      <th>logprob_3</th>\n",
       "      <th>candidate_4</th>\n",
       "      <th>logprob_4</th>\n",
       "    </tr>\n",
       "  </thead>\n",
       "  <tbody>\n",
       "    <tr>\n",
       "      <th>0</th>\n",
       "      <td>offs_0</td>\n",
       "      <td>a_1</td>\n",
       "      <td>-1.229779e-01</td>\n",
       "      <td>a_839</td>\n",
       "      <td>-2.202419</td>\n",
       "      <td>a_852</td>\n",
       "      <td>-5.668155</td>\n",
       "      <td>a_631</td>\n",
       "      <td>-6.361302</td>\n",
       "    </tr>\n",
       "    <tr>\n",
       "      <th>1</th>\n",
       "      <td>offs_1</td>\n",
       "      <td>a_1</td>\n",
       "      <td>-1.199290e-10</td>\n",
       "      <td>missing</td>\n",
       "      <td>-22.852463</td>\n",
       "      <td>a_14</td>\n",
       "      <td>-28.101025</td>\n",
       "      <td>a_773</td>\n",
       "      <td>-29.710463</td>\n",
       "    </tr>\n",
       "    <tr>\n",
       "      <th>2</th>\n",
       "      <td>offs_2</td>\n",
       "      <td>a_1</td>\n",
       "      <td>-1.472913e-01</td>\n",
       "      <td>a_668</td>\n",
       "      <td>-2.226733</td>\n",
       "      <td>a_839</td>\n",
       "      <td>-3.613027</td>\n",
       "      <td>a_852</td>\n",
       "      <td>-6.385616</td>\n",
       "    </tr>\n",
       "    <tr>\n",
       "      <th>3</th>\n",
       "      <td>offs_3</td>\n",
       "      <td>a_1</td>\n",
       "      <td>-3.077166e-02</td>\n",
       "      <td>a_343</td>\n",
       "      <td>-3.496508</td>\n",
       "      <td>missing</td>\n",
       "      <td>-21.443367</td>\n",
       "      <td>a_605</td>\n",
       "      <td>-27.661793</td>\n",
       "    </tr>\n",
       "    <tr>\n",
       "      <th>4</th>\n",
       "      <td>offs_4</td>\n",
       "      <td>a_1</td>\n",
       "      <td>-2.417199e-01</td>\n",
       "      <td>a_254</td>\n",
       "      <td>-2.321161</td>\n",
       "      <td>a_376</td>\n",
       "      <td>-3.014309</td>\n",
       "      <td>a_388</td>\n",
       "      <td>-3.707456</td>\n",
       "    </tr>\n",
       "    <tr>\n",
       "      <th>5</th>\n",
       "      <td>offs_5</td>\n",
       "      <td>a_2</td>\n",
       "      <td>-1.355254e-10</td>\n",
       "      <td>missing</td>\n",
       "      <td>-22.732634</td>\n",
       "      <td>a_329</td>\n",
       "      <td>-28.457700</td>\n",
       "      <td>a_951</td>\n",
       "      <td>-29.017315</td>\n",
       "    </tr>\n",
       "    <tr>\n",
       "      <th>6</th>\n",
       "      <td>offs_6</td>\n",
       "      <td>a_2</td>\n",
       "      <td>-6.884449e-11</td>\n",
       "      <td>missing</td>\n",
       "      <td>-23.405092</td>\n",
       "      <td>a_378</td>\n",
       "      <td>-28.794172</td>\n",
       "      <td>a_368</td>\n",
       "      <td>-30.403610</td>\n",
       "    </tr>\n",
       "    <tr>\n",
       "      <th>7</th>\n",
       "      <td>offs_7</td>\n",
       "      <td>a_2</td>\n",
       "      <td>-4.156320e-11</td>\n",
       "      <td>missing</td>\n",
       "      <td>-23.909696</td>\n",
       "      <td>a_813</td>\n",
       "      <td>-30.180466</td>\n",
       "      <td>a_712</td>\n",
       "      <td>-30.403610</td>\n",
       "    </tr>\n",
       "    <tr>\n",
       "      <th>8</th>\n",
       "      <td>offs_8</td>\n",
       "      <td>a_2</td>\n",
       "      <td>-7.621637e-11</td>\n",
       "      <td>missing</td>\n",
       "      <td>-23.310463</td>\n",
       "      <td>a_951</td>\n",
       "      <td>-29.017315</td>\n",
       "      <td>a_792</td>\n",
       "      <td>-29.150847</td>\n",
       "    </tr>\n",
       "    <tr>\n",
       "      <th>9</th>\n",
       "      <td>offs_9</td>\n",
       "      <td>a_3</td>\n",
       "      <td>-1.108144e-01</td>\n",
       "      <td>a_152</td>\n",
       "      <td>-2.883403</td>\n",
       "      <td>a_159</td>\n",
       "      <td>-3.576550</td>\n",
       "      <td>a_368</td>\n",
       "      <td>-4.269697</td>\n",
       "    </tr>\n",
       "    <tr>\n",
       "      <th>10</th>\n",
       "      <td>offs_10</td>\n",
       "      <td>a_3</td>\n",
       "      <td>-1.451820e-01</td>\n",
       "      <td>a_680</td>\n",
       "      <td>-2.917771</td>\n",
       "      <td>a_639</td>\n",
       "      <td>-2.917771</td>\n",
       "      <td>a_963</td>\n",
       "      <td>-3.610918</td>\n",
       "    </tr>\n",
       "    <tr>\n",
       "      <th>11</th>\n",
       "      <td>offs_11</td>\n",
       "      <td>a_3</td>\n",
       "      <td>-5.324451e-02</td>\n",
       "      <td>a_254</td>\n",
       "      <td>-3.518980</td>\n",
       "      <td>a_711</td>\n",
       "      <td>-4.212128</td>\n",
       "      <td>a_950</td>\n",
       "      <td>-4.905275</td>\n",
       "    </tr>\n",
       "    <tr>\n",
       "      <th>12</th>\n",
       "      <td>offs_12</td>\n",
       "      <td>a_4</td>\n",
       "      <td>-6.866347e-10</td>\n",
       "      <td>missing</td>\n",
       "      <td>-21.107519</td>\n",
       "      <td>a_39</td>\n",
       "      <td>-27.071405</td>\n",
       "      <td>a_382</td>\n",
       "      <td>-27.407878</td>\n",
       "    </tr>\n",
       "    <tr>\n",
       "      <th>13</th>\n",
       "      <td>offs_13</td>\n",
       "      <td>a_4</td>\n",
       "      <td>-6.429435e-02</td>\n",
       "      <td>a_604</td>\n",
       "      <td>-2.836883</td>\n",
       "      <td>a_27</td>\n",
       "      <td>-5.609472</td>\n",
       "      <td>missing</td>\n",
       "      <td>-21.792526</td>\n",
       "    </tr>\n",
       "    <tr>\n",
       "      <th>14</th>\n",
       "      <td>offs_14</td>\n",
       "      <td>a_5</td>\n",
       "      <td>-1.177830e-01</td>\n",
       "      <td>a_87</td>\n",
       "      <td>-2.197225</td>\n",
       "      <td>missing</td>\n",
       "      <td>-23.714176</td>\n",
       "      <td>a_852</td>\n",
       "      <td>-32.377691</td>\n",
       "    </tr>\n",
       "  </tbody>\n",
       "</table>\n",
       "</div>"
      ],
      "text/plain": [
       "    progeny candidate_1     logprob_1 candidate_2  logprob_2 candidate_3  \\\n",
       "0    offs_0         a_1 -1.229779e-01       a_839  -2.202419       a_852   \n",
       "1    offs_1         a_1 -1.199290e-10     missing -22.852463        a_14   \n",
       "2    offs_2         a_1 -1.472913e-01       a_668  -2.226733       a_839   \n",
       "3    offs_3         a_1 -3.077166e-02       a_343  -3.496508     missing   \n",
       "4    offs_4         a_1 -2.417199e-01       a_254  -2.321161       a_376   \n",
       "5    offs_5         a_2 -1.355254e-10     missing -22.732634       a_329   \n",
       "6    offs_6         a_2 -6.884449e-11     missing -23.405092       a_378   \n",
       "7    offs_7         a_2 -4.156320e-11     missing -23.909696       a_813   \n",
       "8    offs_8         a_2 -7.621637e-11     missing -23.310463       a_951   \n",
       "9    offs_9         a_3 -1.108144e-01       a_152  -2.883403       a_159   \n",
       "10  offs_10         a_3 -1.451820e-01       a_680  -2.917771       a_639   \n",
       "11  offs_11         a_3 -5.324451e-02       a_254  -3.518980       a_711   \n",
       "12  offs_12         a_4 -6.866347e-10     missing -21.107519        a_39   \n",
       "13  offs_13         a_4 -6.429435e-02       a_604  -2.836883        a_27   \n",
       "14  offs_14         a_5 -1.177830e-01        a_87  -2.197225     missing   \n",
       "\n",
       "    logprob_3 candidate_4  logprob_4  \n",
       "0   -5.668155       a_631  -6.361302  \n",
       "1  -28.101025       a_773 -29.710463  \n",
       "2   -3.613027       a_852  -6.385616  \n",
       "3  -21.443367       a_605 -27.661793  \n",
       "4   -3.014309       a_388  -3.707456  \n",
       "5  -28.457700       a_951 -29.017315  \n",
       "6  -28.794172       a_368 -30.403610  \n",
       "7  -30.180466       a_712 -30.403610  \n",
       "8  -29.017315       a_792 -29.150847  \n",
       "9   -3.576550       a_368  -4.269697  \n",
       "10  -2.917771       a_963  -3.610918  \n",
       "11  -4.212128       a_950  -4.905275  \n",
       "12 -27.071405       a_382 -27.407878  \n",
       "13  -5.609472     missing -21.792526  \n",
       "14 -23.714176       a_852 -32.377691  "
      ]
     },
     "execution_count": 21,
     "metadata": {},
     "output_type": "execute_result"
    }
   ],
   "source": [
    "sc.paternity()"
   ]
  },
  {
   "cell_type": "markdown",
   "metadata": {},
   "source": [
    "In this case, the data are simulated, so we know who the real fathers are, and can print them with `progeny.fathers`. We see that the top candidate for all offspring is indeed the true father, with strong support (log probabilitites close to zero)."
   ]
  },
  {
   "cell_type": "code",
   "execution_count": 25,
   "metadata": {},
   "outputs": [
    {
     "data": {
      "text/plain": [
       "array(['a_1', 'a_1', 'a_1', 'a_1', 'a_1', 'a_2', 'a_2', 'a_2', 'a_2',\n",
       "       'a_3', 'a_3', 'a_3', 'a_4', 'a_4', 'a_5'], dtype='<U5')"
      ]
     },
     "execution_count": 25,
     "metadata": {},
     "output_type": "execute_result"
    }
   ],
   "source": [
    "progeny.fathers"
   ]
  },
  {
   "cell_type": "markdown",
   "metadata": {},
   "source": [
    "We also see that in most cases the second most-probable suggestion is that the father is not in the samples of candidates. That's a good sign, because it means that if the real father had been missed for some reason, FAPS would have recognised this.\n",
    "\n",
    "By default, `paternity` will return information on the top four candidates, but this can be changed with the `n_candidates` option (for example, `sc.paternity(n_candidates = 5)`). It goes somewhat against the spirit of fractional paternity to consider only the top candidate fathers, because we are interested in the uncertainty in paternity. In practice however, I have found that when paternity is done with SNP data, top candidates usually have very strong support, but I would be interested to learn if users have different experiences."
   ]
  }
 ],
 "metadata": {
  "anaconda-cloud": {},
  "kernelspec": {
   "display_name": "Python 3",
   "language": "python",
   "name": "python3"
  },
  "language_info": {
   "codemirror_mode": {
    "name": "ipython",
    "version": 3
   },
   "file_extension": ".py",
   "mimetype": "text/x-python",
   "name": "python",
   "nbconvert_exporter": "python",
   "pygments_lexer": "ipython3",
   "version": "3.8.5"
  }
 },
 "nbformat": 4,
 "nbformat_minor": 1
}
