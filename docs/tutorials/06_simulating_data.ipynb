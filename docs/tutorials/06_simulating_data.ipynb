{
 "cells": [
  {
   "cell_type": "markdown",
   "metadata": {},
   "source": [
    "# Simulating data and power analysis"
   ]
  },
  {
   "cell_type": "markdown",
   "metadata": {},
   "source": [
    "Tom Ellis, August 2017"
   ]
  },
  {
   "cell_type": "code",
   "execution_count": 1,
   "metadata": {},
   "outputs": [
    {
     "name": "stdout",
     "output_type": "stream",
     "text": [
      "Created using FAPS version 2.6.6.\n"
     ]
    }
   ],
   "source": [
    "import numpy as np\n",
    "import faps as fp\n",
    "import matplotlib.pylab as plt\n",
    "import pandas as pd\n",
    "from time import time, localtime, asctime\n",
    "\n",
    "print(\"Created using FAPS version {}.\".format(fp.__version__))"
   ]
  },
  {
   "cell_type": "markdown",
   "metadata": {},
   "source": [
    "Before committing to the time and cost of genotyping samples for a paternity study, it is always sensible to run simulations to test the likely statistical power of your data set. This can help with important questions regaridng study design, such as finding an appropriate balance between the number of families vs offspring per family, or identifying a minimum number of loci to type. Simulated data can also be useful in verifying the results of an analysis.\n",
    "\n",
    "FAPS provides tools to run such simulations. In this notebook we look look at:\n",
    "\n",
    "1. Basic tools for simulating genotype data.\n",
    "2. Automated tools for power analysis.\n",
    "3. Crafting custom simulations for specialised purposes.\n",
    "4. Simulations using emprical datasets (under construction).\n",
    "\n",
    "It is worth noting that I relied on loops for a lot of these tools, for the purely selfish reason that it was easy to code. Loops are of course slow, so if you work with these tools a lot there is ample scope for speeding things up (see especially the functions `make_offspring`, `make_sibships` and `make_power`)."
   ]
  },
  {
   "cell_type": "markdown",
   "metadata": {},
   "source": [
    "## Simulation building blocks"
   ]
  },
  {
   "cell_type": "markdown",
   "metadata": {},
   "source": [
    "### Creating `genotypeArray` objects"
   ]
  },
  {
   "cell_type": "markdown",
   "metadata": {},
   "source": [
    "Simulations are built using `genotypeArrays`. See the section on these [here](http://localhost:8889/notebooks/docs/02%20Genotype%20data.ipynb) for more information.\n",
    "\n",
    "`make_parents` generates a population of reproductive adults from population allele frequencies.\n",
    "This example creates ten individuals.\n",
    "Note that this population will be in Hardy-Weinberg equilibrium, but yours may not."
   ]
  },
  {
   "cell_type": "code",
   "execution_count": 2,
   "metadata": {},
   "outputs": [],
   "source": [
    "np.random.seed(37)\n",
    "allele_freqs = np.random.uniform(0.2, 0.5, 50)\n",
    "adults = fp.make_parents(10,  allele_freqs, family_name='adult')"
   ]
  },
  {
   "cell_type": "markdown",
   "metadata": {},
   "source": [
    "There are multiple ways to mate adults to generate offspring. If you supply a set of adults and an integer number of offspring, `make_offspring` mates adults at random."
   ]
  },
  {
   "cell_type": "code",
   "execution_count": 3,
   "metadata": {},
   "outputs": [
    {
     "data": {
      "text/plain": [
       "array(['adult_7/adult_2', 'adult_1/adult_6', 'adult_8/adult_3',\n",
       "       'adult_8/adult_0', 'adult_0/adult_7'], dtype='<U15')"
      ]
     },
     "execution_count": 3,
     "metadata": {},
     "output_type": "execute_result"
    }
   ],
   "source": [
    "family1 = fp.make_offspring(parents = adults, noffs=5)\n",
    "family1.parents"
   ]
  },
  {
   "cell_type": "markdown",
   "metadata": {},
   "source": [
    "You can also supply an explicit list of dams and sires, in which case the adults are paired in the order they appear in each list."
   ]
  },
  {
   "cell_type": "code",
   "execution_count": 4,
   "metadata": {},
   "outputs": [
    {
     "data": {
      "text/plain": [
       "array(['adult_7/adult_2', 'adult_1/adult_6', 'adult_8/adult_3',\n",
       "       'adult_8/adult_0', 'adult_0/adult_7'], dtype='<U15')"
      ]
     },
     "execution_count": 4,
     "metadata": {},
     "output_type": "execute_result"
    }
   ],
   "source": [
    "family2 = fp.make_offspring(parents = adults, dam_list=[7,1,8,8,0], sire_list=[2,6,3,0,7])\n",
    "family2.parents"
   ]
  },
  {
   "cell_type": "markdown",
   "metadata": {},
   "source": [
    "Usually we really want to simulate half sib arrays. This can be done using `make_sibships`, which mates a single mother to a set of males."
   ]
  },
  {
   "cell_type": "code",
   "execution_count": 5,
   "metadata": {},
   "outputs": [
    {
     "data": {
      "text/plain": [
       "array(['adult_0/adult_1', 'adult_0/adult_1', 'adult_0/adult_1',\n",
       "       'adult_0/adult_1', 'adult_0/adult_1', 'adult_0/adult_2',\n",
       "       'adult_0/adult_2', 'adult_0/adult_2', 'adult_0/adult_2',\n",
       "       'adult_0/adult_2', 'adult_0/adult_3', 'adult_0/adult_3',\n",
       "       'adult_0/adult_3', 'adult_0/adult_3', 'adult_0/adult_3',\n",
       "       'adult_0/adult_4', 'adult_0/adult_4', 'adult_0/adult_4',\n",
       "       'adult_0/adult_4', 'adult_0/adult_4'], dtype='<U15')"
      ]
     },
     "execution_count": 5,
     "metadata": {},
     "output_type": "execute_result"
    }
   ],
   "source": [
    "family3 = fp.make_sibships(parents=adults, dam=0, sires=[1,2,3,4], family_size=5)\n",
    "family3.parents"
   ]
  },
  {
   "cell_type": "markdown",
   "metadata": {},
   "source": [
    "For uneven sibship sizes, give a list of sizes for each family of the same length as `sires`."
   ]
  },
  {
   "cell_type": "code",
   "execution_count": 6,
   "metadata": {},
   "outputs": [
    {
     "data": {
      "text/plain": [
       "array(['adult_0/adult_1', 'adult_0/adult_1', 'adult_0/adult_1',\n",
       "       'adult_0/adult_1', 'adult_0/adult_1', 'adult_0/adult_2',\n",
       "       'adult_0/adult_2', 'adult_0/adult_2', 'adult_0/adult_2',\n",
       "       'adult_0/adult_3', 'adult_0/adult_3', 'adult_0/adult_3',\n",
       "       'adult_0/adult_4', 'adult_0/adult_4'], dtype='<U15')"
      ]
     },
     "execution_count": 6,
     "metadata": {},
     "output_type": "execute_result"
    }
   ],
   "source": [
    "family4 = fp.make_sibships(parents=adults, dam=0, sires=[1,2,3,4], family_size=[5,4,3,2])\n",
    "family4.parents"
   ]
  },
  {
   "cell_type": "markdown",
   "metadata": {},
   "source": [
    "### Adding errors"
   ]
  },
  {
   "cell_type": "markdown",
   "metadata": {},
   "source": [
    "Real data almost always contains errors. For SNP data, these take the form of:\n",
    "\n",
    "* Missing data, where a locus fails to amplify for some reason\n",
    "* Genotyping errors, when the observed genotype at a locus is not the actual genotype.\n",
    "\n",
    "These are straightforward to include in simulated data. First generate some clean data again, and mate the parents."
   ]
  },
  {
   "cell_type": "code",
   "execution_count": 7,
   "metadata": {},
   "outputs": [],
   "source": [
    "np.random.seed(85)\n",
    "allele_freqs = np.random.uniform(0.2, 0.5, 50)\n",
    "adults = fp.make_parents(10,  allele_freqs, family_name='adult')\n",
    "progeny = fp.make_sibships(parents=adults, dam=0, sires=[1,2,3,4], family_size=5)"
   ]
  },
  {
   "cell_type": "markdown",
   "metadata": {},
   "source": [
    "It is best to create the progeny before adding errors. Set the error rates and add errors at random."
   ]
  },
  {
   "cell_type": "code",
   "execution_count": 9,
   "metadata": {},
   "outputs": [],
   "source": [
    "d, mu= 0.01, 0.0015 # values for dropout and error rate.\n",
    "# add genotyping errors\n",
    "adults_mu  = adults.mutations(mu)\n",
    "progeny_mu = progeny.mutations(mu)\n",
    "\n",
    "# add dropouts (to the mutated data)\n",
    "adults_mu  = adults_mu.dropouts(d)\n",
    "progeny_mu = progeny.dropouts(d)"
   ]
  },
  {
   "cell_type": "markdown",
   "metadata": {},
   "source": [
    "`mutations` and `dropouts` make copies of the `genotypeArray`, so the original data remains unchanged. For example:"
   ]
  },
  {
   "cell_type": "code",
   "execution_count": 10,
   "metadata": {},
   "outputs": [
    {
     "name": "stdout",
     "output_type": "stream",
     "text": [
      "0.0\n",
      "0.012000000000000002\n"
     ]
    }
   ],
   "source": [
    "print(adults.missing_data().mean())\n",
    "print(adults_mu.missing_data().mean())"
   ]
  },
  {
   "cell_type": "markdown",
   "metadata": {},
   "source": [
    "### Paternity and sibships"
   ]
  },
  {
   "cell_type": "markdown",
   "metadata": {},
   "source": [
    "Create a `paternityArray` and cluster into sibships as usual (more information on these objects can be found [here](https://github.com/ellisztamas/faps/blob/master/docs/03%20Paternity%20arrays.ipynb) and [here](http://localhost:8889/notebooks/docs/04%20Sibship%20clustering.ipynb)."
   ]
  },
  {
   "cell_type": "code",
   "execution_count": 18,
   "metadata": {},
   "outputs": [],
   "source": [
    "np.random.seed(85)\n",
    "allele_freqs = np.random.uniform(0.4, 0.5, 50)\n",
    "adults = fp.make_parents(10,  allele_freqs, family_name='adult')\n",
    "progeny = fp.make_sibships(parents=adults, dam=0, sires=[1,2,3,4], family_size=5)\n",
    "mothers = adults.subset(progeny.mothers)\n",
    "patlik = fp.paternity_array(progeny, mothers, adults, mu=0.0015, missing_parents=0.01, integration='partial')\n",
    "sc = fp.sibship_clustering(patlik)"
   ]
  },
  {
   "cell_type": "markdown",
   "metadata": {},
   "source": [
    "A very useful tool is the `accuracy` subfunction for `sibshipCluster` objects.\n",
    "When the paternity and sibship structure are know (seldom the case in real life, but true for simulated data) this returns an array of handy information about the analysis:\n",
    "\n",
    "0. Binary indiciator for whether the true partition was included in the sample of partitions.\n",
    "1. Difference in log likelihood for the maximum likelihood partition identified and the true partition. Positive values indicate that the ML partition had greater support than the true partition.\n",
    "2. Posterior probability of the true number of families.\n",
    "3. Mean probabilities that a pair of true full sibs are identified as full sibs.\n",
    "4. Mean probabilities that a pair of true half sibs are identified as half sibs.\n",
    "5. Mean probabilities that a pair of true half or full sibs are correctly assigned as such (i.e. overall accuracy of sibship reconstruction.\n",
    "6. Mean (log) probability of paternity of the true sires for those sires who had been sampled (who had non-zero probability in the paternityArray).\n",
    "7. Mean (log) probability that the sire had not been sampled for those individuals whose sire was truly absent."
   ]
  },
  {
   "cell_type": "code",
   "execution_count": 22,
   "metadata": {},
   "outputs": [
    {
     "data": {
      "text/plain": [
       "array([ 1.   , 28.68 ,  0.   ,  0.771,  0.952,  1.   ,  1.   ,  0.1  ])"
      ]
     },
     "execution_count": 22,
     "metadata": {},
     "output_type": "execute_result"
    }
   ],
   "source": [
    "sc.accuracy(progeny, adults)"
   ]
  },
  {
   "cell_type": "markdown",
   "metadata": {},
   "source": [
    "In this example, accuracy is high, but the probability of a missing sire is NaN because all the sires are present, and this number of calculated only for offspring whose sire was absent.\n",
    "\n",
    "We can adjust the `paternityArray` to see how much this effects the results.\n",
    "For example, if we remove the sire of the first family (i.e. the male indexed by 1), there is a drop in the accuracy for full-sibling relationships, although half-sibling relationships are unaffected."
   ]
  },
  {
   "cell_type": "code",
   "execution_count": 20,
   "metadata": {},
   "outputs": [
    {
     "data": {
      "text/plain": [
       "array([ 1.   , 29.38 ,  0.   ,  0.771,  0.952,  1.   ,  1.   ,  0.1  ])"
      ]
     },
     "execution_count": 20,
     "metadata": {},
     "output_type": "execute_result"
    }
   ],
   "source": [
    "patlik.purge = 'adult_1'\n",
    "patlik.missing_parents=0.5\n",
    "sc = fp.sibship_clustering(patlik)\n",
    "sc.accuracy(progeny, adults)"
   ]
  },
  {
   "cell_type": "markdown",
   "metadata": {},
   "source": [
    "In contrast, imagine we had an idea that selfing was strong. How would this affect things?"
   ]
  },
  {
   "cell_type": "code",
   "execution_count": 21,
   "metadata": {},
   "outputs": [
    {
     "data": {
      "text/plain": [
       "array([ 1.   , 28.68 ,  0.   ,  0.771,  0.952,  1.   ,  1.   ,  0.1  ])"
      ]
     },
     "execution_count": 21,
     "metadata": {},
     "output_type": "execute_result"
    }
   ],
   "source": [
    "patlik.selfing_rate=0.5\n",
    "sc = fp.sibship_clustering(patlik)\n",
    "sc.accuracy(progeny, adults)"
   ]
  },
  {
   "cell_type": "markdown",
   "metadata": {},
   "source": [
    "The results are identical to the unmodified case; FAPS has correctly identifed the correct partition structure in spite of the (incorrect) strong prior for high selfing."
   ]
  },
  {
   "cell_type": "markdown",
   "metadata": {},
   "source": [
    "## Automation"
   ]
  },
  {
   "cell_type": "markdown",
   "metadata": {},
   "source": [
    "It can be tedious to put together your own simulation for every analysis.\n",
    "FAPS has an automated function that repeatedly creates genotype data, clusters into siblings and calls the `accuracy` function.\n",
    "You can supply lists of variables and it will evaluate each combination. There are a lot of possible inputs, so have a look at the help page using `fp.make_power?`.\n",
    "\n",
    "For example, this code creates four families of five full siblings with a genotyping error rate of 0.0015.\n",
    "It considers 30, 40 and 50 loci for 100, 250 or 500 candidate fathers.\n",
    "Each parameter combination is replicated 10 times.\n",
    "In reality you would want to do more than this; I have found that results tend to asymptote with 300 simulations."
   ]
  },
  {
   "cell_type": "code",
   "execution_count": 23,
   "metadata": {},
   "outputs": [
    {
     "name": "stdout",
     "output_type": "stream",
     "text": [
      "10 of each parameter combination will be performed.\n",
      "Simulating arrays with multiple number of loci: [30, 40, 50].\n",
      "Drawing allele frequencies between 0.25 and 0.5.\n",
      "Simulating adult populations of multiple sizes: [100, 250, 500].\n",
      "Simulating 4 families of 5 offspring.\n",
      "0% of per-locus genotypes will be removed at random.\n",
      "0.15% of alleles will be mutated at random.\n",
      "Input error rates taken as the real error rates.\n",
      "No candidates to be removed.\n",
      "Proportion missing canidates set to 0.01.\n",
      "Self-fertilisation rate of 0.\n",
      "Performing 1000 Monte Carlo draws for sibship inference.\n",
      "\n",
      "Parameters set. Beginning simulations on Wed Aug 18 11:10:47 2021.\n"
     ]
    },
    {
     "name": "stderr",
     "output_type": "stream",
     "text": [
      "100%|██████████| 10/10 [00:12<00:00,  1.26s/it]"
     ]
    },
    {
     "name": "stdout",
     "output_type": "stream",
     "text": [
      "Simulations completed after 0.21 minutes.\n"
     ]
    },
    {
     "name": "stderr",
     "output_type": "stream",
     "text": [
      "\n"
     ]
    }
   ],
   "source": [
    "# Common simulation parameters\n",
    "r            = 10 # number of replicates\n",
    "nloci        = [30,40,50] # number of loci\n",
    "allele_freqs = [0.25, 0.5] # draw allele frequencies \n",
    "nadults      = [100,250,500] # size of the adults population\n",
    "mu           = 0.0015 #genotype error rates\n",
    "sires        = 4\n",
    "offspring    = 5\n",
    "\n",
    "np.random.seed(614)\n",
    "eventab = fp.make_power(\n",
    "    replicates = r, \n",
    "    nloci = nloci,\n",
    "    allele_freqs = allele_freqs,\n",
    "    candidates = nadults,\n",
    "    sires = sires,\n",
    "    offspring = offspring, \n",
    "    missing_loci=0,\n",
    "    mu_real = mu, \n",
    "    unsampled_input=0.01\n",
    ")"
   ]
  },
  {
   "cell_type": "markdown",
   "metadata": {},
   "source": [
    "For convenience, `make_power` provides a summary of the input parameters.\n",
    "This can be turned off by setting `verbose` to `False`.\n",
    "Similarly, the progress bar can be removed by setting `progress` to `False`.\n",
    "This bar uses iPython widgets, and probably won't work outside of iPython, so it may be necessary to turn them off."
   ]
  },
  {
   "cell_type": "markdown",
   "metadata": {},
   "source": [
    "The results of make_power are basically the output from the `accuracy` function we saw before, but include information on simulation parameters, and the time taken to create the `paternityArray` and `sibshipCluster` objects. View them by inspecting `eventab`."
   ]
  },
  {
   "cell_type": "markdown",
   "metadata": {},
   "source": [
    "Arguments to set up the population work much like those to create `genotypeArrays`, and are quite flexible.\n",
    "Have a look into the help file (run `make_power?` in Python) for more.\n",
    "You can also take a look at the [simulations in support of the main FAPS paper](http://localhost:8889/notebooks/manuscript_faps/analysis/A.%20majus%20data%20for%202012.ipynb), which considered a range of contrasting demographic scenarios; the example above is adapted from there."
   ]
  },
  {
   "cell_type": "markdown",
   "metadata": {},
   "source": [
    "Error rates and missing candidates are important topics to get a handle on.\n",
    "We can estimate these parameters (e.g. by genotyping some individuals twice and counting how many loci are different), but we can never completely be sure how close to reality we are.\n",
    "With that in mind `make_power` allows you to simulate true values mu and the proportion of missing sires, but run the analysis with different values.\n",
    "The idea is to estimate how wrong you could be before the analysis fails.\n",
    "For example, this code would simulate the case where you thought that the error rate was 0.0015, and 5% of the candidates went unsampled, but in reality both parameters were double that amount."
   ]
  },
  {
   "cell_type": "code",
   "execution_count": 24,
   "metadata": {},
   "outputs": [
    {
     "name": "stdout",
     "output_type": "stream",
     "text": [
      "10 of each parameter combination will be performed.\n",
      "Simulating arrays with multiple number of loci: [30, 40, 50].\n",
      "Drawing allele frequencies between 0.25 and 0.5.\n",
      "Simulating adult populations of multiple sizes: [100, 250, 500].\n",
      "Simulating 4 families of 5 offspring.\n",
      "0% of per-locus genotypes will be removed at random.\n",
      "0.15% of alleles will be mutated at random.\n",
      "Genotype error rate of 0.003 will be used to construct paternity arrays.\n",
      "Removing 10.0% of the candidates at random.\n",
      "Proportion missing canidates set to 0.05.\n",
      "Self-fertilisation rate of 0.\n",
      "Performing 1000 Monte Carlo draws for sibship inference.\n",
      "\n",
      "Parameters set. Beginning simulations on Wed Aug 18 11:11:33 2021.\n"
     ]
    },
    {
     "name": "stderr",
     "output_type": "stream",
     "text": [
      "100%|██████████| 10/10 [00:12<00:00,  1.29s/it]"
     ]
    },
    {
     "name": "stdout",
     "output_type": "stream",
     "text": [
      "Simulations completed after 0.21 minutes.\n"
     ]
    },
    {
     "name": "stderr",
     "output_type": "stream",
     "text": [
      "\n"
     ]
    }
   ],
   "source": [
    "fp.make_power(r, nloci, allele_freqs, nadults, sires, offspring, 0,\n",
    "           mu_input= 0.003,\n",
    "           mu_real=0.0015,\n",
    "           unsampled_real=0.1,\n",
    "           unsampled_input = 0.05);"
   ]
  },
  {
   "cell_type": "markdown",
   "metadata": {},
   "source": [
    "If you want to perform downstream analysis, you can tell `make_power` to also export each `paternity_Array` and/or `sibshipCluster` object. This is done by setting `return_paternities` and `return_clusters` to `True`. For example, this code pulls out the distribution of family sizes from each `sibshipArray`, and plots it."
   ]
  },
  {
   "cell_type": "code",
   "execution_count": 25,
   "metadata": {},
   "outputs": [
    {
     "name": "stderr",
     "output_type": "stream",
     "text": [
      "100%|██████████| 10/10 [00:12<00:00,  1.24s/it]\n"
     ]
    },
    {
     "data": {
      "image/png": "[encoded data removed]",
      "text/plain": [
       "<Figure size 432x288 with 1 Axes>"
      ]
     },
     "metadata": {
      "needs_background": "light"
     },
     "output_type": "display_data"
    }
   ],
   "source": [
    "eventab, evenclusters = fp.make_power(\n",
    "    replicates = r, \n",
    "    nloci = nloci,\n",
    "    allele_freqs = allele_freqs,\n",
    "    candidates = nadults,\n",
    "    sires = sires,\n",
    "    offspring = offspring, \n",
    "    missing_loci=0,\n",
    "    mu_real = mu, \n",
    "    unsampled_input=0.01,\n",
    "    return_clusters=True,\n",
    "    verbose=False\n",
    ")\n",
    "even_famsizes = np.array([evenclusters[i].family_size() for i in range(len(evenclusters))])\n",
    "\n",
    "plt.plot(even_famsizes.mean(0))\n",
    "plt.show()"
   ]
  },
  {
   "cell_type": "markdown",
   "metadata": {},
   "source": [
    "## Custom simulations"
   ]
  },
  {
   "cell_type": "markdown",
   "metadata": {},
   "source": [
    "Once you are familiar with the basic building blocks for generating data and running analysis, creating your own simulations if largely a case of setting up combinations of parameters, and looping over them.\n",
    "Given the vast array of possible scenarios you could want to simulate, it is impossible to be comprehensive here, so it must suffice to given a couple of examples for inspiration."
   ]
  },
  {
   "cell_type": "markdown",
   "metadata": {},
   "source": [
    "### Likelihood for missing sires"
   ]
  },
  {
   "cell_type": "markdown",
   "metadata": {},
   "source": [
    "In this example is was interested in the performance of the likelihood estimator for a sire being absent.\n",
    "This is the likelihood of generating the offspring genotype if paternal alleles come from population allele frequencies.\n",
    "This is what the attribute `lik_abset` in a `paternityArray` tells you.\n",
    "\n",
    "Ideally this likelihood should be below the likelihood of paternity for the true sire, but higher than that of the other candidates. I suspected this would not be the case when minor allele frequency is low and there are many candidates.\n",
    "\n",
    "This cell sets up the simulation. I'm considering 50 loci, and mu=0.0015, but varying sample size and allele frequency."
   ]
  },
  {
   "cell_type": "code",
   "execution_count": 26,
   "metadata": {},
   "outputs": [],
   "source": [
    "# Common simulation parameters\n",
    "nreps        = 10 # number of replicates\n",
    "nloci        = [50] # number of loci\n",
    "allele_freqs = [0.1, 0.2, 0.3, 0.4, 0.5] # draw allele frequencies \n",
    "nadults      = [10, 100, 250, 500, 750, 1000] # size of the adults population\n",
    "mu_list      = [0.0015] #genotype error rates\n",
    "nsims        = nreps * len(nloci) * len(allele_freqs) * len(nadults) * len(mu_list) # total number of simulations to run\n",
    "dt           = np.zeros([nsims, 7]) # empty array to store data"
   ]
  },
  {
   "cell_type": "markdown",
   "metadata": {},
   "source": [
    "This cell simulates genotype data and clusters the offspring into full sibships.\n",
    "The code pulls out the mean probability that each sire is absent, and the rank of the likelihood for a missing sire among the likelihoods of paternity for the candidates."
   ]
  },
  {
   "cell_type": "code",
   "execution_count": 27,
   "metadata": {},
   "outputs": [
    {
     "name": "stdout",
     "output_type": "stream",
     "text": [
      "Beginning simulations on Wed Aug 18 11:12:20 2021.\n",
      "Completed in 0.03 hours.\n"
     ]
    }
   ],
   "source": [
    "t0 = time()\n",
    "counter = 0\n",
    "\n",
    "print(\"Beginning simulations on {}.\".format(asctime(localtime(time()) )))\n",
    "\n",
    "for r in range(nreps):\n",
    "    for l in range(len(nloci)):\n",
    "        for a in range(len(allele_freqs)):\n",
    "            for n in range(len(nadults)):\n",
    "                for m in range(len(mu_list)):\n",
    "                    af = np.repeat(allele_freqs[a], nloci[l])\n",
    "                    adults  = fp.make_parents(nadults[n], af)\n",
    "                    progeny = fp.make_offspring(adults, 100)\n",
    "                    mi      = progeny.parent_index('m', adults.names) # maternal index\n",
    "                    mothers = adults.subset(mi)\n",
    "                    patlik  = fp.paternity_array(progeny, mothers, adults, mu_list[m], missing_parents=0.01)\n",
    "                    # Find the rank of the missing term within the array.\n",
    "                    rank    = [np.where(np.sort(patlik.prob_array()[i]) == patlik.prob_array()[i,-1])[0][0] for i in range(progeny.size)]\n",
    "                    rank    = np.array(rank).mean() / nadults[n]\n",
    "                    # get the posterior probabilty fir the missing term.\n",
    "                    prob_misisng = np.exp(patlik.prob_array()[:, -1]).mean()\n",
    "                    #export data\n",
    "                    dt[counter] = np.array([r, nloci[l], allele_freqs[a], nadults[n], mu_list[m], rank, prob_misisng])\n",
    "                    # update counters\n",
    "                    counter += 1\n",
    "\n",
    "print(\"Completed in {} hours.\".format(round((time() - t0)/3600,2)))\n",
    "\n",
    "head = ['rep', 'nloci', 'allele_freqs', 'nadults', 'mu', 'rank', 'prob_missing']\n",
    "dt = pd.DataFrame(dt, columns=head)"
   ]
  }
 ],
 "metadata": {
  "kernelspec": {
   "display_name": "Python 3",
   "language": "python",
   "name": "python3"
  },
  "language_info": {
   "codemirror_mode": {
    "name": "ipython",
    "version": 3
   },
   "file_extension": ".py",
   "mimetype": "text/x-python",
   "name": "python",
   "nbconvert_exporter": "python",
   "pygments_lexer": "ipython3",
   "version": "3.8.10"
  }
 },
 "nbformat": 4,
 "nbformat_minor": 1
}
