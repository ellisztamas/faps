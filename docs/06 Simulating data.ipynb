{
 "metadata": {
  "name": ""
 },
 "nbformat": 3,
 "nbformat_minor": 0,
 "worksheets": [
  {
   "cells": [
    {
     "cell_type": "heading",
     "level": 1,
     "metadata": {},
     "source": [
      "Simulating data"
     ]
    },
    {
     "cell_type": "markdown",
     "metadata": {},
     "source": [
      "Tom Ellis, April 2017"
     ]
    },
    {
     "cell_type": "markdown",
     "metadata": {},
     "source": [
      "Before committing to the time and cost of genotyping samples for a paternity study, it is always sensible to run simulations to test the likely statistical power of your data set. This can help with important questions regaridng study design, such as finding an appropriate balance between numbe ro"
     ]
    },
    {
     "cell_type": "heading",
     "level": 2,
     "metadata": {},
     "source": [
      "Creating `genotypeArray`s"
     ]
    },
    {
     "cell_type": "markdown",
     "metadata": {},
     "source": [
      "* Adult generation\n",
      "* different ways to create offspring\n",
      "* mutations and dropouts\n",
      "* subsequent analysis as normal\n",
      "* Sensitivity to selfing and theta"
     ]
    },
    {
     "cell_type": "heading",
     "level": 2,
     "metadata": {},
     "source": [
      "Automation"
     ]
    },
    {
     "cell_type": "markdown",
     "metadata": {},
     "source": [
      "* make power\n",
      "* missing fathers"
     ]
    },
    {
     "cell_type": "heading",
     "level": 2,
     "metadata": {},
     "source": [
      "Custom simulations"
     ]
    },
    {
     "cell_type": "markdown",
     "metadata": {},
     "source": [
      "* proportional to some distribution\n",
      "* with emprical data\n",
      "* point to other examples"
     ]
    },
    {
     "cell_type": "code",
     "collapsed": false,
     "input": [],
     "language": "python",
     "metadata": {},
     "outputs": []
    }
   ],
   "metadata": {}
  }
 ]
}