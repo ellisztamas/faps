{
 "cells": [
  {
   "cell_type": "markdown",
   "metadata": {},
   "source": [
    "# Dealing with multiple half-sib families"
   ]
  },
  {
   "cell_type": "markdown",
   "metadata": {},
   "source": [
    "Tom Ellis, March 2018"
   ]
  },
  {
   "cell_type": "markdown",
   "metadata": {},
   "source": [
    "In the previous sections on [genotype arrays](https://github.com/ellisztamas/faps/blob/master/docs/02%20Genotype%20data.ipynb), [paternity arrays](https://github.com/ellisztamas/faps/blob/master/docs/03%20Paternity%20arrays.ipynb) and [sibship clustering](https://github.com/ellisztamas/faps/blob/master/docs/04%20Sibship%20clustering.ipynb) we considered only a single half-sibling array. In most real-world situations, you would probably have multiple half-sibling arrays from multiple mothers.\n",
    "\n",
    "FAPS assumes that these families are independent, which seems a reasonable assumption for most application, so dealing with multiple families boils down to performing the same operation on these families through a loop. This guide outlines some tricks to automate this.\n",
    "\n",
    "This notebook will examine how to:\n",
    "\n",
    "1. Divide a dataset into multiple families\n",
    "2. Perform sibship clustering on those families\n",
    "3. Extract information from objects for multiple families\n",
    "\n",
    "To illustrate this we will use data from wild-pollinated seed capsules of the snapdragon *Antirrhinum majus*. Each capsule represents a single maternal family, which may contain mixtures of full- and half-siblings. Each maternal family can be treated as independent.\n",
    "\n",
    "These are the raw data described in Ellis *et al.* (2018), and are available from the [IST Austria data repository](https://datarep.app.ist.ac.at/id/eprint/95) (DOI:10.15479/AT:ISTA:95). For the analysis presented in that paper we did extensive data cleaning and checking, which is given as a [case study](https://github.com/ellisztamas/faps/blob/master/docs/08%20Data%20cleaning%20in%20A.%20majus.ipynb) later in this guide. Here, we will skip this process, since it primarily concerns accuracy of results."
   ]
  },
  {
   "cell_type": "markdown",
   "metadata": {},
   "source": [
    "##  Divide a dataset into families"
   ]
  },
  {
   "cell_type": "markdown",
   "metadata": {},
   "source": [
    "There are two ways to divide data into families: by splitting up a `genotypeArray` into families, and making a `paternityArray` for each, or create a single `paternityArray` and split up that."
   ]
  },
  {
   "cell_type": "markdown",
   "metadata": {},
   "source": [
    "### Import the data"
   ]
  },
  {
   "cell_type": "markdown",
   "metadata": {},
   "source": [
    "Frequently offspring have been genotyped from multiple half-sibling arrays, and it is convenient to store these data together in a single file on disk. However, it (usually) only makes sense to look for sibling relationships *within* known half-sib families, so we need to split those data up into half-sibling famililes.\n",
    "\n",
    "First, import the required packages and data for the sample of candidate fathers and the progeny."
   ]
  },
  {
   "cell_type": "code",
   "execution_count": 5,
   "metadata": {},
   "outputs": [
    {
     "name": "stdout",
     "output_type": "stream",
     "text": [
      "Populating the interactive namespace from numpy and matplotlib\n"
     ]
    }
   ],
   "source": [
    "import numpy as np\n",
    "from faps import *\n",
    "import matplotlib.pyplot as plt\n",
    "%pylab inline\n",
    "\n",
    "adults  = read_genotypes('../manuscript_faps/data_files/parents_SNPs_2012.csv', genotype_col=1)\n",
    "progeny = read_genotypes('../manuscript_faps/data_files/offspring_SNPs_2012.csv', genotype_col=2, mothers_col=1)\n"
   ]
  },
  {
   "cell_type": "markdown",
   "metadata": {},
   "source": [
    "We need to remove four families whose mother is not included in the sample of adults."
   ]
  },
  {
   "cell_type": "code",
   "execution_count": 6,
   "metadata": {},
   "outputs": [],
   "source": [
    "ix = [m in adults.names for m in progeny.mothers]\n",
    "progeny = progeny.subset(ix)"
   ]
  },
  {
   "cell_type": "markdown",
   "metadata": {},
   "source": [
    "We also need to define an array of genotypes for the mothers, population allele frequencies, and a genotyping error rate."
   ]
  },
  {
   "cell_type": "code",
   "execution_count": 7,
   "metadata": {},
   "outputs": [],
   "source": [
    "mothers = adults.subset(progeny.parent_index('m', adults.names))\n",
    "allele_freqs = adults.allele_freqs() # population allele frequencies\n",
    "mu= 0.0015"
   ]
  },
  {
   "cell_type": "markdown",
   "metadata": {},
   "source": [
    "Pull out the numbers of adults and progeny in the dataset, as well as the number of maternal families."
   ]
  },
  {
   "cell_type": "code",
   "execution_count": 8,
   "metadata": {},
   "outputs": [
    {
     "name": "stdout",
     "output_type": "stream",
     "text": [
      "2145\n",
      "1392\n",
      "59\n"
     ]
    }
   ],
   "source": [
    "print adults.size\n",
    "print progeny.size\n",
    "print len(np.unique(progeny.mothers))"
   ]
  },
  {
   "cell_type": "markdown",
   "metadata": {},
   "source": [
    "Most maternal families are between 20 and 30, with some either side."
   ]
  },
  {
   "cell_type": "code",
   "execution_count": 9,
   "metadata": {
    "scrolled": true
   },
   "outputs": [
    {
     "data": {
      "image/png": "[encoded data removed]",
      "text/plain": [
       "<matplotlib.figure.Figure at 0x7fe3a8f17650>"
      ]
     },
     "metadata": {},
     "output_type": "display_data"
    }
   ],
   "source": [
    "family_sizes = np.unique(progeny.mothers, return_counts=True)[1]\n",
    "plt.hist(family_sizes)\n",
    "plt.xlabel('half-sib array size')\n",
    "plt.ylabel('number of families')\n",
    "plt.show()"
   ]
  },
  {
   "cell_type": "markdown",
   "metadata": {},
   "source": [
    "### Split up the `genotypeArray`"
   ]
  },
  {
   "cell_type": "markdown",
   "metadata": {
    "collapsed": true
   },
   "source": [
    "In the data import we specified that the ID of the mother of each offspring individual was given in column 2 of the data file (i.e. column 1 for Python, which starts counting from zero). Currently this information is contained in `progeny.mothers`.\n",
    "\n",
    "To separate a `genotypeArray` into separate families you can use `split`, and the vector of maternal names. This returns a **list** of `genotypeArray` objects for each maternal family."
   ]
  },
  {
   "cell_type": "code",
   "execution_count": 10,
   "metadata": {},
   "outputs": [
    {
     "name": "stdout",
     "output_type": "stream",
     "text": [
      "59\n",
      "59\n"
     ]
    }
   ],
   "source": [
    "progeny2 = progeny.split(progeny.mothers)\n",
    "mothers2 = mothers.split(progeny.mothers)\n",
    "\n",
    "print len(progeny2)\n",
    "print len(mothers2)"
   ]
  },
  {
   "cell_type": "markdown",
   "metadata": {},
   "source": [
    "You can then pass the lists of `genotypeArray` objects to `paternity_array` directly, just as if they were single objects. `paternity_array` detects that these are lists, and returns a list of `paternityArray` objects. The `%%time` magic operator is used to time  how long it takes to run the cell."
   ]
  },
  {
   "cell_type": "code",
   "execution_count": 11,
   "metadata": {},
   "outputs": [
    {
     "name": "stdout",
     "output_type": "stream",
     "text": [
      "59\n",
      "CPU times: user 26.4 s, sys: 650 ms, total: 27 s\n",
      "Wall time: 27 s\n"
     ]
    }
   ],
   "source": [
    "%%time\n",
    "patlik = paternity_array(progeny2, mothers2, adults, mu)\n",
    "print len(patlik)"
   ]
  },
  {
   "cell_type": "markdown",
   "metadata": {},
   "source": [
    "### Split up a paternity array"
   ]
  },
  {
   "cell_type": "markdown",
   "metadata": {},
   "source": [
    "The alternative way to do this is to pass the entire arrays for progeny and mothers to \n",
    "`paternity_array`. A word of caution is needed here, because `paternity_array` is quite memory hungry, and for large datasets there is a very real chance you could exhaust the RAM on your computer and the machine will grind to a halt."
   ]
  },
  {
   "cell_type": "code",
   "execution_count": 8,
   "metadata": {},
   "outputs": [
    {
     "name": "stdout",
     "output_type": "stream",
     "text": [
      "CPU times: user 25.4 s, sys: 2.81 s, total: 28.2 s\n",
      "Wall time: 28.3 s\n"
     ]
    }
   ],
   "source": [
    "%%time\n",
    "patlik2 = paternity_array(progeny, mothers, adults, mu)"
   ]
  },
  {
   "cell_type": "markdown",
   "metadata": {},
   "source": [
    "There doesn't seem to be any difference in speed the two methods, although in other cases I have found that creating a single `paternityArray` is slower. Your mileage may vary.\n",
    "\n",
    "We split up the `paternity_array` in the same way as a `genotype_array`. It returns a list of `paternityArray` objects."
   ]
  },
  {
   "cell_type": "code",
   "execution_count": 11,
   "metadata": {},
   "outputs": [
    {
     "data": {
      "text/plain": [
       "59"
      ]
     },
     "execution_count": 11,
     "metadata": {},
     "output_type": "execute_result"
    }
   ],
   "source": [
    "patlik3 = patlik2.split(progeny.mothers)\n",
    "len(patlik3)"
   ]
  },
  {
   "cell_type": "markdown",
   "metadata": {},
   "source": [
    "We would hope that `patlik` and `patlik3` are identical lists of `paternityArray` objects. We can inspect some elements to check:"
   ]
  },
  {
   "cell_type": "code",
   "execution_count": 19,
   "metadata": {},
   "outputs": [
    {
     "data": {
      "text/plain": [
       "array(['L0057_745', 'L0057_746', 'L0057_747', 'L0057_748', 'L0057_749',\n",
       "       'L0057_750', 'L0057_751', 'L0057_752', 'L0057_753', 'L0057_754',\n",
       "       'L0057_755', 'L0057_756', 'L0057_846', 'L0057_847', 'L0057_848',\n",
       "       'L0057_849', 'L0057_850', 'L0057_851', 'L0057_852', 'L0057_853',\n",
       "       'L0057_854', 'L0057_855', 'L0057_856', 'L0057_857'], dtype='|S12')"
      ]
     },
     "execution_count": 19,
     "metadata": {},
     "output_type": "execute_result"
    }
   ],
   "source": [
    "patlik[0].offspring"
   ]
  },
  {
   "cell_type": "code",
   "execution_count": 21,
   "metadata": {},
   "outputs": [
    {
     "data": {
      "text/plain": [
       "array(['L0057_745', 'L0057_746', 'L0057_747', 'L0057_748', 'L0057_749',\n",
       "       'L0057_750', 'L0057_751', 'L0057_752', 'L0057_753', 'L0057_754',\n",
       "       'L0057_755', 'L0057_756', 'L0057_846', 'L0057_847', 'L0057_848',\n",
       "       'L0057_849', 'L0057_850', 'L0057_851', 'L0057_852', 'L0057_853',\n",
       "       'L0057_854', 'L0057_855', 'L0057_856', 'L0057_857'], dtype='|S12')"
      ]
     },
     "execution_count": 21,
     "metadata": {},
     "output_type": "execute_result"
    }
   ],
   "source": [
    "patlik3[0].offspring"
   ]
  },
  {
   "cell_type": "markdown",
   "metadata": {
    "collapsed": true
   },
   "source": [
    "### Clustering for multiple families"
   ]
  },
  {
   "cell_type": "markdown",
   "metadata": {},
   "source": [
    "`sibship_clustering` is also able to detect when a list of `paternityArray` objects is being passed, and treat each independently."
   ]
  },
  {
   "cell_type": "code",
   "execution_count": 14,
   "metadata": {},
   "outputs": [
    {
     "name": "stdout",
     "output_type": "stream",
     "text": [
      "CPU times: user 15.4 s, sys: 11.6 ms, total: 15.4 s\n",
      "Wall time: 15.4 s\n"
     ]
    }
   ],
   "source": [
    "%%time\n",
    "sc = sibship_clustering(patlik3)\n",
    "print len(sc)"
   ]
  },
  {
   "cell_type": "markdown",
   "metadata": {},
   "source": [
    "You can index any single family to extract information about it in the same way as was explained in the section on [sibship clustering](http://localhost:8888/notebooks/docs/04%20Sibship%20clustering.ipynb). For example, the posterior distribution of full-sibship sizes for the first maternal family."
   ]
  },
  {
   "cell_type": "code",
   "execution_count": 33,
   "metadata": {},
   "outputs": [
    {
     "data": {
      "text/plain": [
       "array([7.88207117e-001, 1.65810880e-001, 4.59820025e-002, 7.91328405e-056,\n",
       "       4.73053622e-047, 0.00000000e+000, 7.07775904e-073, 0.00000000e+000,\n",
       "       0.00000000e+000, 0.00000000e+000, 3.79961796e-089, 1.76711039e-102,\n",
       "       0.00000000e+000, 0.00000000e+000, 1.24671469e-146, 2.61628434e-157,\n",
       "       0.00000000e+000, 0.00000000e+000, 0.00000000e+000, 0.00000000e+000,\n",
       "       6.23849505e-234, 0.00000000e+000, 3.46413259e-271, 1.32932864e-291])"
      ]
     },
     "execution_count": 33,
     "metadata": {},
     "output_type": "execute_result"
    }
   ],
   "source": [
    "sc[0].family_size()"
   ]
  },
  {
   "cell_type": "markdown",
   "metadata": {},
   "source": [
    "To extract information about each `sibshipCluster` object it is straightforward to set up a list comprehension. For example, this cell pulls out the number of partition structures for each maternal family."
   ]
  },
  {
   "cell_type": "code",
   "execution_count": 27,
   "metadata": {},
   "outputs": [
    {
     "data": {
      "text/plain": [
       "array([24, 27, 26,  3, 25, 41, 25, 19, 24, 10, 22, 26, 33, 37, 22, 25, 11,\n",
       "       21, 25, 27, 24, 31, 33, 20, 33, 25, 33, 26, 23, 24, 24, 26, 23, 16,\n",
       "       23, 25, 27, 10, 25, 26, 26,  6, 16, 24, 23, 24, 22, 25, 20, 36, 24,\n",
       "       26, 28, 18, 22, 26, 24,  9, 23])"
      ]
     },
     "execution_count": 27,
     "metadata": {},
     "output_type": "execute_result"
    }
   ],
   "source": [
    "[x.npartitions for x in sc]"
   ]
  },
  {
   "cell_type": "markdown",
   "metadata": {},
   "source": [
    "Of course you can pull out attributes from lists of `genotypeArray` and `paternityArray` objects using list comprehensions as well. For example, this cell retieves the name of the mother for the first maternal family:"
   ]
  },
  {
   "cell_type": "code",
   "execution_count": 51,
   "metadata": {},
   "outputs": [
    {
     "data": {
      "text/plain": [
       "'L0057'"
      ]
     },
     "execution_count": 51,
     "metadata": {},
     "output_type": "execute_result"
    }
   ],
   "source": [
    "np.unique(progeny2[0].mothers)[0]"
   ]
  },
  {
   "cell_type": "markdown",
   "metadata": {},
   "source": [
    "This list comprehension does this for all maternal families."
   ]
  },
  {
   "cell_type": "code",
   "execution_count": 47,
   "metadata": {},
   "outputs": [
    {
     "data": {
      "text/plain": [
       "array(['L0057', 'L0227', 'L1872', 'M0002', 'M0006', 'M0009', 'M0010',\n",
       "       'M0012', 'M0014', 'M0018', 'M0022', 'M0025', 'M0028', 'M0034',\n",
       "       'M0040', 'M0042', 'M0043', 'M0045', 'M0047', 'M0054', 'M0065',\n",
       "       'M0069', 'M0078', 'M0130', 'M0138', 'M0202', 'M0209', 'M0210',\n",
       "       'M0225', 'M0238', 'M0251', 'M0254', 'M0258', 'M0259', 'M0267',\n",
       "       'M0283', 'M0285', 'M0310', 'M0323', 'M0329', 'M0333', 'M0339',\n",
       "       'M0344', 'M0345', 'M0412', 'M0484', 'M0494', 'M0773', 'M0879',\n",
       "       'M0884', 'M1000', 'M1333', 'M1335', 'M1454', 'M1460', 'M1463',\n",
       "       'M1466', 'M1471', 'M1846'], dtype='|S5')"
      ]
     },
     "execution_count": 47,
     "metadata": {},
     "output_type": "execute_result"
    }
   ],
   "source": [
    "np.array([np.unique(x.mothers)[0] for x in progeny2])"
   ]
  }
 ],
 "metadata": {
  "kernelspec": {
   "display_name": "Python 2",
   "language": "python",
   "name": "python2"
  },
  "language_info": {
   "codemirror_mode": {
    "name": "ipython",
    "version": 3
   },
   "file_extension": ".py",
   "mimetype": "text/x-python",
   "name": "python",
   "nbconvert_exporter": "python",
   "pygments_lexer": "ipython3",
   "version": "3.7.4"
  }
 },
 "nbformat": 4,
 "nbformat_minor": 2
}
