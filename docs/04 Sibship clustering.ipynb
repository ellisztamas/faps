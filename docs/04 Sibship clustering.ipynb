{
 "metadata": {
  "anaconda-cloud": {},
  "kernelspec": {
   "display_name": "Python [default]",
   "language": "python",
   "name": "python2"
  },
  "language_info": {
   "codemirror_mode": {
    "name": "ipython",
    "version": 2
   },
   "file_extension": ".py",
   "mimetype": "text/x-python",
   "name": "python",
   "nbconvert_exporter": "python",
   "pygments_lexer": "ipython2",
   "version": "2.7.12"
  },
  "name": "",
  "signature": "sha256:0f0fc726edb68e4583c77efdb9fd5fbb35cc4c3dddc5afb9360c72a2482219cf"
 },
 "nbformat": 3,
 "nbformat_minor": 0,
 "worksheets": [
  {
   "cells": [
    {
     "cell_type": "heading",
     "level": 1,
     "metadata": {},
     "source": [
      "Sibship clustering"
     ]
    },
    {
     "cell_type": "markdown",
     "metadata": {},
     "source": [
      "Tom Ellis, March 2017"
     ]
    },
    {
     "cell_type": "markdown",
     "metadata": {},
     "source": [
      "FAPS uses information in a `paternityArray` to generate plausible full-sibship configurations. This information is stored as a `sibshipCluster` object, and is the basis for almost all inference about biological processes in FAPS."
     ]
    },
    {
     "cell_type": "markdown",
     "metadata": {},
     "source": [
      "This notebook will examine how to:\n",
      "\n",
      "* Use a `paternityArray` to cluster offspring into plausible full-sibships.\n",
      "* Compare the relative support for different partitions structures\n",
      "* Make some basic inferences about the size and number of full sibships, and who is related to whom."
     ]
    },
    {
     "cell_type": "heading",
     "level": 2,
     "metadata": {},
     "source": [
      "Generating a `sibshipCluster` object"
     ]
    },
    {
     "cell_type": "markdown",
     "metadata": {},
     "source": [
      "We will begin by generating a population of 100 adults with 80 loci."
     ]
    },
    {
     "cell_type": "code",
     "collapsed": true,
     "input": [
      "from faps import *\n",
      "import numpy as np\n",
      "\n",
      "np.random.seed(867)\n",
      "allele_freqs = np.random.uniform(0.3,0.5,50)\n",
      "adults = make_parents(100, allele_freqs, family_name='a')"
     ],
     "language": "python",
     "metadata": {},
     "outputs": [
      {
       "ename": "ImportError",
       "evalue": "No module named pandas",
       "output_type": "pyerr",
       "traceback": [
        "\u001b[0;31m---------------------------------------------------------------------------\u001b[0m\n\u001b[0;31mImportError\u001b[0m                               Traceback (most recent call last)",
        "\u001b[0;32m<ipython-input-1-a63d559f4748>\u001b[0m in \u001b[0;36m<module>\u001b[0;34m()\u001b[0m\n\u001b[0;32m----> 1\u001b[0;31m \u001b[0;32mfrom\u001b[0m \u001b[0mfaps\u001b[0m \u001b[0;32mimport\u001b[0m \u001b[0;34m*\u001b[0m\u001b[0;34m\u001b[0m\u001b[0m\n\u001b[0m\u001b[1;32m      2\u001b[0m \u001b[0;32mimport\u001b[0m \u001b[0mnumpy\u001b[0m \u001b[0;32mas\u001b[0m \u001b[0mnp\u001b[0m\u001b[0;34m\u001b[0m\u001b[0m\n\u001b[1;32m      3\u001b[0m \u001b[0;34m\u001b[0m\u001b[0m\n\u001b[1;32m      4\u001b[0m \u001b[0mnp\u001b[0m\u001b[0;34m.\u001b[0m\u001b[0mrandom\u001b[0m\u001b[0;34m.\u001b[0m\u001b[0mseed\u001b[0m\u001b[0;34m(\u001b[0m\u001b[0;36m867\u001b[0m\u001b[0;34m)\u001b[0m\u001b[0;34m\u001b[0m\u001b[0m\n\u001b[1;32m      5\u001b[0m \u001b[0mallele_freqs\u001b[0m \u001b[0;34m=\u001b[0m \u001b[0mnp\u001b[0m\u001b[0;34m.\u001b[0m\u001b[0mrandom\u001b[0m\u001b[0;34m.\u001b[0m\u001b[0muniform\u001b[0m\u001b[0;34m(\u001b[0m\u001b[0;36m0.3\u001b[0m\u001b[0;34m,\u001b[0m\u001b[0;36m0.5\u001b[0m\u001b[0;34m,\u001b[0m\u001b[0;36m80\u001b[0m\u001b[0;34m)\u001b[0m\u001b[0;34m\u001b[0m\u001b[0m\n",
        "\u001b[0;32m/home/tellis/Dropbox/sibship_paper/faps/__init__.py\u001b[0m in \u001b[0;36m<module>\u001b[0;34m()\u001b[0m\n\u001b[1;32m     12\u001b[0m \u001b[0;32mfrom\u001b[0m \u001b[0mmake_sibships\u001b[0m \u001b[0;32mimport\u001b[0m \u001b[0mmake_sibships\u001b[0m\u001b[0;34m\u001b[0m\u001b[0m\n\u001b[1;32m     13\u001b[0m \u001b[0;32mfrom\u001b[0m \u001b[0mmake_generation\u001b[0m \u001b[0;32mimport\u001b[0m \u001b[0mmake_generation\u001b[0m\u001b[0;34m\u001b[0m\u001b[0m\n\u001b[0;32m---> 14\u001b[0;31m \u001b[0;32mfrom\u001b[0m \u001b[0mmake_power\u001b[0m \u001b[0;32mimport\u001b[0m \u001b[0mmake_power\u001b[0m\u001b[0;34m\u001b[0m\u001b[0m\n\u001b[0m\u001b[1;32m     15\u001b[0m \u001b[0;31m# paternity arrays\u001b[0m\u001b[0;34m\u001b[0m\u001b[0;34m\u001b[0m\u001b[0m\n\u001b[1;32m     16\u001b[0m \u001b[0;32mfrom\u001b[0m \u001b[0mpaternityArray\u001b[0m \u001b[0;32mimport\u001b[0m \u001b[0mpaternityArray\u001b[0m\u001b[0;34m\u001b[0m\u001b[0m\n",
        "\u001b[0;32m/home/tellis/Dropbox/sibship_paper/faps/make_power.py\u001b[0m in \u001b[0;36m<module>\u001b[0;34m()\u001b[0m\n\u001b[1;32m      5\u001b[0m \u001b[0;32mfrom\u001b[0m \u001b[0mmake_generation\u001b[0m \u001b[0;32mimport\u001b[0m \u001b[0mmake_generation\u001b[0m\u001b[0;34m\u001b[0m\u001b[0m\n\u001b[1;32m      6\u001b[0m \u001b[0;32mfrom\u001b[0m \u001b[0mtime\u001b[0m \u001b[0;32mimport\u001b[0m \u001b[0mtime\u001b[0m\u001b[0;34m,\u001b[0m \u001b[0mlocaltime\u001b[0m\u001b[0;34m,\u001b[0m \u001b[0masctime\u001b[0m\u001b[0;34m\u001b[0m\u001b[0m\n\u001b[0;32m----> 7\u001b[0;31m \u001b[0;32mfrom\u001b[0m \u001b[0mpandas\u001b[0m \u001b[0;32mimport\u001b[0m \u001b[0mDataFrame\u001b[0m \u001b[0;32mas\u001b[0m \u001b[0mdf\u001b[0m\u001b[0;34m\u001b[0m\u001b[0m\n\u001b[0m\u001b[1;32m      8\u001b[0m \u001b[0;32mfrom\u001b[0m \u001b[0msys\u001b[0m \u001b[0;32mimport\u001b[0m \u001b[0mstdout\u001b[0m\u001b[0;34m\u001b[0m\u001b[0m\n\u001b[1;32m      9\u001b[0m \u001b[0;34m\u001b[0m\u001b[0m\n",
        "\u001b[0;31mImportError\u001b[0m: No module named pandas"
       ]
      }
     ],
     "prompt_number": 1
    },
    {
     "cell_type": "markdown",
     "metadata": {},
     "source": [
      "We take the first individal as the mother and mate her to four males, to create four full sibships of five offspring. We then generate a `paternityArray` based on the genotype data."
     ]
    },
    {
     "cell_type": "code",
     "collapsed": false,
     "input": [
      "progeny = make_sibships(adults, 0, [1,2,3,4], 5, 'x')\n",
      "mothers = adults.subset(progeny.parent_index('m', adults.names))\n",
      "patlik  = paternity_array(progeny, mothers, adults, adults.allele_freqs(), 0.002)"
     ],
     "language": "python",
     "metadata": {},
     "outputs": [],
     "prompt_number": 22
    },
    {
     "cell_type": "markdown",
     "metadata": {},
     "source": [
      "Once we normalise the paternity array it is straightforward to cluster offspring into full sibships."
     ]
    },
    {
     "cell_type": "code",
     "collapsed": false,
     "input": [
      "patprob = patlik.probability(missing_parents=0)\n",
      "sc = sibship_clustering(patprob)"
     ],
     "language": "python",
     "metadata": {},
     "outputs": [],
     "prompt_number": 23
    },
    {
     "cell_type": "markdown",
     "metadata": {},
     "source": [
      "Sibship clustering calculates likelihoods that each pair of offspring are full siblings, then builds a dendrogram from this. We can visualise this dendrogram if we so wish, although the output is not pretty."
     ]
    },
    {
     "cell_type": "code",
     "collapsed": false,
     "input": [
      "from scipy.cluster.hierarchy import dendrogram\n",
      "import matplotlib.pyplot as plt\n",
      "\n",
      "dendrogram(sc.linkage_matrix)\n",
      "plt.show()"
     ],
     "language": "python",
     "metadata": {},
     "outputs": [
      {
       "metadata": {},
       "output_type": "display_data",
       "png": "[encoded data removed]",
       "text": [
        "<matplotlib.figure.Figure at 0x7f1b21de67d0>"
       ]
      }
     ],
     "prompt_number": 24
    },
    {
     "cell_type": "markdown",
     "metadata": {},
     "source": [
      "Offspring individuals are labelled by their *index* in the array. Since full sibships are of size five we should expect to see clusters of {0,1,2,3,4}, {5,6,7,8,9}, {10,11,12,13,14} and {15,16,17,18,19}. This is indeed what we do see. What is difficult to see on the dendrogram are the branches connecting full siblings at the very bottom of the plot. If we bisect this dendrogram at different places on the y-axis we can infer different ways to partition the offspring into full siblings."
     ]
    },
    {
     "cell_type": "markdown",
     "metadata": {},
     "source": [
      "`sc` is an object of class `sibshipCluster` that contains various information about the array. Of primary interest are the set of partition structures inferred from the dendrogram. In this case there are eight unique partitions."
     ]
    },
    {
     "cell_type": "code",
     "collapsed": false,
     "input": [
      "sc.partitions"
     ],
     "language": "python",
     "metadata": {},
     "outputs": [
      {
       "metadata": {},
       "output_type": "pyout",
       "prompt_number": 13,
       "text": [
        "array([[1, 1, 1, 1, 1, 1, 1, 1, 1, 1, 1, 1, 1, 1, 1, 1, 1, 1, 1, 1],\n",
        "       [2, 2, 2, 2, 2, 2, 2, 2, 2, 2, 1, 1, 1, 1, 1, 2, 2, 2, 2, 2],\n",
        "       [2, 2, 2, 2, 2, 3, 3, 3, 3, 3, 1, 1, 1, 1, 1, 3, 3, 3, 3, 3],\n",
        "       [2, 2, 2, 2, 2, 3, 3, 3, 3, 3, 1, 1, 1, 1, 1, 4, 4, 4, 4, 4],\n",
        "       [2, 2, 2, 2, 2, 3, 3, 3, 3, 3, 1, 1, 1, 1, 1, 4, 4, 5, 4, 4],\n",
        "       [2, 3, 2, 2, 2, 4, 4, 4, 4, 4, 1, 1, 1, 1, 1, 5, 5, 6, 5, 5],\n",
        "       [2, 3, 2, 2, 2, 4, 4, 4, 4, 4, 1, 1, 1, 1, 1, 5, 5, 7, 5, 6],\n",
        "       [2, 3, 2, 2, 2, 4, 4, 4, 4, 4, 1, 1, 1, 1, 1, 5, 5, 8, 6, 7]], dtype=int32)"
       ]
      }
     ],
     "prompt_number": 13
    },
    {
     "cell_type": "markdown",
     "metadata": {},
     "source": [
      "What is key about partition structures is that each symbol represents a *unique but arbitrary* family identifier. For example in the fourth row we see individuals grouped into four groups of four individuals."
     ]
    },
    {
     "cell_type": "code",
     "collapsed": false,
     "input": [
      "sc.partitions[3]"
     ],
     "language": "python",
     "metadata": {},
     "outputs": [
      {
       "metadata": {},
       "output_type": "pyout",
       "prompt_number": 18,
       "text": [
        "array([2, 2, 2, 2, 2, 3, 3, 3, 3, 3, 1, 1, 1, 1, 1, 4, 4, 4, 4, 4], dtype=int32)"
       ]
      }
     ],
     "prompt_number": 18
    },
    {
     "cell_type": "markdown",
     "metadata": {},
     "source": [
      "Beyond denoting who is in a family with whom, the labels are arbitrary, with no meaningful order. This partition would be identical to `[0,0,0,0,0,1,1,1,1,1,2,2,2,2,2,3,3,3,3,3]` for example."
     ]
    },
    {
     "cell_type": "markdown",
     "metadata": {},
     "source": [
      "Each partition is associated with a log likelihood and equivalent log probability. We can see from both scores that the fourth partition is most consistent with the data. This is of course the true partition."
     ]
    },
    {
     "cell_type": "code",
     "collapsed": false,
     "input": [
      "print sc.loglik\n",
      "print np.exp(sc.posterior)"
     ],
     "language": "python",
     "metadata": {},
     "outputs": [
      {
       "output_type": "stream",
       "stream": "stdout",
       "text": [
        "[ -9.66662491e+02  -6.48077022e+02  -2.61625780e+02  -8.18545232e-12\n",
        "             -inf             -inf             -inf             -inf]\n",
        "[  0.00000000e+000   3.49723888e-282   2.38433511e-114   1.00000000e+000\n",
        "   0.00000000e+000   0.00000000e+000   0.00000000e+000   0.00000000e+000]\n"
       ]
      }
     ],
     "prompt_number": 21
    },
    {
     "cell_type": "markdown",
     "metadata": {},
     "source": [
      "We also see that partitions 1-3 have non-zero, but small likelihoods. In fact when we exponentiate log probabilitites the value for partition 1 is rounded to zero by the machine. Parititons 5-8 have negative infinity log likelihood - they are incompatible withe the data. These partitions split up true full siblings, and there is no way to rectify this with the data. In real world situations such partitions might have non-zero likelihoods if they were an unrelated candidate male compatible with one or more offspring through chance alone."
     ]
    },
    {
     "cell_type": "markdown",
     "metadata": {},
     "source": [
      "Note that there is some rounding error when log probabilities are exponentiated. You can see that the probabilities do not sum to one. This is classic machine error, and the reason it is good to work with log values wherever possible. We can check"
     ]
    },
    {
     "cell_type": "code",
     "collapsed": false,
     "input": [
      "np.exp(sc.posterior).sum()"
     ],
     "language": "python",
     "metadata": {},
     "outputs": [
      {
       "metadata": {},
       "output_type": "pyout",
       "prompt_number": 23,
       "text": [
        "1.0"
       ]
      }
     ],
     "prompt_number": 23
    },
    {
     "cell_type": "markdown",
     "metadata": {},
     "source": [
      "You can directly call the most likely partition. This is somewhat against the spirit of fractional analyses though..."
     ]
    },
    {
     "cell_type": "code",
     "collapsed": false,
     "input": [
      "sc.mlpartition"
     ],
     "language": "python",
     "metadata": {},
     "outputs": [
      {
       "metadata": {},
       "output_type": "pyout",
       "prompt_number": 22,
       "text": [
        "array([2, 2, 2, 2, 2, 3, 3, 3, 3, 3, 1, 1, 1, 1, 1, 4, 4, 4, 4, 4], dtype=int32)"
       ]
      }
     ],
     "prompt_number": 22
    },
    {
     "cell_type": "heading",
     "level": 2,
     "metadata": {},
     "source": [
      "Partition likelihood"
     ]
    },
    {
     "cell_type": "markdown",
     "metadata": {},
     "source": [
      "Calculating the likelihood of a partition structure is difficult in a fractional framework because we need to allow for the possibility of every candidate to be the sire of every putative full sibship, but also disallow the possibility that two full sibships share a single father. In the absence of a simple closed form estimator, FAPS uses Monte Carlo simulations to draw possible fathers for each sibship proportional to rows in the `paternityArray`, removes cases where multiple sibships share a father, and calculates likelihoods for the remaining cases.\n",
      "\n",
      "The downside of this is that when the number of candidate fathers becomes large, many Monte Carlo draws are needed to properly sample the space of possible fathers. In the example above with 100 candidates, increasing the number of draws makes no difference. If we make a much larger example with 5000 candidates, 40 SNP loci, and fairly high genotype-error rates, then increasing the number of draws means we are able to find valid configurations for more partition structures."
     ]
    },
    {
     "cell_type": "code",
     "collapsed": false,
     "input": [
      "np.random.seed(625)\n",
      "mu = 0.003 # genotype error rate\n",
      "allele_freqs = np.random.uniform(0.3,0.5,40)\n",
      "adults = make_parents(5000, allele_freqs, family_name='a').mutations(mu)\n",
      "progeny = make_sibships(adults, 0, [1,2,3,4], 5, 'x').mutations(mu)\n",
      "mothers = adults.subset(progeny.parent_index('m', adults.names))\n",
      "patlik  = paternity_array(progeny, mothers, adults, adults.allele_freqs(), mu)\n",
      "patprob = patlik.probability(missing_parents=0)\n",
      "\n",
      "print sibship_clustering(patprob, MC_draws=100).loglik\n",
      "print sibship_clustering(patprob, MC_draws=1000).loglik\n",
      "print sibship_clustering(patprob, MC_draws=10000).loglik\n",
      "print sibship_clustering(patprob, MC_draws=100000).loglik"
     ],
     "language": "python",
     "metadata": {},
     "outputs": [
      {
       "output_type": "stream",
       "stream": "stdout",
       "text": [
        "[-300.14878497 -223.3208721  -114.40501338   -4.11643149   -3.68700256\n",
        "   -3.77999235   -4.53019983   -5.74116873   -7.20170099          -inf\n",
        "          -inf          -inf          -inf          -inf          -inf\n",
        "          -inf          -inf          -inf          -inf          -inf]\n",
        "[-300.14878497 -223.3208721  -114.40501338   -4.11643149   -3.63203026\n",
        "   -3.64059837   -4.33381079   -5.47215369   -6.37430498  -18.87580261\n",
        "          -inf  -16.10652182          -inf          -inf          -inf\n",
        "          -inf          -inf          -inf          -inf          -inf]"
       ]
      },
      {
       "output_type": "stream",
       "stream": "stdout",
       "text": [
        "\n",
        "[-300.14878497 -223.3208721  -114.40501338   -4.11643149   -3.6236399\n",
        "   -3.60715325   -4.23465106   -5.32900243   -6.15784376   -7.81757297\n",
        "  -11.21313751  -24.28065391          -inf          -inf          -inf\n",
        "          -inf          -inf          -inf          -inf          -inf]"
       ]
      },
      {
       "output_type": "stream",
       "stream": "stdout",
       "text": [
        "\n",
        "[-300.14878497 -223.3208721  -114.40501338   -4.11643149   -3.62036125\n",
        "   -3.59830289   -4.21492518   -5.30423638   -6.05259868   -7.39874151\n",
        "   -8.89014014  -16.3574356   -15.78903336          -inf          -inf\n",
        "          -inf          -inf          -inf          -inf          -inf]"
       ]
      },
      {
       "output_type": "stream",
       "stream": "stdout",
       "text": [
        "\n"
       ]
      }
     ],
     "prompt_number": 14
    },
    {
     "cell_type": "markdown",
     "metadata": {},
     "source": [
      "Notice that the extra partitions idenitified are towards the end of the list. These tend to be partitions where true full-sib families are (erroneously) split into smaller groups, especially singleton families. Likelihoods for the extra partitions are not increasing, so most of the probability weight remains around partitions which are quite close to the true partition.\n",
      "\n",
      "Now consider a slightly different case where every offspring really is in a full sibship of its own (i.e. the true partition is  `[0, 1, 2, 3, 4, 5, 6, 7, 8, 9, 10, 11, 12, 13, 14, 15, 16, 17, 18, 19]`, which will be at the end of the lists of partitons). Likelihoods increase as we look from the start to the end of each list, and the final partition is the most likely for 100, 1000 and 10000 Monte Carlo draws. Using 100,000 draws we get something approximating the right partition, but not quite. The upshot of this is that sometimes it pays to do fewer draws!"
     ]
    },
    {
     "cell_type": "code",
     "collapsed": false,
     "input": [
      "np.random.seed(7636)\n",
      "mu = 0.003 # genotype error rate\n",
      "allele_freqs = np.random.uniform(0.3,0.5,40)\n",
      "adults = make_parents(5000, allele_freqs, family_name='a').mutations(mu)\n",
      "progeny = make_sibships(adults, 0, range(20), 1, 'x').mutations(mu)\n",
      "mothers = adults.subset(progeny.parent_index('m', adults.names))\n",
      "patlik  = paternity_array(progeny, mothers, adults, adults.allele_freqs(), mu)\n",
      "patprob = patlik.probability(missing_parents=0)\n",
      "\n",
      "print sibship_clustering(patprob, MC_draws=100).loglik\n",
      "print sibship_clustering(patprob, MC_draws=1000).loglik\n",
      "print sibship_clustering(patprob, MC_draws=10000).loglik\n",
      "print sibship_clustering(patprob, MC_draws=100000).loglik"
     ],
     "language": "python",
     "metadata": {},
     "outputs": [
      {
       "output_type": "stream",
       "stream": "stdout",
       "text": [
        "[-416.01100325 -379.99362751 -356.58214515 -321.73375477 -295.76199498\n",
        " -262.84565561 -233.23990513 -202.4625987  -151.32028312 -132.52095044\n",
        " -107.84368486  -87.11669899  -72.55838541  -58.80581085  -45.13526799\n",
        "  -34.52188615  -24.90701804  -15.18539672   -6.2454275    -1.76187954]\n",
        "[-416.01100325 -379.99362751 -356.58195734 -321.72968255 -295.76188441\n",
        " -262.82770667 -233.22795883 -202.4468761  -151.31535185 -132.47893826\n",
        " -107.78473665  -87.03103877  -72.48431536  -58.7335068   -44.98254529\n",
        "  -34.26318888  -24.398553    -14.66285795   -5.79014055   -0.90425391]"
       ]
      },
      {
       "output_type": "stream",
       "stream": "stdout",
       "text": [
        "\n",
        "[-416.01100325 -379.99362751 -356.58143992 -321.72943378 -295.76144521\n",
        " -262.82719638 -233.22038811 -202.44508888 -151.30750387 -132.46557852\n",
        " -107.76918959  -87.00655403  -72.45765733  -58.68801417  -44.93090914\n",
        "  -34.15881096  -24.19512812  -14.42335531   -5.53412026   -0.49542978]"
       ]
      },
      {
       "output_type": "stream",
       "stream": "stdout",
       "text": [
        "\n",
        "[ -4.16011003e+02  -3.79993479e+02  -3.56581167e+02  -3.21729213e+02\n",
        "  -2.95760913e+02  -2.62826871e+02  -2.33219930e+02  -2.02443752e+02\n",
        "  -1.51306437e+02  -1.32460620e+02  -1.07764392e+02  -8.69977352e+01\n",
        "  -7.24463954e+01  -5.86736155e+01  -4.49080325e+01  -3.41092351e+01\n",
        "  -2.41014620e+01  -1.43062675e+01  -5.40899143e+00  -2.64920174e-01]"
       ]
      },
      {
       "output_type": "stream",
       "stream": "stdout",
       "text": [
        "\n"
       ]
      }
     ],
     "prompt_number": 19
    },
    {
     "cell_type": "markdown",
     "metadata": {},
     "source": [
      "So how many Monte Carlo draws are necessary? The answer depends on how large your samples are and the sizes of the full sibhips in your sample. For this and other reasons it is always worth running a power analysis on your data to see what kind of answers you should expect to be getting from your data - see the section on power analyses for more on this. That said, the examples we have looked at here are are unusually large examples. Unless you have very large number of candidate males or enormous half-sib arrays, 100 to 1000 draws are probably sufficient. It is worth trying more than you think you need to see if the answer changes significantly.\n",
      "\n",
      "A final aside on partition likelihoods: the function to do the Monte Carlo draws relies on several list comprehensions, which are fine for modets samples, but become slow for very large runs. If you need to speed up likelihood estimation for whatever reason, there is probably scope for speeding this up. Take a look at the `lik_partition` function in the FAPS module."
     ]
    },
    {
     "cell_type": "heading",
     "level": 2,
     "metadata": {},
     "source": [
      "Inferring family structure"
     ]
    },
    {
     "cell_type": "markdown",
     "metadata": {},
     "source": [
      "For this section we will simulate a slightly more interesting family structure. This block of code creates a half-sib array of 15 offspring from five fathers, where each father contributes five, four, three, two and one offspring respectively. It then performs sibship clustering on the array. We use 1000 candidate males and 50 loci."
     ]
    },
    {
     "cell_type": "code",
     "collapsed": false,
     "input": [
      "# Lists indexing sires and dams\n",
      "sires = [1]*5 + [2]*4 + [3]*3 + [4]*2 +[5]*1\n",
      "dam   = [0] * len(sires)\n",
      "\n",
      "np.random.seed(542)\n",
      "allele_freqs = np.random.uniform(0.3,0.5,50)\n",
      "adults  = make_parents(1000, allele_freqs, family_name='a')\n",
      "progeny = make_offspring(adults, dam_list=dam, sire_list=sires)\n",
      "mothers = adults.subset(progeny.parent_index('m', adults.names))\n",
      "\n",
      "patlik  = paternity_array(progeny, mothers, adults, adults.allele_freqs(), 0.002)\n",
      "patprob = patlik.probability(missing_parents=0)\n",
      "sc = sibship_clustering(patprob)"
     ],
     "language": "python",
     "metadata": {},
     "outputs": [],
     "prompt_number": 25
    },
    {
     "cell_type": "heading",
     "level": 3,
     "metadata": {},
     "source": [
      "Number of families"
     ]
    },
    {
     "cell_type": "markdown",
     "metadata": {},
     "source": [
      "We saw before that we could call a list of valid partitions for `sc` using `sc.partitions`. The output is not terribly enlightening on its own, however. We could instead ask how probable it is that there are *x* full sibships in the array, integrating over all partition structures."
     ]
    },
    {
     "cell_type": "code",
     "collapsed": false,
     "input": [
      "sc.nfamilies()"
     ],
     "language": "python",
     "metadata": {},
     "outputs": [
      {
       "metadata": {},
       "output_type": "pyout",
       "prompt_number": 26,
       "text": [
        "array([  6.59008759e-174,   6.59626989e-121,   9.43841889e-081,\n",
        "         1.93344873e-009,   9.84033924e-001,   1.59660744e-002,\n",
        "         0.00000000e+000,   0.00000000e+000,   0.00000000e+000,\n",
        "         0.00000000e+000,   0.00000000e+000,   0.00000000e+000,\n",
        "         0.00000000e+000,   0.00000000e+000,   0.00000000e+000])"
       ]
      }
     ],
     "prompt_number": 26
    },
    {
     "cell_type": "markdown",
     "metadata": {},
     "source": [
      "Here each number is the probability that there are 1, 2, 3, 4, 5, 6, 7 or 8 families. We could show the same information graphically. Its clear that almost all the probability denisty is around $x=5$ families."
     ]
    },
    {
     "cell_type": "code",
     "collapsed": false,
     "input": [
      "%matplotlib inline\n",
      "import matplotlib\n",
      "import matplotlib.pyplot as plt\n",
      "\n",
      "fig = plt.figure()\n",
      "ax = fig.add_subplot(111)\n",
      "ax.bar(np.arange(0.5, len(sc.nfamilies())+0.5), sc.nfamilies())\n",
      "\n",
      "plt.show()"
     ],
     "language": "python",
     "metadata": {},
     "outputs": [
      {
       "metadata": {},
       "output_type": "display_data",
       "png": "[encoded data removed]",
       "text": [
        "<matplotlib.figure.Figure at 0x7f1b24fa3b90>"
       ]
      }
     ],
     "prompt_number": 27
    },
    {
     "cell_type": "heading",
     "level": 3,
     "metadata": {},
     "source": [
      "Family size"
     ]
    },
    {
     "cell_type": "markdown",
     "metadata": {},
     "source": [
      "We can also get the distribution of family sizes within the array, averaged over all partitions. This returns a vector of the same length as the number of offspring in the array. The $i^{th}$ element is the probability of observing a full sibship of size $i$."
     ]
    },
    {
     "cell_type": "code",
     "collapsed": false,
     "input": [
      "sc.family_size()"
     ],
     "language": "python",
     "metadata": {},
     "outputs": [
      {
       "metadata": {},
       "output_type": "pyout",
       "prompt_number": 28,
       "text": [
        "array([  2.02128810e-001,   1.99467798e-001,   1.99467798e-001,\n",
        "         2.02128810e-001,   1.96806785e-001,   4.83362182e-010,\n",
        "         0.00000000e+000,   0.00000000e+000,   0.00000000e+000,\n",
        "         3.14613963e-081,   0.00000000e+000,   3.29813495e-121,\n",
        "         0.00000000e+000,   0.00000000e+000,   6.59008759e-174])"
       ]
      }
     ],
     "prompt_number": 28
    },
    {
     "cell_type": "markdown",
     "metadata": {},
     "source": [
      "Plotting this shows that we are roughly equally likely to observe a family of sizes one, two, three, four and five. "
     ]
    },
    {
     "cell_type": "code",
     "collapsed": false,
     "input": [
      "fig = plt.figure()\n",
      "ax = fig.add_subplot(111)\n",
      "ax.bar(np.arange(len(sires))+0.5, sc.family_size())\n",
      "\n",
      "plt.show()"
     ],
     "language": "python",
     "metadata": {},
     "outputs": [
      {
       "metadata": {},
       "output_type": "display_data",
       "png": "[encoded data removed]",
       "text": [
        "<matplotlib.figure.Figure at 0x7f1b22167550>"
       ]
      }
     ],
     "prompt_number": 29
    },
    {
     "cell_type": "heading",
     "level": 3,
     "metadata": {},
     "source": [
      "Sibling relationships"
     ]
    },
    {
     "cell_type": "markdown",
     "metadata": {},
     "source": [
      "Often we want to know who is related to whom. `sc.full_sib_matrix()` returns an $n*n$ matrix, where $n$ is the number of offspring. Each element describes the log probability that a pair of individuals are full siblings. If we plot this using a heatmap you can clearly see the five full sibships jump out as blocks of red (>90% probability of being full siblings) against a sea of blue (near zero probability of being full siblings)."
     ]
    },
    {
     "cell_type": "code",
     "collapsed": false,
     "input": [
      "sibmat = sc.full_sib_matrix()\n",
      "plt.pcolor(np.exp(sibmat))\n",
      "plt.colorbar()\n",
      "plt.show()"
     ],
     "language": "python",
     "metadata": {},
     "outputs": [
      {
       "metadata": {},
       "output_type": "display_data",
       "png": "[encoded data removed]",
       "text": [
        "<matplotlib.figure.Figure at 0x7f1b21e6a890>"
       ]
      }
     ],
     "prompt_number": 30
    },
    {
     "cell_type": "heading",
     "level": 2,
     "metadata": {},
     "source": [
      "Mating patterns "
     ]
    },
    {
     "cell_type": "code",
     "collapsed": true,
     "input": [],
     "language": "python",
     "metadata": {},
     "outputs": [
      {
       "metadata": {},
       "output_type": "pyout",
       "prompt_number": 38,
       "text": [
        "[5, 5, 5, 0, 0]"
       ]
      }
     ],
     "prompt_number": 38
    },
    {
     "cell_type": "code",
     "collapsed": true,
     "input": [],
     "language": "python",
     "metadata": {},
     "outputs": []
    }
   ],
   "metadata": {}
  }
 ]
}