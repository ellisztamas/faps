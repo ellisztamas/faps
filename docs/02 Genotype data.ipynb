{
 "cells": [
  {
   "cell_type": "markdown",
   "metadata": {},
   "source": [
    "# Genotype data in FAPS"
   ]
  },
  {
   "cell_type": "markdown",
   "metadata": {},
   "source": [
    "In most cases, researchers will have a sample of offspring, maternal and candidate paternal individuals typed at a set of markers. In this section we'll look in more detail at how FAPS deals with genotype data to build a matrix we can use for sibship inference. \n",
    "Currently, tools for doing this in FAPS assume you are using biallelic, unlinked SNPs for a diploid; we'll discuss what you can do if your system doesn't meet these criteria later in this section."
   ]
  },
  {
   "cell_type": "markdown",
   "metadata": {},
   "source": [
    "## Genotype objects"
   ]
  },
  {
   "cell_type": "markdown",
   "metadata": {},
   "source": [
    "Genotype data are stored in a class of objects called a `genotypeArray`. We'll illustrate how these work with simulated data, since not all information is available for real-world data sets. We first generate a vector of population allele frequencies for 10 unlinked SNP markers, and use these to create a population of five adult individuals. The optional argument `family_names` allows you to name this generation."
   ]
  },
  {
   "cell_type": "code",
   "execution_count": 48,
   "metadata": {},
   "outputs": [],
   "source": [
    "from faps import *\n",
    "import numpy as np\n",
    "\n",
    "allele_freqs = np.random.uniform(0.3,0.5,10)\n",
    "mypop = make_parents(5, allele_freqs, family_name='my_population')"
   ]
  },
  {
   "cell_type": "markdown",
   "metadata": {},
   "source": [
    "The object we just created contains information about the genotypes of each of the ten parent individuals. Genotypes are stored as *N*x*L*x2-dimensional arrays, where *N* is the number of individuals and *L* is the number of loci. We can view the genotype for the first parent like so (recall that Python starts counting from zero, not one):"
   ]
  },
  {
   "cell_type": "code",
   "execution_count": 49,
   "metadata": {},
   "outputs": [
    {
     "data": {
      "text/plain": [
       "array([[1, 1],\n",
       "       [1, 0],\n",
       "       [0, 0],\n",
       "       [0, 0],\n",
       "       [1, 0],\n",
       "       [0, 0],\n",
       "       [0, 0],\n",
       "       [0, 0],\n",
       "       [0, 0],\n",
       "       [0, 0]])"
      ]
     },
     "execution_count": 49,
     "metadata": {},
     "output_type": "execute_result"
    }
   ],
   "source": [
    "mypop.geno[0]"
   ]
  },
  {
   "cell_type": "markdown",
   "metadata": {},
   "source": [
    "You could subset the array by indexes the genotypes, for example by taking only the first two individuals and the first five loci:"
   ]
  },
  {
   "cell_type": "code",
   "execution_count": 53,
   "metadata": {},
   "outputs": [
    {
     "data": {
      "text/plain": [
       "array([[[1, 1],\n",
       "        [1, 0],\n",
       "        [0, 0],\n",
       "        [0, 0],\n",
       "        [1, 0]],\n",
       "\n",
       "       [[1, 0],\n",
       "        [0, 1],\n",
       "        [1, 0],\n",
       "        [0, 1],\n",
       "        [0, 1]]])"
      ]
     },
     "execution_count": 53,
     "metadata": {},
     "output_type": "execute_result"
    }
   ],
   "source": [
    "mypop.geno[:2, :5]"
   ]
  },
  {
   "cell_type": "markdown",
   "metadata": {},
   "source": [
    "For realistic examples with many more loci, this obviously gets unwieldy pretty soon. It's cleaner to supply a list of individuals to keep or remove to the `subset` and `drop` functions. These return return a new `genotypeArray` for the individuals of interest."
   ]
  },
  {
   "cell_type": "code",
   "execution_count": 48,
   "metadata": {},
   "outputs": [
    {
     "name": "stdout",
     "output_type": "stream",
     "text": [
      "['my_population_0' 'my_population_2']\n",
      "['my_population_1' 'my_population_3' 'my_population_4']\n"
     ]
    }
   ],
   "source": [
    "print mypop.subset([0,2]).names\n",
    "print mypop.drop([0,2]).names"
   ]
  },
  {
   "cell_type": "markdown",
   "metadata": {},
   "source": [
    "A `genotypeArray` contains other useful information about the individuals:"
   ]
  },
  {
   "cell_type": "code",
   "execution_count": 46,
   "metadata": {},
   "outputs": [
    {
     "name": "stdout",
     "output_type": "stream",
     "text": [
      "['my_population_0' 'my_population_1' 'my_population_2' 'my_population_3'\n",
      " 'my_population_4']\n",
      "5\n",
      "10\n"
     ]
    }
   ],
   "source": [
    "print mypop.names # individual names\n",
    "print mypop.size  # number of individuals\n",
    "print mypop.nloci # numbe of loci typed."
   ]
  },
  {
   "cell_type": "markdown",
   "metadata": {},
   "source": [
    "`make_sibships` is a convenient way to generate a single half-sibling array from individuals in `mypop`. This code mates makes a half-sib array with individual 0 as the mothers, with individuals 1, 2 and 3 contributing male gametes. Each father has four offspring each."
   ]
  },
  {
   "cell_type": "code",
   "execution_count": 49,
   "metadata": {},
   "outputs": [],
   "source": [
    "progeny = make_sibships(mypop, 0, [1,2,3], 4, 'myprogeny')"
   ]
  },
  {
   "cell_type": "markdown",
   "metadata": {},
   "source": [
    "With this generation we can extract a little extra information from the `genotypeArray` than we could from the parents about their parents and family structure."
   ]
  },
  {
   "cell_type": "code",
   "execution_count": 50,
   "metadata": {},
   "outputs": [
    {
     "name": "stdout",
     "output_type": "stream",
     "text": [
      "['my_population_1' 'my_population_1' 'my_population_1' 'my_population_1'\n",
      " 'my_population_2' 'my_population_2' 'my_population_2' 'my_population_2'\n",
      " 'my_population_3' 'my_population_3' 'my_population_3' 'my_population_3']\n",
      "['my_population_0' 'my_population_0' 'my_population_0' 'my_population_0'\n",
      " 'my_population_0' 'my_population_0' 'my_population_0' 'my_population_0'\n",
      " 'my_population_0' 'my_population_0' 'my_population_0' 'my_population_0']\n",
      "['my_population_0/my_population_1' 'my_population_0/my_population_2'\n",
      " 'my_population_0/my_population_3']\n",
      "3\n"
     ]
    }
   ],
   "source": [
    "print progeny.fathers\n",
    "print progeny.mothers\n",
    "print progeny.families\n",
    "print progeny.nfamilies"
   ]
  },
  {
   "cell_type": "markdown",
   "metadata": {},
   "source": [
    "Of course with real data we would not normally know the identity of the father or the number of families, but this is useful for checking accuracy in simulations. It can also be useful to look up the positions of the parents in another list of names. This code finds the indices of the mothers and fathers of the offspring in the names listed in `mypop`."
   ]
  },
  {
   "cell_type": "code",
   "execution_count": 51,
   "metadata": {},
   "outputs": [
    {
     "name": "stdout",
     "output_type": "stream",
     "text": [
      "[0, 0, 0, 0, 0, 0, 0, 0, 0, 0, 0, 0]\n",
      "[1, 1, 1, 1, 2, 2, 2, 2, 3, 3, 3, 3]\n"
     ]
    }
   ],
   "source": [
    "print progeny.parent_index('mother', mypop.names)\n",
    "print progeny.parent_index('father', mypop.names)"
   ]
  },
  {
   "cell_type": "markdown",
   "metadata": {},
   "source": [
    "## Importing genotype data"
   ]
  },
  {
   "cell_type": "markdown",
   "metadata": {},
   "source": [
    "You can import genotype data from a text or CSV (comma-separated text) file. Both can be easily exported from a spreadsheet program. Rows index individuals, and columns index each typed locus. More specifically:\n",
    "\n",
    "1. Offspring names should be given in the first column\n",
    "2. If the data are offspring, names of the mothers are given in the second column.\n",
    "3. If known for some reason, names of fathers can be given as well.\n",
    "4. Genotype information should be given *to the right* of columns indicating individual or parental names, with locus names in the column headers.\n",
    "\n",
    "SNP genotype data must be biallelic, that is they can only be homozygous for the first allele, heterozygous, or homozygous for the second allele. These should be given as 0, 1 and 2 respectively. If genotype data is missing this should be entered as NA.\n",
    "\n",
    "The following code imports genotype information on real samples of offspring and candidate parents. Offspring are a half-sibling array of wild-pollinated snpadragon seedlings collected in the Spanish Pyrenees. The candidate parents are as many of the wild adult plants as we could find."
   ]
  },
  {
   "cell_type": "code",
   "execution_count": 4,
   "metadata": {},
   "outputs": [],
   "source": [
    "adults   = read_genotypes('data_files/parents_SNPs_2012.csv', genotype_col=1, delimiter=',')\n",
    "offspring = read_genotypes('data_files/M0009_offspring.csv', genotype_col=2, mothers_col=1)"
   ]
  },
  {
   "cell_type": "markdown",
   "metadata": {},
   "source": [
    "Again, Python starts counting from zero rather than one, so the first column is really column zero, and so on. Because these are CSV, there was no need to specify that data are delimited by commas, but this is included for illustration.\n",
    "\n",
    "You can call summaries for each locus of the number of individuals with misisng data, and the mean heterozygosity. These can be helpful in identifying dubious loci. This code prints data for the first ten loci."
   ]
  },
  {
   "cell_type": "code",
   "execution_count": 5,
   "metadata": {},
   "outputs": [
    {
     "name": "stdout",
     "output_type": "stream",
     "text": [
      "[ 0.09756098  0.02439024  0.02439024  0.2195122   0.02439024  0.07317073\n",
      "  0.12195122  0.          0.09756098]\n",
      "[ 0.29268293  0.6097561   0.63414634  0.34146341  0.58536585  0.51219512\n",
      "  0.26829268  0.09756098  0.56097561]\n"
     ]
    }
   ],
   "source": [
    "print offspring.missing_data[:9]\n",
    "print offspring.heterozyosity[:9]"
   ]
  }
 ],
 "metadata": {
  "anaconda-cloud": {},
  "kernelspec": {
   "display_name": "Python 2",
   "language": "python",
   "name": "python2"
  },
  "language_info": {
   "codemirror_mode": {
    "name": "ipython",
    "version": 2
   },
   "file_extension": ".py",
   "mimetype": "text/x-python",
   "name": "python",
   "nbconvert_exporter": "python",
   "pygments_lexer": "ipython2",
   "version": "2.7.12"
  }
 },
 "nbformat": 4,
 "nbformat_minor": 1
}
