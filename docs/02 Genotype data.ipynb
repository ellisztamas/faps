{
 "cells": [
  {
   "cell_type": "markdown",
   "metadata": {},
   "source": [
    "# Genotype data in FAPS"
   ]
  },
  {
   "cell_type": "markdown",
   "metadata": {},
   "source": [
    "Tom Ellis, March 2017"
   ]
  },
  {
   "cell_type": "markdown",
   "metadata": {},
   "source": [
    "In most cases, researchers will have a sample of offspring, maternal and candidate paternal individuals typed at a set of markers. In this section we'll look in more detail at how FAPS deals with genotype data to build a matrix we can use for sibship inference.\n",
    "\n",
    "This notebook will examine how to:\n",
    "\n",
    "1. Generate simple `genotypeArray` objects and explore what information is contained in them.\n",
    "2. Import external genotype data.\n",
    "3. Work with genotype data from multiple half sib families.\n",
    "\n",
    "Checking genotype data is an important step before committing to a full analysis. A case study of data checking and cleaning using an empirical dataset is given in [section 8](https://github.com/ellisztamas/faps/blob/master/docs/08%20Data%20cleaning%20in%20A.%20majus.ipynb).\n",
    "In the [next section](https://github.com/ellisztamas/faps/blob/master/docs/03%20Paternity%20arrays.ipynb) we'll see how to combine genotype information on offspring and a set of candidate parents to create an array of likelihoods of paternity for dyads of offspring and candidate fathers.\n",
    "Also relevant is the section on [simulating data and power analysis](https://github.com/ellisztamas/faps/blob/master/docs/06%20Simulating%20data.ipynb).\n",
    "\n",
    "Currently, FAPS `genotypeArray` objects assume you are using biallelic, unlinked SNPs for a diploid. If your system deviates from these criteria in some way you can also skip this stage by creating your own array of paternity likelihoods using an appropriate likelihood function, and importing this directly as a `paternityArrays`. See the next section for more on `paternityArray` objects and how they should look."
   ]
  },
  {
   "cell_type": "markdown",
   "metadata": {},
   "source": [
    "## `genotypeArray` objects"
   ]
  },
  {
   "cell_type": "markdown",
   "metadata": {},
   "source": [
    "### Basic genotype information"
   ]
  },
  {
   "cell_type": "markdown",
   "metadata": {},
   "source": [
    "Genotype data are stored in a class of objects called a `genotypeArray`. We'll illustrate how these work with simulated data, since not all information is available for real-world data sets. We first generate a vector of population allele frequencies for 10 unlinked SNP markers, and use these to create a population of five adult individuals. This is obviously an unrealisticaly small dataset, but serves for illustration. The optional argument `family_names` allows you to name this generation."
   ]
  },
  {
   "cell_type": "code",
   "execution_count": 1,
   "metadata": {
    "collapsed": true
   },
   "outputs": [],
   "source": [
    "from faps import *\n",
    "import numpy as np\n",
    "\n",
    "allele_freqs = np.random.uniform(0.3,0.5,10)\n",
    "mypop = make_parents(5, allele_freqs, family_name='my_population')"
   ]
  },
  {
   "cell_type": "markdown",
   "metadata": {},
   "source": [
    "The object we just created contains information about the genotypes of each of the ten parent individuals. Genotypes are stored as *N*x*L*x2-dimensional arrays, where *N* is the number of individuals and *L* is the number of loci. We can view the genotype for the first parent like so (recall that Python starts counting from zero, not one):"
   ]
  },
  {
   "cell_type": "code",
   "execution_count": 2,
   "metadata": {},
   "outputs": [
    {
     "data": {
      "text/plain": [
       "array([[0, 0],\n",
       "       [0, 1],\n",
       "       [1, 1],\n",
       "       [0, 0],\n",
       "       [0, 1],\n",
       "       [0, 1],\n",
       "       [1, 1],\n",
       "       [0, 1],\n",
       "       [0, 0],\n",
       "       [1, 1]])"
      ]
     },
     "execution_count": 2,
     "metadata": {},
     "output_type": "execute_result"
    }
   ],
   "source": [
    "mypop.geno[0]"
   ]
  },
  {
   "cell_type": "markdown",
   "metadata": {},
   "source": [
    "You could subset the array by indexes the genotypes, for example by taking only the first two individuals and the first five loci:"
   ]
  },
  {
   "cell_type": "code",
   "execution_count": 3,
   "metadata": {},
   "outputs": [
    {
     "data": {
      "text/plain": [
       "array([[[0, 0],\n",
       "        [0, 1],\n",
       "        [1, 1],\n",
       "        [0, 0],\n",
       "        [0, 1]],\n",
       "\n",
       "       [[0, 0],\n",
       "        [0, 1],\n",
       "        [1, 1],\n",
       "        [0, 0],\n",
       "        [0, 0]]])"
      ]
     },
     "execution_count": 3,
     "metadata": {},
     "output_type": "execute_result"
    }
   ],
   "source": [
    "mypop.geno[:2, :5]"
   ]
  },
  {
   "cell_type": "markdown",
   "metadata": {},
   "source": [
    "For realistic examples with many more loci, this obviously gets unwieldy pretty soon. It's cleaner to supply a list of individuals to keep or remove to the `subset` and `drop` functions. These return return a new `genotypeArray` for the individuals of interest."
   ]
  },
  {
   "cell_type": "code",
   "execution_count": 4,
   "metadata": {},
   "outputs": [
    {
     "name": "stdout",
     "output_type": "stream",
     "text": [
      "['my_population_0' 'my_population_2']\n",
      "['my_population_1' 'my_population_3' 'my_population_4']\n"
     ]
    }
   ],
   "source": [
    "print mypop.subset([0,2]).names\n",
    "print mypop.drop([0,2]).names"
   ]
  },
  {
   "cell_type": "markdown",
   "metadata": {},
   "source": [
    "### Information on indivuals"
   ]
  },
  {
   "cell_type": "markdown",
   "metadata": {},
   "source": [
    "A `genotypeArray` contains other useful information about the individuals:"
   ]
  },
  {
   "cell_type": "code",
   "execution_count": 5,
   "metadata": {},
   "outputs": [
    {
     "name": "stdout",
     "output_type": "stream",
     "text": [
      "['my_population_0' 'my_population_1' 'my_population_2' 'my_population_3'\n",
      " 'my_population_4']\n",
      "5\n",
      "10\n"
     ]
    }
   ],
   "source": [
    "print mypop.names # individual names\n",
    "print mypop.size  # number of individuals\n",
    "print mypop.nloci # numbe of loci typed."
   ]
  },
  {
   "cell_type": "markdown",
   "metadata": {},
   "source": [
    "`make_sibships` is a convenient way to generate a single half-sibling array from individuals in `mypop`. This code mates makes a half-sib array with individual 0 as the mothers, with individuals 1, 2 and 3 contributing male gametes. Each father has four offspring each."
   ]
  },
  {
   "cell_type": "code",
   "execution_count": 6,
   "metadata": {
    "collapsed": true
   },
   "outputs": [],
   "source": [
    "progeny = make_sibships(mypop, 0, [1,2,3], 4, 'myprogeny')"
   ]
  },
  {
   "cell_type": "markdown",
   "metadata": {},
   "source": [
    "With this generation we can extract a little extra information from the `genotypeArray` than we could from the parents about their parents and family structure."
   ]
  },
  {
   "cell_type": "code",
   "execution_count": 7,
   "metadata": {},
   "outputs": [
    {
     "name": "stdout",
     "output_type": "stream",
     "text": [
      "['my_population_1' 'my_population_1' 'my_population_1' 'my_population_1'\n",
      " 'my_population_2' 'my_population_2' 'my_population_2' 'my_population_2'\n",
      " 'my_population_3' 'my_population_3' 'my_population_3' 'my_population_3']\n",
      "['my_population_0' 'my_population_0' 'my_population_0' 'my_population_0'\n",
      " 'my_population_0' 'my_population_0' 'my_population_0' 'my_population_0'\n",
      " 'my_population_0' 'my_population_0' 'my_population_0' 'my_population_0']\n",
      "['my_population_0/my_population_1' 'my_population_0/my_population_2'\n",
      " 'my_population_0/my_population_3']\n",
      "3\n"
     ]
    }
   ],
   "source": [
    "print progeny.fathers\n",
    "print progeny.mothers\n",
    "print progeny.families\n",
    "print progeny.nfamilies"
   ]
  },
  {
   "cell_type": "markdown",
   "metadata": {},
   "source": [
    "Of course with real data we would not normally know the identity of the father or the number of families, but this is useful for checking accuracy in simulations. It can also be useful to look up the positions of the parents in another list of names. This code finds the indices of the mothers and fathers of the offspring in the names listed in `mypop`."
   ]
  },
  {
   "cell_type": "code",
   "execution_count": 8,
   "metadata": {},
   "outputs": [
    {
     "name": "stdout",
     "output_type": "stream",
     "text": [
      "[0, 0, 0, 0, 0, 0, 0, 0, 0, 0, 0, 0]\n",
      "[1, 1, 1, 1, 2, 2, 2, 2, 3, 3, 3, 3]\n"
     ]
    }
   ],
   "source": [
    "print progeny.parent_index('mother', mypop.names)\n",
    "print progeny.parent_index('father', mypop.names)"
   ]
  },
  {
   "cell_type": "markdown",
   "metadata": {},
   "source": [
    "### Information on markers"
   ]
  },
  {
   "cell_type": "markdown",
   "metadata": {},
   "source": [
    "Pull out marker names with `marker`. The names here are boring because they are simulated, but your data can have as exciting names as you'd like."
   ]
  },
  {
   "cell_type": "code",
   "execution_count": 9,
   "metadata": {},
   "outputs": [
    {
     "data": {
      "text/plain": [
       "array([0, 1, 2, 3, 4, 5, 6, 7, 8, 9])"
      ]
     },
     "execution_count": 9,
     "metadata": {},
     "output_type": "execute_result"
    }
   ],
   "source": [
    "mypop.markers"
   ]
  },
  {
   "cell_type": "markdown",
   "metadata": {},
   "source": [
    "Check whether the locus names for parents and offspring match. This is obvious vital for determining who shares alleles with whom, but easy to overlook! If they don't match, the most likely explanation is that you have imported genotype data and misspecified where the genotype data start (the `genotype_col` argument)."
   ]
  },
  {
   "cell_type": "code",
   "execution_count": 12,
   "metadata": {},
   "outputs": [
    {
     "data": {
      "text/plain": [
       "array([ True,  True,  True,  True,  True,  True,  True,  True,  True,\n",
       "        True])"
      ]
     },
     "execution_count": 12,
     "metadata": {},
     "output_type": "execute_result"
    }
   ],
   "source": [
    "mypop.markers == progeny.markers"
   ]
  },
  {
   "cell_type": "markdown",
   "metadata": {},
   "source": [
    "FAPS uses population allele frequencies to calculate the likelihood that paternal alleles are drawn at random.\n",
    "They are are useful to check the markers are doing what you think they are.\n",
    "Pull out the population allele frequencies for each locus:"
   ]
  },
  {
   "cell_type": "code",
   "execution_count": 13,
   "metadata": {},
   "outputs": [
    {
     "data": {
      "text/plain": [
       "array([0.2, 0.4, 0.5, 0.2, 0.3, 0.3, 0.4, 0.5, 0.3, 0.7])"
      ]
     },
     "execution_count": 13,
     "metadata": {},
     "output_type": "execute_result"
    }
   ],
   "source": [
    "mypop.allele_freqs()"
   ]
  },
  {
   "cell_type": "markdown",
   "metadata": {},
   "source": [
    "We can also check for missing data and heterozygosity for each marker and individual. By default, data for each marker are returned:"
   ]
  },
  {
   "cell_type": "code",
   "execution_count": 20,
   "metadata": {},
   "outputs": [
    {
     "name": "stdout",
     "output_type": "stream",
     "text": [
      "[0. 0. 0. 0. 0. 0. 0. 0. 0. 0.]\n",
      "[0.4 0.8 0.2 0.4 0.6 0.6 0.4 0.6 0.6 0.2]\n"
     ]
    }
   ],
   "source": [
    "print mypop.missing_data()\n",
    "print mypop.heterozygosity()"
   ]
  },
  {
   "cell_type": "markdown",
   "metadata": {},
   "source": [
    "To get summaries for each individual:"
   ]
  },
  {
   "cell_type": "code",
   "execution_count": 21,
   "metadata": {},
   "outputs": [
    {
     "name": "stdout",
     "output_type": "stream",
     "text": [
      "[0. 0. 0. 0. 0.]\n",
      "[0.4 0.3 0.4 0.7 0.6]\n"
     ]
    }
   ],
   "source": [
    "print mypop.missing_data(by='individual')\n",
    "print mypop.heterozygosity(by='individual')"
   ]
  },
  {
   "cell_type": "markdown",
   "metadata": {},
   "source": [
    "In this instance there is no missing data, because data are simulated to be error-free. See the next section on an empircal example where this is not true."
   ]
  },
  {
   "cell_type": "markdown",
   "metadata": {},
   "source": [
    "## Importing genotype data"
   ]
  },
  {
   "cell_type": "markdown",
   "metadata": {},
   "source": [
    "You can import genotype data from a text or CSV (comma-separated text) file. Both can be easily exported from a spreadsheet program. Rows index individuals, and columns index each typed locus. More specifically:\n",
    "\n",
    "1. Offspring names should be given in the first column\n",
    "2. If the data are offspring, names of the mothers are given in the second column.\n",
    "3. If known for some reason, names of fathers can be given as well.\n",
    "4. Genotype information should be given *to the right* of columns indicating individual or parental names, with locus names in the column headers.\n",
    "\n",
    "SNP genotype data must be biallelic, that is they can only be homozygous for the first allele, heterozygous, or homozygous for the second allele. These should be given as 0, 1 and 2 respectively. If genotype data is missing this should be entered as NA.\n",
    "\n",
    "The following code imports genotype information on real samples of offspring and candidate parents. Offspring are a half-sibling array of wild-pollinated snpadragon seedlings collected in the Spanish Pyrenees. The candidate parents are as many of the wild adult plants as we could find. You will find the data files on the [IST Austria data repository](https://datarep.app.ist.ac.at/id/eprint/95) (DOI:10.15479/AT:ISTA:95)."
   ]
  },
  {
   "cell_type": "code",
   "execution_count": 22,
   "metadata": {
    "collapsed": true
   },
   "outputs": [],
   "source": [
    "adults   = read_genotypes('../manuscript_faps/data_files/parents_SNPs_2012.csv', genotype_col=1, delimiter=',')\n",
    "offspring = read_genotypes('../manuscript_faps/data_files/offspring_SNPs_2012.csv', genotype_col=2, mothers_col=1)"
   ]
  },
  {
   "cell_type": "markdown",
   "metadata": {},
   "source": [
    "Again, Python starts counting from zero rather than one, so the first column is really column zero, and so on. Because these are CSV, there was no need to specify that data are delimited by commas, but this is included for illustration.\n",
    "\n",
    "You can call summaries of genotype data to help in data cleaning. For example, this code shows the proportion of loci with missing genotype data for the first ten offspring individuals."
   ]
  },
  {
   "cell_type": "code",
   "execution_count": 23,
   "metadata": {},
   "outputs": [
    {
     "name": "stdout",
     "output_type": "stream",
     "text": [
      "[0.01449275 0.11594203 0.08695652 ... 0.05797101 0.07246377 0.07246377]\n"
     ]
    }
   ],
   "source": [
    "print offspring.missing_data('individual')"
   ]
  },
  {
   "cell_type": "markdown",
   "metadata": {},
   "source": [
    "This snippet shows the proportion of missing data points and heterozygosity for the first ten loci. These can be helpful in identifying dubious loci."
   ]
  },
  {
   "cell_type": "code",
   "execution_count": null,
   "metadata": {},
   "outputs": [],
   "source": [
    "print offspring.missing_data('marker')[:9]\n",
    "print offspring.heterozygosity()[:9]"
   ]
  },
  {
   "cell_type": "markdown",
   "metadata": {},
   "source": [
    "## Multiple families"
   ]
  },
  {
   "cell_type": "markdown",
   "metadata": {},
   "source": [
    "In real data set we generally work with multplie half-sibling arrays at once. For downstream analyses we need to split up the genotype data into families to reflect this. To do this we need a list of positions for the mother of each offspring. We can abbreviate 'mother' to 'm' passed to `parent_index` out of clemency to weary fingers."
   ]
  },
  {
   "cell_type": "code",
   "execution_count": 24,
   "metadata": {},
   "outputs": [
    {
     "data": {
      "text/plain": [
       "array(['L0009', 'L0263', 'L0573', 'L0966', 'L1223', 'L1766', 'L1772',\n",
       "       'M0015', 'M0018', 'M0043', 'M0084', 'M0110', 'M0130', 'M0155',\n",
       "       'M0165', 'M0188', 'M0219', 'M0252', 'M0289', 'M0311', 'M0336',\n",
       "       'M0347', 'M0368', 'M0394', 'M0421', 'M0447', 'M0478', 'M0513',\n",
       "       'M0534', 'M0570', 'M0595', 'M0630', 'M0657', 'M0680', 'M0705',\n",
       "       'M0729', 'M0758', 'M0782', 'M0799', 'M0822', 'M0847', 'M0875',\n",
       "       'M0885', 'M0911', 'M0940', 'M0968', 'M0974', 'M0991', 'M1015',\n",
       "       'M1039', 'M1065', 'M1088', 'M1116', 'M1137', 'M1175', 'M1200',\n",
       "       'M1227', 'M1255', 'M1273', 'M1295', 'M1322', 'M1346', 'M1356'],\n",
       "      dtype='|S5')"
      ]
     },
     "execution_count": 24,
     "metadata": {},
     "output_type": "execute_result"
    }
   ],
   "source": [
    "mi = offspring.parent_index('m', offspring.mothers) # index position of the mothers\n",
    "np.unique(adults.names[mi]) # names of the mothers"
   ]
  },
  {
   "cell_type": "markdown",
   "metadata": {},
   "source": [
    "We split up the data using `split`. This returns a list of 63 `genotypeArray` objects for each of the 63 maternal families in this dataset."
   ]
  },
  {
   "cell_type": "code",
   "execution_count": 25,
   "metadata": {},
   "outputs": [
    {
     "name": "stdout",
     "output_type": "stream",
     "text": [
      "63\n"
     ]
    }
   ],
   "source": [
    "offs2 = offspring.split(mi)\n",
    "print len(offs2)"
   ]
  },
  {
   "cell_type": "markdown",
   "metadata": {},
   "source": [
    "You can apply any commands to each object in the list just like we did before. For example, this summarises the number of individuals in family 3, their names, and the names of the mothers. The latter are (thanksfully) identical."
   ]
  },
  {
   "cell_type": "code",
   "execution_count": 26,
   "metadata": {},
   "outputs": [
    {
     "name": "stdout",
     "output_type": "stream",
     "text": [
      "Family size: 24\n",
      "Offspring names:  ['L0057_745' 'L0057_746' 'L0057_747' 'L0057_748' 'L0057_749' 'L0057_750'\n",
      " 'L0057_751' 'L0057_752' 'L0057_753' 'L0057_754' 'L0057_755' 'L0057_756'\n",
      " 'L0057_846' 'L0057_847' 'L0057_848' 'L0057_849' 'L0057_850' 'L0057_851'\n",
      " 'L0057_852' 'L0057_853' 'L0057_854' 'L0057_855' 'L0057_856' 'L0057_857']\n",
      "Mothers names: ['L0057' 'L0057' 'L0057' 'L0057' 'L0057' 'L0057' 'L0057' 'L0057' 'L0057'\n",
      " 'L0057' 'L0057' 'L0057' 'L0057' 'L0057' 'L0057' 'L0057' 'L0057' 'L0057'\n",
      " 'L0057' 'L0057' 'L0057' 'L0057' 'L0057' 'L0057']\n"
     ]
    }
   ],
   "source": [
    "print 'Family size:', offs2[3].size\n",
    "print 'Offspring names: ',offs2[3].names\n",
    "print 'Mothers names:',offs2[3].mothers"
   ]
  },
  {
   "cell_type": "markdown",
   "metadata": {},
   "source": [
    "To perform operations on each `genotypeArray` we can use Python's excellent list comprehension format. These are convenient fast, and straightforward once you are used to them, but if you aren't familiar with list comprehensions, it is worth searching for tutorials online.\n",
    "\n",
    "As an example, here's how you call the number of offspring in each family."
   ]
  },
  {
   "cell_type": "code",
   "execution_count": 27,
   "metadata": {},
   "outputs": [
    {
     "data": {
      "text/plain": [
       "array([25, 25, 25, 24, 27,  1, 26,  3, 25, 41, 25, 19, 24, 10, 22, 26, 33,\n",
       "       37, 22, 25, 11, 21, 25, 27, 24, 31, 33, 20, 33, 25, 33, 26, 23, 24,\n",
       "       24, 26, 23, 16, 23, 25, 27, 10, 25, 26, 26,  6, 16, 24, 23, 24, 22,\n",
       "       25, 20, 36, 24, 26, 28, 18, 22, 26, 24,  9, 23])"
      ]
     },
     "execution_count": 27,
     "metadata": {},
     "output_type": "execute_result"
    }
   ],
   "source": [
    "np.array([offs2[i].size for i in range(len(offs2))])"
   ]
  },
  {
   "cell_type": "code",
   "execution_count": null,
   "metadata": {
    "collapsed": true
   },
   "outputs": [],
   "source": []
  }
 ],
 "metadata": {
  "anaconda-cloud": {},
  "kernelspec": {
   "display_name": "Python 2",
   "language": "python",
   "name": "python2"
  },
  "language_info": {
   "codemirror_mode": {
    "name": "ipython",
    "version": 3
   },
   "file_extension": ".py",
   "mimetype": "text/x-python",
   "name": "python",
   "nbconvert_exporter": "python",
   "pygments_lexer": "ipython3",
   "version": "3.6.8"
  }
 },
 "nbformat": 4,
 "nbformat_minor": 1
}
