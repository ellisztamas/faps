{
 "cells": [
  {
   "cell_type": "markdown",
   "metadata": {},
   "source": [
    "# Paternity arrays"
   ]
  },
  {
   "cell_type": "markdown",
   "metadata": {},
   "source": [
    "Paternity arrays are the what sibship clustering is built on in FAPS. They contain information about the probability that each candidate male is the father of each individual offspring. This information is stored in a `paternityArray` object, along with other related information. A `paternityArray` can either be imported directly, or created from genotype data."
   ]
  },
  {
   "cell_type": "markdown",
   "metadata": {},
   "source": [
    "## Creating a `paternityArray` from genotype data"
   ]
  },
  {
   "cell_type": "markdown",
   "metadata": {},
   "source": [
    "To create a `paternityArray` from genotype data we need to specficy `genotypeArray`s for the offspring, mothers and candidate males. Currently only biallelic SNP data are supported.\n",
    "\n",
    "We will illustrate this with a small simulated example again with four adults and six offspring."
   ]
  },
  {
   "cell_type": "code",
   "execution_count": 1,
   "metadata": {
    "collapsed": false
   },
   "outputs": [],
   "source": [
    "from faps import *\n",
    "import numpy as np\n",
    "\n",
    "np.random.seed(49) # this ensures you get exactly the same answers as I do.\n",
    "allele_freqs = np.random.uniform(0.3,0.5,10)\n",
    "mypop        = make_parents(4, allele_freqs, family_name='my_population')\n",
    "progeny      = make_sibships(mypop, 0, [1,2], 3, 'myprogeny')"
   ]
  },
  {
   "cell_type": "markdown",
   "metadata": {},
   "source": [
    "We need to supply a `genotypeArray` for the mothers. This needs to have an entry for for every offspring, i.e. six replicates of the mother."
   ]
  },
  {
   "cell_type": "code",
   "execution_count": 2,
   "metadata": {
    "collapsed": false
   },
   "outputs": [],
   "source": [
    "mum_index = progeny.parent_index('mother', mypop.names) # positions in the mothers in the array of adults\n",
    "mothers   = mypop.subset(mum_index) # genotypeArray of the mothers"
   ]
  },
  {
   "cell_type": "markdown",
   "metadata": {},
   "source": [
    "To create the `paternityArray` we also need to supply information on the genotyping error rate (mu), and population allele frequencies. For the latter, in this case we can either take the population allele frequencies defined above, or estimate them from the data, which will give slightly different answers. The function `paternity_array` creates an object of class `paternityArray`."
   ]
  },
  {
   "cell_type": "code",
   "execution_count": 3,
   "metadata": {
    "collapsed": false
   },
   "outputs": [],
   "source": [
    "mu = 0\n",
    "sample_af = mypop.allele_freqs()\n",
    "patlik = paternity_array(offspring = progeny, mothers = mothers, males= mypop, allele_freqs = sample_af, mu=mu)"
   ]
  },
  {
   "cell_type": "markdown",
   "metadata": {},
   "source": [
    "## `paternityArray` structure"
   ]
  },
  {
   "cell_type": "markdown",
   "metadata": {},
   "source": [
    "A `paternityArray` inherits information about individuals from found in a `genotypeArray`, for example:"
   ]
  },
  {
   "cell_type": "code",
   "execution_count": 12,
   "metadata": {
    "collapsed": false
   },
   "outputs": [
    {
     "name": "stdout",
     "output_type": "stream",
     "text": [
      "['my_population_0', 'my_population_1', 'my_population_2', 'my_population_3']\n",
      "['my_population_0', 'my_population_0', 'my_population_0', 'my_population_0', 'my_population_0', 'my_population_0']\n",
      "['myprogeny_0', 'myprogeny_1', 'myprogeny_2', 'myprogeny_3', 'myprogeny_4', 'myprogeny_5']\n"
     ]
    }
   ],
   "source": [
    "print patlik.candidates\n",
    "print patlik.mothers\n",
    "print patlik.offspring"
   ]
  },
  {
   "cell_type": "markdown",
   "metadata": {},
   "source": [
    "The most important part of the `paternityArray` is the likelihood array, which represent the log likelihood that each candidate male is the true father of each offspring individual. In this case it will be a 6x4 dimensional array, which we could view with:"
   ]
  },
  {
   "cell_type": "code",
   "execution_count": 5,
   "metadata": {
    "collapsed": false
   },
   "outputs": [
    {
     "data": {
      "text/plain": [
       "array([[-51.02425987, -42.17216734, -57.43110392, -47.75398282],\n",
       "       [-51.02425987, -42.17216734, -46.0440735 , -42.17216734],\n",
       "       [-51.71441154, -42.17440974, -58.12125559, -48.44413449],\n",
       "       [-56.82947481, -42.86007661, -42.85858896, -43.54798588],\n",
       "       [-47.97965161, -59.63719565, -43.55546784, -49.4940771 ],\n",
       "       [-45.9091966 , -53.00543756, -41.48501283, -47.42362208]])"
      ]
     },
     "execution_count": 5,
     "metadata": {},
     "output_type": "execute_result"
    }
   ],
   "source": [
    "patlik.likelihood"
   ]
  },
  {
   "cell_type": "markdown",
   "metadata": {},
   "source": [
    "You can see that individuals one (the mother) and four are incompatible as fathers with any offspring, because the first and last columns all show log likelihoods of negative infinity. The second candidate is the only compatible father for the first full-sibship, and the third father is the only compatible father for the second sibship (second and third columns respectively).\n",
    "\n",
    "In toy example we know the error rate to be zero, and have given it as such. In reality this will almost never be true, and we would usually need to incorporate an error rate. Here's what happens to `patlik` if we use a realistic error rate."
   ]
  },
  {
   "cell_type": "code",
   "execution_count": 5,
   "metadata": {
    "collapsed": false
   },
   "outputs": [
    {
     "data": {
      "text/plain": [
       "array([[-51.02425987, -42.17216734, -57.43110392, -47.75398282],\n",
       "       [-51.02425987, -42.17216734, -46.0440735 , -42.17216734],\n",
       "       [-51.71441154, -42.17440974, -58.12125559, -48.44413449],\n",
       "       [-56.82947481, -42.86007661, -42.85858896, -43.54798588],\n",
       "       [-47.97965161, -59.63719565, -43.55546784, -49.4940771 ],\n",
       "       [-45.9091966 , -53.00543756, -41.48501283, -47.42362208]])"
      ]
     },
     "execution_count": 5,
     "metadata": {},
     "output_type": "execute_result"
    }
   ],
   "source": [
    "mu = 0.0015\n",
    "patlik = paternity_array(offspring = progeny, mothers = mothers, males= mypop, allele_freqs = sample_af, mu=mu)\n",
    "patlik.likelihood"
   ]
  },
  {
   "cell_type": "markdown",
   "metadata": {},
   "source": [
    "No candidate can now be excluded explicitly, but we can see that the true sires have log liklihoods around ten units higher than the imposters. This means that the true sire is around 22,000-fold more likely to be the true father than the other candidates. That's quite a lot!"
   ]
  },
  {
   "cell_type": "markdown",
   "metadata": {},
   "source": [
    "The `paternityArray` also includes information that the true sire is not in the sample of candidate males. In this case this is not helpful, because we know sampling is complete, but in real examples is seldom the case. By default this is defined as the liklihood of generating the offspring genotypes given the known mothers genotype and alleles drawn from population allele frequencies. Here, values for the six offspring are higher than the likelihoods for the non-sires, indicating that they are no more likely to be the true sire than a random unrelated individual."
   ]
  },
  {
   "cell_type": "code",
   "execution_count": 7,
   "metadata": {
    "collapsed": false
   },
   "outputs": [
    {
     "data": {
      "text/plain": [
       "array([-46.28363291, -48.77700054, -47.36620112, -48.39791318,\n",
       "       -49.50267811, -47.71331648])"
      ]
     },
     "execution_count": 7,
     "metadata": {},
     "output_type": "execute_result"
    }
   ],
   "source": [
    "patlik.lik_absent"
   ]
  },
  {
   "cell_type": "markdown",
   "metadata": {},
   "source": [
    "This becomes more informative when we combine likelihoods about sampled and unsampled fathers. For fractional analyses we really want to know the probability that the father was unsampled vs sampled, and how probable it is that a single candidate is the true sire. To do this, we concatenate the values in `patlik.lik_absent` as an extra column to `patlik.likelihoods`, then normalise the array so that values in each row sum to one. It is straightforward to do this:"
   ]
  },
  {
   "cell_type": "code",
   "execution_count": 14,
   "metadata": {
    "collapsed": false
   },
   "outputs": [
    {
     "name": "stdout",
     "output_type": "stream",
     "text": [
      "(6, 5)\n"
     ]
    }
   ],
   "source": [
    "patprob = patlik.probability()\n",
    "print patprob.shape"
   ]
  },
  {
   "cell_type": "markdown",
   "metadata": {},
   "source": [
    "Printing the shape of the array demonstrates that we have gained a column. If we sum the rows we see that they do indeed add up to one now. Probabilities are stored as log probabilities, so we have to exponentiate first."
   ]
  },
  {
   "cell_type": "code",
   "execution_count": 17,
   "metadata": {
    "collapsed": false
   },
   "outputs": [
    {
     "data": {
      "text/plain": [
       "array([ 1.,  1.,  1.,  1.,  1.,  1.])"
      ]
     },
     "execution_count": 17,
     "metadata": {},
     "output_type": "execute_result"
    }
   ],
   "source": [
    "np.exp(patprob).sum(axis=1)"
   ]
  },
  {
   "cell_type": "markdown",
   "metadata": {},
   "source": [
    "You can specify the proportion $\\theta$ of the population of candidate males which are missing. The likelihoods for non-sampled parents will be weighted by $\\theta$, and likelihoods for sampled candidates by $1-\\theta$."
   ]
  },
  {
   "cell_type": "code",
   "execution_count": 26,
   "metadata": {
    "collapsed": false
   },
   "outputs": [],
   "source": [
    "patprob2 = patlik.probability(missing_parents=0.1)"
   ]
  },
  {
   "cell_type": "markdown",
   "metadata": {},
   "source": [
    "Often the mother is included in the sample of candidate males, either because you are using the same array for multiple families, or self-fertilisation is a biological possibility. In a lot of cases though the mother cannot simultaneously be the sperm/pollen donor, and it is necessary to set the rate of self-fertilisation to zero."
   ]
  },
  {
   "cell_type": "code",
   "execution_count": 5,
   "metadata": {
    "collapsed": false
   },
   "outputs": [
    {
     "data": {
      "text/plain": [
       "array([[            -inf,  -1.99493854e-02,  -1.52788860e+01,\n",
       "         -5.60176487e+00,  -4.13141495e+00],\n",
       "       [            -inf,  -7.04172407e-01,  -4.57607856e+00,\n",
       "         -7.04172407e-01,  -7.30900561e+00],\n",
       "       [            -inf,  -7.42725188e-03,  -1.59542731e+01,\n",
       "         -6.27715200e+00,  -5.19921863e+00],\n",
       "       [            -inf,  -9.19505403e-01,  -9.18017758e-01,\n",
       "         -1.60741467e+00,  -6.45734198e+00],\n",
       "       [            -inf,  -1.60869630e+01,  -5.23518911e-03,\n",
       "         -5.94384444e+00,  -5.95244546e+00],\n",
       "       [            -inf,  -1.15250325e+01,  -4.60778144e-03,\n",
       "         -5.94321704e+00,  -6.23291143e+00]])"
      ]
     },
     "execution_count": 5,
     "metadata": {},
     "output_type": "execute_result"
    }
   ],
   "source": [
    "patlik.probability(selfing_rate=0)"
   ]
  },
  {
   "cell_type": "markdown",
   "metadata": {},
   "source": [
    "The likelihoods for the mother have changed to 0 (negative infinity on the log scale). You can set any selfing rate between zero and one if you have a good idea of what the value should be and how much it varies. Otherwise it may be better to estimate the selfing rate from the data, or else estimate it some other way."
   ]
  },
  {
   "cell_type": "markdown",
   "metadata": {},
   "source": [
    "## Importing a `paternityArray`"
   ]
  },
  {
   "cell_type": "markdown",
   "metadata": {},
   "source": [
    "Frequently you may wish to save an array and reload it. Otherwise, you may be working with a more exotic system than FAPS currently supports, such as microsatellite markers or a funky ploidy system. In this case you can create your own matrix of paternity likelihoods and import this directly as a `paternityArray`. Firstly, we can save the array we made before to disk by supplying a path to save to:"
   ]
  },
  {
   "cell_type": "code",
   "execution_count": 6,
   "metadata": {
    "collapsed": false
   },
   "outputs": [],
   "source": [
    "patlik.write('./data_files/mypatlik.csv')"
   ]
  },
  {
   "cell_type": "markdown",
   "metadata": {},
   "source": [
    "We can reimport it again using `read_paternity_array`. This function is similar to the function for importing a `genotypeArray`, and the data need to have a specific structure:\n",
    "\n",
    "1. Offspring names should be given in the first column\n",
    "2. Names of the mothers are usually given in the second column.\n",
    "3. If known for some reason, names of fathers can be given as well.\n",
    "4. Likelihood information should be given *to the right* of columns indicating individual or parental names, with candidates' names in the column headers.\n",
    "5. The final column should specify a likelihood that the true sire of an individual has *not* been sampled. Usually this is given as the likelihood of drawing the paternal alleles from population allele frequencies."
   ]
  },
  {
   "cell_type": "code",
   "execution_count": 2,
   "metadata": {
    "collapsed": false
   },
   "outputs": [],
   "source": [
    "patlik = read_paternity_array('./data_files/mypatlik.csv', mothers_col=1, likelihood_col=2)"
   ]
  }
 ],
 "metadata": {
  "anaconda-cloud": {},
  "kernelspec": {
   "display_name": "Python [default]",
   "language": "python",
   "name": "python2"
  },
  "language_info": {
   "codemirror_mode": {
    "name": "ipython",
    "version": 2
   },
   "file_extension": ".py",
   "mimetype": "text/x-python",
   "name": "python",
   "nbconvert_exporter": "python",
   "pygments_lexer": "ipython2",
   "version": "2.7.12"
  }
 },
 "nbformat": 4,
 "nbformat_minor": 0
}
