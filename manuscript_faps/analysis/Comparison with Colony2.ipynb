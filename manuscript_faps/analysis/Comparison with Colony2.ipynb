{
 "cells": [
  {
   "cell_type": "markdown",
   "metadata": {},
   "source": [
    "# FAPS and Colony2"
   ]
  },
  {
   "cell_type": "markdown",
   "metadata": {},
   "source": [
    "Tom Ellis, May 2017"
   ]
  },
  {
   "cell_type": "code",
   "execution_count": 2,
   "metadata": {},
   "outputs": [
    {
     "name": "stdout",
     "output_type": "stream",
     "text": [
      "Populating the interactive namespace from numpy and matplotlib\n"
     ]
    },
    {
     "name": "stderr",
     "output_type": "stream",
     "text": [
      "/usr/local/lib/python2.7/dist-packages/IPython/core/magics/pylab.py:161: UserWarning: pylab import has clobbered these variables: ['time']\n",
      "`%matplotlib` prevents importing * from pylab and numpy\n",
      "  \"\\n`%matplotlib` prevents importing * from pylab and numpy\"\n"
     ]
    }
   ],
   "source": [
    "import numpy as np\n",
    "import pandas as pd\n",
    "#import os\n",
    "from faps import *\n",
    "from time import time\n",
    "from ipywidgets import FloatProgress\n",
    "from IPython.display import display\n",
    "import matplotlib.pyplot as plt\n",
    "%pylab inline"
   ]
  },
  {
   "cell_type": "markdown",
   "metadata": {},
   "source": [
    "## Simulating genotype datasets"
   ]
  },
  {
   "cell_type": "markdown",
   "metadata": {},
   "source": [
    "The most sophisticated software for sibship reconstruction at present is Colony 2. To allow direct comparison between FAPS and Colony2, this code generates half-sib arrays of four families each of five offspring, using adult populations between 100 and 2000. I used 50 SNP loci, with a haploid error rate of 0.0015. For each family generated it performs sibship reconstruction using FAPS, and also saves the data to be exported to Colony2. Generating the data is quick."
   ]
  },
  {
   "cell_type": "code",
   "execution_count": 3,
   "metadata": {
    "collapsed": true
   },
   "outputs": [],
   "source": [
    "#=======================#\n",
    "# Simulation parameters #\n",
    "#=======================#\n",
    "nloci    = [10,20,30,40,50,60,70,80]       # number of SNP loci to simulate.\n",
    "ndads    = [2000] # list of numbers of dads to subset\n",
    "fsg_size = 5                           # number of full-siblings per family\n",
    "nreps    = 100                         # number of half sibships to create for each replicate.\n",
    "mu       = [0.0015] # real haploid genotyping error rate."
   ]
  },
  {
   "cell_type": "code",
   "execution_count": 3,
   "metadata": {},
   "outputs": [
    {
     "data": {
      "application/vnd.jupyter.widget-view+json": {
       "model_id": "b3b68eb5a79b414cae52421c8f3630a0"
      }
     },
     "metadata": {},
     "output_type": "display_data"
    },
    {
     "name": "stdout",
     "output_type": "stream",
     "text": [
      "All simulations completed after 32.3 minutes.\n"
     ]
    }
   ],
   "source": [
    "# directory to save output to.\n",
    "fpath1 = \"/home/thoel507/Documents/Antirrhinum/colony_fulllikelihood/\"\n",
    "fpath2 = \"/home/thoel507/Documents/Antirrhinum/colony_pairwise/\"\n",
    "fpath3 = \"/home/thoel507/Documents/Antirrhinum/colony_fpls/\"\n",
    "\n",
    "np.random.seed(1308)\n",
    "nsims = nreps * len(nloci) * len(mu) * len(ndads) # total number of simulations\n",
    "data_table      = np.zeros([nsims, 14])           # empty table for summary statistics.\n",
    "\n",
    "t0 = time()\n",
    "counter = 0\n",
    "fp = FloatProgress(min=0, max=nreps) # instantiate the bar\n",
    "display(fp) # display the bar\n",
    "\n",
    "for r in range(nreps):\n",
    "    for n in range(len(ndads)):\n",
    "        for e in range(len(mu)):\n",
    "            for l in range(len(nloci)):\n",
    "                #==============================#\n",
    "                # generate parents and progeny #\n",
    "                #==============================#\n",
    "                # individuals to mate\n",
    "                dam      = 0\n",
    "                sires    = range(1,5)\n",
    "                # generate a base population, and simulate a sibship array.\n",
    "                allele_freqs = np.random.uniform(0.25,0.5, nloci[l])\n",
    "                adults = make_parents(ndads[n], allele_freqs) # plus one accounts for the mother\n",
    "                progeny = make_sibships(adults, dam, sires, fsg_size)\n",
    "\n",
    "                # Add genotyping errors and dropouts to the genotype data.\n",
    "                adults = adults.mutations(mu[e])\n",
    "                progeny = progeny.mutations(mu[e])\n",
    "                # subset geneotype data for the mothers.\n",
    "                mothers = adults.subset([0])\n",
    "                # save the true partition for later.\n",
    "                true_part = progeny.true_partition()\n",
    "\n",
    "                #===============#\n",
    "                # FAPS analysis #\n",
    "                #===============#\n",
    "                t1 = time()\n",
    "                patlik  = paternity_array(progeny, mothers, adults, adults.allele_freqs(), mu[e], selfing_rate=0)\n",
    "                sc = sibship_clustering(patlik)\n",
    "                t2 = time()\n",
    "                # Export to data table\n",
    "                these_data = np.array([int(counter), int(r), int(nloci[l]), int(ndads[n]), mu[e], # simulation parameters\n",
    "                                       t2-t1 # time for analysis\n",
    "                                       ])\n",
    "                these_data = np.append(these_data, sc.accuracy(progeny, adults))\n",
    "                data_table[counter] = these_data\n",
    "                counter += 1\n",
    "                #====================#\n",
    "                # Colony2 parameters #\n",
    "                #====================#\n",
    "                project_name    = 'n'+str(ndads[n]) + '_l'+ str(nloci[l]) + '_r'+str(r) + '_i'+str(counter) #Dataset name\n",
    "                seed            = int(np.random.choice(np.arange(1000), 1))  # Seed for Colony\n",
    "                # dropout and error rates for each locus\n",
    "                dropout_rates   = sum((adults.geno == -9)[:,0]).astype('float') / adults.size\n",
    "                error_rates     = np.repeat(mu[e], progeny.nloci)\n",
    "                parents_present = [1,1]       # prob. of dad/mum included in the candidates\n",
    "                # Lists of the names of known fathers\n",
    "                known_dads      = np.repeat('NA', progeny.size)           \n",
    "                known_mums      = progeny.mothers\n",
    "                \n",
    "                # Export data to Colony2 format - full likelihood\n",
    "                export_to_colony(progeny,                 # offspring genotypes\n",
    "                                 mothers,                 # maternal genotypes\n",
    "                                 adults,                  # candidate paternal genotypes\n",
    "                                 allele_freqs,            # population allele frequencies\n",
    "                                 fpath1,                  # folder to save data to\n",
    "                                 project_name,            # project name\n",
    "                                 project_name,            # output file name prefix\n",
    "                                 seed,                    # random seed\n",
    "                                 dropout_rates,           # missing data\n",
    "                                 error_rates,             # genotyping error rates\n",
    "                                 known_dads,              # identity of known father\n",
    "                                 known_mums,              # identity of known mothers\n",
    "                                 update_af = 0,           # 0/1=Not updating/updating allele frequency\n",
    "                                 two_sexes = 2,           # 2/1=Dioecious/Monoecious species\n",
    "                                 inbreeding = 0,          # 0/1=No inbreeding/inbreeding\n",
    "                                 haplodiploid= 0,         # 0/1=Diploid species/HaploDiploid species\n",
    "                                 polygamy = [0,0],        # 0/1=Polygamy/Monogamy for males and females\n",
    "                                 infer_clones = 0,        # 0/1=Clone inference =No/Yes\n",
    "                                 size_scaling = 1,        # 0/1=Full sibship size scaling =No/Yes\n",
    "                                 sibship_prior = [0,1,1], # 0,1,2,3=No,weak,medium,strong sibship size prior; mean paternal & maternal sibship size\n",
    "                                 known_allele_fr = 1,     # 0/1=Unknown/Known population allele frequency\n",
    "                                 nruns = 1,               # Number of runs\n",
    "                                 run_length=2,            # Length of run \n",
    "                                 monitor_method  = 0,     # 0/1=Monitor method by Iterate#/Time in second \n",
    "                                 monitor_interval= 500000,# Monitor interval in Iterate# / in seconds\n",
    "                                 windows_gui = 0,         # 0/1 running in Windows GUI version? \n",
    "                                 analysis_method = 1,     # 0/1/2 pairwise-likelihood score (PLS), full likelihood (FL), or the FL and PLS combined (FPLS) method.\n",
    "                                 precision = 3,           # 1/2/3=low/medium/high Precision for Fulllikelihood \n",
    "                                 parents_present = [1,1], # prob. of dad/mum included in the candidates \n",
    "                                 n_incompatibilies=3)\n",
    "                \n",
    "                # Export data to Colony2 format - pairwise likelihood\n",
    "                export_to_colony(progeny,                 # offspring genotypes\n",
    "                                 mothers,                 # maternal genotypes\n",
    "                                 adults,                  # candidate paternal genotypes\n",
    "                                 allele_freqs,            # population allele frequencies\n",
    "                                 fpath2,                  # folder to save data to\n",
    "                                 project_name,            # project name\n",
    "                                 project_name,            # output file name prefix\n",
    "                                 seed,                    # random seed\n",
    "                                 dropout_rates,           # missing data\n",
    "                                 error_rates,             # genotyping error rates\n",
    "                                 known_dads,              # identity of known father\n",
    "                                 known_mums,              # identity of known mothers\n",
    "                                 update_af = 0,           # 0/1=Not updating/updating allele frequency\n",
    "                                 two_sexes = 2,           # 2/1=Dioecious/Monoecious species\n",
    "                                 inbreeding = 0,          # 0/1=No inbreeding/inbreeding\n",
    "                                 haplodiploid= 0,         # 0/1=Diploid species/HaploDiploid species\n",
    "                                 polygamy = [0,0],        # 0/1=Polygamy/Monogamy for males and females\n",
    "                                 infer_clones = 0,        # 0/1=Clone inference =No/Yes\n",
    "                                 size_scaling = 1,        # 0/1=Full sibship size scaling =No/Yes\n",
    "                                 sibship_prior = [0,1,1], # 0,1,2,3=No,weak,medium,strong sibship size prior; mean paternal & maternal sibship size\n",
    "                                 known_allele_fr = 1,     # 0/1=Unknown/Known population allele frequency\n",
    "                                 nruns = 1,               # Number of runs\n",
    "                                 run_length=2,            # Length of run \n",
    "                                 monitor_method  = 0,     # 0/1=Monitor method by Iterate#/Time in second \n",
    "                                 monitor_interval= 500000,# Monitor interval in Iterate# / in seconds\n",
    "                                 windows_gui = 0,         # 0/1 running in Windows GUI version? \n",
    "                                 analysis_method = 0,     # 0/1/2 pairwise-likelihood score (PLS), full likelihood (FL), or the FL and PLS combined (FPLS) method.\n",
    "                                 precision = 3,           # 1/2/3=low/medium/high Precision for Fulllikelihood \n",
    "                                 parents_present = [1,1], # prob. of dad/mum included in the candidates \n",
    "                                 n_incompatibilies=3)\n",
    "                \n",
    "                # Export data to Colony2 format - FPLS hybrid method\n",
    "                export_to_colony(progeny,                 # offspring genotypes\n",
    "                                 mothers,                 # maternal genotypes\n",
    "                                 adults,                  # candidate paternal genotypes\n",
    "                                 allele_freqs,            # population allele frequencies\n",
    "                                 fpath3,                  # folder to save data to\n",
    "                                 project_name,            # project name\n",
    "                                 project_name,            # output file name prefix\n",
    "                                 seed,                    # random seed\n",
    "                                 dropout_rates,           # missing data\n",
    "                                 error_rates,             # genotyping error rates\n",
    "                                 known_dads,              # identity of known father\n",
    "                                 known_mums,              # identity of known mothers\n",
    "                                 update_af = 0,           # 0/1=Not updating/updating allele frequency\n",
    "                                 two_sexes = 2,           # 2/1=Dioecious/Monoecious species\n",
    "                                 inbreeding = 0,          # 0/1=No inbreeding/inbreeding\n",
    "                                 haplodiploid= 0,         # 0/1=Diploid species/HaploDiploid species\n",
    "                                 polygamy = [0,0],        # 0/1=Polygamy/Monogamy for males and females\n",
    "                                 infer_clones = 0,        # 0/1=Clone inference =No/Yes\n",
    "                                 size_scaling = 1,        # 0/1=Full sibship size scaling =No/Yes\n",
    "                                 sibship_prior = [0,1,1], # 0,1,2,3=No,weak,medium,strong sibship size prior; mean paternal & maternal sibship size\n",
    "                                 known_allele_fr = 1,     # 0/1=Unknown/Known population allele frequency\n",
    "                                 nruns = 1,               # Number of runs\n",
    "                                 run_length=2,            # Length of run \n",
    "                                 monitor_method  = 0,     # 0/1=Monitor method by Iterate#/Time in second \n",
    "                                 monitor_interval= 500000,# Monitor interval in Iterate# / in seconds\n",
    "                                 windows_gui = 0,         # 0/1 running in Windows GUI version? \n",
    "                                 analysis_method = 2,     # 0/1/2 pairwise-likelihood score (PLS), full likelihood (FL), or the FL and PLS combined (FPLS) method.\n",
    "                                 precision = 3,           # 1/2/3=low/medium/high Precision for Fulllikelihood \n",
    "                                 parents_present = [1,1], # prob. of dad/mum included in the candidates \n",
    "                                 n_incompatibilies=3)                \n",
    "    fp.value += 1 # signal to increment the progress bar\n",
    "\n",
    "print \"Simulations completed after {} minutes.\".format(round((time() - t0) / 60, 2))        "
   ]
  },
  {
   "cell_type": "markdown",
   "metadata": {},
   "source": [
    "Save FAPS data to disk:"
   ]
  },
  {
   "cell_type": "code",
   "execution_count": 4,
   "metadata": {
    "collapsed": true
   },
   "outputs": [],
   "source": [
    "# save to disk.         \n",
    "header=['counter','rep','nloci','ndads','mu','time', 'partition_found','delta_loglik','nfamilies',\n",
    "         'acc_fs','acc_hs','acc_all','prob_sires','prob_absent']\n",
    "data_table = pd.DataFrame(data_table, columns=header)\n",
    "data_table.to_csv('../data_files/colony_faps.csv', index=False)"
   ]
  },
  {
   "cell_type": "markdown",
   "metadata": {},
   "source": [
    "### Run Colony"
   ]
  },
  {
   "cell_type": "markdown",
   "metadata": {},
   "source": [
    "Colony can be called for each file using the following command from a UNIX terminal. This took 4h 10min on my Linux machine.\n",
    "\n",
    "* **Linux:** `for file in *.dat; do ./colony2s.ifort.out IFN:$file; done`\n",
    "\n",
    "* **Mac:** `for file in *.dat; do ./colony2s.out IFN:$file; done`"
   ]
  },
  {
   "cell_type": "markdown",
   "metadata": {},
   "source": [
    "This variant also saves the time for each run:\n",
    "\n",
    "* **Linux** `for file in *.dat; do { time ./colony2s.ifort.out IFN:$file ; } 2> $file.time; done`\n",
    "* **Mac** `for file in *.dat; do { time ./colony2s.out IFN:$file ; } 2> $file.time; done`"
   ]
  },
  {
   "cell_type": "markdown",
   "metadata": {},
   "source": [
    "## Accuracy"
   ]
  },
  {
   "cell_type": "markdown",
   "metadata": {},
   "source": [
    "For each replicate this code locates the relevant Colony2 output file, determines the maximum-likelihood partition structure, and pulls out information about accuracy of sibship reconstruction."
   ]
  },
  {
   "cell_type": "code",
   "execution_count": 31,
   "metadata": {
    "collapsed": true
   },
   "outputs": [],
   "source": [
    "from colony_bestfamily import colony_bestfamily\n",
    "\n",
    "true_part = np.array([0,0,0,0,0,1,1,1,1,1,2,2,2,2,2,3,3,3,3,3]) # the true partition structure for each family\n",
    "# colony_bestfamily pulls out the .BestFSFamily file for each data set and then computes accuracy for each.\n",
    "full_acc = colony_bestfamily('/home/thoel507/Documents/Antirrhinum/colony_fulllikelihood/', true_part)\n",
    "pair_acc = colony_bestfamily('/home/thoel507/Documents/Antirrhinum/colony_pairwise//', true_part)\n",
    "fpls_acc = colony_bestfamily('/home/thoel507/Documents/Antirrhinum/colony_fpls/', true_part)\n",
    "\n",
    "# save accuracies to disk.\n",
    "header='nloci,rep,acc_all,acc_fs,acc_hs,nfamilies'\n",
    "np.savetxt('../data_files/colony_full.csv', full_acc, delimiter=',', fmt=\"%5.4f\", comments='', header=header)\n",
    "np.savetxt('../data_files/colony_pair.csv', pair_acc, delimiter=',', fmt=\"%5.4f\", comments='', header=header)\n",
    "np.savetxt('../data_files/colony_fpls.csv', fpls_acc, delimiter=',', fmt=\"%5.4f\", comments='', header=header)"
   ]
  },
  {
   "cell_type": "markdown",
   "metadata": {},
   "source": [
    "Reimport the data tables if you are returning to this data set, and get the means for simulations for each level of the number of candidate fathers."
   ]
  },
  {
   "cell_type": "code",
   "execution_count": 32,
   "metadata": {
    "collapsed": true
   },
   "outputs": [],
   "source": [
    "import pandas as pd\n",
    "# import tables on accuracies\n",
    "full_acc = pd.read_csv('../data_files/colony_full.csv')\n",
    "pair_acc = pd.read_csv('../data_files/colony_pair.csv')\n",
    "fpls_acc = pd.read_csv('../data_files/colony_fpls.csv')\n",
    "faps_acc = pd.read_csv('../data_files/colony_faps.csv')\n",
    "# get means for each number of fathers. \n",
    "cfull = full_acc.groupby('nloci').mean()\n",
    "cpair = pair_acc.groupby('nloci').mean()\n",
    "cfpls = fpls_acc.groupby('nloci').mean()\n",
    "faps  = faps_acc.groupby('nloci').mean()"
   ]
  },
  {
   "cell_type": "markdown",
   "metadata": {},
   "source": [
    "To compare the two approaches we can plot the how well they reconstruct relationships between true full- and half- sibs. All three Colony methods reconstruct full-sibling relationships with high accuracy even when loci are few. FAPS shows poor accuracy when there is little genotype information, but is just as accurate when there are 50 or more loci.\n",
    "\n",
    "Full likelihood, FPLS and FAPS all reconstruct half-sibling relationships with very high accuracy. In contrast, the pairwise method in Colony is very poor at this. The reason for this is that this method tends to group everyone into a single full sibship. As such the high accuracy for full sibling assignment is spurious."
   ]
  },
  {
   "cell_type": "code",
   "execution_count": 34,
   "metadata": {
    "scrolled": true
   },
   "outputs": [
    {
     "data": {
      "image/png": "[encoded data removed]",
      "text/plain": [
       "<matplotlib.figure.Figure at 0x7fdc443c5050>"
      ]
     },
     "metadata": {},
     "output_type": "display_data"
    }
   ],
   "source": [
    "nloci = [10, 20, 30, 40, 50, 60, 70, 80, 90, 100]\n",
    "\n",
    "fig = plt.figure(figsize=(16.9/2.54,5/2.54))\n",
    "fig.subplots_adjust(wspace=0.5, hspace=0.1)\n",
    "\n",
    "ax = fig.add_subplot(1,2,1)\n",
    "ax.set_xlim(0,105)\n",
    "ax.set_ylim(0, 1.07)\n",
    "ax.set_xlabel('Number of loci')\n",
    "ax.set_ylabel('$P_{full}$')\n",
    "ax.plot(nloci, cfull.acc_fs, '-ok', label='FL')\n",
    "ax.plot(nloci, cpair.acc_fs, '-^k', label='PL')\n",
    "ax.plot(nloci, cfpls.acc_fs, '-*k', label='FPLS')\n",
    "ax.plot(nloci, faps.acc_fs, ':sk', label='FAPS')\n",
    "ax.legend(loc='lower right')\n",
    "ax.annotate('A', xy=[0,0], xytext=[5,0.1])\n",
    "\n",
    "bx = fig.add_subplot(1,2,2)\n",
    "bx.set_xlim(0,105)\n",
    "bx.set_ylim(0, 1.07)\n",
    "bx.set_xlabel('Number of loci')\n",
    "bx.set_ylabel('$P_{half}$')\n",
    "bx.plot(nloci, cfull.acc_hs, '-ok', label='Full')\n",
    "bx.plot(nloci, cpair.acc_hs, '-^k', label='Pairwise')\n",
    "bx.plot(nloci, cfpls.acc_hs, '-*k', label='Pairwise')\n",
    "bx.plot(nloci, faps.acc_hs, ':sk', label='FAPS')\n",
    "bx.annotate('B', xy=[0,0], xytext=[5,0.1])\n",
    "\n",
    "plt.show()\n",
    "#plt.savefig('../figures/colony2.eps', bbox_inches='tight', pad_inches=0.1)"
   ]
  },
  {
   "cell_type": "markdown",
   "metadata": {},
   "source": [
    "## Speed"
   ]
  },
  {
   "cell_type": "markdown",
   "metadata": {},
   "source": [
    "On my machine, analyses for all datasets using the three methods in Colony took the following times:\n",
    "\n",
    "* **Full likelihood** 671 minutes\n",
    "* ** FPLS** 465 minutes\n",
    "* **Pairwise likelihood** 322 minutes"
   ]
  },
  {
   "cell_type": "markdown",
   "metadata": {},
   "source": [
    "In contrast, FAPS only needed two minutes to create the **G** matrices and perform clustering on the same datasets.\n",
    "By using FAPS we therefore gain an increase in speed of more than 200-fold relative to the fastest reliable method available in Colony."
   ]
  },
  {
   "cell_type": "code",
   "execution_count": 36,
   "metadata": {},
   "outputs": [
    {
     "data": {
      "text/plain": [
       "2.049888805548238"
      ]
     },
     "execution_count": 36,
     "metadata": {},
     "output_type": "execute_result"
    }
   ],
   "source": [
    "faps_acc.time.sum() / 60"
   ]
  },
  {
   "cell_type": "markdown",
   "metadata": {},
   "source": [
    "In separate analyses not shown here, I repeated the simulations changing the number of candidate fathers to 2000. And recorded the following times:\n",
    "\n",
    "* **Full likelihood** 637 minutes\n",
    "* ** FPLS** 621 minutes\n",
    "* **Pairwise likelihood** 569 minutes\n",
    "* **FAPS** 7 minutes."
   ]
  }
 ],
 "metadata": {
  "kernelspec": {
   "display_name": "Python 2",
   "language": "python",
   "name": "python2"
  },
  "language_info": {
   "codemirror_mode": {
    "name": "ipython",
    "version": 2
   },
   "file_extension": ".py",
   "mimetype": "text/x-python",
   "name": "python",
   "nbconvert_exporter": "python",
   "pygments_lexer": "ipython2",
   "version": "2.7.12"
  }
 },
 "nbformat": 4,
 "nbformat_minor": 1
}
