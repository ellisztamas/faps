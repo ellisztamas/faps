{
 "cells": [
  {
   "cell_type": "markdown",
   "metadata": {},
   "source": [
    "# *Antirrhinum majus* data for 2012"
   ]
  },
  {
   "cell_type": "markdown",
   "metadata": {},
   "source": [
    "Tom Ellis, June 2017\n",
    "\n",
    "In this notebook we will examine an empirical dataset using the snapdragon *Antirrhinum majus*. In 2012 we collected open-pollinated seed capsules from wild mothers and genotypes samples of the offsping. A single seed capsule contains up to several hundred seeds from between 1 and lots of pollen donors. We also collected tissue and GPS positions for as many of the adults reproductive plants as we could find.\n",
    "\n",
    "Below, we will do an initial data inspection to weed out dubious loci and individuals. We will then look at a single maternal family in detail to examine any clues that might lead us to question results from sibship clustering. Finally, we will use the entire dataset to infer the number and size of full sibling families in this population. "
   ]
  },
  {
   "cell_type": "code",
   "execution_count": 1,
   "metadata": {},
   "outputs": [
    {
     "name": "stdout",
     "output_type": "stream",
     "text": [
      "Populating the interactive namespace from numpy and matplotlib\n"
     ]
    }
   ],
   "source": [
    "import numpy as np\n",
    "from faps import *\n",
    "import matplotlib.pyplot as plt\n",
    "%pylab inline"
   ]
  },
  {
   "cell_type": "markdown",
   "metadata": {},
   "source": [
    "## Data inspection"
   ]
  },
  {
   "cell_type": "markdown",
   "metadata": {},
   "source": [
    "Import genotype data for the reproductive adults, and the offspring of mother M0009. The latter includes information on the ID of the maternal mother."
   ]
  },
  {
   "cell_type": "code",
   "execution_count": 2,
   "metadata": {
    "collapsed": true
   },
   "outputs": [],
   "source": [
    "progeny = read_genotypes('../data_files/offspring_SNPs_2012.csv', mothers_col=1, genotype_col=2)\n",
    "adults  = read_genotypes('../data_files/parents_SNPs_2012.csv')\n",
    "\n",
    "iix = [i in adults.names for i in progeny.mothers.tolist()]\n",
    "progeny = progeny.subset(iix)"
   ]
  },
  {
   "cell_type": "markdown",
   "metadata": {},
   "source": [
    "### GPS data"
   ]
  },
  {
   "cell_type": "markdown",
   "metadata": {},
   "source": [
    "We will also import data GPS data for 2219 individuals tagged as alive in 2012. Since not all of these have been genotyped, we reformat the data to match the genotype data."
   ]
  },
  {
   "cell_type": "code",
   "execution_count": 3,
   "metadata": {
    "collapsed": true
   },
   "outputs": [],
   "source": [
    "gps_pos = np.genfromtxt('../data_files/amajus_GPS_2012.csv', delimiter=',', skip_header=1, usecols=[3,4]) # import CSV file\n",
    "gps_lab = np.genfromtxt('../data_files/amajus_GPS_2012.csv', delimiter=',', skip_header=1, usecols=0, dtype='str') # import CSV file\n",
    "# subset GPS data to match the genotype data.\n",
    "ix = [i for i in range(len(gps_lab)) if gps_lab[i] in adults.names]\n",
    "gps_pos, gps_lab = gps_pos[ix], gps_lab[ix]"
   ]
  },
  {
   "cell_type": "markdown",
   "metadata": {},
   "source": [
    "17 individuals are actually from about 15km to the East. It is hard to imagine that these individuals could contribute to the pollen pool of the mothers, so let's remove these from the sample."
   ]
  },
  {
   "cell_type": "code",
   "execution_count": 4,
   "metadata": {},
   "outputs": [
    {
     "data": {
      "text/plain": [
       "<matplotlib.collections.PathCollection at 0x7f0362d09550>"
      ]
     },
     "execution_count": 4,
     "metadata": {},
     "output_type": "execute_result"
    },
    {
     "data": {
      "image/png": "[encoded data removed]",
      "text/plain": [
       "<matplotlib.figure.Figure at 0x7f0363253f50>"
      ]
     },
     "metadata": {},
     "output_type": "display_data"
    }
   ],
   "source": [
    "plt.scatter(gps_pos[:,0], gps_pos[:,1])"
   ]
  },
  {
   "cell_type": "code",
   "execution_count": 5,
   "metadata": {
    "collapsed": true
   },
   "outputs": [],
   "source": [
    "ix = [i for i in range(len(gps_lab)) if gps_pos[i,0] > -5000]\n",
    "gps_pos, gps_lab = gps_pos[ix], gps_lab[ix]"
   ]
  },
  {
   "cell_type": "markdown",
   "metadata": {},
   "source": [
    "### Genotype information"
   ]
  },
  {
   "cell_type": "markdown",
   "metadata": {},
   "source": [
    "As a sanity check, confirm that the marker names really do match."
   ]
  },
  {
   "cell_type": "code",
   "execution_count": 6,
   "metadata": {},
   "outputs": [
    {
     "data": {
      "text/plain": [
       "True"
      ]
     },
     "execution_count": 6,
     "metadata": {},
     "output_type": "execute_result"
    }
   ],
   "source": [
    "all([progeny.markers[i] == adults.markers[i] for i in range(progeny.nloci)])"
   ]
  },
  {
   "cell_type": "markdown",
   "metadata": {},
   "source": [
    "Tissue from the adults and progeny was dried in different ways. For the progeny, I didnt use enough silica gel to dry the tissue rapidly, and the DNA became degraded. Reflecting this, although genotype dropouts (the rate at which genotype information at a single locus fails to amplify) is respectable for the adults, but dire for the offspring."
   ]
  },
  {
   "cell_type": "code",
   "execution_count": 7,
   "metadata": {},
   "outputs": [
    {
     "name": "stdout",
     "output_type": "stream",
     "text": [
      "0.027972027972\n",
      "0.791666666667\n"
     ]
    }
   ],
   "source": [
    "print adults.missing_data().max()\n",
    "print progeny.missing_data().max()\n"
   ]
  },
  {
   "cell_type": "markdown",
   "metadata": {},
   "source": [
    "Luckily a lot of this is driven by a small number of loci/individuals with very high dropout rates."
   ]
  },
  {
   "cell_type": "code",
   "execution_count": 8,
   "metadata": {},
   "outputs": [
    {
     "data": {
      "text/plain": [
       "Text(0.5,1,u'Per indiviudual: adults')"
      ]
     },
     "execution_count": 8,
     "metadata": {},
     "output_type": "execute_result"
    },
    {
     "data": {
      "image/png": "[encoded data removed]",
      "text/plain": [
       "<matplotlib.figure.Figure at 0x7f0362c9ff10>"
      ]
     },
     "metadata": {},
     "output_type": "display_data"
    }
   ],
   "source": [
    "fig = plt.figure(figsize=(10,10))\n",
    "fig.subplots_adjust(wspace=0.2, hspace=0.2)\n",
    "\n",
    "mdo = fig.add_subplot(2,2,1)\n",
    "mdo.hist(progeny.missing_data('marker'), bins=np.arange(0, 1, 0.05))\n",
    "mdo.set_xlabel(\"Missing data\")\n",
    "mdo.set_ylabel(\"Number of loci\")\n",
    "mdo.set_title('Per locus: offspring')\n",
    "\n",
    "indo = fig.add_subplot(2,2,2)\n",
    "indo.hist(progeny.missing_data(by='individual'), bins=np.arange(0, 1, 0.05))\n",
    "indo.set_xlabel(\"Missing data\")\n",
    "indo.set_ylabel(\"Number of loci\")\n",
    "indo.set_title('Per indiviudual: offspring')\n",
    "\n",
    "mda = fig.add_subplot(2,2,3)\n",
    "mda.hist(adults.missing_data('marker'), bins=np.arange(0, 1, 0.05))\n",
    "mda.set_xlabel(\"Missing data\")\n",
    "mda.set_ylabel(\"Number of loci\")\n",
    "mda.set_title('Per locus: adults')\n",
    "\n",
    "inda = fig.add_subplot(2,2,4)\n",
    "inda.hist(adults.missing_data(by='individual'), bins=np.arange(0, 1, 0.05))\n",
    "inda.set_xlabel(\"Missing data\")\n",
    "inda.set_ylabel(\"Number of loci\")\n",
    "inda.set_title('Per indiviudual: adults')"
   ]
  },
  {
   "cell_type": "markdown",
   "metadata": {},
   "source": [
    "Although overall per locus drop-out rates are low for the adults, there are some individuals with alarmingly high amounts of missing data. Candidates with very few loci typed can come out as being highly compatible with many offspring, just because there is insufficient information to exclude them."
   ]
  },
  {
   "cell_type": "code",
   "execution_count": 9,
   "metadata": {},
   "outputs": [
    {
     "name": "stdout",
     "output_type": "stream",
     "text": [
      "0.898550724638\n",
      "0.971014492754\n"
     ]
    }
   ],
   "source": [
    "print adults.missing_data(by='individual').max()\n",
    "print progeny.missing_data('individual').max()"
   ]
  },
  {
   "cell_type": "markdown",
   "metadata": {},
   "source": [
    "Count, then remove individuals with >5% missing data."
   ]
  },
  {
   "cell_type": "code",
   "execution_count": 10,
   "metadata": {},
   "outputs": [
    {
     "name": "stdout",
     "output_type": "stream",
     "text": [
      "Offspring: 688\n",
      "Parents: 66\n"
     ]
    }
   ],
   "source": [
    "print \"Offspring:\", len(np.array(progeny.names)[progeny.missing_data(1) > 0.05])\n",
    "print \"Parents:\", len(np.array(adults.names)[adults.missing_data(1) > 0.05])\n",
    "\n",
    "progeny = progeny.subset(    individuals= progeny.missing_data(1) < 0.05)\n",
    "adults  = adults.subset(individuals= adults.missing_data(1) < 0.05)"
   ]
  },
  {
   "cell_type": "markdown",
   "metadata": {},
   "source": [
    "Histograms look much better. It would still worth removing some of the dubious loci with high drop-out rates though."
   ]
  },
  {
   "cell_type": "code",
   "execution_count": 11,
   "metadata": {},
   "outputs": [
    {
     "data": {
      "text/plain": [
       "Text(0.5,1,u'Per indiviudual: adults')"
      ]
     },
     "execution_count": 11,
     "metadata": {},
     "output_type": "execute_result"
    },
    {
     "data": {
      "image/png": "[encoded data removed]",
      "text/plain": [
       "<matplotlib.figure.Figure at 0x7f0362bf0d90>"
      ]
     },
     "metadata": {},
     "output_type": "display_data"
    }
   ],
   "source": [
    "fig = plt.figure(figsize=(10,10))\n",
    "fig.subplots_adjust(wspace=0.2, hspace=0.2)\n",
    "\n",
    "mdo = fig.add_subplot(2,2,1)\n",
    "mdo.hist(progeny.missing_data('marker'), bins=np.arange(0, 0.7, 0.05))\n",
    "mdo.set_xlabel(\"Missing data\")\n",
    "mdo.set_ylabel(\"Number of loci\")\n",
    "mdo.set_title('Per locus: offspring')\n",
    "\n",
    "indo = fig.add_subplot(2,2,2)\n",
    "indo.hist(progeny.missing_data(by='individual'), bins=np.arange(0, 0.7, 0.05))\n",
    "indo.set_xlabel(\"Missing data\")\n",
    "indo.set_ylabel(\"Number of loci\")\n",
    "indo.set_title('Per indiviudual: offspring')\n",
    "\n",
    "mda = fig.add_subplot(2,2,3)\n",
    "mda.hist(adults.missing_data('marker'), bins=np.arange(0, 0.7, 0.05))\n",
    "mda.set_xlabel(\"Missing data\")\n",
    "mda.set_ylabel(\"Number of loci\")\n",
    "mda.set_title('Per locus: adults')\n",
    "\n",
    "inda = fig.add_subplot(2,2,4)\n",
    "inda.hist(adults.missing_data(by='individual'), bins=np.arange(0, 0.7, 0.05))\n",
    "inda.set_xlabel(\"Missing data\")\n",
    "inda.set_ylabel(\"Number of loci\")\n",
    "inda.set_title('Per indiviudual: adults')"
   ]
  },
  {
   "cell_type": "markdown",
   "metadata": {},
   "source": [
    "Remove the loci with dropouts >10% from both the offspring and adult datasets."
   ]
  },
  {
   "cell_type": "code",
   "execution_count": 12,
   "metadata": {},
   "outputs": [
    {
     "name": "stdout",
     "output_type": "stream",
     "text": [
      "['s217_2722063']\n"
     ]
    }
   ],
   "source": [
    "print np.array(progeny.markers)[progeny.missing_data(0) >= 0.1]\n",
    "\n",
    "progeny= progeny.subset(loci= progeny.missing_data(0) < 0.1)\n",
    "adults = adults.subset(loci = progeny.missing_data(0) < 0.1)"
   ]
  },
  {
   "cell_type": "markdown",
   "metadata": {},
   "source": [
    "Allele frequency and heterozygosity generally show the convex pattern one would expect. An exception is the locus with allele frequency at around 0.4, but heterozygosity >0.7, which is suspect, and indicative of a possible outlier."
   ]
  },
  {
   "cell_type": "code",
   "execution_count": 13,
   "metadata": {},
   "outputs": [
    {
     "data": {
      "image/png": "[encoded data removed]",
      "text/plain": [
       "<matplotlib.figure.Figure at 0x7f0362c9f3d0>"
      ]
     },
     "metadata": {},
     "output_type": "display_data"
    }
   ],
   "source": [
    "plt.scatter(adults.allele_freqs(), adults.heterozygosity(0))\n",
    "plt.xlabel('Allele frequency')\n",
    "plt.ylabel('Heterozygosity')\n",
    "plt.show()"
   ]
  },
  {
   "cell_type": "markdown",
   "metadata": {},
   "source": [
    "Loci with low heterozygosity are not dangerous in themselves; they might contribute some information, albeit little. To be on the safe side, let's remove loci with less than 0.2 heterozygosity, and the errant locus with high heterozygosity."
   ]
  },
  {
   "cell_type": "code",
   "execution_count": 14,
   "metadata": {},
   "outputs": [
    {
     "name": "stdout",
     "output_type": "stream",
     "text": [
      "Heterozygosity > 0.7: ['s217_2722063']\n",
      "Heterozygosity < 0.2: ['s154_504353' 's320_60828' 's316_93292']\n"
     ]
    }
   ],
   "source": [
    "print \"Heterozygosity > 0.7:\", adults.markers[adults.heterozygosity(0) >0.7]\n",
    "print \"Heterozygosity < 0.2:\", progeny.markers[adults.heterozygosity(0) < 0.2]\n",
    "\n",
    "progeny = progeny.subset(loci= (adults.heterozygosity(0) > 0.2) * (adults.heterozygosity(0) < 0.7))\n",
    "adults  = adults.subset( loci= (adults.heterozygosity(0) > 0.2) * (adults.heterozygosity(0) < 0.7))"
   ]
  },
  {
   "cell_type": "markdown",
   "metadata": {},
   "source": [
    "### Summary of genotype data"
   ]
  },
  {
   "cell_type": "markdown",
   "metadata": {},
   "source": [
    "This leaves us with a dataset of 61 loci for which allele frequency and heterozygosity are highest around 0.5, which is what we would like. In particular, heterozygosity (and hence homozygosity) among the adults is humped around 0.5, which is a good sign that parents should be readily distinguishable. There is nevertheless substantial spread towards zero and one for the progeny data however, which is less than ideal."
   ]
  },
  {
   "cell_type": "code",
   "execution_count": 15,
   "metadata": {},
   "outputs": [
    {
     "data": {
      "text/plain": [
       "Text(0.5,0,u'Heterozygosity')"
      ]
     },
     "execution_count": 15,
     "metadata": {},
     "output_type": "execute_result"
    },
    {
     "data": {
      "image/png": "[encoded data removed]",
      "text/plain": [
       "<matplotlib.figure.Figure at 0x7f0362741190>"
      ]
     },
     "metadata": {},
     "output_type": "display_data"
    }
   ],
   "source": [
    "fig = plt.figure(figsize=(10,10))\n",
    "fig.subplots_adjust(wspace=0.1, hspace=0.2)\n",
    "\n",
    "afp = fig.add_subplot(2,2,1)\n",
    "afp.hist(adults.allele_freqs())\n",
    "afp.set_title('Adults')\n",
    "afp.set_xlabel(\"Allele frequency\")\n",
    "\n",
    "afo = fig.add_subplot(2,2,2)\n",
    "afo.hist(progeny.allele_freqs())\n",
    "afo.set_title('Offspring')\n",
    "afo.set_xlabel(\"Allele frequency\")\n",
    "\n",
    "hetp = fig.add_subplot(2,2,3)\n",
    "hetp.hist(adults.heterozygosity(0))\n",
    "hetp.set_xlabel(\"Heterozygosity\")\n",
    "\n",
    "heto = fig.add_subplot(2,2,4)\n",
    "heto.hist(progeny.heterozygosity(0))\n",
    "heto.set_xlabel(\"Heterozygosity\")"
   ]
  },
  {
   "cell_type": "markdown",
   "metadata": {},
   "source": [
    "The effective number of loci can be seen as the number of loci at which one can make compare the offspring, maternal and candidate paternal genotype (i.e. those loci with no missing data). Given how high dropouts are in the offspring, it is worthwhile to check the effective number of loci for this dataset.\n",
    "\n",
    "In fact, effective number of loci is good. The minimum number of valid loci to compare is 46, and in 99% of cases there are 57 or more loci."
   ]
  },
  {
   "cell_type": "code",
   "execution_count": 16,
   "metadata": {
    "collapsed": true
   },
   "outputs": [],
   "source": [
    "np.unique([progeny.mothers[i] for i in range(progeny.size) if progeny.mothers[i] not in adults.names])\n",
    "ix = [i for i in range(progeny.size) if progeny.mothers[i] in adults.names]\n",
    "progeny = progeny.subset(ix)\n"
   ]
  },
  {
   "cell_type": "code",
   "execution_count": 17,
   "metadata": {},
   "outputs": [
    {
     "data": {
      "image/png": "[encoded data removed]",
      "text/plain": [
       "<matplotlib.figure.Figure at 0x7f0362c9fc50>"
      ]
     },
     "metadata": {},
     "output_type": "display_data"
    }
   ],
   "source": [
    "mothers = adults.subset(progeny.parent_index('m', adults.names))\n",
    "neloci  = effective_nloci(progeny, mothers, adults)\n",
    "plt.hist(neloci.flatten(), bins=np.arange(45.5,63.5,1))\n",
    "plt.show()"
   ]
  },
  {
   "cell_type": "markdown",
   "metadata": {},
   "source": [
    "Finally, print some summary statistics about the quality of the genotype information in the data set."
   ]
  },
  {
   "cell_type": "code",
   "execution_count": 18,
   "metadata": {},
   "outputs": [
    {
     "name": "stdout",
     "output_type": "stream",
     "text": [
      "64\n",
      "0.0173039040115\n",
      "0.00772607022607\n",
      "0.200096200096 0.548340548341\n",
      "0.230862403101 0.876097560976\n"
     ]
    }
   ],
   "source": [
    "print(adults.nloci)\n",
    "print progeny.missing_data(0).mean()\n",
    "print adults.missing_data(0).mean()\n",
    "print adults.heterozygosity(0).min(), adults.heterozygosity(0).max()\n",
    "print adults.allele_freqs().min(), adults.allele_freqs().max()"
   ]
  },
  {
   "cell_type": "markdown",
   "metadata": {
    "collapsed": true
   },
   "source": [
    "## Example family: L1872"
   ]
  },
  {
   "cell_type": "markdown",
   "metadata": {},
   "source": [
    "The `progeny` dataset consists of offspring from multiple families that were genotyped at the same time. It was convenient to consider them as one so far to tidy up the genotype data, but for subsequent analysis we need to split them up into their constituent full sib families. This is easy to do with `split`, which returns a list of `genotypeArray` objects."
   ]
  },
  {
   "cell_type": "code",
   "execution_count": 19,
   "metadata": {},
   "outputs": [
    {
     "data": {
      "text/plain": [
       "57"
      ]
     },
     "execution_count": 19,
     "metadata": {},
     "output_type": "execute_result"
    }
   ],
   "source": [
    "prlist = progeny.split(progeny.mothers)\n",
    "len(prlist)"
   ]
  },
  {
   "cell_type": "markdown",
   "metadata": {},
   "source": [
    "By way of a sanity check we will examine one of the largest families in detail. After the data filtering above, there are 20 offspring from mother L1872. Distributions of missing data, heterozygosity and allele frequency at each locus suggest no reason for alarm."
   ]
  },
  {
   "cell_type": "code",
   "execution_count": 20,
   "metadata": {},
   "outputs": [
    {
     "data": {
      "text/plain": [
       "20"
      ]
     },
     "execution_count": 20,
     "metadata": {},
     "output_type": "execute_result"
    }
   ],
   "source": [
    "ex_progeny = prlist[2]\n",
    "ex_mother  = adults.subset(ex_progeny.parent_index('m', adults.names))\n",
    "\n",
    "ex_progeny.size"
   ]
  },
  {
   "cell_type": "markdown",
   "metadata": {},
   "source": [
    "### Family structure"
   ]
  },
  {
   "cell_type": "markdown",
   "metadata": {},
   "source": [
    "Cluster the family into sibships. I have set the proportion of missing parents to 0.1; we have removed 140 of the 2219 (6%) candidates logged as alive in 2012, and I allow for 10% of candidates having been missed. In fact the results do not depend on the parameter unless it is unrealistically high."
   ]
  },
  {
   "cell_type": "code",
   "execution_count": 21,
   "metadata": {
    "collapsed": true
   },
   "outputs": [],
   "source": [
    "allele_freqs = adults.allele_freqs() # population allele frequencies\n",
    "ex_patlik    = paternity_array(ex_progeny, ex_mother, adults, allele_freqs, 0.0015, missing_parents=0.1)\n",
    "ex_sc        = sibship_clustering(ex_patlik, 1000)"
   ]
  },
  {
   "cell_type": "markdown",
   "metadata": {},
   "source": [
    "We can first look at the dendrogram of relatedness between individuals derived from the array of paternity likleihoods. "
   ]
  },
  {
   "cell_type": "code",
   "execution_count": 22,
   "metadata": {},
   "outputs": [
    {
     "data": {
      "image/png": "[encoded data removed]",
      "text/plain": [
       "<matplotlib.figure.Figure at 0x7f03604a9b50>"
      ]
     },
     "metadata": {},
     "output_type": "display_data"
    }
   ],
   "source": [
    "from scipy.cluster.hierarchy import dendrogram\n",
    "dendrogram(ex_sc.linkage_matrix, orientation='left', color_threshold=0,\n",
    "           above_threshold_color='black')\n",
    "plt.show()"
   ]
  },
  {
   "cell_type": "markdown",
   "metadata": {},
   "source": [
    "We can compare this to the most-likely partition structure to get a rough idea of what as going on. This partition groups offspring into 7 full sibships and has a posterior probability of 0.8. The partition structure simply labels individuals 0 to 20 with a unique, arbitrary identifier. For example, individuals 2 and 3 are grouped into an especially large family labelled '1'."
   ]
  },
  {
   "cell_type": "code",
   "execution_count": 23,
   "metadata": {},
   "outputs": [
    {
     "name": "stdout",
     "output_type": "stream",
     "text": [
      "[2 1 1 4 3 2 1 5 4 1 1 3 3 3 3 1 3 1 7 6]\n",
      "[1 2 3 4 5 6 7]\n",
      "0.792772670374\n"
     ]
    }
   ],
   "source": [
    "print ex_sc.mlpartition\n",
    "print np.unique(ex_sc.mlpartition)\n",
    "print np.exp(ex_sc.prob_partitions.max())"
   ]
  },
  {
   "cell_type": "markdown",
   "metadata": {},
   "source": [
    "We can recover posterior probabilties of paternity for each candidate on each offspring using `prob_paternity`. For most offspring, there is a single candidate with a probability of paternity close to one."
   ]
  },
  {
   "cell_type": "code",
   "execution_count": 24,
   "metadata": {},
   "outputs": [
    {
     "data": {
      "text/html": [
       "<div>\n",
       "<style scoped>\n",
       "    .dataframe tbody tr th:only-of-type {\n",
       "        vertical-align: middle;\n",
       "    }\n",
       "\n",
       "    .dataframe tbody tr th {\n",
       "        vertical-align: top;\n",
       "    }\n",
       "\n",
       "    .dataframe thead th {\n",
       "        text-align: right;\n",
       "    }\n",
       "</style>\n",
       "<table border=\"1\" class=\"dataframe\">\n",
       "  <thead>\n",
       "    <tr style=\"text-align: right;\">\n",
       "      <th></th>\n",
       "      <th>0</th>\n",
       "      <th>1</th>\n",
       "    </tr>\n",
       "  </thead>\n",
       "  <tbody>\n",
       "    <tr>\n",
       "      <th>0</th>\n",
       "      <td>M0880</td>\n",
       "      <td>1</td>\n",
       "    </tr>\n",
       "    <tr>\n",
       "      <th>1</th>\n",
       "      <td>M0819</td>\n",
       "      <td>1</td>\n",
       "    </tr>\n",
       "    <tr>\n",
       "      <th>2</th>\n",
       "      <td>M0819</td>\n",
       "      <td>1</td>\n",
       "    </tr>\n",
       "    <tr>\n",
       "      <th>3</th>\n",
       "      <td>M0698</td>\n",
       "      <td>0.999961</td>\n",
       "    </tr>\n",
       "    <tr>\n",
       "      <th>4</th>\n",
       "      <td>M0122</td>\n",
       "      <td>1</td>\n",
       "    </tr>\n",
       "    <tr>\n",
       "      <th>5</th>\n",
       "      <td>M0880</td>\n",
       "      <td>1</td>\n",
       "    </tr>\n",
       "    <tr>\n",
       "      <th>6</th>\n",
       "      <td>M0819</td>\n",
       "      <td>1</td>\n",
       "    </tr>\n",
       "    <tr>\n",
       "      <th>7</th>\n",
       "      <td>M0125</td>\n",
       "      <td>0.999943</td>\n",
       "    </tr>\n",
       "    <tr>\n",
       "      <th>8</th>\n",
       "      <td>M0698</td>\n",
       "      <td>0.960517</td>\n",
       "    </tr>\n",
       "    <tr>\n",
       "      <th>9</th>\n",
       "      <td>M0819</td>\n",
       "      <td>1</td>\n",
       "    </tr>\n",
       "    <tr>\n",
       "      <th>10</th>\n",
       "      <td>M0819</td>\n",
       "      <td>1</td>\n",
       "    </tr>\n",
       "    <tr>\n",
       "      <th>11</th>\n",
       "      <td>M0122</td>\n",
       "      <td>1</td>\n",
       "    </tr>\n",
       "    <tr>\n",
       "      <th>12</th>\n",
       "      <td>M0122</td>\n",
       "      <td>0.997693</td>\n",
       "    </tr>\n",
       "    <tr>\n",
       "      <th>13</th>\n",
       "      <td>M0122</td>\n",
       "      <td>1</td>\n",
       "    </tr>\n",
       "    <tr>\n",
       "      <th>14</th>\n",
       "      <td>M0122</td>\n",
       "      <td>1</td>\n",
       "    </tr>\n",
       "    <tr>\n",
       "      <th>15</th>\n",
       "      <td>M0819</td>\n",
       "      <td>1</td>\n",
       "    </tr>\n",
       "    <tr>\n",
       "      <th>16</th>\n",
       "      <td>M0122</td>\n",
       "      <td>1</td>\n",
       "    </tr>\n",
       "    <tr>\n",
       "      <th>17</th>\n",
       "      <td>M0819</td>\n",
       "      <td>1</td>\n",
       "    </tr>\n",
       "    <tr>\n",
       "      <th>18</th>\n",
       "      <td>M0107</td>\n",
       "      <td>1</td>\n",
       "    </tr>\n",
       "    <tr>\n",
       "      <th>19</th>\n",
       "      <td>M0854</td>\n",
       "      <td>1</td>\n",
       "    </tr>\n",
       "  </tbody>\n",
       "</table>\n",
       "</div>"
      ],
      "text/plain": [
       "        0         1\n",
       "0   M0880         1\n",
       "1   M0819         1\n",
       "2   M0819         1\n",
       "3   M0698  0.999961\n",
       "4   M0122         1\n",
       "5   M0880         1\n",
       "6   M0819         1\n",
       "7   M0125  0.999943\n",
       "8   M0698  0.960517\n",
       "9   M0819         1\n",
       "10  M0819         1\n",
       "11  M0122         1\n",
       "12  M0122  0.997693\n",
       "13  M0122         1\n",
       "14  M0122         1\n",
       "15  M0819         1\n",
       "16  M0122         1\n",
       "17  M0819         1\n",
       "18  M0107         1\n",
       "19  M0854         1"
      ]
     },
     "execution_count": 24,
     "metadata": {},
     "output_type": "execute_result"
    }
   ],
   "source": [
    "postpat = ex_sc.prob_paternity()\n",
    "\n",
    "# names of most probable candidates\n",
    "mx = np.array([np.where(postpat[i].max() == postpat[i])[0][0] for i in range(ex_progeny.size)])\n",
    "\n",
    "from pandas import DataFrame as df\n",
    "df([adults.names[mx], np.exp(postpat.max(1))]).T"
   ]
  },
  {
   "cell_type": "markdown",
   "metadata": {},
   "source": [
    "### Family sizes"
   ]
  },
  {
   "cell_type": "markdown",
   "metadata": {},
   "source": [
    "Consistent with the results for many families (shown below), the posterior distributions for family size suggest many small families and a smaller number of larger families."
   ]
  },
  {
   "cell_type": "code",
   "execution_count": 25,
   "metadata": {},
   "outputs": [
    {
     "data": {
      "image/png": "[encoded data removed]",
      "text/plain": [
       "<matplotlib.figure.Figure at 0x7f03603a08d0>"
      ]
     },
     "metadata": {},
     "output_type": "display_data"
    }
   ],
   "source": [
    "fig = plt.figure(figsize=(15,6))\n",
    "\n",
    "nf = fig.add_subplot(1,2,1)\n",
    "nf.plot(range(1,ex_progeny.size+1), ex_sc.nfamilies())\n",
    "nf.set_xlabel('Number of families')\n",
    "nf.set_ylabel('Probability')\n",
    "\n",
    "fs = fig.add_subplot(1,2,2)\n",
    "fs.plot(range(1,ex_progeny.size+1), ex_sc.family_size())\n",
    "fs.set_xlabel('Family size')\n",
    "plt.show()"
   ]
  },
  {
   "cell_type": "markdown",
   "metadata": {},
   "source": [
    "### Geographic positions"
   ]
  },
  {
   "cell_type": "markdown",
   "metadata": {},
   "source": [
    "Intuitively, one would expect most pollen donors to be fairly close to the mother. Since the most probable partition had fairly strong support and identified a set of candidates with posterior probabilities close to one, it is reasonable to use these individuals to get an idea of where the pollen donors are to be found."
   ]
  },
  {
   "cell_type": "code",
   "execution_count": 26,
   "metadata": {
    "collapsed": true
   },
   "outputs": [],
   "source": [
    "ix =[i for i in range(len(gps_lab)) if gps_lab[i] in adults.names[mx]]\n",
    "gps_cands = gps_pos[ix]\n",
    "gps_ex =  gps_pos[gps_lab == \"L1872\"].squeeze()"
   ]
  },
  {
   "cell_type": "markdown",
   "metadata": {},
   "source": [
    "The map below shows the spatial positions of all individuals in the sample in green. Overlaid are the mother in red, and top candidates in blue. The likley candidates are indeed found close to the mother along the lower (southern-most) road, with two individuals on the upper (northern) road. This gives us no cause to doubt the validity of the paternity results."
   ]
  },
  {
   "cell_type": "code",
   "execution_count": 27,
   "metadata": {
    "collapsed": true
   },
   "outputs": [],
   "source": [
    "second = np.sort(postpat, 1)[:, 1]\n",
    "sx = np.array([np.where(second[i] == postpat[i])[0][0] for i in range(ex_progeny.size)])\n",
    "gps_sec = gps_pos[np.unique(sx)]"
   ]
  },
  {
   "cell_type": "code",
   "execution_count": 28,
   "metadata": {},
   "outputs": [
    {
     "data": {
      "image/png": "[encoded data removed]",
      "text/plain": [
       "<matplotlib.figure.Figure at 0x7f036033fdd0>"
      ]
     },
     "metadata": {},
     "output_type": "display_data"
    }
   ],
   "source": [
    "fig = plt.figure(figsize=(16.9/2.54,6.75/2.54))\n",
    "#plt.figure(figsize=(12.5,5)\n",
    "\n",
    "plt.xlabel('East-West positition (m)')\n",
    "plt.ylabel('North-South positition (m)')\n",
    "plt.xlim(-2500,2000)\n",
    "plt.scatter(gps_pos[:,0],  gps_pos[:,1], s=5, color='green', alpha=0.5)\n",
    "plt.scatter(gps_sec[:,0],  gps_sec[:,1], color='gold')\n",
    "plt.scatter(gps_cands[:,0],gps_cands[:,1], color='blue')\n",
    "plt.scatter(gps_ex[0], gps_ex[1], color='red', s=40, edgecolors='black')\n",
    "fig.savefig('../figures/top_candidates_map.eps', bbox_inches='tight', pad_inches=0.1)"
   ]
  },
  {
   "cell_type": "markdown",
   "metadata": {},
   "source": [
    "We can use these data to get a very rough dispersal kernal. Most pollen comes from within 50m of the maternal plant."
   ]
  },
  {
   "cell_type": "code",
   "execution_count": 29,
   "metadata": {},
   "outputs": [
    {
     "name": "stdout",
     "output_type": "stream",
     "text": [
      "Mean dispersal = 48.0415964184\n"
     ]
    },
    {
     "data": {
      "image/png": "[encoded data removed]",
      "text/plain": [
       "<matplotlib.figure.Figure at 0x7f036045f4d0>"
      ]
     },
     "metadata": {},
     "output_type": "display_data"
    }
   ],
   "source": [
    "dists = np.sqrt((gps_ex[0] - gps_cands[:,0])**2 + (gps_ex[1] - gps_cands[:,1])**2)\n",
    "print \"Mean dispersal =\",mean(dists)\n",
    "\n",
    "plt.hist(dists, bins=np.arange(0,650,50))\n",
    "plt.show()"
   ]
  },
  {
   "cell_type": "markdown",
   "metadata": {},
   "source": [
    "In contrast, the second most likely candidates are on average more than 800m from the maternal plant."
   ]
  },
  {
   "cell_type": "code",
   "execution_count": 30,
   "metadata": {},
   "outputs": [
    {
     "ename": "NameError",
     "evalue": "name 'dists2' is not defined",
     "output_type": "error",
     "traceback": [
      "\u001b[0;31m---------------------------------------------------------------------------\u001b[0m",
      "\u001b[0;31mNameError\u001b[0m                                 Traceback (most recent call last)",
      "\u001b[0;32m<ipython-input-30-8535f50c6854>\u001b[0m in \u001b[0;36m<module>\u001b[0;34m()\u001b[0m\n\u001b[0;32m----> 1\u001b[0;31m \u001b[0mdists2\u001b[0m\u001b[0;34m.\u001b[0m\u001b[0mmax\u001b[0m\u001b[0;34m(\u001b[0m\u001b[0;34m)\u001b[0m\u001b[0;34m\u001b[0m\u001b[0m\n\u001b[0m",
      "\u001b[0;31mNameError\u001b[0m: name 'dists2' is not defined"
     ]
    }
   ],
   "source": [
    "dists2.max()"
   ]
  },
  {
   "cell_type": "code",
   "execution_count": null,
   "metadata": {},
   "outputs": [],
   "source": [
    "dists2 = np.sqrt((gps_ex[0] - gps_sec[:,0])**2 + (gps_ex[1] - gps_sec[:,1])**2)\n",
    "print \"Mean dispersal =\",mean(dists2)\n"
   ]
  },
  {
   "cell_type": "markdown",
   "metadata": {},
   "source": [
    "### Missing data in the candidates"
   ]
  },
  {
   "cell_type": "markdown",
   "metadata": {},
   "source": [
    "When candidate fathers have substantial missing data, they can have apparently high likelihoods of paternity just because there are fewer opportunities to show an incompatibility."
   ]
  },
  {
   "cell_type": "markdown",
   "metadata": {},
   "source": [
    "I previously found that candidates with ~10% missing data tended to be assigned as the true father alarmingly frequently. Here, we have already excluded candidates with more than 5% missing data. As a sanity to check to ensure missing data is not a substantial problem here, we can check how often the most likely candidate has 0, 1, 2, 3 or 4 loci with no genotype information.\n",
    "\n",
    "The histograms below show these distributions based on probabilities before and after sibship clustering. Top candidates have either one or zero missing data points. This is probably really a random draw from the pool of candidates, because these are the most common categories."
   ]
  },
  {
   "cell_type": "code",
   "execution_count": 31,
   "metadata": {},
   "outputs": [
    {
     "data": {
      "image/png": "[encoded data removed]",
      "text/plain": [
       "<matplotlib.figure.Figure at 0x7f035fdeef50>"
      ]
     },
     "metadata": {},
     "output_type": "display_data"
    }
   ],
   "source": [
    "md = ex_sc.prob_paternity()\n",
    "px = [np.where(md[i]                  == md[i].max())[0][0]                     for i in range(ex_progeny.size)]\n",
    "lx = [np.where(ex_patlik.lik_array[i] == ex_patlik.lik_array[i][i].max())[0][0] for i in range(ex_progeny.size)]\n",
    "\n",
    "fig= plt.figure(figsize=(16.9/2.54, 6/2.54))\n",
    "fig.subplots_adjust(wspace=0.3)\n",
    "\n",
    "\n",
    "lh= fig.add_subplot(1,2,1)\n",
    "lh.bar(range(4), np.unique(adults.missing_data(1), return_counts=True)[1])\n",
    "lh.set_title('All adults')\n",
    "lh.set_xlabel('Number failed loci')\n",
    "lh.set_ylabel('Number of individuals')\n",
    "lh.set_xticks(np.arange(4)+0.4)\n",
    "lh.set_xticklabels(np.arange(4))\n",
    "\n",
    "ph= fig.add_subplot(1,2,2)\n",
    "ph.bar(np.arange(2), np.unique(adults.missing_data(1)[px], return_counts=True)[1])\n",
    "ph.set_title('Top candidates')\n",
    "ph.set_xlabel('Number failed loci')\n",
    "ph.set_xticks(np.arange(4)+0.4)\n",
    "ph.set_xticklabels(np.arange(4))\n",
    "fig.savefig('../figures/L1872_missingdata.eps', bbox_inches='tight', pad_inches=0.1)"
   ]
  },
  {
   "cell_type": "markdown",
   "metadata": {},
   "source": [
    "### Relatedness "
   ]
  },
  {
   "cell_type": "markdown",
   "metadata": {},
   "source": [
    "Another explanation for splitting a full sibship into multiple smaller sibships would be that there is relatedness among candidates, and a relative of the true sire can sometimes have a higher likelihood of paternity than the true sire just by chance. If this is the case we would expect the most likely candidates to be more related to one another than we would expect if they were a random draw from the population.\n",
    "\n",
    "First, calculate a matrix of pairwise relatedness between all individuals in the sample of candidates:"
   ]
  },
  {
   "cell_type": "code",
   "execution_count": 85,
   "metadata": {
    "collapsed": true
   },
   "outputs": [],
   "source": [
    "matches = [(adults.geno[:,:,i][np.newaxis] == adults.geno[:,:,j][:, np.newaxis]).mean(2) for i in [0,1] for j in [0,1]]\n",
    "matches = np.array(matches)\n",
    "matches = matches.mean(0)"
   ]
  },
  {
   "cell_type": "markdown",
   "metadata": {},
   "source": [
    "These histograms show pairwise relatedness for all pairs of candidates in blue, and the most probable father of each individual after clustering in green (I have excluded duplicate candidates). There is no reason to suppose the top candidates are anything other than a random draw."
   ]
  },
  {
   "cell_type": "code",
   "execution_count": 121,
   "metadata": {},
   "outputs": [
    {
     "data": {
      "image/png": "[encoded data removed]",
      "text/plain": [
       "<matplotlib.figure.Figure at 0x7fa188c0a490>"
      ]
     },
     "metadata": {},
     "output_type": "display_data"
    }
   ],
   "source": [
    "ux = np.unique(px)\n",
    "top_r = np.array([matches[ux[i],ux] for i in range(len(ux))])\n",
    "\n",
    "# weight bars to ensure the histograms sum to one.\n",
    "w1 = np.ones_like(matches[np.triu_indices(2079, 1)]) / float(len(matches[np.triu_indices(2079, 1)]))\n",
    "w2 = np.ones_like(top_r[np.triu_indices(len(ux), 1)]) / float(len(top_r[np.triu_indices(len(ux), 1)]))\n",
    "\n",
    "fig= plt.figure(figsize=(9/2.54, 8/2.54))\n",
    "plt.hist(matches[np.triu_indices(2079, 1)],  histtype='step', bins=np.arange(0.3,0.7, 0.025), weights=w1)\n",
    "plt.hist(top_r[np.triu_indices(len(ux), 1)], histtype='step', bins=np.arange(0.3,0.7, 0.025), weights=w2)\n",
    "plt.xlabel('Relatedness')\n",
    "plt.ylabel('Density')\n",
    "fig.savefig('../figures/L1872_relatedness.eps', bbox_inches='tight', pad_inches=0.1)"
   ]
  },
  {
   "cell_type": "markdown",
   "metadata": {},
   "source": [
    "## Multiple families"
   ]
  },
  {
   "cell_type": "markdown",
   "metadata": {},
   "source": [
    "The code becomes more challenging because we will need to perform operations on every element in this list. Luckily this is straightforward in Python if we use list comprehensions. For example, we can pull out and plot the number of offspring in each half-sibling array:"
   ]
  },
  {
   "cell_type": "code",
   "execution_count": 6,
   "metadata": {},
   "outputs": [
    {
     "data": {
      "image/png": "[encoded data removed]",
      "text/plain": [
       "<matplotlib.figure.Figure at 0x7f7cb0dd0b50>"
      ]
     },
     "metadata": {},
     "output_type": "display_data"
    }
   ],
   "source": [
    "plt.hist([prlist[i].size for i in range(len(prlist))], bins=np.arange(0,25))\n",
    "plt.show()"
   ]
  },
  {
   "cell_type": "markdown",
   "metadata": {},
   "source": [
    "All of these families are samples from much larger half sib arrays, so comparing full-sibship sizes and number is even more difficult if there are different numbers of offspring. For this reason we can pick out only those families with 17 or more offspring. For larger families, we will pick 17 offspring at random (there is no meaning in the order of individuals in the `genotypeArray` object, so taking the first 20 is tantamount to choosing at random). This leaves us with 18 familes of 17 offspring."
   ]
  },
  {
   "cell_type": "code",
   "execution_count": 7,
   "metadata": {},
   "outputs": [
    {
     "data": {
      "text/plain": [
       "51"
      ]
     },
     "execution_count": 7,
     "metadata": {},
     "output_type": "execute_result"
    }
   ],
   "source": [
    "prog17 = [prlist[i] for i in range(len(prlist)) if prlist[i].size >=17] # families with 20 or more offspring\n",
    "px     = range(len(prog17)) # indices for each family\n",
    "prog17 = [prog17[i].subset(range(17)) for i in px] # take the first 20 offspring\n",
    "len(prog17)"
   ]
  },
  {
   "cell_type": "markdown",
   "metadata": {},
   "source": [
    "Calculate likelihoods of paternity for each family. This took 24 seconds on my fairly underpowered and geriatric machine; your mileage may vary. In order to do so we also need population allele frequencies, and a list of `genotypeArray` objects for the mothers."
   ]
  },
  {
   "cell_type": "code",
   "execution_count": 9,
   "metadata": {},
   "outputs": [
    {
     "name": "stderr",
     "output_type": "stream",
     "text": [
      "/usr/local/lib/python2.7/dist-packages/faps/lik_sampled_fathers.py:68: RuntimeWarning: divide by zero encountered in divide\n",
      "  lik_trans = lik_trans * (float(males.nloci) / valid_loci) # scale by the number of valid SNPs.\n",
      "/usr/local/lib/python2.7/dist-packages/faps/lik_sampled_fathers.py:68: RuntimeWarning: invalid value encountered in multiply\n",
      "  lik_trans = lik_trans * (float(males.nloci) / valid_loci) # scale by the number of valid SNPs.\n"
     ]
    },
    {
     "name": "stdout",
     "output_type": "stream",
     "text": [
      "Completed in 44.6795480251 seconds.\n"
     ]
    }
   ],
   "source": [
    "allele_freqs = adults.allele_freqs() # population allele frequencies\n",
    "mlist =[adults.subset(prog17[i].parent_index('m', adults.names)) for i in px] # maternal genotypes for each family\n",
    "\n",
    "from time import time\n",
    "t0=time()\n",
    "patlik = [paternity_array(prog17[i], mlist[i], adults, allele_freqs, mu=0.0013) for i in px]\n",
    "print \"Completed in {} seconds.\".format(time() - t0)"
   ]
  },
  {
   "cell_type": "markdown",
   "metadata": {},
   "source": [
    "The next step is clustering each family into full sibships."
   ]
  },
  {
   "cell_type": "code",
   "execution_count": 10,
   "metadata": {},
   "outputs": [
    {
     "ename": "FloatingPointError",
     "evalue": "NaN dissimilarity value.",
     "output_type": "error",
     "traceback": [
      "\u001b[0;31m---------------------------------------------------------------------------\u001b[0m",
      "\u001b[0;31mFloatingPointError\u001b[0m                        Traceback (most recent call last)",
      "\u001b[0;32m<ipython-input-10-60656d24e5a4>\u001b[0m in \u001b[0;36m<module>\u001b[0;34m()\u001b[0m\n\u001b[1;32m      1\u001b[0m \u001b[0mt1\u001b[0m \u001b[0;34m=\u001b[0m \u001b[0mtime\u001b[0m\u001b[0;34m(\u001b[0m\u001b[0;34m)\u001b[0m\u001b[0;34m\u001b[0m\u001b[0m\n\u001b[0;32m----> 2\u001b[0;31m \u001b[0msc\u001b[0m \u001b[0;34m=\u001b[0m \u001b[0;34m[\u001b[0m\u001b[0msibship_clustering\u001b[0m\u001b[0;34m(\u001b[0m\u001b[0mpatlik\u001b[0m\u001b[0;34m[\u001b[0m\u001b[0mi\u001b[0m\u001b[0;34m]\u001b[0m\u001b[0;34m,\u001b[0m \u001b[0;36m1000\u001b[0m\u001b[0;34m)\u001b[0m \u001b[0;32mfor\u001b[0m \u001b[0mi\u001b[0m \u001b[0;32min\u001b[0m \u001b[0mpx\u001b[0m\u001b[0;34m]\u001b[0m\u001b[0;34m\u001b[0m\u001b[0m\n\u001b[0m\u001b[1;32m      3\u001b[0m \u001b[0;32mprint\u001b[0m \u001b[0;34m\"Completed in {} seconds.\"\u001b[0m\u001b[0;34m.\u001b[0m\u001b[0mformat\u001b[0m\u001b[0;34m(\u001b[0m\u001b[0mtime\u001b[0m\u001b[0;34m(\u001b[0m\u001b[0;34m)\u001b[0m \u001b[0;34m-\u001b[0m \u001b[0mt1\u001b[0m\u001b[0;34m)\u001b[0m\u001b[0;34m\u001b[0m\u001b[0m\n",
      "\u001b[0;32m/usr/local/lib/python2.7/dist-packages/faps/sibship_clustering.pyc\u001b[0m in \u001b[0;36msibship_clustering\u001b[0;34m(paternity_array, MC_draws, exp)\u001b[0m\n\u001b[1;32m     37\u001b[0m     \u001b[0mfullpairs\u001b[0m \u001b[0;34m=\u001b[0m \u001b[0mpairwise_lik_fullsibs\u001b[0m\u001b[0;34m(\u001b[0m\u001b[0mprob_paternities\u001b[0m\u001b[0;34m,\u001b[0m \u001b[0mexp\u001b[0m\u001b[0;34m)\u001b[0m\u001b[0;34m\u001b[0m\u001b[0m\n\u001b[1;32m     38\u001b[0m     \u001b[0;31m# Clustering matrix z.\u001b[0m\u001b[0;34m\u001b[0m\u001b[0;34m\u001b[0m\u001b[0m\n\u001b[0;32m---> 39\u001b[0;31m     \u001b[0mz\u001b[0m\u001b[0;34m=\u001b[0m \u001b[0mfastcluster\u001b[0m\u001b[0;34m.\u001b[0m\u001b[0mlinkage\u001b[0m\u001b[0;34m(\u001b[0m\u001b[0mabs\u001b[0m\u001b[0;34m(\u001b[0m\u001b[0mfullpairs\u001b[0m\u001b[0;34m[\u001b[0m\u001b[0mnp\u001b[0m\u001b[0;34m.\u001b[0m\u001b[0mtriu_indices\u001b[0m\u001b[0;34m(\u001b[0m\u001b[0mfullpairs\u001b[0m\u001b[0;34m.\u001b[0m\u001b[0mshape\u001b[0m\u001b[0;34m[\u001b[0m\u001b[0;36m0\u001b[0m\u001b[0;34m]\u001b[0m\u001b[0;34m,\u001b[0m \u001b[0;36m1\u001b[0m\u001b[0;34m)\u001b[0m\u001b[0;34m]\u001b[0m\u001b[0;34m)\u001b[0m\u001b[0;34m,\u001b[0m \u001b[0mmethod\u001b[0m\u001b[0;34m=\u001b[0m\u001b[0;34m'average'\u001b[0m\u001b[0;34m)\u001b[0m\u001b[0;34m\u001b[0m\u001b[0m\n\u001b[0m\u001b[1;32m     40\u001b[0m     \u001b[0mz\u001b[0m \u001b[0;34m=\u001b[0m \u001b[0mnp\u001b[0m\u001b[0;34m.\u001b[0m\u001b[0mclip\u001b[0m\u001b[0;34m(\u001b[0m\u001b[0mz\u001b[0m\u001b[0;34m,\u001b[0m \u001b[0;36m0\u001b[0m\u001b[0;34m,\u001b[0m \u001b[0;36m10\u001b[0m\u001b[0;34m**\u001b[0m\u001b[0;36m12\u001b[0m\u001b[0;34m)\u001b[0m\u001b[0;34m\u001b[0m\u001b[0m\n\u001b[1;32m     41\u001b[0m     \u001b[0;31m# A list of thresholds to slice through the dendrogram\u001b[0m\u001b[0;34m\u001b[0m\u001b[0;34m\u001b[0m\u001b[0m\n",
      "\u001b[0;32m/usr/local/lib/python2.7/dist-packages/fastcluster.pyc\u001b[0m in \u001b[0;36mlinkage\u001b[0;34m(X, method, metric, preserve_input)\u001b[0m\n\u001b[1;32m    245\u001b[0m     \u001b[0mZ\u001b[0m \u001b[0;34m=\u001b[0m \u001b[0mempty\u001b[0m\u001b[0;34m(\u001b[0m\u001b[0;34m(\u001b[0m\u001b[0mN\u001b[0m\u001b[0;34m-\u001b[0m\u001b[0;36m1\u001b[0m\u001b[0;34m,\u001b[0m\u001b[0;36m4\u001b[0m\u001b[0;34m)\u001b[0m\u001b[0;34m)\u001b[0m\u001b[0;34m\u001b[0m\u001b[0m\n\u001b[1;32m    246\u001b[0m     \u001b[0;32mif\u001b[0m \u001b[0mN\u001b[0m \u001b[0;34m>\u001b[0m \u001b[0;36m1\u001b[0m\u001b[0;34m:\u001b[0m\u001b[0;34m\u001b[0m\u001b[0m\n\u001b[0;32m--> 247\u001b[0;31m         \u001b[0mlinkage_wrap\u001b[0m\u001b[0;34m(\u001b[0m\u001b[0mN\u001b[0m\u001b[0;34m,\u001b[0m \u001b[0mX\u001b[0m\u001b[0;34m,\u001b[0m \u001b[0mZ\u001b[0m\u001b[0;34m,\u001b[0m \u001b[0mmthidx\u001b[0m\u001b[0;34m[\u001b[0m\u001b[0mmethod\u001b[0m\u001b[0;34m]\u001b[0m\u001b[0;34m)\u001b[0m\u001b[0;34m\u001b[0m\u001b[0m\n\u001b[0m\u001b[1;32m    248\u001b[0m     \u001b[0;32mreturn\u001b[0m \u001b[0mZ\u001b[0m\u001b[0;34m\u001b[0m\u001b[0m\n\u001b[1;32m    249\u001b[0m \u001b[0;34m\u001b[0m\u001b[0m\n",
      "\u001b[0;31mFloatingPointError\u001b[0m: NaN dissimilarity value."
     ]
    }
   ],
   "source": [
    "t1 = time()\n",
    "sc = [sibship_clustering(patlik[i], 1000) for i in px]\n",
    "print \"Completed in {} seconds.\".format(time() - t1)"
   ]
  },
  {
   "cell_type": "markdown",
   "metadata": {},
   "source": [
    "Calculate probability distributions for family size and number of families for each array."
   ]
  },
  {
   "cell_type": "code",
   "execution_count": null,
   "metadata": {
    "collapsed": true
   },
   "outputs": [],
   "source": [
    "nfamilies = [sc[i].nfamilies() for i in px]\n",
    "nfamilies = np.array(nfamilies)\n",
    "\n",
    "famsize = [sc[i].family_size() for i in px]\n",
    "famsize = np.array(famsize)"
   ]
  },
  {
   "cell_type": "markdown",
   "metadata": {},
   "source": [
    "Plots below show the probability distributions for the number and sizes of families. Grey bars show 95% credible intervals (see CDF plots below). Samples of 17 offspring are divided into between four and 16 full-sibling families consisting of between one and eight individuals. Most families seem to be small, with a smaller number of large families."
   ]
  },
  {
   "cell_type": "code",
   "execution_count": 39,
   "metadata": {
    "scrolled": true
   },
   "outputs": [
    {
     "data": {
      "image/png": "[encoded data removed]",
      "text/plain": [
       "<matplotlib.figure.Figure at 0x7fbbb9645390>"
      ]
     },
     "metadata": {},
     "output_type": "display_data"
    }
   ],
   "source": [
    "fig = plt.figure(figsize=(16.9/2.54, 6/2.54))\n",
    "fig.subplots_adjust(wspace=0.3, hspace=0.1)\n",
    "\n",
    "nf = fig.add_subplot(1,2,1)\n",
    "nf.set_ylabel('Probability density')\n",
    "nf.set_xlabel('Number of families')\n",
    "nf.set_ylim(-0.005,0.2)\n",
    "nf.set_xlim(0,18)\n",
    "nf.bar(np.arange(0.5,17.5), nfamilies.sum(0)/nfamilies.sum(), color='1', width=1)\n",
    "nf.bar(np.arange(3.5,16.5), (nfamilies.sum(0)/nfamilies.sum())[3:16], color='0.75', width=1)\n",
    "\n",
    "fs = fig.add_subplot(1,2,2)\n",
    "fs.set_xlabel('Family size')\n",
    "#fs.set_ylabel('Probability density')\n",
    "fs.set_ylim(-0.05,0.8)\n",
    "fs.set_xlim(0,17)\n",
    "fs.bar(np.arange(0.5,17.5), famsize.sum(0)/famsize.sum(), color='1', width=1)\n",
    "fs.bar(np.arange(0.5,6.5), (famsize.sum(0)/famsize.sum())[:6], color='0.75', width=1)\n",
    "\n",
    "#plt.savefig('../figures/amajus_family_sizes.eps', bbox_inches='tight', pad_inches=0.1)"
   ]
  },
  {
   "cell_type": "markdown",
   "metadata": {},
   "source": [
    "Cumulative probability density plots demonstrate the credible intervals for family size and number."
   ]
  },
  {
   "cell_type": "code",
   "execution_count": 40,
   "metadata": {},
   "outputs": [
    {
     "data": {
      "image/png": "[encoded data removed]",
      "text/plain": [
       "<matplotlib.figure.Figure at 0x7fbbb96d8650>"
      ]
     },
     "metadata": {},
     "output_type": "display_data"
    }
   ],
   "source": [
    "fig = plt.figure(figsize=(15, 6))\n",
    "fig.subplots_adjust(wspace=0.3, hspace=0.1)\n",
    "\n",
    "nf = fig.add_subplot(1,2,1)\n",
    "nf.set_ylabel('Cumulative density')\n",
    "nf.set_xlabel('Number of families')\n",
    "nf.set_xlim(0,20)\n",
    "nf.set_ylim(0,1.05)\n",
    "nf.plot(np.arange(1,18), np.cumsum(nfamilies.sum(0)/nfamilies.sum()))\n",
    "nf.axhline(0.975, 0.05, 0.95, linestyle='dashed')\n",
    "nf.axhline(0.025, 0.05, 0.95, linestyle='dashed')\n",
    "nf.grid()\n",
    "\n",
    "fs = fig.add_subplot(1,2,2)\n",
    "fs.set_ylabel('Cumulative density')\n",
    "fs.set_xlabel('Family size')\n",
    "fs.set_xlim(0,21)\n",
    "fs.set_ylim(0,1.05)\n",
    "fs.plot(np.arange(1,18), np.cumsum(famsize.sum(0)/famsize.sum()))\n",
    "fs.axhline(0.975, 0.05, 0.95, linestyle='dashed')\n",
    "fs.axhline(0.025, 0.05, 0.95, linestyle='dashed')\n",
    "fs.grid()"
   ]
  },
  {
   "cell_type": "markdown",
   "metadata": {},
   "source": [
    "The posterior probabilities that the sire has not been sampled are low. In all cases, values are less than 0.001, with a maximum of 1.3x10$^{-5}$."
   ]
  },
  {
   "cell_type": "code",
   "execution_count": 41,
   "metadata": {},
   "outputs": [
    {
     "name": "stdout",
     "output_type": "stream",
     "text": [
      "306\n",
      "1.30939684414e-05\n"
     ]
    }
   ],
   "source": [
    "prabs = np.array([sc[i].prob_paternity()[:,-1] for i in px])\n",
    "print np.sum(np.exp(prabs) < 0.001)\n",
    "print np.exp(prabs.max())"
   ]
  },
  {
   "cell_type": "code",
   "execution_count": 42,
   "metadata": {},
   "outputs": [
    {
     "data": {
      "image/png": "[encoded data removed]",
      "text/plain": [
       "<matplotlib.figure.Figure at 0x7fbbb96cb110>"
      ]
     },
     "metadata": {},
     "output_type": "display_data"
    }
   ],
   "source": [
    "plt.hist(prabs.flatten())\n",
    "plt.xlabel(\"Log prob. unsampled father\")\n",
    "plt.show()"
   ]
  },
  {
   "cell_type": "markdown",
   "metadata": {},
   "source": [
    "### Export to Colony"
   ]
  },
  {
   "cell_type": "markdown",
   "metadata": {},
   "source": [
    "Export the data to Colony2 format:"
   ]
  },
  {
   "cell_type": "code",
   "execution_count": null,
   "metadata": {
    "collapsed": true
   },
   "outputs": [],
   "source": [
    "allele_freqs = adults.allele_freqs() # population allele frequencies\n",
    "\n",
    "ix = [np.where(np.unique(mothers.names)[i] == adults.names)[0][0] for i in range(57)] # unique genotypes of the mothers\n",
    "\n",
    "export_to_colony(offspring = progeny,\n",
    "                 mothers = adults.subset(ix),\n",
    "                 males=adults,\n",
    "                 allele_freqs = allele_freqs,\n",
    "                 file_path='../data_files/amajus_colony/',\n",
    "                 project_name = 'amajus_colony',\n",
    "                 output_name = 'amajus_colony',\n",
    "                 seed= 45,\n",
    "                 dropout_rates = progeny.missing_data(),\n",
    "                 error_rates = [0.0013]*progeny.nloci,\n",
    "                 known_dads= np.repeat('NA', progeny.size),\n",
    "                 known_mums= mothers.names,\n",
    "                 analysis_method = 2,\n",
    "                 precision = 3,\n",
    "                 parents_present=[0.9,1]\n",
    "                )"
   ]
  },
  {
   "cell_type": "code",
   "execution_count": 64,
   "metadata": {
    "collapsed": true
   },
   "outputs": [],
   "source": [
    "np.random.seed(739)\n",
    "\n",
    "for i in range(len(prog17)):\n",
    "    export_to_colony(offspring = prog17[i],\n",
    "                     mothers = mlist[i].subset([0]),\n",
    "                     males=adults,\n",
    "                     allele_freqs = allele_freqs,\n",
    "                     file_path='/home/thoel507/Documents/Antirrhinum/colony_amajus/',\n",
    "                     project_name = prog17[i].mothers[0],\n",
    "                     output_name = prog17[i].mothers[0],\n",
    "                     seed= np.random.randint(0,1000),\n",
    "                     dropout_rates =  prog17[i].missing_data(),\n",
    "                     error_rates = [0.0013]* prog17[i].nloci,\n",
    "                     known_dads= np.repeat('NA',  prog17[i].size),\n",
    "                     known_mums= mlist[i].names,\n",
    "                     analysis_method = 2,\n",
    "                     precision = 3,\n",
    "                     parents_present=[0.9,1]\n",
    "                    )"
   ]
  },
  {
   "cell_type": "code",
   "execution_count": 62,
   "metadata": {},
   "outputs": [
    {
     "data": {
      "text/plain": [
       "18"
      ]
     },
     "execution_count": 62,
     "metadata": {},
     "output_type": "execute_result"
    }
   ],
   "source": [
    "len(mlist)"
   ]
  },
  {
   "cell_type": "code",
   "execution_count": 63,
   "metadata": {},
   "outputs": [
    {
     "data": {
      "text/plain": [
       "18"
      ]
     },
     "execution_count": 63,
     "metadata": {},
     "output_type": "execute_result"
    }
   ],
   "source": [
    "len(prog17)"
   ]
  },
  {
   "cell_type": "code",
   "execution_count": null,
   "metadata": {
    "collapsed": true
   },
   "outputs": [],
   "source": []
  }
 ],
 "metadata": {
  "kernelspec": {
   "display_name": "Python 2",
   "language": "python",
   "name": "python2"
  },
  "language_info": {
   "codemirror_mode": {
    "name": "ipython",
    "version": 2
   },
   "file_extension": ".py",
   "mimetype": "text/x-python",
   "name": "python",
   "nbconvert_exporter": "python",
   "pygments_lexer": "ipython2",
   "version": "2.7.12"
  }
 },
 "nbformat": 4,
 "nbformat_minor": 1
}
