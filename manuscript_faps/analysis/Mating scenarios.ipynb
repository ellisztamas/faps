{
 "cells": [
  {
   "cell_type": "markdown",
   "metadata": {},
   "source": [
    "# Mating scenarios"
   ]
  },
  {
   "cell_type": "markdown",
   "metadata": {},
   "source": [
    "Tom Ellis, April 2017"
   ]
  },
  {
   "cell_type": "markdown",
   "metadata": {},
   "source": [
    "These simulations aim to test how well FAPS performs as we vary the quality of genotype information and sample size under four contrasting scenarios:\n",
    "\n",
    "1. Even sibship sizes\n",
    "2. Many small sibships\n",
    "3. A single large sibship\n",
    "4. Very large families\n",
    "5. Reproductive skew (where a single sire dominates the family).\n",
    "\n",
    "For these simulations, we'll assume sampling of the adults population is complete, but vary the number of loci, adult population size and genotype error rates ($\\mu$). In each simulation allele frequencies are drawn from a uniform distribition between 0.25 and 0.5. I have not varied genotype dropout rates because these ought to be equivalent to reducing the effective number of loci by approximately 3-times the drop out rate, which is straightforward.\n",
    "\n",
    "We'll use the same set of parameters for each scenario, and assess each possible combination:"
   ]
  },
  {
   "cell_type": "code",
   "execution_count": 1,
   "metadata": {},
   "outputs": [
    {
     "name": "stdout",
     "output_type": "stream",
     "text": [
      "Populating the interactive namespace from numpy and matplotlib\n"
     ]
    }
   ],
   "source": [
    "import numpy as np\n",
    "from faps import *\n",
    "# packages for plotting the results:\n",
    "import pandas as pd\n",
    "import matplotlib.pyplot as plt\n",
    "%pylab inline\n",
    "\n",
    "# Common simulation parameters\n",
    "r            = 300 # number of replicates\n",
    "nloci        = [30,40,50,60,70,80,90,100] # number of loci\n",
    "allele_freqs = [0.25, 0.5] # draw allele frequencies \n",
    "nadults      = [100, 250, 500, 1000, 2000] # size of the adults population\n",
    "mu           = [0.0015, 0.005, 0.01, 0.015] #genotype error rates"
   ]
  },
  {
   "cell_type": "markdown",
   "metadata": {},
   "source": [
    "## 1. Even sibship sizes"
   ]
  },
  {
   "cell_type": "markdown",
   "metadata": {},
   "source": [
    "### Simulation setup"
   ]
  },
  {
   "cell_type": "markdown",
   "metadata": {},
   "source": [
    "This cell runs simulations for four full-sib families, each containing five offspring. The argument `return_clusters` tells FAPS to also export the `sibshipCluster` objects for each simulation. Since simulations are time consuming, we'll save the results so we can come back to them later."
   ]
  },
  {
   "cell_type": "code",
   "execution_count": null,
   "metadata": {},
   "outputs": [
    {
     "name": "stdout",
     "output_type": "stream",
     "text": [
      "300 of each parameter combination will be performed.\n",
      "Simulating arrays with multiple number of loci: [30, 40, 50, 60, 70, 80, 90, 100].\n",
      "Drawing allele frequencies between 0.25 and 0.5.\n",
      "Simulating adult populations of multiple sizes: [100, 250, 500, 1000, 2000].\n",
      "Simulating 4 families of 5 offspring.\n",
      "0% of per-locus genotypes will be removed at random.\n",
      "Multiple real genotyping error rates: [0.0015, 0.005, 0.01, 0.015].\n",
      "Constructing paternity arrays using multiple input values for assumed genotype-error rate: [0.0015, 0.005, 0.01, 0.015].\n",
      "No candidates to be removed.\n",
      "Constructing paternity arrays assuming complete sampling of candidates.\n",
      "Self-fertilisation rate of 0.\n",
      "Performing 1000 Monte Carlo draws for sibship inference.\n",
      "\n",
      "Parameters set. Beginning simulations on Sat Oct 28 16:10:39 2017.\n"
     ]
    },
    {
     "name": "stderr",
     "output_type": "stream",
     "text": [
      "Widget Javascript not detected.  It may not be installed or enabled properly.\n"
     ]
    },
    {
     "data": {
      "application/vnd.jupyter.widget-view+json": {
       "model_id": "973ef3f6887649ef97a42828bd543b7a"
      }
     },
     "metadata": {},
     "output_type": "display_data"
    },
    {
     "name": "stdout",
     "output_type": "stream",
     "text": [
      "Simulations completed after 321.04 minutes.\n"
     ]
    }
   ],
   "source": [
    "sires     = 4\n",
    "offspring = 5\n",
    "\n",
    "np.random.seed(614)\n",
    "eventab, evenclusters = make_power(r, nloci, allele_freqs, nadults, sires, offspring, 0, mu, mu, return_clusters=True, verbose=True)\n",
    "even_famsizes = np.array([evenclusters[i].family_size() for i in range(len(evenclusters))])\n",
    "even_famsizes = pd.DataFrame(even_famsizes)\n",
    "\n",
    "# save data tables\n",
    "eventab.to_csv('../data_files/eventab.csv', index=False)\n",
    "even_famsizes.to_csv('../data_files/even_famsizes.csv', index=False)"
   ]
  },
  {
   "cell_type": "markdown",
   "metadata": {},
   "source": [
    "### Accuracy of partition inference"
   ]
  },
  {
   "cell_type": "markdown",
   "metadata": {},
   "source": [
    "First, lets plot how FAPS performs as we increase the number of loci and the genotype error rate for different number of different candidate fathers. The following code plots three measures of accuracy:\n",
    "\n",
    "1. The probability that the true partition was identified by the clustering algorithm in the set of plausible partitions.\n",
    "2. The mean posterior probability that true full siblings are identified as full siblings.\n",
    "3. The mean posterior probability of paternity for the true sire of each individual. \n",
    "\n",
    "For simplicity I have shown only $\\mu=0.0015$ on the left-hand side and 50 loci on the right-hand side, which represent realistic values for our Antirrhinum dataset."
   ]
  },
  {
   "cell_type": "code",
   "execution_count": 3,
   "metadata": {
    "collapsed": true
   },
   "outputs": [],
   "source": [
    "even_famsizes = pd.read_csv('../data_files/even_famsizes.csv')"
   ]
  },
  {
   "cell_type": "code",
   "execution_count": 7,
   "metadata": {
    "collapsed": true
   },
   "outputs": [],
   "source": [
    "eventab = pd.read_csv('../data_files/eventab.csv')\n",
    "\n",
    "fig = plt.figure(figsize=(11.2/2.54, 20/2.54))\n",
    "fig.subplots_adjust(wspace=0.3, hspace=0.3)\n",
    "ticksize = 7\n",
    "mux = ['$1.5e^{-3}$', '$5.0e^{-3}$', \"$1.0e^{-2}$\",\"$1.5e^{-2}$\"]\n",
    "# Vary number of loci\n",
    "yv = eventab[eventab.mu_input == 0.0015].groupby(['n_adults', 'nloci']).mean()\n",
    "\n",
    "nlpart = fig.add_subplot(4,2,1)\n",
    "nlpart.tick_params(axis='both', which='major', labelsize=ticksize)\n",
    "nlpart.set_xlim(28, 102)\n",
    "nlpart.set_ylim(0.8, 1.01)\n",
    "nlpart.set_ylabel('$P_{partition}$')\n",
    "nlpart.plot(nloci, yv.partition_found[ 0:8 ], '-ok', label='100')\n",
    "nlpart.plot(nloci, yv.partition_found[ 8:16], '-*k', label='250')\n",
    "nlpart.plot(nloci, yv.partition_found[16:24], '-^k', label='500')\n",
    "nlpart.plot(nloci, yv.partition_found[24:32], '-Dk', label='1000')\n",
    "nlpart.plot(nloci, yv.partition_found[32:40], '-sk', label='2000')\n",
    "nlpart.legend(loc='lower right', fontsize=7)\n",
    "#nlpart.grid(axis='y')\n",
    "nlpart.annotate('A', xy = [40,1], xytext=[33,0.82])\n",
    "\n",
    "\n",
    "nlsibs = fig.add_subplot(4,2,3)\n",
    "nlsibs.tick_params(axis='both', which='major', labelsize=ticksize)\n",
    "nlsibs.set_ylim(0.5, 1.05)\n",
    "nlsibs.set_xlim(28, 102)\n",
    "nlsibs.set_ylabel('$P_{full}$')\n",
    "nlsibs.plot(nloci, yv.acc_fs[ 0:8 ], '-ok')\n",
    "nlsibs.plot(nloci, yv.acc_fs[ 8:16], '-*k')\n",
    "nlsibs.plot(nloci, yv.acc_fs[16:24], '-^k')\n",
    "nlsibs.plot(nloci, yv.acc_fs[24:32], '-Dk')\n",
    "nlsibs.plot(nloci, yv.acc_fs[32:40], '-sk')\n",
    "#nlsibs.grid(axis='y')\n",
    "nlsibs.annotate('C', xy = [95,1], xytext=[93,0.54])\n",
    "\n",
    "nlsire = fig.add_subplot(4,2,5)\n",
    "nlsire.tick_params(axis='both', which='major', labelsize=ticksize)\n",
    "nlsire.set_xlim(28, 102)\n",
    "nlsire.set_ylim(0.7, 1.02)\n",
    "nlsire.set_xlabel('Number of loci')\n",
    "nlsire.set_ylabel('$P_{sire}$')\n",
    "nlsire.plot(nloci, yv.prob_sires[ 0:8 ], '-ok')\n",
    "nlsire.plot(nloci, yv.prob_sires[ 8:16], '-*k')\n",
    "nlsire.plot(nloci, yv.prob_sires[16:24], '-^k')\n",
    "nlsire.plot(nloci, yv.prob_sires[24:32], '-Dk')\n",
    "nlsire.plot(nloci, yv.prob_sires[32:40], '-sk')\n",
    "#nlsire.grid(axis='y')\n",
    "nlsire.annotate('E', xy = [95,1], xytext=[93,0.72])\n",
    "\n",
    "# Vary genotype error rate\n",
    "yv = eventab[eventab.nloci == 50].groupby(['n_adults', 'mu_input']).mean()\n",
    "\n",
    "mupart = fig.add_subplot(4,2,2)\n",
    "mupart.tick_params(axis='both', which='major', labelsize=ticksize)\n",
    "mupart.set_ylim(0.8, 1.01)\n",
    "mupart.plot(mu, yv.partition_found[ 0:4 ], '-ok')\n",
    "mupart.plot(mu, yv.partition_found[ 4:8 ], '-*k')\n",
    "mupart.plot(mu, yv.partition_found[ 8:12], '-^k')\n",
    "mupart.plot(mu, yv.partition_found[12:16], '-Dk')\n",
    "mupart.plot(mu, yv.partition_found[16:20], '-sk')\n",
    "mupart.set_xticks(mu)\n",
    "mupart.set_xticklabels(mux)\n",
    "#mupart.grid(axis='y')\n",
    "mupart.annotate('B', xy = [0.01,1], xytext=[0.013,0.82])\n",
    "\n",
    "musibs = fig.add_subplot(4,2,4)\n",
    "musibs.tick_params(axis='both', which='major', labelsize=ticksize)\n",
    "musibs.set_ylim(0.5, 1.05)\n",
    "musibs.plot(mu, yv.acc_fs[ 0:4 ], '-ok')\n",
    "musibs.plot(mu, yv.acc_fs[ 4:8 ], '-*k')\n",
    "musibs.plot(mu, yv.acc_fs[ 8:12], '-^k')\n",
    "musibs.plot(mu, yv.acc_fs[12:16], '-Dk')\n",
    "musibs.plot(mu, yv.acc_fs[16:20], '-sk')\n",
    "musibs.set_xticks(mu)\n",
    "musibs.set_xticklabels(mux)\n",
    "#musibs.grid(axis='y')\n",
    "musibs.annotate('D', xy = [0.01,1], xytext=[0.013,0.54])\n",
    "\n",
    "musire = fig.add_subplot(4,2,6)\n",
    "musire.tick_params(axis='both', which='major', labelsize=ticksize)\n",
    "musire.set_ylim(0.7, 1.02)\n",
    "musire.set_xlabel('Genotype error rate')\n",
    "musire.plot(mu, yv.prob_sires[ 0:4 ], '-ok')\n",
    "musire.plot(mu, yv.prob_sires[ 4:8 ], '-*k')\n",
    "musire.plot(mu, yv.prob_sires[ 8:12], '-^k')\n",
    "musire.plot(mu, yv.prob_sires[12:16], '-Dk')\n",
    "musire.plot(mu, yv.prob_sires[16:20], '-sk')\n",
    "musire.set_xticks(mu)\n",
    "musire.set_xticklabels(mux)\n",
    "#musire.grid(axis='y', which='both')\n",
    "musire.annotate('F', xy = [0.01,1], xytext=[0.013,0.72])\n",
    "\n",
    "plt.savefig('../figures/accuracy_evensibships.eps', bbox_inches='tight', pad_inches=0.1)"
   ]
  },
  {
   "cell_type": "markdown",
   "metadata": {},
   "source": [
    "The plots show that predictive power increases as we include more loci, as error rates decrease, and when the pool of candidate fathers is smaller. This is what we would expect of course.\n",
    "\n",
    "Using $\\mu=0.0015$, 60 loci are sufficient to recover the true partition with 100% reliability, but in fact even 30 loci are sufficient >90% of the time. This depends very little on genotype error rate, and only drops slightly when error rates are very high.\n",
    "\n",
    "FAPS correctly inferred a true half-sibling relationship in all cases (data not shown). 50 loci suffice to estimate full-sibling relationships and identify true sires with >95% accuracy, and to recover posterior probabilities of paternity for the true sires as consistently close to one. This is true even when the number of candidates is very large.\n",
    "\n",
    "Using 40 loci, FAPS is able to identify the true partition almost all the time, but the true partition structure and identity of the sires are less certain. Since FAPS is intended to deal with exactly this kind of uncertainty, we will focus on cases with 40 loci in future examples."
   ]
  },
  {
   "cell_type": "markdown",
   "metadata": {},
   "source": [
    "### Inference of family size"
   ]
  },
  {
   "cell_type": "markdown",
   "metadata": {},
   "source": [
    "We can also ask how well FAPS predicts the distribution of family sizes. This cell plots the posterior distribution of family size as:\n",
    "\n",
    "1. Number of loci varies, with $\\mu$=0.0015 and 250 candidates\n",
    "2. $\\mu$ varies, with 50 loci and 250 candidates\n",
    "3. Number of candidates varies, with $\\mu$=0.0015 and 50 loci.\n",
    "\n",
    "50 loci represents relatively few loci, but gives good separation between points. "
   ]
  },
  {
   "cell_type": "code",
   "execution_count": 77,
   "metadata": {},
   "outputs": [
    {
     "data": {
      "image/png": "[encoded data removed]",
      "text/plain": [
       "<matplotlib.figure.Figure at 0x7f7b4a729390>"
      ]
     },
     "metadata": {},
     "output_type": "display_data"
    }
   ],
   "source": [
    "plotcodes = ['-ok','-*k','-^k','-Dk','-sk']\n",
    "\n",
    "fig = plt.figure(figsize=(16.9/2.54, 6/2.54))\n",
    "fig.subplots_adjust(wspace=0.1, hspace=0.05)\n",
    "fig.text(0.5, 0.00, 'Family size', ha='center', va='center')\n",
    "\n",
    "ax = fig.add_subplot(1,3,1)\n",
    "ax.set_xlabel('')\n",
    "ax.set_ylabel('Probability density')\n",
    "#ax.set_title('A. Number of loci', fontsize=10)\n",
    "ax.set_xlim(0.5,10)\n",
    "ax.set_ylim(-0.02,1.02)\n",
    "for i in [0,1,2]:\n",
    "    ix = np.array((eventab.mu_input == 0.0015) & (eventab.nloci == nloci[i]) & (eventab.n_adults == 250))\n",
    "    ax.plot(range(1,21), even_famsizes[ix].mean(0), plotcodes[i], label=nloci[i])\n",
    "ax.legend(loc='upper right', fontsize=7)\n",
    "#ax.grid(axis='y')\n",
    "ax.annotate('A', xy=[1,1], xytext=[1,0.9])\n",
    "\n",
    "bx = fig.add_subplot(1,3,2)\n",
    "#bx.set_title('B. Error rate', fontsize=10)\n",
    "bx.set_yticklabels('')\n",
    "bx.set_xlim(0.5,10)\n",
    "bx.set_ylim(-0.02,1.02)\n",
    "for i in [0,2,3]:\n",
    "    ix = np.array((eventab.mu_input == mu[i]) & (eventab.nloci == 50) & (eventab.n_adults == 250))\n",
    "    bx.plot(range(1,21), even_famsizes[ix].mean(0), plotcodes[i], label=mu[i])\n",
    "bx.legend(loc='upper right', fontsize=7)\n",
    "#bx.grid(axis='y')\n",
    "bx.annotate('B', xy=[1,1], xytext=[1,0.9])\n",
    "\n",
    "cx = fig.add_subplot(1,3,3)\n",
    "cx.set_yticklabels('')\n",
    "#cx.set_title('C. Candidate fathers', fontsize=10)\n",
    "cx.set_xlim(0.5,10)\n",
    "cx.set_ylim(-0.02,1.02)\n",
    "for i in [0,4]:\n",
    "    ix = np.array((eventab.mu_input == 0.0015) & (eventab.nloci == 50) & (eventab.n_adults == nadults[i]))\n",
    "    cx.plot(range(1,21), even_famsizes[ix].mean(0), plotcodes[i], label=nadults[i])\n",
    "cx.legend(loc='upper right', fontsize=7)\n",
    "cx.annotate('C', xy=[1,1], xytext=[1,0.9])\n",
    "\n",
    "plt.savefig('../figures/famsizes_evensibships.eps', bbox_inches='tight', pad_inches=0.1)"
   ]
  },
  {
   "cell_type": "markdown",
   "metadata": {},
   "source": [
    "## 2. No sibship structure"
   ]
  },
  {
   "cell_type": "code",
   "execution_count": 2,
   "metadata": {},
   "outputs": [
    {
     "name": "stdout",
     "output_type": "stream",
     "text": [
      "300 of each parameter combination will be performed.\n",
      "Simulating arrays with multiple number of loci: [30, 40, 50, 60, 70, 80, 90, 100].\n",
      "Drawing allele frequencies between 0.25 and 0.5.\n",
      "Simulating adult populations of multiple sizes: [100, 250, 500, 1000, 2000].\n",
      "Simulating 20 families of 1 offspring.\n",
      "0% of per-locus genotypes will be removed at random.\n",
      "Multiple real genotyping error rates: [0.0015, 0.005, 0.01, 0.015].\n",
      "Constructing paternity arrays using multiple input values for assumed genotype-error rate: [0.0015, 0.005, 0.01, 0.015].\n",
      "No candidates to be removed.\n",
      "Constructing paternity arrays assuming complete sampling of candidates.\n",
      "Self-fertilisation rate of 0.\n",
      "Performing 1000 Monte Carlo draws for sibship inference.\n",
      "\n",
      "Parameters set. Beginning simulations on Fri Nov 17 09:28:39 2017.\n"
     ]
    },
    {
     "data": {
      "application/vnd.jupyter.widget-view+json": {
       "model_id": "d695e33f25934da186e20659c0e1eb3d"
      }
     },
     "metadata": {},
     "output_type": "display_data"
    },
    {
     "name": "stderr",
     "output_type": "stream",
     "text": [
      "/usr/local/lib/python2.7/dist-packages/faps/sibshipCluster.py:166: RuntimeWarning: invalid value encountered in double_scalars\n",
      "  dev = dev.sum() / ix.sum()\n"
     ]
    },
    {
     "name": "stdout",
     "output_type": "stream",
     "text": [
      "Simulations completed after 438.7 minutes.\n"
     ]
    }
   ],
   "source": [
    "sires     = 20\n",
    "offspring = 1\n",
    "\n",
    "np.random.seed(78)\n",
    "manytab, manyclusters = make_power(r, nloci, allele_freqs, nadults, sires, offspring, 0, mu, mu, return_clusters=True, verbose=True)\n",
    "many_famsizes = np.array([manyclusters[i].family_size() for i in range(len(manyclusters))])\n",
    "many_famsizes = pd.DataFrame(many_famsizes)\n",
    "\n",
    "# Save simulation results to disk.\n",
    "manytab.to_csv('../data_files/manytab.csv', index=False)\n",
    "many_famsizes.to_csv('../data_files/many_famsizes.csv', index=False)"
   ]
  },
  {
   "cell_type": "code",
   "execution_count": 14,
   "metadata": {},
   "outputs": [
    {
     "data": {
      "image/png": "[encoded data removed]",
      "text/plain": [
       "<matplotlib.figure.Figure at 0x7f6901f00110>"
      ]
     },
     "metadata": {},
     "output_type": "display_data"
    }
   ],
   "source": [
    "manytab = pd.read_csv('../data_files/manytab.csv')\n",
    "\n",
    "fig = plt.figure(figsize=(11.2/2.54, 20/2.54))\n",
    "fig.subplots_adjust(wspace=0.3, hspace=0.3)\n",
    "ticksize = 7\n",
    "mux = ['$1.5e^{-3}$', '$5.0e^{-3}$', \"$1.0e^{-2}$\",\"$1.5e^{-2}$\"]\n",
    "# Vary number of loci\n",
    "yv = manytab[manytab.mu_input == 0.0015].groupby(['n_adults', 'nloci']).mean()\n",
    "\n",
    "nlpart = fig.add_subplot(4,2,1)\n",
    "nlpart.tick_params(axis='both', which='major', labelsize=ticksize)\n",
    "nlpart.set_xlim(28, 102)\n",
    "nlpart.set_ylim(0.8, 1.01)\n",
    "nlpart.set_ylabel('$P_{partition}$')\n",
    "nlpart.plot(nloci, yv.partition_found[ 0:8 ], '-ok', label='100')\n",
    "nlpart.plot(nloci, yv.partition_found[ 8:16], '-*k', label='250')\n",
    "nlpart.plot(nloci, yv.partition_found[16:24], '-^k', label='500')\n",
    "nlpart.plot(nloci, yv.partition_found[24:32], '-Dk', label='1000')\n",
    "nlpart.plot(nloci, yv.partition_found[32:40], '-sk', label='2000')\n",
    "nlpart.legend(loc='lower right', fontsize=7)\n",
    "#nlpart.grid(axis='y')\n",
    "nlpart.annotate('A', xy = [40,1], xytext=[33,0.82])\n",
    "\n",
    "\n",
    "nlsibs = fig.add_subplot(4,2,3)\n",
    "nlsibs.tick_params(axis='both', which='major', labelsize=ticksize)\n",
    "nlsibs.set_ylim(0.5, 1.05)\n",
    "nlsibs.set_xlim(28, 102)\n",
    "nlsibs.set_ylabel('$P_{half}$')\n",
    "nlsibs.plot(nloci, yv.acc_hs[ 0:8 ], '-ok')\n",
    "nlsibs.plot(nloci, yv.acc_hs[ 8:16], '-*k')\n",
    "nlsibs.plot(nloci, yv.acc_hs[16:24], '-^k')\n",
    "nlsibs.plot(nloci, yv.acc_hs[24:32], '-Dk')\n",
    "nlsibs.plot(nloci, yv.acc_hs[32:40], '-sk')\n",
    "#nlsibs.grid(axis='y')\n",
    "nlsibs.annotate('C', xy = [95,1], xytext=[93,0.54])\n",
    "\n",
    "nlsire = fig.add_subplot(4,2,5)\n",
    "nlsire.tick_params(axis='both', which='major', labelsize=ticksize)\n",
    "nlsire.set_xlim(28, 102)\n",
    "nlsire.set_ylim(0.5, 1.02)\n",
    "nlsire.set_xlabel('Number of loci')\n",
    "nlsire.set_ylabel('$P_{sire}$')\n",
    "nlsire.plot(nloci, yv.prob_sires[ 0:8 ], '-ok')\n",
    "nlsire.plot(nloci, yv.prob_sires[ 8:16], '-*k')\n",
    "nlsire.plot(nloci, yv.prob_sires[16:24], '-^k')\n",
    "nlsire.plot(nloci, yv.prob_sires[24:32], '-Dk')\n",
    "nlsire.plot(nloci, yv.prob_sires[32:40], '-sk')\n",
    "#nlsire.grid(axis='y')\n",
    "nlsire.annotate('E', xy = [95,1], xytext=[93,0.52])\n",
    "\n",
    "# Vary genotype error rate\n",
    "yv = manytab[manytab.nloci == 50].groupby(['n_adults', 'mu_input']).mean()\n",
    "\n",
    "mupart = fig.add_subplot(4,2,2)\n",
    "mupart.tick_params(axis='both', which='major', labelsize=ticksize)\n",
    "mupart.set_ylim(0.8, 1.01)\n",
    "mupart.plot(mu, yv.partition_found[ 0:4 ], '-ok')\n",
    "mupart.plot(mu, yv.partition_found[ 4:8 ], '-*k')\n",
    "mupart.plot(mu, yv.partition_found[ 8:12], '-^k')\n",
    "mupart.plot(mu, yv.partition_found[12:16], '-Dk')\n",
    "mupart.plot(mu, yv.partition_found[16:20], '-sk')\n",
    "mupart.set_xticks(mu)\n",
    "mupart.set_xticklabels(mux)\n",
    "#mupart.grid(axis='y')\n",
    "mupart.annotate('B', xy = [0.01,1], xytext=[0.013,0.82])\n",
    "\n",
    "musibs = fig.add_subplot(4,2,4)\n",
    "musibs.tick_params(axis='both', which='major', labelsize=ticksize)\n",
    "musibs.set_ylim(0.5, 1.05)\n",
    "musibs.plot(mu, yv.acc_hs[ 0:4 ], '-ok')\n",
    "musibs.plot(mu, yv.acc_hs[ 4:8 ], '-*k')\n",
    "musibs.plot(mu, yv.acc_hs[ 8:12], '-^k')\n",
    "musibs.plot(mu, yv.acc_hs[12:16], '-Dk')\n",
    "musibs.plot(mu, yv.acc_hs[16:20], '-sk')\n",
    "musibs.set_xticks(mu)\n",
    "musibs.set_xticklabels(mux)\n",
    "#musibs.grid(axis='y')\n",
    "musibs.annotate('D', xy = [0.01,1], xytext=[0.013,0.54])\n",
    "\n",
    "musire = fig.add_subplot(4,2,6)\n",
    "musire.tick_params(axis='both', which='major', labelsize=ticksize)\n",
    "musire.set_ylim(0.5, 1.02)\n",
    "musire.set_xlabel('Genotype error rate')\n",
    "musire.plot(mu, yv.prob_sires[ 0:4 ], '-ok')\n",
    "musire.plot(mu, yv.prob_sires[ 4:8 ], '-*k')\n",
    "musire.plot(mu, yv.prob_sires[ 8:12], '-^k')\n",
    "musire.plot(mu, yv.prob_sires[12:16], '-Dk')\n",
    "musire.plot(mu, yv.prob_sires[16:20], '-sk')\n",
    "musire.set_xticks(mu)\n",
    "musire.set_xticklabels(mux)\n",
    "#musire.grid(axis='y', which='both')\n",
    "musire.annotate('F', xy = [0.01,1], xytext=[0.013,0.52])\n",
    "\n",
    "plt.savefig('../figures/accuracy_manysibships.eps', bbox_inches='tight', pad_inches=0.1)"
   ]
  },
  {
   "cell_type": "markdown",
   "metadata": {},
   "source": [
    "## 3. One family"
   ]
  },
  {
   "cell_type": "code",
   "execution_count": 2,
   "metadata": {},
   "outputs": [
    {
     "name": "stdout",
     "output_type": "stream",
     "text": [
      "300 of each parameter combination will be performed.\n",
      "Simulating arrays with multiple number of loci: [30, 40, 50, 60, 70, 80, 90, 100].\n",
      "Drawing allele frequencies between 0.25 and 0.5.\n",
      "Simulating adult populations of multiple sizes: [100, 250, 500, 1000, 2000].\n",
      "Simulating 1 families of 20 offspring.\n",
      "0% of per-locus genotypes will be removed at random.\n",
      "Multiple real genotyping error rates: [0.0015, 0.005, 0.01, 0.015].\n",
      "Constructing paternity arrays using multiple input values for assumed genotype-error rate: [0.0015, 0.005, 0.01, 0.015].\n",
      "No candidates to be removed.\n",
      "Constructing paternity arrays assuming complete sampling of candidates.\n",
      "Self-fertilisation rate of 0.\n",
      "Performing 1000 Monte Carlo draws for sibship inference.\n",
      "\n",
      "Parameters set. Beginning simulations on Fri Nov 17 17:33:34 2017.\n"
     ]
    },
    {
     "data": {
      "application/vnd.jupyter.widget-view+json": {
       "model_id": "fea3c1615f254f239a0b92c472f559a2"
      }
     },
     "metadata": {},
     "output_type": "display_data"
    },
    {
     "name": "stderr",
     "output_type": "stream",
     "text": [
      "/usr/local/lib/python2.7/dist-packages/faps/sibshipCluster.py:166: RuntimeWarning: invalid value encountered in double_scalars\n",
      "  dev = dev.sum() / ix.sum()\n"
     ]
    },
    {
     "name": "stdout",
     "output_type": "stream",
     "text": [
      "Simulations completed after 317.84 minutes.\n"
     ]
    }
   ],
   "source": [
    "sires     = 1\n",
    "offspring = 20\n",
    "\n",
    "np.random.seed(384)\n",
    "singtab, singclusters = make_power(r, nloci, allele_freqs, nadults, sires, offspring, 0, mu, mu, return_clusters=True, verbose=True)\n",
    "sing_famsizes = np.array([singclusters[i].family_size() for i in range(len(singclusters))])\n",
    "sing_famsizes = pd.DataFrame(sing_famsizes)\n",
    "\n",
    "# save data tables\n",
    "singtab.to_csv('../data_files/singtab.csv', index=False)\n",
    "sing_famsizes.to_csv('../data_files/sing_famsizes.csv', index=False)\n",
    "\n",
    "del singtab, singclusters, sing_famsizes"
   ]
  },
  {
   "cell_type": "code",
   "execution_count": 11,
   "metadata": {},
   "outputs": [
    {
     "data": {
      "image/png": "[encoded data removed]",
      "text/plain": [
       "<matplotlib.figure.Figure at 0x7f69019a0290>"
      ]
     },
     "metadata": {},
     "output_type": "display_data"
    }
   ],
   "source": [
    "singtab = pd.read_csv('../data_files/singtab.csv')\n",
    "\n",
    "fig = plt.figure(figsize=(11.2/2.54, 20/2.54))\n",
    "fig.subplots_adjust(wspace=0.3, hspace=0.3)\n",
    "ticksize = 7\n",
    "mux = ['$1.5e^{-3}$', '$5.0e^{-3}$', \"$1.0e^{-2}$\",\"$1.5e^{-2}$\"]\n",
    "# Vary number of loci\n",
    "yv = singtab[singtab.mu_input == 0.0015].groupby(['n_adults', 'nloci']).mean()\n",
    "\n",
    "nlpart = fig.add_subplot(4,2,1)\n",
    "nlpart.tick_params(axis='both', which='major', labelsize=ticksize)\n",
    "nlpart.set_xlim(28, 102)\n",
    "nlpart.set_ylim(0.8, 1.01)\n",
    "nlpart.set_ylabel('$P_{partition}$')\n",
    "nlpart.plot(nloci, yv.partition_found[ 0:8 ], '-ok', label='100')\n",
    "nlpart.plot(nloci, yv.partition_found[ 8:16], '-*k', label='250')\n",
    "nlpart.plot(nloci, yv.partition_found[16:24], '-^k', label='500')\n",
    "nlpart.plot(nloci, yv.partition_found[24:32], '-Dk', label='1000')\n",
    "nlpart.plot(nloci, yv.partition_found[32:40], '-sk', label='2000')\n",
    "nlpart.legend(loc='lower right', fontsize=7)\n",
    "#nlpart.grid(axis='y')\n",
    "nlpart.annotate('A', xy = [40,1], xytext=[33,0.82])\n",
    "\n",
    "\n",
    "nlsibs = fig.add_subplot(4,2,3)\n",
    "nlsibs.tick_params(axis='both', which='major', labelsize=ticksize)\n",
    "nlsibs.set_ylim(0.5, 1.05)\n",
    "nlsibs.set_xlim(28, 102)\n",
    "nlsibs.set_ylabel('$P_{full}$')\n",
    "nlsibs.plot(nloci, yv.acc_fs[ 0:8 ], '-ok')\n",
    "nlsibs.plot(nloci, yv.acc_fs[ 8:16], '-*k')\n",
    "nlsibs.plot(nloci, yv.acc_fs[16:24], '-^k')\n",
    "nlsibs.plot(nloci, yv.acc_fs[24:32], '-Dk')\n",
    "nlsibs.plot(nloci, yv.acc_fs[32:40], '-sk')\n",
    "#nlsibs.grid(axis='y')\n",
    "nlsibs.annotate('C', xy = [95,1], xytext=[93,0.54])\n",
    "\n",
    "nlsire = fig.add_subplot(4,2,5)\n",
    "nlsire.tick_params(axis='both', which='major', labelsize=ticksize)\n",
    "nlsire.set_xlim(28, 102)\n",
    "nlsire.set_ylim(0.7, 1.02)\n",
    "nlsire.set_xlabel('Number of loci')\n",
    "nlsire.set_ylabel('$P_{sire}$')\n",
    "nlsire.plot(nloci, yv.prob_sires[ 0:8 ], '-ok')\n",
    "nlsire.plot(nloci, yv.prob_sires[ 8:16], '-*k')\n",
    "nlsire.plot(nloci, yv.prob_sires[16:24], '-^k')\n",
    "nlsire.plot(nloci, yv.prob_sires[24:32], '-Dk')\n",
    "nlsire.plot(nloci, yv.prob_sires[32:40], '-sk')\n",
    "#nlsire.grid(axis='y')\n",
    "nlsire.annotate('E', xy = [95,1], xytext=[93,0.72])\n",
    "\n",
    "# Vary genotype error rate\n",
    "yv = singtab[singtab.nloci == 50].groupby(['n_adults', 'mu_input']).mean()\n",
    "\n",
    "mupart = fig.add_subplot(4,2,2)\n",
    "mupart.tick_params(axis='both', which='major', labelsize=ticksize)\n",
    "mupart.set_ylim(0.8, 1.01)\n",
    "mupart.plot(mu, yv.partition_found[ 0:4 ], '-ok')\n",
    "mupart.plot(mu, yv.partition_found[ 4:8 ], '-*k')\n",
    "mupart.plot(mu, yv.partition_found[ 8:12], '-^k')\n",
    "mupart.plot(mu, yv.partition_found[12:16], '-Dk')\n",
    "mupart.plot(mu, yv.partition_found[16:20], '-sk')\n",
    "mupart.set_xticks(mu)\n",
    "mupart.set_xticklabels(mux)\n",
    "#mupart.grid(axis='y')\n",
    "mupart.annotate('B', xy = [0.01,1], xytext=[0.013,0.82])\n",
    "\n",
    "musibs = fig.add_subplot(4,2,4)\n",
    "musibs.tick_params(axis='both', which='major', labelsize=ticksize)\n",
    "musibs.set_ylim(0.5, 1.05)\n",
    "musibs.plot(mu, yv.acc_fs[ 0:4 ], '-ok')\n",
    "musibs.plot(mu, yv.acc_fs[ 4:8 ], '-*k')\n",
    "musibs.plot(mu, yv.acc_fs[ 8:12], '-^k')\n",
    "musibs.plot(mu, yv.acc_fs[12:16], '-Dk')\n",
    "musibs.plot(mu, yv.acc_fs[16:20], '-sk')\n",
    "musibs.set_xticks(mu)\n",
    "musibs.set_xticklabels(mux)\n",
    "#musibs.grid(axis='y')\n",
    "musibs.annotate('D', xy = [0.01,1], xytext=[0.013,0.54])\n",
    "\n",
    "musire = fig.add_subplot(4,2,6)\n",
    "musire.tick_params(axis='both', which='major', labelsize=ticksize)\n",
    "musire.set_ylim(0.7, 1.02)\n",
    "musire.set_xlabel('Genotype error rate')\n",
    "musire.plot(mu, yv.prob_sires[ 0:4 ], '-ok')\n",
    "musire.plot(mu, yv.prob_sires[ 4:8 ], '-*k')\n",
    "musire.plot(mu, yv.prob_sires[ 8:12], '-^k')\n",
    "musire.plot(mu, yv.prob_sires[12:16], '-Dk')\n",
    "musire.plot(mu, yv.prob_sires[16:20], '-sk')\n",
    "musire.set_xticks(mu)\n",
    "musire.set_xticklabels(mux)\n",
    "#musire.grid(axis='y', which='both')\n",
    "musire.annotate('F', xy = [0.01,1], xytext=[0.013,0.72])\n",
    "\n",
    "plt.savefig('../figures/accuracy_singsibships.eps', bbox_inches='tight', pad_inches=0.1)"
   ]
  },
  {
   "cell_type": "markdown",
   "metadata": {},
   "source": [
    "## 4. Skew"
   ]
  },
  {
   "cell_type": "markdown",
   "metadata": {},
   "source": [
    "In this scenario we model reproductive skew, where one pollen donor fathers a large number of offspring and other donors father a small number of offspring. Specifically, the first father has ten offspring, and ten other fathers have one each."
   ]
  },
  {
   "cell_type": "code",
   "execution_count": null,
   "metadata": {},
   "outputs": [
    {
     "name": "stdout",
     "output_type": "stream",
     "text": [
      "300 of each parameter combination will be performed.\n",
      "Simulating arrays with multiple number of loci: [30, 40, 50, 60, 70, 80, 90, 100].\n",
      "Drawing allele frequencies between 0.25 and 0.5.\n",
      "Simulating adult populations of multiple sizes: [100, 250, 500, 1000, 2000].\n",
      "Simulating 11 full-sib families.\n",
      "0% of per-locus genotypes will be removed at random.\n",
      "Multiple real genotyping error rates: [0.0015, 0.005, 0.01, 0.015].\n",
      "Constructing paternity arrays using multiple input values for assumed genotype-error rate: [0.0015, 0.005, 0.01, 0.015].\n",
      "No candidates to be removed.\n",
      "Constructing paternity arrays assuming complete sampling of candidates.\n",
      "Self-fertilisation rate of 0.\n",
      "Performing 1000 Monte Carlo draws for sibship inference.\n",
      "\n",
      "Parameters set. Beginning simulations on Fri Nov 17 22:55:08 2017.\n"
     ]
    },
    {
     "data": {
      "application/vnd.jupyter.widget-view+json": {
       "model_id": "215a7622924f46b5a6ba5f295c985bb7"
      }
     },
     "metadata": {},
     "output_type": "display_data"
    },
    {
     "name": "stdout",
     "output_type": "stream",
     "text": [
      "Simulations completed after 363.82 minutes.\n"
     ]
    }
   ],
   "source": [
    "sires     = range(1,12)\n",
    "offspring = [10] + [1]*10\n",
    "\n",
    "np.random.seed(52)\n",
    "skewtab, skewclusters = make_power(r, nloci, allele_freqs, nadults, sires, offspring, 0, mu, mu, return_clusters=True, verbose=True)\n",
    "skew_famsizes = np.array([skewclusters[i].family_size() for i in range(len(skewclusters))])\n",
    "skew_famsizes = pd.DataFrame(skew_famsizes)\n",
    "\n",
    "# save data tables\n",
    "skewtab.to_csv('../data_files/skewtab.csv', index=False)\n",
    "skew_famsizes.to_csv('../data_files/skew_famsizes.csv', index=False)\n",
    "\n",
    "del skewtab, skewclusters, skew_famsizes"
   ]
  },
  {
   "cell_type": "code",
   "execution_count": 15,
   "metadata": {
    "scrolled": true
   },
   "outputs": [
    {
     "data": {
      "image/png": "[encoded data removed]",
      "text/plain": [
       "<matplotlib.figure.Figure at 0x7f6901d68950>"
      ]
     },
     "metadata": {},
     "output_type": "display_data"
    }
   ],
   "source": [
    "skewtab = pd.read_csv('../data_files/skewtab.csv')\n",
    "\n",
    "fig = plt.figure(figsize=(11.2/2.54, 20/2.54))\n",
    "fig.subplots_adjust(wspace=0.3, hspace=0.3)\n",
    "ticksize = 7\n",
    "mux = ['$1.5e^{-3}$', '$5.0e^{-3}$', \"$1.0e^{-2}$\",\"$1.5e^{-2}$\"]\n",
    "# Vary number of loci\n",
    "yv = skewtab[skewtab.mu_input == 0.0015].groupby(['n_adults', 'nloci']).mean()\n",
    "\n",
    "nlpart = fig.add_subplot(4,2,1)\n",
    "nlpart.tick_params(axis='both', which='major', labelsize=ticksize)\n",
    "nlpart.set_xlim(28, 102)\n",
    "nlpart.set_ylim(0.7, 1.01)\n",
    "nlpart.set_ylabel('$P_{partition}$')\n",
    "nlpart.plot(nloci, yv.partition_found[ 0:8 ], '-ok', label='100')\n",
    "nlpart.plot(nloci, yv.partition_found[ 8:16], '-*k', label='250')\n",
    "nlpart.plot(nloci, yv.partition_found[16:24], '-^k', label='500')\n",
    "nlpart.plot(nloci, yv.partition_found[24:32], '-Dk', label='1000')\n",
    "nlpart.plot(nloci, yv.partition_found[32:40], '-sk', label='2000')\n",
    "nlpart.legend(loc='lower right', fontsize=7)\n",
    "#nlpart.grid(axis='y')\n",
    "nlpart.annotate('A', xy = [40,1], xytext=[33,0.72])\n",
    "\n",
    "\n",
    "nlsibs = fig.add_subplot(4,2,3)\n",
    "nlsibs.tick_params(axis='both', which='major', labelsize=ticksize)\n",
    "nlsibs.set_ylim(0.5, 1.05)\n",
    "nlsibs.set_xlim(28, 102)\n",
    "nlsibs.set_ylabel('$P_{full}$')\n",
    "nlsibs.plot(nloci, yv.acc_fs[ 0:8 ], '-ok')\n",
    "nlsibs.plot(nloci, yv.acc_fs[ 8:16], '-*k')\n",
    "nlsibs.plot(nloci, yv.acc_fs[16:24], '-^k')\n",
    "nlsibs.plot(nloci, yv.acc_fs[24:32], '-Dk')\n",
    "nlsibs.plot(nloci, yv.acc_fs[32:40], '-sk')\n",
    "#nlsibs.grid(axis='y')\n",
    "nlsibs.annotate('C', xy = [95,1], xytext=[93,0.54])\n",
    "\n",
    "nlsire = fig.add_subplot(4,2,5)\n",
    "nlsire.tick_params(axis='both', which='major', labelsize=ticksize)\n",
    "nlsire.set_xlim(28, 102)\n",
    "nlsire.set_ylim(0.5, 1.02)\n",
    "nlsire.set_xlabel('Number of loci')\n",
    "nlsire.set_ylabel('$P_{sire}$')\n",
    "nlsire.plot(nloci, yv.prob_sires[ 0:8 ], '-ok')\n",
    "nlsire.plot(nloci, yv.prob_sires[ 8:16], '-*k')\n",
    "nlsire.plot(nloci, yv.prob_sires[16:24], '-^k')\n",
    "nlsire.plot(nloci, yv.prob_sires[24:32], '-Dk')\n",
    "nlsire.plot(nloci, yv.prob_sires[32:40], '-sk')\n",
    "#nlsire.grid(axis='y')\n",
    "nlsire.annotate('E', xy = [95,1], xytext=[93,0.52])\n",
    "\n",
    "# Vary genotype error rate\n",
    "yv = skewtab[skewtab.nloci == 50].groupby(['n_adults', 'mu_input']).mean()\n",
    "\n",
    "mupart = fig.add_subplot(4,2,2)\n",
    "mupart.tick_params(axis='both', which='major', labelsize=ticksize)\n",
    "mupart.set_ylim(0.7, 1.01)\n",
    "mupart.plot(mu, yv.partition_found[ 0:4 ], '-ok')\n",
    "mupart.plot(mu, yv.partition_found[ 4:8 ], '-*k')\n",
    "mupart.plot(mu, yv.partition_found[ 8:12], '-^k')\n",
    "mupart.plot(mu, yv.partition_found[12:16], '-Dk')\n",
    "mupart.plot(mu, yv.partition_found[16:20], '-sk')\n",
    "mupart.set_xticks(mu)\n",
    "mupart.set_xticklabels(mux)\n",
    "#mupart.grid(axis='y')\n",
    "mupart.annotate('B', xy = [0.01,1], xytext=[0.013,0.72])\n",
    "\n",
    "musibs = fig.add_subplot(4,2,4)\n",
    "musibs.tick_params(axis='both', which='major', labelsize=ticksize)\n",
    "musibs.set_ylim(0.5, 1.05)\n",
    "musibs.plot(mu, yv.acc_fs[ 0:4 ], '-ok')\n",
    "musibs.plot(mu, yv.acc_fs[ 4:8 ], '-*k')\n",
    "musibs.plot(mu, yv.acc_fs[ 8:12], '-^k')\n",
    "musibs.plot(mu, yv.acc_fs[12:16], '-Dk')\n",
    "musibs.plot(mu, yv.acc_fs[16:20], '-sk')\n",
    "musibs.set_xticks(mu)\n",
    "musibs.set_xticklabels(mux)\n",
    "#musibs.grid(axis='y')\n",
    "musibs.annotate('D', xy = [0.01,1], xytext=[0.013,0.54])\n",
    "\n",
    "musire = fig.add_subplot(4,2,6)\n",
    "musire.tick_params(axis='both', which='major', labelsize=ticksize)\n",
    "musire.set_ylim(0.5, 1.02)\n",
    "musire.set_xlabel('Genotype error rate')\n",
    "musire.plot(mu, yv.prob_sires[ 0:4 ], '-ok')\n",
    "musire.plot(mu, yv.prob_sires[ 4:8 ], '-*k')\n",
    "musire.plot(mu, yv.prob_sires[ 8:12], '-^k')\n",
    "musire.plot(mu, yv.prob_sires[12:16], '-Dk')\n",
    "musire.plot(mu, yv.prob_sires[16:20], '-sk')\n",
    "musire.set_xticks(mu)\n",
    "musire.set_xticklabels(mux)\n",
    "#musire.grid(axis='y', which='both')\n",
    "musire.annotate('F', xy = [0.01,1], xytext=[0.013,0.52])\n",
    "\n",
    "plt.savefig('../figures/accuracy_skewsibships.eps', bbox_inches='tight', pad_inches=0.1)"
   ]
  },
  {
   "cell_type": "markdown",
   "metadata": {},
   "source": [
    "## Family size plot"
   ]
  },
  {
   "cell_type": "markdown",
   "metadata": {},
   "source": [
    "Replot the data for family size distributions in a single figure for the supporting information. This includes the single-family, all-half-sibs, and reproductive-skew scenarios."
   ]
  },
  {
   "cell_type": "markdown",
   "metadata": {},
   "source": [
    "## 5. Increasing family size"
   ]
  },
  {
   "cell_type": "code",
   "execution_count": null,
   "metadata": {},
   "outputs": [
    {
     "data": {
      "application/vnd.jupyter.widget-view+json": {
       "model_id": "92a3957914794c57b3cc51cbb47e62c5"
      }
     },
     "metadata": {},
     "output_type": "display_data"
    },
    {
     "data": {
      "application/vnd.jupyter.widget-view+json": {
       "model_id": "c1341c1b5dd94c26a64af79b3da89222"
      }
     },
     "metadata": {},
     "output_type": "display_data"
    },
    {
     "data": {
      "application/vnd.jupyter.widget-view+json": {
       "model_id": "6607ced10fa9498386abb0c621d66889"
      }
     },
     "metadata": {},
     "output_type": "display_data"
    },
    {
     "data": {
      "application/vnd.jupyter.widget-view+json": {
       "model_id": "10e422f32b2448c59ecba8bf86be31c6"
      }
     },
     "metadata": {},
     "output_type": "display_data"
    },
    {
     "data": {
      "application/vnd.jupyter.widget-view+json": {
       "model_id": "bdb9914252bf4eb8806b03ad52358c51"
      }
     },
     "metadata": {},
     "output_type": "display_data"
    }
   ],
   "source": [
    "nloci        = 50\n",
    "allele_freqs = [0.25, 0.5] # draw allele frequencies \n",
    "nadults      = 250\n",
    "mu           = 0.0015\n",
    "\n",
    "np.random.seed(7861)\n",
    "sires     = 4\n",
    "offspring = [2,10,25,50,100]\n",
    "\n",
    "bigtab = pd.concat([make_power(r, nloci, allele_freqs, nadults, sires, offspring[0], 0, mu, mu, verbose=False),\n",
    "                    make_power(r, nloci, allele_freqs, nadults, sires, offspring[1], 0, mu, mu, verbose=False),\n",
    "                    make_power(r, nloci, allele_freqs, nadults, sires, offspring[2], 0, mu, mu, verbose=False),\n",
    "                    make_power(r, nloci, allele_freqs, nadults, sires, offspring[3], 0, mu, mu, verbose=False),\n",
    "                    make_power(r, nloci, allele_freqs, nadults, sires, offspring[4], 0, mu, mu, verbose=False)])\n",
    "\n",
    "# Save simulation results to disk.\n",
    "bigtab.to_csv('../data_files/bigtab.csv', index=False)\n",
    "\n",
    "del bigtab"
   ]
  },
  {
   "cell_type": "code",
   "execution_count": 79,
   "metadata": {},
   "outputs": [
    {
     "data": {
      "image/png": "[encoded data removed]",
      "text/plain": [
       "<matplotlib.figure.Figure at 0x7f7b4a4b9b10>"
      ]
     },
     "metadata": {},
     "output_type": "display_data"
    }
   ],
   "source": [
    "bigtab = pd.read_csv('../data_files/bigtab.csv')\n",
    "\n",
    "xv = np.unique(bigtab.array_size)\n",
    "yv = [bigtab.acc_fs[bigtab.array_size == xv[i]] for i in range(len(xv))]\n",
    "\n",
    "plt.figure(figsize=(8/2.54,5/2.54))\n",
    "#bp = plt.boxplot(yv)\n",
    "bp = plt.violinplot(yv, showextrema=False, showmeans=False)\n",
    "for pc in bp['bodies']:\n",
    "    pc.set_facecolor('gray')\n",
    "    pc.set_edgecolor('black')\n",
    "\n",
    "plt.xticks(range(1,6), (xv/4).astype('int'))\n",
    "plt.ylim([0.7, 1.005])\n",
    "plt.xlabel('Full-sibship size')\n",
    "plt.ylabel('$P_{full}$')\n",
    "#plt.grid(axis='y')\n",
    "\n",
    "plt.savefig('../figures/sibship_size.eps', bbox_inches='tight', pad_inches=0.1)"
   ]
  },
  {
   "cell_type": "code",
   "execution_count": null,
   "metadata": {
    "collapsed": true
   },
   "outputs": [],
   "source": []
  }
 ],
 "metadata": {
  "anaconda-cloud": {},
  "kernelspec": {
   "display_name": "Python 2",
   "language": "python",
   "name": "python2"
  },
  "language_info": {
   "codemirror_mode": {
    "name": "ipython",
    "version": 2
   },
   "file_extension": ".py",
   "mimetype": "text/x-python",
   "name": "python",
   "nbconvert_exporter": "python",
   "pygments_lexer": "ipython2",
   "version": "2.7.12"
  }
 },
 "nbformat": 4,
 "nbformat_minor": 1
}
